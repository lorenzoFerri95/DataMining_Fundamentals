{
 "cells": [
  {
   "cell_type": "code",
   "execution_count": 1,
   "metadata": {},
   "outputs": [],
   "source": [
    "%matplotlib inline\n",
    "import math\n",
    "import numpy as np\n",
    "import pandas as pd\n",
    "import scipy.stats as stats\n",
    "import matplotlib.pyplot as plt\n",
    "\n",
    "from collections import defaultdict\n",
    "from scipy.stats.stats import pearsonr"
   ]
  },
  {
   "cell_type": "code",
   "execution_count": 2,
   "metadata": {},
   "outputs": [],
   "source": [
    "df = pd.read_csv(\"Training_Set.csv\")"
   ]
  },
  {
   "cell_type": "code",
   "execution_count": 3,
   "metadata": {
    "scrolled": true
   },
   "outputs": [
    {
     "data": {
      "text/html": [
       "<div>\n",
       "<style scoped>\n",
       "    .dataframe tbody tr th:only-of-type {\n",
       "        vertical-align: middle;\n",
       "    }\n",
       "\n",
       "    .dataframe tbody tr th {\n",
       "        vertical-align: top;\n",
       "    }\n",
       "\n",
       "    .dataframe thead th {\n",
       "        text-align: right;\n",
       "    }\n",
       "</style>\n",
       "<table border=\"1\" class=\"dataframe\">\n",
       "  <thead>\n",
       "    <tr style=\"text-align: right;\">\n",
       "      <th></th>\n",
       "      <th>RefId</th>\n",
       "      <th>IsBadBuy</th>\n",
       "      <th>PurchDate</th>\n",
       "      <th>Auction</th>\n",
       "      <th>VehYear</th>\n",
       "      <th>VehicleAge</th>\n",
       "      <th>Make</th>\n",
       "      <th>Engine</th>\n",
       "      <th>Trim</th>\n",
       "      <th>SubModelSpecifics</th>\n",
       "      <th>...</th>\n",
       "      <th>BYRNO</th>\n",
       "      <th>VNZIP1</th>\n",
       "      <th>VNST</th>\n",
       "      <th>VehBCost</th>\n",
       "      <th>IsOnlineSale</th>\n",
       "      <th>WarrantyCost</th>\n",
       "      <th>Model</th>\n",
       "      <th>Wheeldrive</th>\n",
       "      <th>Doors</th>\n",
       "      <th>SubModel</th>\n",
       "    </tr>\n",
       "  </thead>\n",
       "  <tbody>\n",
       "    <tr>\n",
       "      <th>0</th>\n",
       "      <td>326</td>\n",
       "      <td>1</td>\n",
       "      <td>2010-10-25</td>\n",
       "      <td>ADESA</td>\n",
       "      <td>2008</td>\n",
       "      <td>2</td>\n",
       "      <td>KIA</td>\n",
       "      <td>NaN</td>\n",
       "      <td>EX</td>\n",
       "      <td>NaN</td>\n",
       "      <td>...</td>\n",
       "      <td>5546</td>\n",
       "      <td>33619</td>\n",
       "      <td>FL</td>\n",
       "      <td>6100.0</td>\n",
       "      <td>0</td>\n",
       "      <td>533</td>\n",
       "      <td>SPECTRA</td>\n",
       "      <td>NaN</td>\n",
       "      <td>4D</td>\n",
       "      <td>SEDAN</td>\n",
       "    </tr>\n",
       "    <tr>\n",
       "      <th>1</th>\n",
       "      <td>42991</td>\n",
       "      <td>0</td>\n",
       "      <td>2009-05-27</td>\n",
       "      <td>MANHEIM</td>\n",
       "      <td>2006</td>\n",
       "      <td>3</td>\n",
       "      <td>DODGE</td>\n",
       "      <td>2.7L</td>\n",
       "      <td>SXT</td>\n",
       "      <td>FFV</td>\n",
       "      <td>...</td>\n",
       "      <td>99750</td>\n",
       "      <td>32124</td>\n",
       "      <td>FL</td>\n",
       "      <td>4000.0</td>\n",
       "      <td>0</td>\n",
       "      <td>1630</td>\n",
       "      <td>STRATUS</td>\n",
       "      <td>NaN</td>\n",
       "      <td>4D</td>\n",
       "      <td>SEDAN</td>\n",
       "    </tr>\n",
       "    <tr>\n",
       "      <th>2</th>\n",
       "      <td>55273</td>\n",
       "      <td>0</td>\n",
       "      <td>2010-03-18</td>\n",
       "      <td>OTHER</td>\n",
       "      <td>2008</td>\n",
       "      <td>2</td>\n",
       "      <td>DODGE</td>\n",
       "      <td>NaN</td>\n",
       "      <td>SE</td>\n",
       "      <td>NaN</td>\n",
       "      <td>...</td>\n",
       "      <td>99761</td>\n",
       "      <td>74135</td>\n",
       "      <td>OK</td>\n",
       "      <td>7500.0</td>\n",
       "      <td>0</td>\n",
       "      <td>693</td>\n",
       "      <td>CALIBER</td>\n",
       "      <td>NaN</td>\n",
       "      <td>4D</td>\n",
       "      <td>WAGON</td>\n",
       "    </tr>\n",
       "    <tr>\n",
       "      <th>3</th>\n",
       "      <td>29058</td>\n",
       "      <td>0</td>\n",
       "      <td>2009-08-06</td>\n",
       "      <td>OTHER</td>\n",
       "      <td>2005</td>\n",
       "      <td>4</td>\n",
       "      <td>FORD</td>\n",
       "      <td>3.9L</td>\n",
       "      <td>S</td>\n",
       "      <td>NaN</td>\n",
       "      <td>...</td>\n",
       "      <td>99761</td>\n",
       "      <td>85018</td>\n",
       "      <td>AZ</td>\n",
       "      <td>4725.0</td>\n",
       "      <td>0</td>\n",
       "      <td>1633</td>\n",
       "      <td>FREESTAR</td>\n",
       "      <td>2WD</td>\n",
       "      <td>NaN</td>\n",
       "      <td>PASSENGER</td>\n",
       "    </tr>\n",
       "    <tr>\n",
       "      <th>4</th>\n",
       "      <td>34991</td>\n",
       "      <td>0</td>\n",
       "      <td>2009-04-03</td>\n",
       "      <td>MANHEIM</td>\n",
       "      <td>2005</td>\n",
       "      <td>4</td>\n",
       "      <td>CHRYSLER</td>\n",
       "      <td>V6</td>\n",
       "      <td>BAS</td>\n",
       "      <td>NaN</td>\n",
       "      <td>...</td>\n",
       "      <td>20833</td>\n",
       "      <td>75236</td>\n",
       "      <td>TX</td>\n",
       "      <td>5670.0</td>\n",
       "      <td>0</td>\n",
       "      <td>1623</td>\n",
       "      <td>TOWN &amp; COUNTRY</td>\n",
       "      <td>2WD</td>\n",
       "      <td>NaN</td>\n",
       "      <td>MINIVAN</td>\n",
       "    </tr>\n",
       "  </tbody>\n",
       "</table>\n",
       "<p>5 rows × 38 columns</p>\n",
       "</div>"
      ],
      "text/plain": [
       "   RefId  IsBadBuy   PurchDate  Auction  VehYear  VehicleAge      Make Engine  \\\n",
       "0    326         1  2010-10-25    ADESA     2008           2       KIA    NaN   \n",
       "1  42991         0  2009-05-27  MANHEIM     2006           3     DODGE   2.7L   \n",
       "2  55273         0  2010-03-18    OTHER     2008           2     DODGE    NaN   \n",
       "3  29058         0  2009-08-06    OTHER     2005           4      FORD   3.9L   \n",
       "4  34991         0  2009-04-03  MANHEIM     2005           4  CHRYSLER     V6   \n",
       "\n",
       "  Trim SubModelSpecifics  ...  BYRNO VNZIP1  VNST VehBCost  IsOnlineSale  \\\n",
       "0   EX               NaN  ...   5546  33619    FL   6100.0             0   \n",
       "1  SXT               FFV  ...  99750  32124    FL   4000.0             0   \n",
       "2   SE               NaN  ...  99761  74135    OK   7500.0             0   \n",
       "3    S               NaN  ...  99761  85018    AZ   4725.0             0   \n",
       "4  BAS               NaN  ...  20833  75236    TX   5670.0             0   \n",
       "\n",
       "  WarrantyCost           Model Wheeldrive  Doors   SubModel  \n",
       "0          533         SPECTRA        NaN     4D      SEDAN  \n",
       "1         1630         STRATUS        NaN     4D      SEDAN  \n",
       "2          693         CALIBER        NaN     4D      WAGON  \n",
       "3         1633        FREESTAR        2WD    NaN  PASSENGER  \n",
       "4         1623  TOWN & COUNTRY        2WD    NaN    MINIVAN  \n",
       "\n",
       "[5 rows x 38 columns]"
      ]
     },
     "execution_count": 3,
     "metadata": {},
     "output_type": "execute_result"
    }
   ],
   "source": [
    "df.head()"
   ]
  },
  {
   "cell_type": "code",
   "execution_count": 4,
   "metadata": {
    "scrolled": true
   },
   "outputs": [
    {
     "name": "stdout",
     "output_type": "stream",
     "text": [
      "<class 'pandas.core.frame.DataFrame'>\n",
      "RangeIndex: 58386 entries, 0 to 58385\n",
      "Data columns (total 38 columns):\n",
      "RefId                                58386 non-null int64\n",
      "IsBadBuy                             58386 non-null int64\n",
      "PurchDate                            58386 non-null object\n",
      "Auction                              58386 non-null object\n",
      "VehYear                              58386 non-null int64\n",
      "VehicleAge                           58386 non-null int64\n",
      "Make                                 58386 non-null object\n",
      "Engine                               38804 non-null object\n",
      "Trim                                 56593 non-null object\n",
      "SubModelSpecifics                    9295 non-null object\n",
      "Color                                58379 non-null object\n",
      "Transmission                         58378 non-null object\n",
      "WheelTypeID                          55813 non-null float64\n",
      "WheelType                            55809 non-null object\n",
      "VehOdo                               58386 non-null int64\n",
      "Nationality                          58382 non-null object\n",
      "Size                                 58382 non-null object\n",
      "TopThreeAmericanName                 58382 non-null object\n",
      "MMRAcquisitionAuctionAveragePrice    58373 non-null float64\n",
      "MMRAcquisitionAuctionCleanPrice      58373 non-null float64\n",
      "MMRAcquisitionRetailAveragePrice     58373 non-null float64\n",
      "MMRAcquisitonRetailCleanPrice        58373 non-null float64\n",
      "MMRCurrentAuctionAveragePrice        58141 non-null float64\n",
      "MMRCurrentAuctionCleanPrice          58141 non-null float64\n",
      "MMRCurrentRetailAveragePrice         58141 non-null float64\n",
      "MMRCurrentRetailCleanPrice           58141 non-null float64\n",
      "PRIMEUNIT                            2683 non-null object\n",
      "AUCGUART                             2683 non-null object\n",
      "BYRNO                                58386 non-null int64\n",
      "VNZIP1                               58386 non-null int64\n",
      "VNST                                 58386 non-null object\n",
      "VehBCost                             58386 non-null float64\n",
      "IsOnlineSale                         58386 non-null int64\n",
      "WarrantyCost                         58386 non-null int64\n",
      "Model                                58386 non-null object\n",
      "Wheeldrive                           17854 non-null object\n",
      "Doors                                50649 non-null object\n",
      "SubModel                             58379 non-null object\n",
      "dtypes: float64(10), int64(9), object(19)\n",
      "memory usage: 16.9+ MB\n"
     ]
    }
   ],
   "source": [
    "df.info()"
   ]
  },
  {
   "cell_type": "code",
   "execution_count": 5,
   "metadata": {
    "scrolled": true
   },
   "outputs": [],
   "source": [
    "#NON PRENDO IN CONSIDERAZIONE LA CLASSE OTHER QUINDI ELIMINO LE RELATIVE RIGHE PER SICUREZZA\n",
    "dt=df[df.TopThreeAmericanName != 'OTHER']"
   ]
  },
  {
   "cell_type": "code",
   "execution_count": 6,
   "metadata": {
    "scrolled": true
   },
   "outputs": [
    {
     "data": {
      "text/plain": [
       "array(['CHRYSLER', 'FORD', 'GM', nan], dtype=object)"
      ]
     },
     "execution_count": 6,
     "metadata": {},
     "output_type": "execute_result"
    }
   ],
   "source": [
    "dt['TopThreeAmericanName'].unique()"
   ]
  },
  {
   "cell_type": "raw",
   "metadata": {},
   "source": [
    "Non era possibile confrontare Make e top3 poichè in make vi erano 4 righe in più che coincidevano con i missing value della variabile top3,quindi per poter utilizzare il codice avevo bisogno di eliminare quelle 4 righe.\n",
    "Ho prima provato ad utilizzare il codice \"df.dropna(subset=['TopThreeAmericanName'])\" che avrebbe dovuto eliminare le righe vuote analizzando solo la variabile in parentesi, non dava errori ma non eliminava le righe dove eranno presenti i nan value nella variabile TopThreeAmericanName, e non cambiava nulla neanche resettando il kernel. Dopo aver provato per più tempo mi sono arresa. Invece utilizzando il codice \"dt.dropna\" eliminava correttamente i valori nulli ma tenendo in considerazione tutte le variabili, così ho deciso di creare un subset composto solo dalle variabili che volevo confrontare. Ma non sono riuscita a definire un nuovo DataFrame composto solo dalle colonne che mi interessavano quindi come ultima risorsa ho eliminato manualmente tutte le altre variabili."
   ]
  },
  {
   "cell_type": "code",
   "execution_count": 7,
   "metadata": {},
   "outputs": [],
   "source": [
    "#df=dt[['TopThreeAmericanName', 'Make']] "
   ]
  },
  {
   "cell_type": "code",
   "execution_count": 8,
   "metadata": {},
   "outputs": [
    {
     "name": "stderr",
     "output_type": "stream",
     "text": [
      "C:\\Users\\aine2\\Anaconda3\\lib\\site-packages\\pandas\\core\\frame.py:3940: SettingWithCopyWarning: \n",
      "A value is trying to be set on a copy of a slice from a DataFrame\n",
      "\n",
      "See the caveats in the documentation: http://pandas.pydata.org/pandas-docs/stable/indexing.html#indexing-view-versus-copy\n",
      "  errors=errors)\n"
     ]
    }
   ],
   "source": [
    "column2drop = ['RefId', 'IsBadBuy', 'PurchDate', 'Auction', 'VehYear','VehicleAge','Engine','Trim','SubModelSpecifics','Color',\n",
    "               'Transmission','WheelTypeID','WheelType','VehOdo','Nationality','Size','MMRAcquisitionAuctionAveragePrice','MMRAcquisitionAuctionCleanPrice',\n",
    "               'MMRAcquisitionRetailAveragePrice','MMRAcquisitonRetailCleanPrice','MMRCurrentAuctionAveragePrice','MMRCurrentAuctionCleanPrice',\n",
    "               'MMRCurrentRetailAveragePrice','MMRCurrentRetailCleanPrice','PRIMEUNIT','AUCGUART','BYRNO','VNZIP1','VNST',\n",
    "               'VehBCost','IsOnlineSale','WarrantyCost','Model','Wheeldrive','Doors','SubModel']\n",
    "dt.drop(column2drop, axis=1, inplace=True)"
   ]
  },
  {
   "cell_type": "code",
   "execution_count": 9,
   "metadata": {},
   "outputs": [
    {
     "name": "stdout",
     "output_type": "stream",
     "text": [
      "<class 'pandas.core.frame.DataFrame'>\n",
      "Int64Index: 48800 entries, 1 to 58385\n",
      "Data columns (total 2 columns):\n",
      "Make                    48800 non-null object\n",
      "TopThreeAmericanName    48800 non-null object\n",
      "dtypes: object(2)\n",
      "memory usage: 1.1+ MB\n"
     ]
    }
   ],
   "source": [
    "dt = dt.dropna()\n",
    "dt.info()"
   ]
  },
  {
   "cell_type": "code",
   "execution_count": 11,
   "metadata": {
    "scrolled": false
   },
   "outputs": [],
   "source": [
    "dt['coinc'] = np.where((dt['TopThreeAmericanName'] == dt['Make'])\n",
    "                      ,dt['TopThreeAmericanName'], np.nan)\n"
   ]
  },
  {
   "cell_type": "code",
   "execution_count": 12,
   "metadata": {},
   "outputs": [
    {
     "name": "stdout",
     "output_type": "stream",
     "text": [
      "<class 'pandas.core.frame.DataFrame'>\n",
      "Int64Index: 48800 entries, 1 to 58385\n",
      "Data columns (total 3 columns):\n",
      "Make                    48800 non-null object\n",
      "TopThreeAmericanName    48800 non-null object\n",
      "coinc                   16093 non-null object\n",
      "dtypes: object(3)\n",
      "memory usage: 1.5+ MB\n"
     ]
    }
   ],
   "source": [
    "dt.info()"
   ]
  },
  {
   "cell_type": "raw",
   "metadata": {},
   "source": [
    "Ho verificato i 32707 casi in cui il top3 non coincide con il make. In realtà coincido anche questi dati poichè la classe presente in \"Make\" non è altro che è un marchio che appartiene alla casa produttrice presente nel TopThreeAmericanName. I casi riscontrati sono i seguenti:\n",
    "\n",
    "-GM: BUICK, CADILLAC, CHEVROLET, SATURN(attualmente chiusa), Pontiac(attualmente chiusa), OLDSMOBILE(attualmente chiusa),\n",
    "    GMC(attualmente chiusa), HUMMER(attualmente chiusa, solo 1 nel db)\n",
    "\n",
    "-CHRYSLER: PLYMOUTH(attualmente chiusa, solo 1 nel db), Dodge, Jeep\n",
    "\n",
    "-FORD: Lincoln(lusso), Mercury(attualmente chiusa)"
   ]
  }
 ],
 "metadata": {
  "kernelspec": {
   "display_name": "Python 3",
   "language": "python",
   "name": "python3"
  },
  "language_info": {
   "codemirror_mode": {
    "name": "ipython",
    "version": 3
   },
   "file_extension": ".py",
   "mimetype": "text/x-python",
   "name": "python",
   "nbconvert_exporter": "python",
   "pygments_lexer": "ipython3",
   "version": "3.7.3"
  }
 },
 "nbformat": 4,
 "nbformat_minor": 2
}
