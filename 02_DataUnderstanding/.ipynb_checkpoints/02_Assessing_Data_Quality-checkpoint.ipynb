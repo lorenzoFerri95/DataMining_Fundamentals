{
 "cells": [
  {
   "cell_type": "markdown",
   "metadata": {},
   "source": [
    "- Importiamo Librerie e Dataset"
   ]
  },
  {
   "cell_type": "code",
   "execution_count": 1,
   "metadata": {
    "scrolled": false
   },
   "outputs": [],
   "source": [
    "%matplotlib inline\n",
    "import math\n",
    "import numpy as np\n",
    "import pandas as pd\n",
    "import scipy.stats as stats\n",
    "import matplotlib.pyplot as plt\n",
    "\n",
    "from collections import defaultdict\n",
    "from scipy.stats.stats import pearsonr\n",
    "\n",
    "df = pd.read_csv(\"Training_Set.csv\")"
   ]
  },
  {
   "cell_type": "code",
   "execution_count": 2,
   "metadata": {},
   "outputs": [
    {
     "data": {
      "text/plain": [
       "78"
      ]
     },
     "execution_count": 2,
     "metadata": {},
     "output_type": "execute_result"
    }
   ],
   "source": [
    "SubModelSpecificsCount=df['SubModelSpecifics'].value_counts()\n",
    "SubModelSpecificsCount.loc[df['SubModelSpecifics'].value_counts()<10].count()"
   ]
  },
  {
   "cell_type": "code",
   "execution_count": 3,
   "metadata": {
    "scrolled": true
   },
   "outputs": [
    {
     "data": {
      "text/plain": [
       "7"
      ]
     },
     "execution_count": 3,
     "metadata": {},
     "output_type": "execute_result"
    }
   ],
   "source": [
    "TrimCount=df['Trim'].value_counts()\n",
    "TrimCount.loc[df['Trim'].value_counts()<2].count()"
   ]
  },
  {
   "cell_type": "code",
   "execution_count": 4,
   "metadata": {},
   "outputs": [
    {
     "data": {
      "text/plain": [
       "279"
      ]
     },
     "execution_count": 4,
     "metadata": {},
     "output_type": "execute_result"
    }
   ],
   "source": [
    "df.loc[df[\"VehOdo\"]>100000][\"VehOdo\"].count()"
   ]
  },
  {
   "cell_type": "code",
   "execution_count": 5,
   "metadata": {},
   "outputs": [
    {
     "data": {
      "text/plain": [
       "34"
      ]
     },
     "execution_count": 5,
     "metadata": {},
     "output_type": "execute_result"
    }
   ],
   "source": [
    "df.loc[df[\"VehOdo\"]<20000][\"VehOdo\"].count()"
   ]
  },
  {
   "cell_type": "code",
   "execution_count": 6,
   "metadata": {},
   "outputs": [
    {
     "data": {
      "text/plain": [
       "3272     16713\n",
       "4478     12628\n",
       "5072     15409\n",
       "6704     19534\n",
       "7931     19751\n",
       "9085     16545\n",
       "10768    15249\n",
       "11298    15894\n",
       "12564    17502\n",
       "13225     9446\n",
       "14153    17281\n",
       "14838    18777\n",
       "17193     5368\n",
       "18204    15655\n",
       "20948    11662\n",
       "21080    19813\n",
       "25743    18813\n",
       "26388     9878\n",
       "29061    10643\n",
       "29758    19983\n",
       "32333    17538\n",
       "36187    14961\n",
       "38651    19610\n",
       "38767    13924\n",
       "41054    14474\n",
       "43117    12926\n",
       "43551    19825\n",
       "47212    14519\n",
       "52250    16833\n",
       "53207    13445\n",
       "53937     4825\n",
       "54746    18440\n",
       "55431    19430\n",
       "57321    14547\n",
       "Name: VehOdo, dtype: int64"
      ]
     },
     "execution_count": 6,
     "metadata": {},
     "output_type": "execute_result"
    }
   ],
   "source": [
    "df.loc[df[\"VehOdo\"]<20000][\"VehOdo\"]"
   ]
  },
  {
   "cell_type": "code",
   "execution_count": 7,
   "metadata": {},
   "outputs": [
    {
     "data": {
      "text/plain": [
       "3272      4900.00\n",
       "4478      6435.00\n",
       "5072     10402.89\n",
       "6704      5800.00\n",
       "7931      9350.00\n",
       "9085      5210.00\n",
       "10768     6160.00\n",
       "11298     5610.00\n",
       "12564    35900.00\n",
       "13225    32300.00\n",
       "14153     8000.00\n",
       "14838     4740.00\n",
       "17193     5315.00\n",
       "18204     8200.00\n",
       "20948    11393.09\n",
       "21080     4600.00\n",
       "25743     6035.00\n",
       "26388     5100.00\n",
       "29061     5935.00\n",
       "29758     4000.00\n",
       "32333     5600.00\n",
       "36187     4900.00\n",
       "38651     9387.14\n",
       "38767    36485.00\n",
       "41054     6755.00\n",
       "43117     6465.00\n",
       "43551     5605.00\n",
       "47212     4710.00\n",
       "52250     6000.00\n",
       "53207    14796.57\n",
       "53937      225.00\n",
       "54746     5000.00\n",
       "55431     5500.00\n",
       "57321     5900.00\n",
       "Name: VehBCost, dtype: float64"
      ]
     },
     "execution_count": 7,
     "metadata": {},
     "output_type": "execute_result"
    }
   ],
   "source": [
    "df.loc[df[\"VehOdo\"]<20000][\"VehBCost\"]"
   ]
  },
  {
   "cell_type": "code",
   "execution_count": 8,
   "metadata": {},
   "outputs": [
    {
     "data": {
      "text/plain": [
       "3272     2004\n",
       "4478     2007\n",
       "5072     2007\n",
       "6704     2003\n",
       "7931     2007\n",
       "9085     2006\n",
       "10768    2006\n",
       "11298    2006\n",
       "12564    2008\n",
       "13225    2009\n",
       "14153    2004\n",
       "14838    2004\n",
       "17193    2003\n",
       "18204    2004\n",
       "20948    2007\n",
       "21080    2004\n",
       "25743    2007\n",
       "26388    2006\n",
       "29061    2008\n",
       "29758    2002\n",
       "32333    2004\n",
       "36187    2002\n",
       "38651    2008\n",
       "38767    2008\n",
       "41054    2004\n",
       "43117    2007\n",
       "43551    2004\n",
       "47212    2003\n",
       "52250    2007\n",
       "53207    2008\n",
       "53937    2007\n",
       "54746    2002\n",
       "55431    2004\n",
       "57321    2005\n",
       "Name: VehYear, dtype: int64"
      ]
     },
     "execution_count": 8,
     "metadata": {},
     "output_type": "execute_result"
    }
   ],
   "source": [
    "df.loc[df[\"VehOdo\"]<20000][\"VehYear\"]"
   ]
  },
  {
   "cell_type": "code",
   "execution_count": 9,
   "metadata": {},
   "outputs": [
    {
     "data": {
      "text/plain": [
       "3272     0\n",
       "4478     0\n",
       "5072     1\n",
       "6704     0\n",
       "7931     0\n",
       "9085     1\n",
       "10768    0\n",
       "11298    0\n",
       "12564    1\n",
       "13225    1\n",
       "14153    0\n",
       "14838    0\n",
       "17193    0\n",
       "18204    0\n",
       "20948    1\n",
       "21080    0\n",
       "25743    0\n",
       "26388    0\n",
       "29061    0\n",
       "29758    0\n",
       "32333    0\n",
       "36187    1\n",
       "38651    1\n",
       "38767    1\n",
       "41054    0\n",
       "43117    0\n",
       "43551    0\n",
       "47212    0\n",
       "52250    0\n",
       "53207    1\n",
       "53937    1\n",
       "54746    0\n",
       "55431    0\n",
       "57321    0\n",
       "Name: IsBadBuy, dtype: int64"
      ]
     },
     "execution_count": 9,
     "metadata": {},
     "output_type": "execute_result"
    }
   ],
   "source": [
    "df.loc[df[\"VehOdo\"]<20000][\"IsBadBuy\"]"
   ]
  },
  {
   "cell_type": "code",
   "execution_count": 10,
   "metadata": {},
   "outputs": [
    {
     "data": {
      "text/plain": [
       "3272      4481.0\n",
       "4478      5657.0\n",
       "5072     16536.0\n",
       "6704      2560.0\n",
       "7931     10956.0\n",
       "9085      4801.0\n",
       "10768     5427.0\n",
       "11298     4066.0\n",
       "12564    35722.0\n",
       "13225    27680.0\n",
       "14153     4281.0\n",
       "14838     2463.0\n",
       "17193     2617.0\n",
       "18204     4281.0\n",
       "20948    19250.0\n",
       "21080     4481.0\n",
       "25743     5824.0\n",
       "26388     3880.0\n",
       "29061     6217.0\n",
       "29758     2622.0\n",
       "32333     2824.0\n",
       "36187        0.0\n",
       "38651    14539.0\n",
       "38767    32063.0\n",
       "41054     4800.0\n",
       "43117     6324.0\n",
       "43551     2941.0\n",
       "47212     1683.0\n",
       "52250     4995.0\n",
       "53207    19546.0\n",
       "53937     5498.0\n",
       "54746     2622.0\n",
       "55431     4481.0\n",
       "57321     3641.0\n",
       "Name: MMRAcquisitionAuctionAveragePrice, dtype: float64"
      ]
     },
     "execution_count": 10,
     "metadata": {},
     "output_type": "execute_result"
    }
   ],
   "source": [
    "df.loc[df[\"VehOdo\"]<20000][\"MMRAcquisitionAuctionAveragePrice\"]"
   ]
  },
  {
   "cell_type": "code",
   "execution_count": 11,
   "metadata": {
    "scrolled": true
   },
   "outputs": [
    {
     "data": {
      "text/plain": [
       "12"
      ]
     },
     "execution_count": 11,
     "metadata": {},
     "output_type": "execute_result"
    }
   ],
   "source": [
    "df.loc[df[\"VehBCost\"]>15000][\"VehBCost\"].count()"
   ]
  },
  {
   "cell_type": "code",
   "execution_count": 12,
   "metadata": {},
   "outputs": [
    {
     "data": {
      "text/plain": [
       "6380     1\n",
       "6733     1\n",
       "7380     1\n",
       "12564    1\n",
       "13225    1\n",
       "15270    1\n",
       "15491    1\n",
       "19071    0\n",
       "23109    1\n",
       "32128    1\n",
       "38767    1\n",
       "53782    1\n",
       "Name: IsBadBuy, dtype: int64"
      ]
     },
     "execution_count": 12,
     "metadata": {},
     "output_type": "execute_result"
    }
   ],
   "source": [
    "df.loc[df[\"VehBCost\"]>15000][\"IsBadBuy\"]"
   ]
  },
  {
   "cell_type": "code",
   "execution_count": 13,
   "metadata": {},
   "outputs": [
    {
     "data": {
      "text/plain": [
       "6380     28077.0\n",
       "6733     23031.0\n",
       "7380     18900.0\n",
       "12564    35722.0\n",
       "13225    27680.0\n",
       "15270    15091.0\n",
       "15491    28354.0\n",
       "19071    14321.0\n",
       "23109    23581.0\n",
       "32128    20635.0\n",
       "38767    32063.0\n",
       "53782    25033.0\n",
       "Name: MMRAcquisitionAuctionAveragePrice, dtype: float64"
      ]
     },
     "execution_count": 13,
     "metadata": {},
     "output_type": "execute_result"
    }
   ],
   "source": [
    "df.loc[df[\"VehBCost\"]>15000][\"MMRAcquisitionAuctionAveragePrice\"]"
   ]
  },
  {
   "cell_type": "code",
   "execution_count": 14,
   "metadata": {},
   "outputs": [
    {
     "data": {
      "text/plain": [
       "6380     2007\n",
       "6733     2007\n",
       "7380     2007\n",
       "12564    2008\n",
       "13225    2009\n",
       "15270    2006\n",
       "15491    2008\n",
       "19071    2007\n",
       "23109    2007\n",
       "32128    2008\n",
       "38767    2008\n",
       "53782    2007\n",
       "Name: VehYear, dtype: int64"
      ]
     },
     "execution_count": 14,
     "metadata": {},
     "output_type": "execute_result"
    }
   ],
   "source": [
    "df.loc[df[\"VehBCost\"]>15000][\"VehYear\"]"
   ]
  },
  {
   "cell_type": "code",
   "execution_count": 15,
   "metadata": {},
   "outputs": [
    {
     "data": {
      "text/plain": [
       "6380     30945\n",
       "6733     61001\n",
       "7380     40023\n",
       "12564    17502\n",
       "13225     9446\n",
       "15270    48250\n",
       "15491    32556\n",
       "19071    36292\n",
       "23109    26113\n",
       "32128    24878\n",
       "38767    13924\n",
       "53782    34534\n",
       "Name: VehOdo, dtype: int64"
      ]
     },
     "execution_count": 15,
     "metadata": {},
     "output_type": "execute_result"
    }
   ],
   "source": [
    "#poche miglia fatte\n",
    "df.loc[df[\"VehBCost\"]>15000][\"VehOdo\"]"
   ]
  },
  {
   "cell_type": "code",
   "execution_count": 16,
   "metadata": {},
   "outputs": [
    {
     "data": {
      "text/plain": [
       "6380        OTHER ASIAN\n",
       "6733        OTHER ASIAN\n",
       "7380        OTHER ASIAN\n",
       "12564    TOP LINE ASIAN\n",
       "13225          AMERICAN\n",
       "15270    TOP LINE ASIAN\n",
       "15491             OTHER\n",
       "19071    TOP LINE ASIAN\n",
       "23109       OTHER ASIAN\n",
       "32128    TOP LINE ASIAN\n",
       "38767       OTHER ASIAN\n",
       "53782    TOP LINE ASIAN\n",
       "Name: Nationality, dtype: object"
      ]
     },
     "execution_count": 16,
     "metadata": {},
     "output_type": "execute_result"
    }
   ],
   "source": [
    "#Asiatiche per la maggiorparte\n",
    "df.loc[df[\"VehBCost\"]>15000][\"Nationality\"]"
   ]
  },
  {
   "cell_type": "code",
   "execution_count": 17,
   "metadata": {
    "scrolled": true
   },
   "outputs": [
    {
     "data": {
      "text/plain": [
       "6380     1001\n",
       "6733     1020\n",
       "7380      764\n",
       "12564     702\n",
       "13225     941\n",
       "15270     482\n",
       "15491    1694\n",
       "19071     762\n",
       "23109    1121\n",
       "32128     522\n",
       "38767    1001\n",
       "53782     522\n",
       "Name: WarrantyCost, dtype: int64"
      ]
     },
     "execution_count": 17,
     "metadata": {},
     "output_type": "execute_result"
    }
   ],
   "source": [
    "#assicurazione bassa\n",
    "df.loc[df[\"VehBCost\"]>15000][\"WarrantyCost\"]"
   ]
  },
  {
   "cell_type": "code",
   "execution_count": 18,
   "metadata": {},
   "outputs": [
    {
     "data": {
      "text/html": [
       "<div>\n",
       "<style scoped>\n",
       "    .dataframe tbody tr th:only-of-type {\n",
       "        vertical-align: middle;\n",
       "    }\n",
       "\n",
       "    .dataframe tbody tr th {\n",
       "        vertical-align: top;\n",
       "    }\n",
       "\n",
       "    .dataframe thead th {\n",
       "        text-align: right;\n",
       "    }\n",
       "</style>\n",
       "<table border=\"1\" class=\"dataframe\">\n",
       "  <thead>\n",
       "    <tr style=\"text-align: right;\">\n",
       "      <th></th>\n",
       "      <th>RefId</th>\n",
       "      <th>IsBadBuy</th>\n",
       "      <th>PurchDate</th>\n",
       "      <th>Auction</th>\n",
       "      <th>VehYear</th>\n",
       "      <th>VehicleAge</th>\n",
       "      <th>Make</th>\n",
       "      <th>Engine</th>\n",
       "      <th>Trim</th>\n",
       "      <th>SubModelSpecifics</th>\n",
       "      <th>...</th>\n",
       "      <th>BYRNO</th>\n",
       "      <th>VNZIP1</th>\n",
       "      <th>VNST</th>\n",
       "      <th>VehBCost</th>\n",
       "      <th>IsOnlineSale</th>\n",
       "      <th>WarrantyCost</th>\n",
       "      <th>Model</th>\n",
       "      <th>Wheeldrive</th>\n",
       "      <th>Doors</th>\n",
       "      <th>SubModel</th>\n",
       "    </tr>\n",
       "  </thead>\n",
       "  <tbody>\n",
       "    <tr>\n",
       "      <th>6380</th>\n",
       "      <td>69256</td>\n",
       "      <td>1</td>\n",
       "      <td>2009-04-12</td>\n",
       "      <td>ADESA</td>\n",
       "      <td>2007</td>\n",
       "      <td>2</td>\n",
       "      <td>LEXUS</td>\n",
       "      <td>NaN</td>\n",
       "      <td>NaN</td>\n",
       "      <td>NaN</td>\n",
       "      <td>...</td>\n",
       "      <td>16926</td>\n",
       "      <td>91752</td>\n",
       "      <td>CA</td>\n",
       "      <td>29795.0</td>\n",
       "      <td>0</td>\n",
       "      <td>1001</td>\n",
       "      <td>RX400H</td>\n",
       "      <td>4WD</td>\n",
       "      <td>4D</td>\n",
       "      <td>UTILITY SPORT</td>\n",
       "    </tr>\n",
       "    <tr>\n",
       "      <th>23109</th>\n",
       "      <td>6038</td>\n",
       "      <td>1</td>\n",
       "      <td>2010-11-23</td>\n",
       "      <td>MANHEIM</td>\n",
       "      <td>2007</td>\n",
       "      <td>3</td>\n",
       "      <td>LEXUS</td>\n",
       "      <td>NaN</td>\n",
       "      <td>NaN</td>\n",
       "      <td>HYBRID</td>\n",
       "      <td>...</td>\n",
       "      <td>835</td>\n",
       "      <td>85040</td>\n",
       "      <td>AZ</td>\n",
       "      <td>28560.0</td>\n",
       "      <td>0</td>\n",
       "      <td>1121</td>\n",
       "      <td>GS450H</td>\n",
       "      <td>NaN</td>\n",
       "      <td>4D</td>\n",
       "      <td>SEDAN</td>\n",
       "    </tr>\n",
       "    <tr>\n",
       "      <th>38767</th>\n",
       "      <td>15318</td>\n",
       "      <td>1</td>\n",
       "      <td>2010-05-26</td>\n",
       "      <td>MANHEIM</td>\n",
       "      <td>2008</td>\n",
       "      <td>2</td>\n",
       "      <td>LEXUS</td>\n",
       "      <td>NaN</td>\n",
       "      <td>NaN</td>\n",
       "      <td>NaN</td>\n",
       "      <td>...</td>\n",
       "      <td>835</td>\n",
       "      <td>94544</td>\n",
       "      <td>CA</td>\n",
       "      <td>36485.0</td>\n",
       "      <td>0</td>\n",
       "      <td>1001</td>\n",
       "      <td>RX400H</td>\n",
       "      <td>4WD</td>\n",
       "      <td>4D</td>\n",
       "      <td>UTILITY SPORT</td>\n",
       "    </tr>\n",
       "  </tbody>\n",
       "</table>\n",
       "<p>3 rows × 38 columns</p>\n",
       "</div>"
      ],
      "text/plain": [
       "       RefId  IsBadBuy   PurchDate  Auction  VehYear  VehicleAge   Make  \\\n",
       "6380   69256         1  2009-04-12    ADESA     2007           2  LEXUS   \n",
       "23109   6038         1  2010-11-23  MANHEIM     2007           3  LEXUS   \n",
       "38767  15318         1  2010-05-26  MANHEIM     2008           2  LEXUS   \n",
       "\n",
       "      Engine Trim SubModelSpecifics      ...        BYRNO VNZIP1  VNST  \\\n",
       "6380     NaN  NaN               NaN      ...        16926  91752    CA   \n",
       "23109    NaN  NaN            HYBRID      ...          835  85040    AZ   \n",
       "38767    NaN  NaN               NaN      ...          835  94544    CA   \n",
       "\n",
       "      VehBCost  IsOnlineSale WarrantyCost   Model Wheeldrive  Doors  \\\n",
       "6380   29795.0             0         1001  RX400H        4WD     4D   \n",
       "23109  28560.0             0         1121  GS450H        NaN     4D   \n",
       "38767  36485.0             0         1001  RX400H        4WD     4D   \n",
       "\n",
       "            SubModel  \n",
       "6380   UTILITY SPORT  \n",
       "23109          SEDAN  \n",
       "38767  UTILITY SPORT  \n",
       "\n",
       "[3 rows x 38 columns]"
      ]
     },
     "execution_count": 18,
     "metadata": {},
     "output_type": "execute_result"
    }
   ],
   "source": [
    "wout = df.loc[df['Make']=='LEXUS']\n",
    "\n",
    "wout.loc[df['VehBCost']>20000]\n",
    "\n",
    "\n"
   ]
  },
  {
   "cell_type": "code",
   "execution_count": 19,
   "metadata": {},
   "outputs": [
    {
     "data": {
      "text/plain": [
       "7"
      ]
     },
     "execution_count": 19,
     "metadata": {},
     "output_type": "execute_result"
    }
   ],
   "source": [
    "df.loc[df[\"VehBCost\"]<2000][\"VehBCost\"].count()"
   ]
  },
  {
   "cell_type": "code",
   "execution_count": 20,
   "metadata": {},
   "outputs": [
    {
     "data": {
      "text/plain": [
       "40998      1.0\n",
       "53937    225.0\n",
       "Name: VehBCost, dtype: float64"
      ]
     },
     "execution_count": 20,
     "metadata": {},
     "output_type": "execute_result"
    }
   ],
   "source": [
    "df.loc[df[\"VehBCost\"]<1000][\"VehBCost\"]"
   ]
  },
  {
   "cell_type": "code",
   "execution_count": 21,
   "metadata": {},
   "outputs": [
    {
     "data": {
      "text/plain": [
       "40998    102641\n",
       "53937      4825\n",
       "Name: VehOdo, dtype: int64"
      ]
     },
     "execution_count": 21,
     "metadata": {},
     "output_type": "execute_result"
    }
   ],
   "source": [
    "df.loc[df[\"VehBCost\"]<1000][\"VehOdo\"]"
   ]
  },
  {
   "cell_type": "code",
   "execution_count": 22,
   "metadata": {},
   "outputs": [
    {
     "data": {
      "text/plain": [
       "40998    EXT CAB\n",
       "53937      SEDAN\n",
       "Name: SubModel, dtype: object"
      ]
     },
     "execution_count": 22,
     "metadata": {},
     "output_type": "execute_result"
    }
   ],
   "source": [
    "df.loc[df[\"VehBCost\"]<1000][\"SubModel\"]"
   ]
  },
  {
   "cell_type": "code",
   "execution_count": 23,
   "metadata": {},
   "outputs": [
    {
     "data": {
      "text/plain": [
       "40998    2001\n",
       "53937    2007\n",
       "Name: VehYear, dtype: int64"
      ]
     },
     "execution_count": 23,
     "metadata": {},
     "output_type": "execute_result"
    }
   ],
   "source": [
    "df.loc[df[\"VehBCost\"]<1000][\"VehYear\"]"
   ]
  },
  {
   "cell_type": "code",
   "execution_count": 24,
   "metadata": {},
   "outputs": [
    {
     "data": {
      "text/plain": [
       "40998    2411.0\n",
       "53937    5498.0\n",
       "Name: MMRAcquisitionAuctionAveragePrice, dtype: float64"
      ]
     },
     "execution_count": 24,
     "metadata": {},
     "output_type": "execute_result"
    }
   ],
   "source": [
    "df.loc[df[\"VehBCost\"]<1000][\"MMRAcquisitionAuctionAveragePrice\"]"
   ]
  },
  {
   "cell_type": "code",
   "execution_count": 25,
   "metadata": {},
   "outputs": [
    {
     "data": {
      "text/plain": [
       "10"
      ]
     },
     "execution_count": 25,
     "metadata": {},
     "output_type": "execute_result"
    }
   ],
   "source": [
    "df.loc[df[\"WarrantyCost\"]>6000][\"WarrantyCost\"].count()"
   ]
  },
  {
   "cell_type": "code",
   "execution_count": null,
   "metadata": {},
   "outputs": [],
   "source": []
  },
  {
   "cell_type": "code",
   "execution_count": 26,
   "metadata": {},
   "outputs": [],
   "source": [
    "#Sostituzione dei valori nulli del submodel utilizzando la moda raggruppata per modello e anno\n",
    "df['SubModel'] = df['SubModel'].groupby([df['Model'], df['VehYear']]).fillna(df['SubModel'].mode()[0])"
   ]
  },
  {
   "cell_type": "code",
   "execution_count": 27,
   "metadata": {},
   "outputs": [
    {
     "data": {
      "text/plain": [
       "0"
      ]
     },
     "execution_count": 27,
     "metadata": {},
     "output_type": "execute_result"
    }
   ],
   "source": [
    "df['SubModel'].isnull().sum()"
   ]
  },
  {
   "cell_type": "code",
   "execution_count": 28,
   "metadata": {},
   "outputs": [],
   "source": [
    "#Sostituzione dei valori nulli del trim utilizzando la moda raggruppata per modello sottomodello e anno\n",
    "df['Trim'] = df['Trim'].groupby([df['Model'], df['SubModel'], df['VehYear']]).fillna(df['Trim'].mode()[0])"
   ]
  },
  {
   "cell_type": "code",
   "execution_count": 29,
   "metadata": {
    "scrolled": true
   },
   "outputs": [
    {
     "data": {
      "text/plain": [
       "0"
      ]
     },
     "execution_count": 29,
     "metadata": {},
     "output_type": "execute_result"
    }
   ],
   "source": [
    "df[\"Trim\"].isnull().sum()"
   ]
  },
  {
   "cell_type": "code",
   "execution_count": 30,
   "metadata": {},
   "outputs": [],
   "source": [
    "#Sostituzione dei valori nulli della trasmissione utilizzando la moda raggruppata per modello sottomodello e anno\n",
    "df['Transmission'] = df['Transmission'].groupby([df['Model'], df['SubModel'], df['VehYear']]).fillna(df['Transmission'].mode()[0])"
   ]
  },
  {
   "cell_type": "code",
   "execution_count": 31,
   "metadata": {},
   "outputs": [
    {
     "data": {
      "text/plain": [
       "0"
      ]
     },
     "execution_count": 31,
     "metadata": {},
     "output_type": "execute_result"
    }
   ],
   "source": [
    "df[\"Transmission\"].isnull().sum()"
   ]
  },
  {
   "cell_type": "code",
   "execution_count": 32,
   "metadata": {},
   "outputs": [],
   "source": [
    "#Sostituzione dei valori nulli della trasmissione utilizzando la moda raggruppata per modello sottomodello e Trim\n",
    "df['WheelTypeID'] = df['WheelTypeID'].groupby([df['Model'], df['SubModel'], df['Trim']]).fillna(df['WheelTypeID'].mode()[0])"
   ]
  },
  {
   "cell_type": "code",
   "execution_count": 33,
   "metadata": {},
   "outputs": [
    {
     "data": {
      "text/plain": [
       "0"
      ]
     },
     "execution_count": 33,
     "metadata": {},
     "output_type": "execute_result"
    }
   ],
   "source": [
    "df['WheelTypeID'].isnull().sum()"
   ]
  },
  {
   "cell_type": "code",
   "execution_count": 34,
   "metadata": {},
   "outputs": [],
   "source": [
    "df['Nationality'] = df['Nationality'].groupby([df['Make']]).fillna(df['Nationality'].mode()[0])"
   ]
  },
  {
   "cell_type": "code",
   "execution_count": 35,
   "metadata": {},
   "outputs": [
    {
     "data": {
      "text/plain": [
       "0"
      ]
     },
     "execution_count": 35,
     "metadata": {},
     "output_type": "execute_result"
    }
   ],
   "source": [
    "df['Nationality'].isnull().sum()"
   ]
  },
  {
   "cell_type": "code",
   "execution_count": 36,
   "metadata": {},
   "outputs": [],
   "source": [
    "df['Size'] = df['Size'].groupby([df['Model'], df['SubModel'], df['VehYear']]).fillna(df['Size'].mode()[0])"
   ]
  },
  {
   "cell_type": "code",
   "execution_count": 37,
   "metadata": {},
   "outputs": [
    {
     "data": {
      "text/plain": [
       "0"
      ]
     },
     "execution_count": 37,
     "metadata": {},
     "output_type": "execute_result"
    }
   ],
   "source": [
    "df['Size'].isnull().sum()"
   ]
  },
  {
   "cell_type": "code",
   "execution_count": 38,
   "metadata": {},
   "outputs": [],
   "source": [
    "df['TopThreeAmericanName'] = df['TopThreeAmericanName'].groupby([df['Make']]).fillna(df['Nationality'].mode()[0])"
   ]
  },
  {
   "cell_type": "code",
   "execution_count": 39,
   "metadata": {},
   "outputs": [
    {
     "data": {
      "text/plain": [
       "0"
      ]
     },
     "execution_count": 39,
     "metadata": {},
     "output_type": "execute_result"
    }
   ],
   "source": [
    "df['TopThreeAmericanName'].isnull().sum()"
   ]
  },
  {
   "cell_type": "code",
   "execution_count": 40,
   "metadata": {},
   "outputs": [],
   "source": [
    "def fun_temp(x):\n",
    "    return x.fillna(x.mean())"
   ]
  },
  {
   "cell_type": "code",
   "execution_count": 41,
   "metadata": {},
   "outputs": [],
   "source": [
    "df['MMRAcquisitionAuctionAveragePrice'].replace(0, np.nan, inplace=True)"
   ]
  },
  {
   "cell_type": "code",
   "execution_count": 42,
   "metadata": {},
   "outputs": [
    {
     "data": {
      "text/plain": [
       "661"
      ]
     },
     "execution_count": 42,
     "metadata": {},
     "output_type": "execute_result"
    }
   ],
   "source": [
    "df['MMRAcquisitionAuctionAveragePrice'].isnull().sum()"
   ]
  },
  {
   "cell_type": "code",
   "execution_count": null,
   "metadata": {},
   "outputs": [],
   "source": []
  },
  {
   "cell_type": "code",
   "execution_count": null,
   "metadata": {},
   "outputs": [],
   "source": []
  },
  {
   "cell_type": "code",
   "execution_count": 62,
   "metadata": {},
   "outputs": [],
   "source": [
    "binsN=math.ceil(math.log(df.shape[0],2))+1"
   ]
  },
  {
   "cell_type": "code",
   "execution_count": 63,
   "metadata": {},
   "outputs": [
    {
     "data": {
      "image/png": "[encoded data removed]",
      "text/plain": [
       "<Figure size 432x288 with 1 Axes>"
      ]
     },
     "metadata": {},
     "output_type": "display_data"
    }
   ],
   "source": [
    "df['MMRAcquisitionAuctionAveragePrice'].hist(bins=binsN)\n",
    "plt.show()"
   ]
  },
  {
   "cell_type": "code",
   "execution_count": 64,
   "metadata": {},
   "outputs": [
    {
     "data": {
      "text/plain": [
       "Model        SubModel       VehYear\n",
       "1500 RAM     EXT CAB        2001        2900.000000\n",
       "             MEGA CAB       2006       12973.666667\n",
       "             QUAD CAB       2002        5462.893617\n",
       "                            2003        6755.850000\n",
       "                            2004        6937.096618\n",
       "                            2005        9011.470874\n",
       "                            2006        9604.274194\n",
       "                            2007       12032.118644\n",
       "                            2008       13136.285714\n",
       "             REG CAB        2001        2705.750000\n",
       "                            2002        4051.413793\n",
       "                            2003        4154.781250\n",
       "                            2004        4904.964286\n",
       "                            2005        6036.022727\n",
       "                            2006        7106.500000\n",
       "                            2007        8734.777778\n",
       "                            2008       10001.000000\n",
       "1500 SIERRA  CREW CAB       2004        8541.000000\n",
       "                            2005       11112.833333\n",
       "                            2006       12145.142857\n",
       "                            2007       15236.000000\n",
       "             EXT CAB        2002        5122.333333\n",
       "                            2003        6403.307692\n",
       "                            2004        6165.625000\n",
       "                            2005        9015.333333\n",
       "                            2006        8432.333333\n",
       "             REG CAB        2001        2961.000000\n",
       "                            2002        3369.500000\n",
       "                            2003        4033.750000\n",
       "                            2004        6355.800000\n",
       "                                           ...     \n",
       "XG 350       SEDAN          2005        5420.000000\n",
       "XL-7         UTILITY SPORT  2002        3481.000000\n",
       "                            2003        5145.000000\n",
       "                            2005        5832.437500\n",
       "                            2006        7808.250000\n",
       "                            2007        9635.333333\n",
       "XTERRA       UTILITY SPORT  2001        4135.111111\n",
       "                            2002        5013.700000\n",
       "                            2003        5848.700000\n",
       "                            2004        6862.835821\n",
       "                            2005        9033.000000\n",
       "                            2006       10502.500000\n",
       "                            2007       12516.500000\n",
       "YARIS        HATCHBACK      2007        6370.000000\n",
       "                            2008        7925.500000\n",
       "                            2009        8251.000000\n",
       "             SEDAN          2007        7008.111111\n",
       "                            2008        8490.500000\n",
       "                            2009        9054.000000\n",
       "YUKON        UTILITY        2001        6271.833333\n",
       "                            2002        7934.500000\n",
       "                            2003        7756.937500\n",
       "                            2004        9182.000000\n",
       "                            2005       10921.000000\n",
       "YUKON XL     UTILITY        2001        6029.333333\n",
       "                            2002        6193.400000\n",
       "                            2003        7478.619048\n",
       "                            2004        9174.166667\n",
       "                            2005        8601.000000\n",
       "ZEPHYR       SEDAN          2006       12168.666667\n",
       "Name: MMRAcquisitionAuctionAveragePrice, Length: 1388, dtype: float64"
      ]
     },
     "execution_count": 64,
     "metadata": {},
     "output_type": "execute_result"
    }
   ],
   "source": [
    "(df['MMRAcquisitionAuctionAveragePrice'].groupby([df['Model'], df['SubModel'], df['VehYear']])).mean()"
   ]
  },
  {
   "cell_type": "code",
   "execution_count": 65,
   "metadata": {},
   "outputs": [],
   "source": [
    "df['MMRAcquisitionAuctionAveragePrice'] = df['MMRAcquisitionAuctionAveragePrice'].groupby([df['Model'], df['SubModel'], df['VehYear']]).apply(fun_temp)"
   ]
  },
  {
   "cell_type": "code",
   "execution_count": 66,
   "metadata": {},
   "outputs": [
    {
     "data": {
      "text/plain": [
       "16"
      ]
     },
     "execution_count": 66,
     "metadata": {},
     "output_type": "execute_result"
    }
   ],
   "source": [
    "df['MMRAcquisitionAuctionAveragePrice'].isnull().sum()"
   ]
  },
  {
   "cell_type": "code",
   "execution_count": 67,
   "metadata": {},
   "outputs": [],
   "source": [
    "dig = df[df['MMRAcquisitionAuctionAveragePrice'].isnull()]   "
   ]
  },
  {
   "cell_type": "code",
   "execution_count": 68,
   "metadata": {},
   "outputs": [
    {
     "data": {
      "text/plain": [
       "13"
      ]
     },
     "execution_count": 68,
     "metadata": {},
     "output_type": "execute_result"
    }
   ],
   "source": [
    "(dig['MMRAcquisitionAuctionAveragePrice'].groupby([dig['Model'], dig['SubModel']])).mean().isnull().sum()"
   ]
  },
  {
   "cell_type": "code",
   "execution_count": 69,
   "metadata": {},
   "outputs": [
    {
     "data": {
      "image/png": "[encoded data removed]",
      "text/plain": [
       "<Figure size 432x288 with 1 Axes>"
      ]
     },
     "metadata": {},
     "output_type": "display_data"
    }
   ],
   "source": [
    "df['MMRAcquisitionAuctionAveragePrice'].hist(bins=binsN)\n",
    "plt.show()"
   ]
  },
  {
   "cell_type": "code",
   "execution_count": 70,
   "metadata": {},
   "outputs": [
    {
     "data": {
      "image/png": "[encoded data removed]",
      "text/plain": [
       "<Figure size 432x288 with 1 Axes>"
      ]
     },
     "metadata": {},
     "output_type": "display_data"
    }
   ],
   "source": [
    "boxplot = df.boxplot(column=['MMRAcquisitionAuctionAveragePrice'])"
   ]
  },
  {
   "cell_type": "code",
   "execution_count": 71,
   "metadata": {},
   "outputs": [
    {
     "data": {
      "text/plain": [
       "15"
      ]
     },
     "execution_count": 71,
     "metadata": {},
     "output_type": "execute_result"
    }
   ],
   "source": [
    "#Sono tutte macchine casuali di qualsiasi modello, miglia fatte vedere l'output\n",
    "df.loc[df[\"MMRAcquisitionAuctionAveragePrice\"]>20000][\"MMRAcquisitionAuctionAveragePrice\"].count()"
   ]
  },
  {
   "cell_type": "code",
   "execution_count": 72,
   "metadata": {},
   "outputs": [
    {
     "data": {
      "text/plain": [
       "5691     42686\n",
       "6380     30945\n",
       "6733     61001\n",
       "11498    44163\n",
       "12564    17502\n",
       "13225     9446\n",
       "15491    32556\n",
       "23109    26113\n",
       "28508    72041\n",
       "32128    24878\n",
       "36887    47227\n",
       "38767    13924\n",
       "42283    61587\n",
       "53782    34534\n",
       "54862    24125\n",
       "Name: VehOdo, dtype: int64"
      ]
     },
     "execution_count": 72,
     "metadata": {},
     "output_type": "execute_result"
    }
   ],
   "source": [
    "df.loc[df[\"MMRAcquisitionAuctionAveragePrice\"]>20000][\"VehOdo\"]"
   ]
  },
  {
   "cell_type": "code",
   "execution_count": 73,
   "metadata": {},
   "outputs": [
    {
     "data": {
      "text/plain": [
       "5691     13070.02\n",
       "6380     29795.00\n",
       "6733     20100.00\n",
       "11498    11727.64\n",
       "12564    35900.00\n",
       "13225    32300.00\n",
       "15491    28180.00\n",
       "23109    28560.00\n",
       "28508    11500.00\n",
       "32128    15299.88\n",
       "36887    13509.79\n",
       "38767    36485.00\n",
       "42283    12812.00\n",
       "53782    23272.02\n",
       "54862    11527.00\n",
       "Name: VehBCost, dtype: float64"
      ]
     },
     "execution_count": 73,
     "metadata": {},
     "output_type": "execute_result"
    }
   ],
   "source": [
    "#Molte hanno un prezzo elevato\n",
    "df.loc[df[\"MMRAcquisitionAuctionAveragePrice\"]>20000][\"VehBCost\"]"
   ]
  },
  {
   "cell_type": "code",
   "execution_count": 74,
   "metadata": {},
   "outputs": [
    {
     "data": {
      "text/plain": [
       "5691     1\n",
       "6380     1\n",
       "6733     1\n",
       "11498    1\n",
       "12564    1\n",
       "13225    1\n",
       "15491    1\n",
       "23109    1\n",
       "28508    0\n",
       "32128    1\n",
       "36887    1\n",
       "38767    1\n",
       "42283    1\n",
       "53782    1\n",
       "54862    1\n",
       "Name: IsBadBuy, dtype: int64"
      ]
     },
     "execution_count": 74,
     "metadata": {},
     "output_type": "execute_result"
    }
   ],
   "source": [
    "#Tutte BadBuy tranne una\n",
    "df.loc[df[\"MMRAcquisitionAuctionAveragePrice\"]>20000][\"IsBadBuy\"]"
   ]
  },
  {
   "cell_type": "code",
   "execution_count": 75,
   "metadata": {},
   "outputs": [
    {
     "data": {
      "text/plain": [
       "5691     19241.0\n",
       "6380     27543.0\n",
       "6733     21940.0\n",
       "11498    18416.0\n",
       "12564    35722.0\n",
       "13225    27795.0\n",
       "15491    28099.0\n",
       "23109    23400.0\n",
       "28508    21837.0\n",
       "32128    19359.0\n",
       "36887    20129.0\n",
       "38767    31127.0\n",
       "42283    19871.0\n",
       "53782    23015.0\n",
       "54862    18546.0\n",
       "Name: MMRCurrentAuctionAveragePrice, dtype: float64"
      ]
     },
     "execution_count": 75,
     "metadata": {},
     "output_type": "execute_result"
    }
   ],
   "source": [
    "df.loc[df[\"MMRAcquisitionAuctionAveragePrice\"]>20000][\"MMRCurrentAuctionAveragePrice\"]"
   ]
  },
  {
   "cell_type": "code",
   "execution_count": 76,
   "metadata": {},
   "outputs": [
    {
     "data": {
      "text/plain": [
       "5691     2006\n",
       "6380     2007\n",
       "6733     2007\n",
       "11498    2006\n",
       "12564    2008\n",
       "13225    2009\n",
       "15491    2008\n",
       "23109    2007\n",
       "28508    2007\n",
       "32128    2008\n",
       "36887    2006\n",
       "38767    2008\n",
       "42283    2007\n",
       "53782    2007\n",
       "54862    2007\n",
       "Name: VehYear, dtype: int64"
      ]
     },
     "execution_count": 76,
     "metadata": {},
     "output_type": "execute_result"
    }
   ],
   "source": [
    "df.loc[df[\"MMRAcquisitionAuctionAveragePrice\"]>20000][\"VehYear\"]"
   ]
  },
  {
   "cell_type": "code",
   "execution_count": 77,
   "metadata": {},
   "outputs": [
    {
     "data": {
      "text/plain": [
       "5691     MANHEIM\n",
       "6380       ADESA\n",
       "6733     MANHEIM\n",
       "11498    MANHEIM\n",
       "12564    MANHEIM\n",
       "13225    MANHEIM\n",
       "15491    MANHEIM\n",
       "23109    MANHEIM\n",
       "28508    MANHEIM\n",
       "32128      OTHER\n",
       "36887    MANHEIM\n",
       "38767    MANHEIM\n",
       "42283    MANHEIM\n",
       "53782      ADESA\n",
       "54862      ADESA\n",
       "Name: Auction, dtype: object"
      ]
     },
     "execution_count": 77,
     "metadata": {},
     "output_type": "execute_result"
    }
   ],
   "source": [
    "df.loc[df[\"MMRAcquisitionAuctionAveragePrice\"]>20000][\"Auction\"]"
   ]
  },
  {
   "cell_type": "code",
   "execution_count": 78,
   "metadata": {},
   "outputs": [
    {
     "data": {
      "text/plain": [
       "5691        OTHER ASIAN\n",
       "6380        OTHER ASIAN\n",
       "6733        OTHER ASIAN\n",
       "11498       OTHER ASIAN\n",
       "12564    TOP LINE ASIAN\n",
       "13225          AMERICAN\n",
       "15491             OTHER\n",
       "23109       OTHER ASIAN\n",
       "28508    TOP LINE ASIAN\n",
       "32128    TOP LINE ASIAN\n",
       "36887       OTHER ASIAN\n",
       "38767       OTHER ASIAN\n",
       "42283          AMERICAN\n",
       "53782    TOP LINE ASIAN\n",
       "54862       OTHER ASIAN\n",
       "Name: Nationality, dtype: object"
      ]
     },
     "execution_count": 78,
     "metadata": {},
     "output_type": "execute_result"
    }
   ],
   "source": [
    "#Asiatiche\n",
    "df.loc[df[\"MMRAcquisitionAuctionAveragePrice\"]>20000][\"Nationality\"]"
   ]
  },
  {
   "cell_type": "code",
   "execution_count": 79,
   "metadata": {},
   "outputs": [
    {
     "data": {
      "text/plain": [
       "5691      764\n",
       "6380     1001\n",
       "6733     1020\n",
       "11498     764\n",
       "12564     702\n",
       "13225     941\n",
       "15491    1694\n",
       "23109    1121\n",
       "28508    2091\n",
       "32128     522\n",
       "36887    1187\n",
       "38767    1001\n",
       "42283    1313\n",
       "53782     522\n",
       "54862     702\n",
       "Name: WarrantyCost, dtype: int64"
      ]
     },
     "execution_count": 79,
     "metadata": {},
     "output_type": "execute_result"
    }
   ],
   "source": [
    "#assicurazione economica\n",
    "df.loc[df[\"MMRAcquisitionAuctionAveragePrice\"]>20000][\"WarrantyCost\"]"
   ]
  },
  {
   "cell_type": "code",
   "execution_count": 80,
   "metadata": {},
   "outputs": [
    {
     "data": {
      "text/plain": [
       "405      1281.0\n",
       "3928     1252.0\n",
       "4643     1180.0\n",
       "5365     1010.0\n",
       "5702     1186.0\n",
       "5996     1249.0\n",
       "16973    1064.0\n",
       "17642    1281.0\n",
       "17738    1205.0\n",
       "18699    1120.0\n",
       "23594    1286.0\n",
       "28341    1027.0\n",
       "29359    1239.0\n",
       "30530    1272.0\n",
       "31127     966.0\n",
       "31531    1249.0\n",
       "33607    1175.0\n",
       "35833    1178.0\n",
       "35923     884.0\n",
       "50911    1146.0\n",
       "56756    1262.0\n",
       "56803    1004.0\n",
       "58310    1097.0\n",
       "58385    1252.0\n",
       "Name: MMRAcquisitionAuctionAveragePrice, dtype: float64"
      ]
     },
     "execution_count": 80,
     "metadata": {},
     "output_type": "execute_result"
    }
   ],
   "source": [
    "df.loc[df[\"MMRAcquisitionAuctionAveragePrice\"]<1300][\"MMRAcquisitionAuctionAveragePrice\"]"
   ]
  },
  {
   "cell_type": "code",
   "execution_count": 81,
   "metadata": {},
   "outputs": [],
   "source": [
    "df['MMRAcquisitionAuctionCleanPrice'].replace(0, np.nan, inplace=True)"
   ]
  },
  {
   "cell_type": "code",
   "execution_count": 82,
   "metadata": {},
   "outputs": [
    {
     "data": {
      "text/plain": [
       "14"
      ]
     },
     "execution_count": 82,
     "metadata": {},
     "output_type": "execute_result"
    }
   ],
   "source": [
    "df['MMRAcquisitionAuctionCleanPrice'].isnull().sum()"
   ]
  },
  {
   "cell_type": "code",
   "execution_count": 83,
   "metadata": {},
   "outputs": [
    {
     "data": {
      "image/png": "[encoded data removed]",
      "text/plain": [
       "<Figure size 432x288 with 1 Axes>"
      ]
     },
     "metadata": {},
     "output_type": "display_data"
    }
   ],
   "source": [
    "df['MMRAcquisitionAuctionCleanPrice'].hist(bins=binsN)\n",
    "plt.show()"
   ]
  },
  {
   "cell_type": "code",
   "execution_count": 84,
   "metadata": {},
   "outputs": [
    {
     "data": {
      "image/png": "[encoded data removed]",
      "text/plain": [
       "<Figure size 432x288 with 1 Axes>"
      ]
     },
     "metadata": {},
     "output_type": "display_data"
    }
   ],
   "source": [
    "df[df['SubModel'] == 'SEDAN']['MMRAcquisitionAuctionCleanPrice'].hist(bins=binsN)\n",
    "plt.show()"
   ]
  },
  {
   "cell_type": "code",
   "execution_count": 85,
   "metadata": {},
   "outputs": [],
   "source": [
    "df['MMRAcquisitionAuctionCleanPrice'] = df['MMRAcquisitionAuctionCleanPrice'].groupby([df['Model'], df['SubModel'], df['VehYear']]).apply(fun_temp)"
   ]
  },
  {
   "cell_type": "code",
   "execution_count": 86,
   "metadata": {},
   "outputs": [
    {
     "data": {
      "image/png": "[encoded data removed]",
      "text/plain": [
       "<Figure size 432x288 with 1 Axes>"
      ]
     },
     "metadata": {},
     "output_type": "display_data"
    }
   ],
   "source": [
    "df['MMRAcquisitionAuctionCleanPrice'].hist(bins=binsN)\n",
    "plt.show()"
   ]
  },
  {
   "cell_type": "code",
   "execution_count": 87,
   "metadata": {},
   "outputs": [
    {
     "data": {
      "text/plain": [
       "14"
      ]
     },
     "execution_count": 87,
     "metadata": {},
     "output_type": "execute_result"
    }
   ],
   "source": [
    "df['MMRAcquisitionAuctionCleanPrice'].isnull().sum()"
   ]
  },
  {
   "cell_type": "code",
   "execution_count": 88,
   "metadata": {},
   "outputs": [
    {
     "data": {
      "image/png": "[encoded data removed]",
      "text/plain": [
       "<Figure size 432x288 with 1 Axes>"
      ]
     },
     "metadata": {},
     "output_type": "display_data"
    }
   ],
   "source": [
    "df[df['SubModel'] == 'SEDAN']['MMRAcquisitionAuctionCleanPrice'].hist(bins=binsN)\n",
    "plt.show()"
   ]
  },
  {
   "cell_type": "code",
   "execution_count": 89,
   "metadata": {},
   "outputs": [
    {
     "data": {
      "image/png": "[encoded data removed]",
      "text/plain": [
       "<Figure size 432x288 with 1 Axes>"
      ]
     },
     "metadata": {},
     "output_type": "display_data"
    }
   ],
   "source": [
    "boxplot = df.boxplot(column=['MMRAcquisitionAuctionCleanPrice'])"
   ]
  },
  {
   "cell_type": "code",
   "execution_count": 90,
   "metadata": {},
   "outputs": [],
   "source": [
    "df['MMRAcquisitionRetailAveragePrice'].replace(0, np.nan, inplace=True)"
   ]
  },
  {
   "cell_type": "code",
   "execution_count": 91,
   "metadata": {},
   "outputs": [
    {
     "data": {
      "text/plain": [
       "661"
      ]
     },
     "execution_count": 91,
     "metadata": {},
     "output_type": "execute_result"
    }
   ],
   "source": [
    "df['MMRAcquisitionRetailAveragePrice'].isnull().sum()"
   ]
  },
  {
   "cell_type": "code",
   "execution_count": 92,
   "metadata": {},
   "outputs": [
    {
     "data": {
      "image/png": "[encoded data removed]",
      "text/plain": [
       "<Figure size 432x288 with 1 Axes>"
      ]
     },
     "metadata": {},
     "output_type": "display_data"
    }
   ],
   "source": [
    "df['MMRAcquisitionRetailAveragePrice'].hist(bins=binsN)\n",
    "plt.show()"
   ]
  },
  {
   "cell_type": "code",
   "execution_count": 93,
   "metadata": {},
   "outputs": [],
   "source": [
    "df['MMRAcquisitionRetailAveragePrice'] = df['MMRAcquisitionRetailAveragePrice'].groupby([df['Model'], df['SubModel'], df['VehYear']]).apply(fun_temp)"
   ]
  },
  {
   "cell_type": "code",
   "execution_count": 94,
   "metadata": {},
   "outputs": [
    {
     "data": {
      "image/png": "[encoded data removed]",
      "text/plain": [
       "<Figure size 432x288 with 1 Axes>"
      ]
     },
     "metadata": {},
     "output_type": "display_data"
    }
   ],
   "source": [
    "df['MMRAcquisitionRetailAveragePrice'].hist(bins=binsN)\n",
    "plt.show()"
   ]
  },
  {
   "cell_type": "code",
   "execution_count": 95,
   "metadata": {},
   "outputs": [
    {
     "data": {
      "text/plain": [
       "16"
      ]
     },
     "execution_count": 95,
     "metadata": {},
     "output_type": "execute_result"
    }
   ],
   "source": [
    "df['MMRAcquisitionRetailAveragePrice'].isnull().sum()"
   ]
  },
  {
   "cell_type": "code",
   "execution_count": 96,
   "metadata": {},
   "outputs": [],
   "source": [
    "dig = df[df['MMRAcquisitionRetailAveragePrice'].isnull()]"
   ]
  },
  {
   "cell_type": "code",
   "execution_count": 97,
   "metadata": {},
   "outputs": [
    {
     "data": {
      "text/plain": [
       "13"
      ]
     },
     "execution_count": 97,
     "metadata": {},
     "output_type": "execute_result"
    }
   ],
   "source": [
    "(dig['MMRAcquisitionRetailAveragePrice'].groupby([dig['Model'], dig['SubModel']])).mean().isnull().sum()"
   ]
  },
  {
   "cell_type": "code",
   "execution_count": 98,
   "metadata": {},
   "outputs": [
    {
     "data": {
      "image/png": "[encoded data removed]",
      "text/plain": [
       "<Figure size 432x288 with 1 Axes>"
      ]
     },
     "metadata": {},
     "output_type": "display_data"
    }
   ],
   "source": [
    "boxplot = df.boxplot(column=['MMRAcquisitionRetailAveragePrice'])"
   ]
  },
  {
   "cell_type": "code",
   "execution_count": 99,
   "metadata": {},
   "outputs": [
    {
     "data": {
      "text/plain": [
       "661"
      ]
     },
     "execution_count": 99,
     "metadata": {},
     "output_type": "execute_result"
    }
   ],
   "source": [
    "df['MMRAcquisitonRetailCleanPrice'].replace(0, np.nan, inplace=True)\n",
    "df['MMRAcquisitonRetailCleanPrice'].isnull().sum()"
   ]
  },
  {
   "cell_type": "code",
   "execution_count": 100,
   "metadata": {},
   "outputs": [
    {
     "data": {
      "image/png": "[encoded data removed]",
      "text/plain": [
       "<Figure size 432x288 with 1 Axes>"
      ]
     },
     "metadata": {},
     "output_type": "display_data"
    },
    {
     "data": {
      "image/png": "[encoded data removed]",
      "text/plain": [
       "<Figure size 432x288 with 1 Axes>"
      ]
     },
     "metadata": {},
     "output_type": "display_data"
    }
   ],
   "source": [
    "df['MMRAcquisitonRetailCleanPrice'].hist(bins=binsN)\n",
    "plt.show()\n",
    "\n",
    "df['MMRAcquisitonRetailCleanPrice'] = df['MMRAcquisitonRetailCleanPrice'].groupby([df['Model'], df['SubModel'], df['VehYear']]).apply(fun_temp)\n",
    "\n",
    "df['MMRAcquisitonRetailCleanPrice'].hist(bins=binsN)\n",
    "plt.show()"
   ]
  },
  {
   "cell_type": "code",
   "execution_count": 101,
   "metadata": {},
   "outputs": [
    {
     "data": {
      "text/plain": [
       "16"
      ]
     },
     "execution_count": 101,
     "metadata": {},
     "output_type": "execute_result"
    }
   ],
   "source": [
    "df['MMRAcquisitonRetailCleanPrice'].isnull().sum()"
   ]
  },
  {
   "cell_type": "code",
   "execution_count": 102,
   "metadata": {},
   "outputs": [
    {
     "data": {
      "image/png": "[encoded data removed]",
      "text/plain": [
       "<Figure size 432x288 with 1 Axes>"
      ]
     },
     "metadata": {},
     "output_type": "display_data"
    }
   ],
   "source": [
    "boxplot = df.boxplot(column=['MMRAcquisitonRetailCleanPrice'])"
   ]
  },
  {
   "cell_type": "code",
   "execution_count": 103,
   "metadata": {},
   "outputs": [
    {
     "data": {
      "text/plain": [
       "638"
      ]
     },
     "execution_count": 103,
     "metadata": {},
     "output_type": "execute_result"
    }
   ],
   "source": [
    "df['MMRCurrentAuctionAveragePrice'].replace(0, np.nan, inplace=True)\n",
    "df['MMRCurrentAuctionAveragePrice'].isnull().sum()"
   ]
  },
  {
   "cell_type": "code",
   "execution_count": 104,
   "metadata": {},
   "outputs": [
    {
     "data": {
      "image/png": "[encoded data removed]",
      "text/plain": [
       "<Figure size 432x288 with 1 Axes>"
      ]
     },
     "metadata": {},
     "output_type": "display_data"
    },
    {
     "data": {
      "image/png": "[encoded data removed]",
      "text/plain": [
       "<Figure size 432x288 with 1 Axes>"
      ]
     },
     "metadata": {},
     "output_type": "display_data"
    }
   ],
   "source": [
    "df['MMRCurrentAuctionAveragePrice'].hist(bins=binsN)\n",
    "plt.show()\n",
    "\n",
    "df['MMRCurrentAuctionAveragePrice'] = df['MMRCurrentAuctionAveragePrice'].groupby([df['Model'], df['SubModel'], df['VehYear']]).apply(fun_temp)\n",
    "\n",
    "df['MMRCurrentAuctionAveragePrice'].hist(bins=binsN)\n",
    "plt.show()"
   ]
  },
  {
   "cell_type": "code",
   "execution_count": 105,
   "metadata": {},
   "outputs": [
    {
     "data": {
      "text/plain": [
       "16"
      ]
     },
     "execution_count": 105,
     "metadata": {},
     "output_type": "execute_result"
    }
   ],
   "source": [
    "df['MMRCurrentAuctionAveragePrice'].isnull().sum()"
   ]
  },
  {
   "cell_type": "code",
   "execution_count": 106,
   "metadata": {},
   "outputs": [
    {
     "data": {
      "image/png": "[encoded data removed]",
      "text/plain": [
       "<Figure size 432x288 with 1 Axes>"
      ]
     },
     "metadata": {},
     "output_type": "display_data"
    }
   ],
   "source": [
    "boxplot = df.boxplot(column=['MMRCurrentAuctionAveragePrice'])"
   ]
  },
  {
   "cell_type": "code",
   "execution_count": 107,
   "metadata": {},
   "outputs": [
    {
     "data": {
      "text/plain": [
       "11"
      ]
     },
     "execution_count": 107,
     "metadata": {},
     "output_type": "execute_result"
    }
   ],
   "source": [
    "df.loc[df[\"MMRCurrentAuctionAveragePrice\"]>20000][\"MMRCurrentAuctionAveragePrice\"].count()"
   ]
  },
  {
   "cell_type": "code",
   "execution_count": 108,
   "metadata": {},
   "outputs": [
    {
     "data": {
      "text/plain": [
       "6380     UTILITY SPORT\n",
       "6733             SEDAN\n",
       "12564    UTILITY SPORT\n",
       "13225         CREW CAB\n",
       "15491    UTILITY SPORT\n",
       "23109            SEDAN\n",
       "28508         CREW CAB\n",
       "36887    UTILITY SPORT\n",
       "38767    UTILITY SPORT\n",
       "53207            SEDAN\n",
       "53782         CREW CAB\n",
       "Name: SubModel, dtype: object"
      ]
     },
     "execution_count": 108,
     "metadata": {},
     "output_type": "execute_result"
    }
   ],
   "source": [
    "#molte utility sport\n",
    "df.loc[df[\"MMRCurrentAuctionAveragePrice\"]>20000][\"SubModel\"]"
   ]
  },
  {
   "cell_type": "code",
   "execution_count": 109,
   "metadata": {},
   "outputs": [
    {
     "data": {
      "text/plain": [
       "6380     1\n",
       "6733     1\n",
       "12564    1\n",
       "13225    1\n",
       "15491    1\n",
       "23109    1\n",
       "28508    0\n",
       "36887    1\n",
       "38767    1\n",
       "53207    1\n",
       "53782    1\n",
       "Name: IsBadBuy, dtype: int64"
      ]
     },
     "execution_count": 109,
     "metadata": {},
     "output_type": "execute_result"
    }
   ],
   "source": [
    "#quasi tutti badbuy\n",
    "df.loc[df[\"MMRCurrentAuctionAveragePrice\"]>20000][\"IsBadBuy\"]"
   ]
  },
  {
   "cell_type": "code",
   "execution_count": 110,
   "metadata": {},
   "outputs": [
    {
     "data": {
      "text/plain": [
       "6380     2007\n",
       "6733     2007\n",
       "12564    2008\n",
       "13225    2009\n",
       "15491    2008\n",
       "23109    2007\n",
       "28508    2007\n",
       "36887    2006\n",
       "38767    2008\n",
       "53207    2008\n",
       "53782    2007\n",
       "Name: VehYear, dtype: int64"
      ]
     },
     "execution_count": 110,
     "metadata": {},
     "output_type": "execute_result"
    }
   ],
   "source": [
    "#le piu nuove\n",
    "df.loc[df[\"MMRCurrentAuctionAveragePrice\"]>20000][\"VehYear\"]"
   ]
  },
  {
   "cell_type": "code",
   "execution_count": 111,
   "metadata": {},
   "outputs": [
    {
     "data": {
      "text/plain": [
       "6380       ADESA\n",
       "6733     MANHEIM\n",
       "12564    MANHEIM\n",
       "13225    MANHEIM\n",
       "15491    MANHEIM\n",
       "23109    MANHEIM\n",
       "28508    MANHEIM\n",
       "36887    MANHEIM\n",
       "38767    MANHEIM\n",
       "53207    MANHEIM\n",
       "53782      ADESA\n",
       "Name: Auction, dtype: object"
      ]
     },
     "execution_count": 111,
     "metadata": {},
     "output_type": "execute_result"
    }
   ],
   "source": [
    "df.loc[df[\"MMRCurrentAuctionAveragePrice\"]>20000][\"Auction\"]"
   ]
  },
  {
   "cell_type": "code",
   "execution_count": 112,
   "metadata": {},
   "outputs": [
    {
     "data": {
      "text/plain": [
       "6380     1001\n",
       "6733     1020\n",
       "12564     702\n",
       "13225     941\n",
       "15491    1694\n",
       "23109    1121\n",
       "28508    2091\n",
       "36887    1187\n",
       "38767    1001\n",
       "53207    1121\n",
       "53782     522\n",
       "Name: WarrantyCost, dtype: int64"
      ]
     },
     "execution_count": 112,
     "metadata": {},
     "output_type": "execute_result"
    }
   ],
   "source": [
    "#Assicurazione economica\n",
    "df.loc[df[\"MMRCurrentAuctionAveragePrice\"]>20000][\"WarrantyCost\"]"
   ]
  },
  {
   "cell_type": "code",
   "execution_count": 113,
   "metadata": {},
   "outputs": [
    {
     "data": {
      "text/plain": [
       "6380        OTHER ASIAN\n",
       "6733        OTHER ASIAN\n",
       "12564    TOP LINE ASIAN\n",
       "13225          AMERICAN\n",
       "15491             OTHER\n",
       "23109       OTHER ASIAN\n",
       "28508    TOP LINE ASIAN\n",
       "36887       OTHER ASIAN\n",
       "38767       OTHER ASIAN\n",
       "53207          AMERICAN\n",
       "53782    TOP LINE ASIAN\n",
       "Name: Nationality, dtype: object"
      ]
     },
     "execution_count": 113,
     "metadata": {},
     "output_type": "execute_result"
    }
   ],
   "source": [
    "#asiatiche\n",
    "df.loc[df[\"MMRCurrentAuctionAveragePrice\"]>20000][\"Nationality\"]"
   ]
  },
  {
   "cell_type": "code",
   "execution_count": 114,
   "metadata": {},
   "outputs": [
    {
     "data": {
      "text/plain": [
       "6380     0\n",
       "6733     0\n",
       "12564    0\n",
       "13225    0\n",
       "15491    0\n",
       "23109    0\n",
       "28508    0\n",
       "36887    0\n",
       "38767    0\n",
       "53207    0\n",
       "53782    0\n",
       "Name: IsOnlineSale, dtype: int64"
      ]
     },
     "execution_count": 114,
     "metadata": {},
     "output_type": "execute_result"
    }
   ],
   "source": [
    "df.loc[df[\"MMRCurrentAuctionAveragePrice\"]>20000][\"IsOnlineSale\"]"
   ]
  },
  {
   "cell_type": "code",
   "execution_count": 115,
   "metadata": {},
   "outputs": [
    {
     "data": {
      "text/plain": [
       "138      665.0\n",
       "2917     665.0\n",
       "5365     809.0\n",
       "17588    430.0\n",
       "17807    806.0\n",
       "18167    369.0\n",
       "26815    809.0\n",
       "28341    937.0\n",
       "29359    847.0\n",
       "34755    733.0\n",
       "35923    896.0\n",
       "49074    433.0\n",
       "52996    912.0\n",
       "56202    727.0\n",
       "56756    879.0\n",
       "Name: MMRCurrentAuctionAveragePrice, dtype: float64"
      ]
     },
     "execution_count": 115,
     "metadata": {},
     "output_type": "execute_result"
    }
   ],
   "source": [
    "df.loc[df[\"MMRCurrentAuctionAveragePrice\"]<1000][\"MMRCurrentAuctionAveragePrice\"]"
   ]
  },
  {
   "cell_type": "code",
   "execution_count": 116,
   "metadata": {},
   "outputs": [
    {
     "data": {
      "text/plain": [
       "545"
      ]
     },
     "execution_count": 116,
     "metadata": {},
     "output_type": "execute_result"
    }
   ],
   "source": [
    "df['MMRCurrentAuctionCleanPrice'].replace(0, np.nan, inplace=True)\n",
    "df['MMRCurrentAuctionCleanPrice'].isnull().sum()"
   ]
  },
  {
   "cell_type": "code",
   "execution_count": 117,
   "metadata": {},
   "outputs": [
    {
     "data": {
      "image/png": "[encoded data removed]",
      "text/plain": [
       "<Figure size 432x288 with 1 Axes>"
      ]
     },
     "metadata": {},
     "output_type": "display_data"
    },
    {
     "data": {
      "image/png": "[encoded data removed]",
      "text/plain": [
       "<Figure size 432x288 with 1 Axes>"
      ]
     },
     "metadata": {},
     "output_type": "display_data"
    }
   ],
   "source": [
    "df['MMRCurrentAuctionCleanPrice'].hist(bins=binsN)\n",
    "plt.show()\n",
    "\n",
    "df['MMRCurrentAuctionCleanPrice'] = df['MMRCurrentAuctionCleanPrice'].groupby([df['Model'], df['SubModel'], df['VehYear']]).apply(fun_temp)\n",
    "\n",
    "df['MMRCurrentAuctionCleanPrice'].hist(bins=binsN)\n",
    "plt.show()"
   ]
  },
  {
   "cell_type": "code",
   "execution_count": 118,
   "metadata": {},
   "outputs": [
    {
     "data": {
      "text/plain": [
       "14"
      ]
     },
     "execution_count": 118,
     "metadata": {},
     "output_type": "execute_result"
    }
   ],
   "source": [
    "df['MMRCurrentAuctionCleanPrice'].isnull().sum()"
   ]
  },
  {
   "cell_type": "code",
   "execution_count": 119,
   "metadata": {},
   "outputs": [
    {
     "data": {
      "image/png": "[encoded data removed]",
      "text/plain": [
       "<Figure size 432x288 with 1 Axes>"
      ]
     },
     "metadata": {},
     "output_type": "display_data"
    }
   ],
   "source": [
    "boxplot = df.boxplot(column=['MMRCurrentAuctionCleanPrice'])"
   ]
  },
  {
   "cell_type": "code",
   "execution_count": 120,
   "metadata": {},
   "outputs": [
    {
     "data": {
      "text/plain": [
       "638"
      ]
     },
     "execution_count": 120,
     "metadata": {},
     "output_type": "execute_result"
    }
   ],
   "source": [
    "df['MMRCurrentRetailAveragePrice'].replace(0, np.nan, inplace=True)\n",
    "df['MMRCurrentRetailAveragePrice'].isnull().sum()"
   ]
  },
  {
   "cell_type": "code",
   "execution_count": 121,
   "metadata": {},
   "outputs": [
    {
     "data": {
      "image/png": "[encoded data removed]",
      "text/plain": [
       "<Figure size 432x288 with 1 Axes>"
      ]
     },
     "metadata": {},
     "output_type": "display_data"
    },
    {
     "data": {
      "image/png": "[encoded data removed]",
      "text/plain": [
       "<Figure size 432x288 with 1 Axes>"
      ]
     },
     "metadata": {},
     "output_type": "display_data"
    }
   ],
   "source": [
    "df['MMRCurrentRetailAveragePrice'].hist(bins=binsN)\n",
    "plt.show()\n",
    "\n",
    "df['MMRCurrentRetailAveragePrice'] = df['MMRCurrentRetailAveragePrice'].groupby([df['Model'], df['SubModel'], df['VehYear']]).apply(fun_temp)\n",
    "\n",
    "df['MMRCurrentRetailAveragePrice'].hist(bins=binsN)\n",
    "plt.show()"
   ]
  },
  {
   "cell_type": "code",
   "execution_count": 122,
   "metadata": {},
   "outputs": [
    {
     "data": {
      "text/plain": [
       "16"
      ]
     },
     "execution_count": 122,
     "metadata": {},
     "output_type": "execute_result"
    }
   ],
   "source": [
    "df['MMRCurrentRetailAveragePrice'].isnull().sum()"
   ]
  },
  {
   "cell_type": "code",
   "execution_count": 123,
   "metadata": {},
   "outputs": [
    {
     "data": {
      "image/png": "[encoded data removed]",
      "text/plain": [
       "<Figure size 432x288 with 1 Axes>"
      ]
     },
     "metadata": {},
     "output_type": "display_data"
    }
   ],
   "source": [
    "boxplot = df.boxplot(column=['MMRCurrentRetailAveragePrice'])"
   ]
  },
  {
   "cell_type": "code",
   "execution_count": 124,
   "metadata": {},
   "outputs": [
    {
     "data": {
      "text/plain": [
       "638"
      ]
     },
     "execution_count": 124,
     "metadata": {},
     "output_type": "execute_result"
    }
   ],
   "source": [
    "df['MMRCurrentRetailCleanPrice'].replace(0, np.nan, inplace=True)\n",
    "df['MMRCurrentRetailCleanPrice'].isnull().sum()"
   ]
  },
  {
   "cell_type": "code",
   "execution_count": 125,
   "metadata": {
    "scrolled": false
   },
   "outputs": [
    {
     "data": {
      "image/png": "[encoded data removed]",
      "text/plain": [
       "<Figure size 432x288 with 1 Axes>"
      ]
     },
     "metadata": {},
     "output_type": "display_data"
    },
    {
     "data": {
      "image/png": "[encoded data removed]",
      "text/plain": [
       "<Figure size 432x288 with 1 Axes>"
      ]
     },
     "metadata": {},
     "output_type": "display_data"
    }
   ],
   "source": [
    "df['MMRCurrentRetailCleanPrice'].hist(bins=binsN)\n",
    "plt.show()\n",
    "\n",
    "df['MMRCurrentRetailCleanPrice'] = df['MMRCurrentRetailCleanPrice'].groupby([df['Model'], df['SubModel'], df['VehYear']]).apply(fun_temp)\n",
    "\n",
    "df['MMRCurrentRetailCleanPrice'].hist(bins=binsN)\n",
    "plt.show()"
   ]
  },
  {
   "cell_type": "code",
   "execution_count": 126,
   "metadata": {},
   "outputs": [
    {
     "data": {
      "text/plain": [
       "16"
      ]
     },
     "execution_count": 126,
     "metadata": {},
     "output_type": "execute_result"
    }
   ],
   "source": [
    "df['MMRCurrentRetailCleanPrice'].isnull().sum()"
   ]
  },
  {
   "cell_type": "code",
   "execution_count": 127,
   "metadata": {},
   "outputs": [
    {
     "data": {
      "image/png": "[encoded data removed]",
      "text/plain": [
       "<Figure size 432x288 with 1 Axes>"
      ]
     },
     "metadata": {},
     "output_type": "display_data"
    }
   ],
   "source": [
    "boxplot = df.boxplot(column=['MMRCurrentRetailCleanPrice'])"
   ]
  },
  {
   "cell_type": "code",
   "execution_count": 128,
   "metadata": {
    "scrolled": false
   },
   "outputs": [
    {
     "data": {
      "text/plain": [
       "RefId                                    0\n",
       "IsBadBuy                                 0\n",
       "PurchDate                                0\n",
       "Auction                                  0\n",
       "VehYear                                  0\n",
       "VehicleAge                               0\n",
       "Make                                     0\n",
       "Engine                               19582\n",
       "Trim                                     0\n",
       "SubModelSpecifics                    49091\n",
       "Color                                    7\n",
       "Transmission                             0\n",
       "WheelTypeID                              0\n",
       "WheelType                             2577\n",
       "VehOdo                                   0\n",
       "Nationality                              0\n",
       "Size                                     0\n",
       "TopThreeAmericanName                     0\n",
       "MMRAcquisitionAuctionAveragePrice       16\n",
       "MMRAcquisitionAuctionCleanPrice         14\n",
       "MMRAcquisitionRetailAveragePrice        16\n",
       "MMRAcquisitonRetailCleanPrice           16\n",
       "MMRCurrentAuctionAveragePrice           16\n",
       "MMRCurrentAuctionCleanPrice             14\n",
       "MMRCurrentRetailAveragePrice            16\n",
       "MMRCurrentRetailCleanPrice              16\n",
       "PRIMEUNIT                            55703\n",
       "AUCGUART                             55703\n",
       "BYRNO                                    0\n",
       "VNZIP1                                   0\n",
       "VNST                                     0\n",
       "VehBCost                                 0\n",
       "IsOnlineSale                             0\n",
       "WarrantyCost                             0\n",
       "Model                                    0\n",
       "Wheeldrive                           40532\n",
       "Doors                                 7737\n",
       "SubModel                                 0\n",
       "dtype: int64"
      ]
     },
     "execution_count": 128,
     "metadata": {},
     "output_type": "execute_result"
    }
   ],
   "source": [
    "df.isnull().sum()  "
   ]
  }
 ],
 "metadata": {
  "kernelspec": {
   "display_name": "Python 3",
   "language": "python",
   "name": "python3"
  },
  "language_info": {
   "codemirror_mode": {
    "name": "ipython",
    "version": 3
   },
   "file_extension": ".py",
   "mimetype": "text/x-python",
   "name": "python",
   "nbconvert_exporter": "python",
   "pygments_lexer": "ipython3",
   "version": "3.6.5"
  }
 },
 "nbformat": 4,
 "nbformat_minor": 2
}
