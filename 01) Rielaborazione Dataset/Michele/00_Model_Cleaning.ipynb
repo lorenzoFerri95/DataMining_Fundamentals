{
 "cells": [
  {
   "cell_type": "markdown",
   "metadata": {},
   "source": [
    "# Rielaborazione dell'attributo \"Model\""
   ]
  },
  {
   "cell_type": "code",
   "execution_count": 1,
   "metadata": {
    "scrolled": true
   },
   "outputs": [],
   "source": [
    "%matplotlib inline\n",
    "import math\n",
    "import numpy as np\n",
    "import pandas as pd\n",
    "import scipy.stats as stats\n",
    "import matplotlib.pyplot as plt\n",
    "import re\n",
    "\n",
    "from collections import defaultdict\n",
    "from scipy.stats.stats import pearsonr\n",
    "\n",
    "dfTest = pd.read_csv('./baseTest.csv') \n",
    "dfTrain = pd.read_csv('./baseTrain.csv') "
   ]
  },
  {
   "cell_type": "code",
   "execution_count": 6,
   "metadata": {},
   "outputs": [
    {
     "data": {
      "text/plain": [
       "779"
      ]
     },
     "execution_count": 6,
     "metadata": {},
     "output_type": "execute_result"
    }
   ],
   "source": [
    "#number of starting classes 1029/59000 sample 57 sample per class on average.\n",
    "listTest=set(dfTest['Model'].unique())\n",
    "listTrain=set(dfTrain['Model'].unique())\n",
    "len(listTest.intersection(listTrain))\n",
    "len(listTest)\n",
    "\n",
    "#listTest=set(dft['SubModel'].unique())\n",
    "#listTrain=set(dft['SubModel'].unique())\n",
    "#len(listTest.intersection(listTrain))\n",
    "#len(listTest)"
   ]
  },
  {
   "cell_type": "code",
   "execution_count": 3,
   "metadata": {},
   "outputs": [],
   "source": [
    "rows=df.shape[0]\n",
    "for index, row in df.iterrows():\n",
    "    myList=row['Model'].split()\n",
    "    newList=[]\n",
    "    for index1, item in enumerate(myList):\n",
    "        if index1==0 and str(item)=='3.2' and (myList[1]=='TL' or myList[1]=='CL'):\n",
    "            newList.append('')\n",
    "        else:\n",
    "            newList.append(item)\n",
    "\n",
    "    newString=\" \".join(x for x in newList if x!='')\n",
    "    df.iat[index, 7]=newString"
   ]
  },
  {
   "cell_type": "code",
   "execution_count": 4,
   "metadata": {},
   "outputs": [],
   "source": [
    "#l=list(df['Model'].unique())\n",
    "#sorted(l)"
   ]
  },
  {
   "cell_type": "code",
   "execution_count": 5,
   "metadata": {},
   "outputs": [],
   "source": [
    "for index, row in df.iterrows():\n",
    "    myList=row['Model'].split()\n",
    "    newList=[]\n",
    "    for index1, item in enumerate(myList):\n",
    "        if str(item)=='TL' and len(myList)<2:\n",
    "            newList.append('TL')\n",
    "            newList.append('3.2L')\n",
    "        else:\n",
    "            newList.append(item)\n",
    "\n",
    "    newString=\" \".join(x for x in newList if x!='')\n",
    "    df.iat[index, 7]=newString"
   ]
  },
  {
   "cell_type": "code",
   "execution_count": 6,
   "metadata": {},
   "outputs": [],
   "source": [
    "#l=list(df['Model'].unique())\n",
    "#sorted(l)"
   ]
  },
  {
   "cell_type": "code",
   "execution_count": 7,
   "metadata": {},
   "outputs": [],
   "source": [
    "df['RealModel']=['' for i in range(0,df.shape[0])]\n",
    "#df.shape[1]\n",
    "#df.info()"
   ]
  },
  {
   "cell_type": "code",
   "execution_count": 8,
   "metadata": {},
   "outputs": [],
   "source": [
    "dic=['5','350','MX-5','EXT','AVENUE','X','FE','SPYDER','XL','HUNDRED','UTILITY','SPORT','CARLO','AM','MARQUIS','PRIX','VITARA','HYBRID','MAXX','CHEROKEE','VICTORIA','SOLARA','RUNNER','RAM','SIERRA','SILVERADO','SABRE','SERIES','&','CAR','CRUISER']\n",
    "\n",
    "for index, row in df.iterrows():\n",
    "    myList=row['Model'].split()\n",
    "    newList=[]\n",
    "    for index1, item in enumerate(myList):\n",
    "        if index1==0:\n",
    "            newList.append(item)\n",
    "        \n",
    "        if (index1==1 and str(item) in dic):\n",
    "            newList.append(item)\n",
    "        \n",
    "        if(index1==2 and newList[-1]=='&' and str(item)=='COUNTRY'):\n",
    "            newList.append(item)\n",
    "\n",
    "    newString=\" \".join(x for x in newList if x!='')\n",
    "    df.iat[index, 34]=newString"
   ]
  },
  {
   "cell_type": "code",
   "execution_count": 9,
   "metadata": {
    "scrolled": false
   },
   "outputs": [],
   "source": [
    "#list(df['RealModel'].unique())\n"
   ]
  },
  {
   "cell_type": "code",
   "execution_count": 10,
   "metadata": {},
   "outputs": [],
   "source": [
    "listMod=list(df['RealModel'].unique())\n",
    "myModelSet=set()\n",
    "for x in listMod:\n",
    "    s=x.split()\n",
    "    for y in s:\n",
    "        myModelSet.add(y)\n",
    "\n",
    "myModelList=list(myModelSet)\n",
    "\n",
    "for index, row in df.iterrows():\n",
    "    myList=row['Model'].split()\n",
    "    newList=[]\n",
    "    for index1, item in enumerate(myList):\n",
    "        if str(item) not in myModelList:\n",
    "            newList.append(item)\n",
    "            \n",
    "        if str(item)=='4' and index!=0:\n",
    "            newList.append(item)\n",
    "            \n",
    "            \n",
    "    newString=\" \".join(x for x in newList if x!='')\n",
    "    df.iat[index, 7]=newString"
   ]
  },
  {
   "cell_type": "code",
   "execution_count": 11,
   "metadata": {},
   "outputs": [],
   "source": [
    "#a = df['Model'].unique()\n",
    "#sorted(a)"
   ]
  },
  {
   "cell_type": "code",
   "execution_count": 12,
   "metadata": {},
   "outputs": [],
   "source": [
    "df['Wheeldrive']=np.nan\n",
    "df['Wheeldrive']=['' for i in range(0,df.shape[0])]\n",
    "df.shape[1]\n",
    "\n",
    "\n",
    "dic=['2WD','4WD','FWD','AWD','RWD']\n",
    "\n",
    "for index, row in df.iterrows():\n",
    "    myList=row['Model'].split()\n",
    "    newList=[]\n",
    "    for index1, item in enumerate(myList):\n",
    "        if item in dic:\n",
    "            newList.append(item)\n",
    "            \n",
    "    newString=\" \".join(x for x in newList if x!='')\n",
    "    df.iat[index, 35]=newString"
   ]
  },
  {
   "cell_type": "code",
   "execution_count": 13,
   "metadata": {},
   "outputs": [],
   "source": [
    "listMod=list(df['Wheeldrive'].unique())\n",
    "myModelSet=set()\n",
    "for x in listMod:\n",
    "    s=x.split()\n",
    "    for y in s:\n",
    "        myModelSet.add(y)\n",
    "\n",
    "myModelList=list(myModelSet)\n",
    "\n",
    "for index, row in df.iterrows():\n",
    "    myList=row['Model'].split()\n",
    "    newList=[]\n",
    "    for index1, item in enumerate(myList):\n",
    "        if str(item) not in myModelList:\n",
    "            newList.append(item)\n",
    "            \n",
    "    newString=\" \".join(x for x in newList if x!='')\n",
    "    df.iat[index, 7]=newString"
   ]
  },
  {
   "cell_type": "code",
   "execution_count": 14,
   "metadata": {},
   "outputs": [],
   "source": [
    "#df.head()"
   ]
  },
  {
   "cell_type": "code",
   "execution_count": 15,
   "metadata": {},
   "outputs": [],
   "source": [
    "for index, row in df.iterrows():\n",
    "    myList=row['Model'].split()\n",
    "    newList=[]\n",
    "    for index1, item in enumerate(myList):\n",
    "        if(item=='I' or item=='I-4'):\n",
    "            newList.append('I4')\n",
    "        if(item=='I-6'):\n",
    "            newList.append('I6')      \n",
    "        if(item!='4' and item!='I' and item!='I-4' and item!='I-6'):\n",
    "            newList.append(item)\n",
    "            \n",
    "    newString=\" \".join(x for x in newList)\n",
    "    df.iat[index, 7]=newString"
   ]
  },
  {
   "cell_type": "code",
   "execution_count": 16,
   "metadata": {},
   "outputs": [],
   "source": [
    "for index, row in df.iterrows():\n",
    "    myList=row['Model'].split()\n",
    "    newList=[]\n",
    "    for index1, item in enumerate(myList):\n",
    "        if(item=='V' or item=='6'):\n",
    "            newList.append('V6')\n",
    "        if(item!='V' and item!='6' and item!='V6'):\n",
    "            newList.append(item)\n",
    "            \n",
    "    newString=\" \".join(x for x in newList)\n",
    "    df.iat[index, 7]=newString"
   ]
  },
  {
   "cell_type": "code",
   "execution_count": 17,
   "metadata": {},
   "outputs": [],
   "source": [
    "for index, row in df.iterrows():\n",
    "    myList=row['Model'].split()\n",
    "    newList=[]\n",
    "    for index1, item in enumerate(myList):\n",
    "        match=re.search('^\\d\\.[0-9]+$',item)\n",
    "        if(match!=None):\n",
    "            y='L'\n",
    "            myList[index1]=item+y\n",
    "            \n",
    "        match=re.search('^\\d\\.$',item)\n",
    "        if(match!=None):\n",
    "            y='0L'\n",
    "            myList[index1]=item+y\n",
    "            \n",
    "    newString=\" \".join(x for x in myList)\n",
    "    df.iat[index, 7]=newString"
   ]
  },
  {
   "cell_type": "code",
   "execution_count": 18,
   "metadata": {},
   "outputs": [],
   "source": [
    "dic=['EFI','SFI','MPI','SPI','DOHC','SMPI','SOHC','SEFI']\n",
    "\n",
    "for index, row in df.iterrows():\n",
    "    myList=row['Model'].split()\n",
    "    newList=[]\n",
    "    for index1, item in enumerate(myList):      \n",
    "        match=re.search('^\\d\\.[0-9]+L$',item)\n",
    "        if(match!=None):\n",
    "            newList.append(item)\n",
    "            \n",
    "        match=re.search('^V\\d$',item)\n",
    "        if(match!=None):\n",
    "            newList.append(item)\n",
    "            \n",
    "        match=re.search('\\dC$',item)\n",
    "        if(match!=None):\n",
    "            newList.append(item)\n",
    "          \n",
    "        if(item in dic):\n",
    "            newList.append(item)\n",
    "        \n",
    "    newString=\" \".join(x for x in newList)\n",
    "    df.iat[index, 7]=newString"
   ]
  },
  {
   "cell_type": "code",
   "execution_count": 19,
   "metadata": {},
   "outputs": [],
   "source": [
    "for index, row in df.iterrows():\n",
    "    myList=row['Model'].split()\n",
    "    newList=[]\n",
    "    litri=False\n",
    "    V=False\n",
    "    for index1, item in enumerate(myList): \n",
    "        match=re.search('^\\d\\.[0-9]+L$',item)\n",
    "        if(match!=None and litri==False):\n",
    "            newList.append(item)\n",
    "            litri=True\n",
    "            \n",
    "        match=re.search('^V\\d$',item)\n",
    "        if(match!=None and V==False):\n",
    "            newList.append(item)\n",
    "            V=True\n",
    "            \n",
    "        match=re.search('\\dC$',item)\n",
    "        if(match!=None):\n",
    "            newList.append(item)\n",
    "          \n",
    "        if(item in dic):\n",
    "            newList.append(item)\n",
    "        \n",
    "    newString=\" \".join(x for x in newList)\n",
    "    df.iat[index, 7]=newString"
   ]
  },
  {
   "cell_type": "code",
   "execution_count": 20,
   "metadata": {},
   "outputs": [
    {
     "data": {
      "text/plain": [
       "['',\n",
       " '1.5L EFI',\n",
       " '1.5L EFI DOHC',\n",
       " '1.6L',\n",
       " '1.6L DOHC',\n",
       " '1.6L EFI',\n",
       " '1.6L MPI',\n",
       " '1.7L',\n",
       " '1.7L MPI',\n",
       " '1.8L',\n",
       " '1.8L EFI',\n",
       " '1.8L MPI',\n",
       " '1.9L',\n",
       " '1.9L SFI',\n",
       " '2.0L',\n",
       " '2.0L EFI',\n",
       " '2.0L MPI',\n",
       " '2.0L SFI',\n",
       " '2.0L SPI',\n",
       " '2.2L',\n",
       " '2.2L EFI',\n",
       " '2.2L MPI',\n",
       " '2.3L',\n",
       " '2.3L DOHC',\n",
       " '2.3L MPI',\n",
       " '2.3L SFI',\n",
       " '2.4L',\n",
       " '2.4L EFI',\n",
       " '2.4L MPI',\n",
       " '2.5L',\n",
       " '2.5L EFI',\n",
       " '2.5L MPI',\n",
       " '2.7L',\n",
       " '2.7L MPI',\n",
       " '2.7L SFI',\n",
       " '2.7L V6',\n",
       " '3.0L',\n",
       " '3.0L EFI',\n",
       " '3.0L MPI',\n",
       " '3.0L SFI',\n",
       " '3.0L V6',\n",
       " '3.1L',\n",
       " '3.2L',\n",
       " '3.2L SFI',\n",
       " '3.2L V6',\n",
       " '3.3L',\n",
       " '3.3L V6',\n",
       " '3.4L',\n",
       " '3.4L EFI',\n",
       " '3.4L MPI',\n",
       " '3.4L SFI',\n",
       " '3.4L V6',\n",
       " '3.5L',\n",
       " '3.5L EFI',\n",
       " '3.5L MPI',\n",
       " '3.5L SFI',\n",
       " '3.5L V6',\n",
       " '3.7L',\n",
       " '3.7L V6',\n",
       " '3.8L',\n",
       " '3.8L MPI',\n",
       " '3.8L SFI',\n",
       " '3.9L',\n",
       " '3.9L SFI',\n",
       " '4.0L',\n",
       " '4.0L V6',\n",
       " '4.2L',\n",
       " '4.2L SPI',\n",
       " '4.6L V6',\n",
       " '4.6L V8',\n",
       " '4.6L V8 EFI',\n",
       " '4.8L V8',\n",
       " '4C',\n",
       " '4C 2.0L',\n",
       " '4C 2.0L EFI',\n",
       " '4C 2.2L',\n",
       " '4C 2.2L MPI',\n",
       " '4C 2.3L',\n",
       " '4C 2.3L EFI',\n",
       " '4C 2.4L',\n",
       " '4C 2.4L EFI',\n",
       " '4C 2.4L MPI',\n",
       " '4C 2.4L SFI',\n",
       " '5.0L',\n",
       " '5.3L V8',\n",
       " '5C',\n",
       " '6C',\n",
       " '6C 4.0L',\n",
       " '6C 4.2L',\n",
       " 'V6',\n",
       " 'V8',\n",
       " 'V8 4.0L',\n",
       " 'V8 4.6L',\n",
       " 'V8 4.7L',\n",
       " 'V8 4.8L',\n",
       " 'V8 5.0L',\n",
       " 'V8 5.3L',\n",
       " 'V8 5.4L',\n",
       " 'V8 5.7L',\n",
       " 'V8 5.9L',\n",
       " 'V8 SEFI']"
      ]
     },
     "execution_count": 20,
     "metadata": {},
     "output_type": "execute_result"
    }
   ],
   "source": [
    "a = df['Model'].unique()\n",
    "sorted(a)"
   ]
  },
  {
   "cell_type": "code",
   "execution_count": 21,
   "metadata": {
    "scrolled": true
   },
   "outputs": [
    {
     "data": {
      "text/plain": [
       "['1500 RAM',\n",
       " '1500 SIERRA',\n",
       " '1500 SILVERADO',\n",
       " '1500HD SIERRA',\n",
       " '1500HD SILVERADO',\n",
       " '2500 RAM',\n",
       " '300',\n",
       " '300C',\n",
       " '300M',\n",
       " '350Z',\n",
       " '4 RUNNER',\n",
       " '626',\n",
       " 'ACCENT',\n",
       " 'ACCORD',\n",
       " 'AERIO',\n",
       " 'ALERO',\n",
       " 'ALTIMA',\n",
       " 'AMANTI',\n",
       " 'ARMADA',\n",
       " 'ASCENDER',\n",
       " 'AURA',\n",
       " 'AVALANCHE',\n",
       " 'AVALON',\n",
       " 'AVENGER',\n",
       " 'AVEO',\n",
       " 'AVIATOR',\n",
       " 'AXIOM',\n",
       " 'AZERA',\n",
       " 'B2300',\n",
       " 'B3000',\n",
       " 'BEETLE',\n",
       " 'BONNEVILLE',\n",
       " 'BRAVADA',\n",
       " 'CALIBER',\n",
       " 'CAMARO',\n",
       " 'CAMRY',\n",
       " 'CAMRY SOLARA',\n",
       " 'CANYON',\n",
       " 'CARAVAN',\n",
       " 'CAVALIER',\n",
       " 'CENTURY',\n",
       " 'CHARGER',\n",
       " 'CIVIC',\n",
       " 'CL',\n",
       " 'COBALT',\n",
       " 'COLORADO',\n",
       " 'COMMANDER',\n",
       " 'COMPASS',\n",
       " 'CONCORDE',\n",
       " 'CONTINENTAL',\n",
       " 'COOPER',\n",
       " 'COROLLA',\n",
       " 'COUPE',\n",
       " 'CR-V',\n",
       " 'CROWN VICTORIA',\n",
       " 'CTS',\n",
       " 'CX-7',\n",
       " 'DAKOTA',\n",
       " 'DURANGO',\n",
       " 'ECLIPSE',\n",
       " 'EDGE',\n",
       " 'ELANTRA',\n",
       " 'ELEMENT',\n",
       " 'ENDEAVOR',\n",
       " 'ENVOY',\n",
       " 'ENVOY XL',\n",
       " 'EQUINOX',\n",
       " 'ES300',\n",
       " 'ESCALADE',\n",
       " 'ESCAPE',\n",
       " 'ESCORT',\n",
       " 'EXPEDITION',\n",
       " 'EXPLORER',\n",
       " 'F150',\n",
       " 'F250',\n",
       " 'FIVE HUNDRED',\n",
       " 'FJ CRUISER',\n",
       " 'FOCUS',\n",
       " 'FORENZA',\n",
       " 'FORESTER',\n",
       " 'FREESTAR',\n",
       " 'FREESTYLE',\n",
       " 'FRONTIER',\n",
       " 'FUSION',\n",
       " 'G35',\n",
       " 'G5',\n",
       " 'G6',\n",
       " 'GALANT',\n",
       " 'GRAND AM',\n",
       " 'GRAND CHEROKEE',\n",
       " 'GRAND MARQUIS',\n",
       " 'GRAND PRIX',\n",
       " 'GRAND VITARA',\n",
       " 'GX470',\n",
       " 'HHR',\n",
       " 'HIGHLANDER',\n",
       " 'I30',\n",
       " 'IMPALA',\n",
       " 'INTREPID',\n",
       " 'ION',\n",
       " 'JETTA',\n",
       " 'JOURNEY',\n",
       " 'L SERIES',\n",
       " 'LACROSSE',\n",
       " 'LANCER',\n",
       " 'LE SABRE',\n",
       " 'LEGACY',\n",
       " 'LIBERTY',\n",
       " 'LS',\n",
       " 'LUCERNE',\n",
       " 'M35',\n",
       " 'MAGNUM',\n",
       " 'MALIBU',\n",
       " 'MALIBU MAXX',\n",
       " 'MARINER',\n",
       " 'MATRIX',\n",
       " 'MAXIMA',\n",
       " 'MAZDA3',\n",
       " 'MAZDA5',\n",
       " 'MAZDA6',\n",
       " 'MDX',\n",
       " 'MILAN',\n",
       " 'MIRAGE',\n",
       " 'MONTANA',\n",
       " 'MONTE CARLO',\n",
       " 'MONTEGO',\n",
       " 'MONTEREY',\n",
       " 'MONTERO',\n",
       " 'MONTERO SPORT',\n",
       " 'MOUNTAINEER',\n",
       " 'MPV',\n",
       " 'MURANO',\n",
       " 'MUSTANG',\n",
       " 'NAVIGATOR',\n",
       " 'NEON',\n",
       " 'NITRO',\n",
       " 'ODYSSEY',\n",
       " 'OPTIMA',\n",
       " 'OUTBACK',\n",
       " 'OUTLANDER',\n",
       " 'PACIFICA',\n",
       " 'PARK AVENUE',\n",
       " 'PATHFINDER',\n",
       " 'PATRIOT',\n",
       " 'PILOT',\n",
       " 'PRIZM',\n",
       " 'PROTEGE',\n",
       " 'PROTEGE 5',\n",
       " 'PT CRUISER',\n",
       " 'QUEST',\n",
       " 'RAIDER',\n",
       " 'RAINIER',\n",
       " 'RANGER',\n",
       " 'RAV-4',\n",
       " 'REGAL',\n",
       " 'RELAY',\n",
       " 'RENDEZVOUS',\n",
       " 'RENO',\n",
       " 'RIO',\n",
       " 'RIO 5',\n",
       " 'RONDO',\n",
       " 'RX300',\n",
       " 'S SERIES',\n",
       " 'S10',\n",
       " 'S40',\n",
       " 'SABLE',\n",
       " 'SANTA FE',\n",
       " 'SEBRING',\n",
       " 'SEDONA',\n",
       " 'SENTRA',\n",
       " 'SEQUOIA',\n",
       " 'SILHOUETTE',\n",
       " 'SOLSTICE',\n",
       " 'SONATA',\n",
       " 'SONOMA',\n",
       " 'SORENTO',\n",
       " 'SPECTRA',\n",
       " 'SPECTRA 5',\n",
       " 'SPORTAGE',\n",
       " 'SRX',\n",
       " 'STRATUS',\n",
       " 'SUBURBAN',\n",
       " 'SUNFIRE',\n",
       " 'SX4',\n",
       " 'TACOMA',\n",
       " 'TAHOE',\n",
       " 'TAURUS',\n",
       " 'TAURUS X',\n",
       " 'TC',\n",
       " 'TERRAZA',\n",
       " 'TIBURON',\n",
       " 'TITAN',\n",
       " 'TL',\n",
       " 'TORRENT',\n",
       " 'TOWN & COUNTRY',\n",
       " 'TOWN CAR',\n",
       " 'TRACKER',\n",
       " 'TRAILBLAZER',\n",
       " 'TRAILBLAZER EXT',\n",
       " 'TRIBUTE',\n",
       " 'TSX',\n",
       " 'TUCSON',\n",
       " 'TUNDRA',\n",
       " 'UPLANDER',\n",
       " 'VENTURE',\n",
       " 'VERONA',\n",
       " 'VERSA',\n",
       " 'VIBE',\n",
       " 'VOYAGER',\n",
       " 'VUE',\n",
       " 'WINDSTAR',\n",
       " 'WRANGLER',\n",
       " 'XA',\n",
       " 'XB',\n",
       " 'XD',\n",
       " 'XG',\n",
       " 'XG 350',\n",
       " 'XL-7',\n",
       " 'XTERRA',\n",
       " 'YARIS',\n",
       " 'YUKON',\n",
       " 'YUKON XL',\n",
       " 'ZEPHYR']"
      ]
     },
     "execution_count": 21,
     "metadata": {},
     "output_type": "execute_result"
    }
   ],
   "source": [
    "a = df['RealModel'].unique()\n",
    "sorted(a)"
   ]
  },
  {
   "cell_type": "code",
   "execution_count": 22,
   "metadata": {},
   "outputs": [
    {
     "data": {
      "text/plain": [
       "101"
      ]
     },
     "execution_count": 22,
     "metadata": {},
     "output_type": "execute_result"
    }
   ],
   "source": [
    "df['Model'].nunique()"
   ]
  },
  {
   "cell_type": "code",
   "execution_count": 23,
   "metadata": {},
   "outputs": [],
   "source": [
    "'2WD','4WD','FWD','AWD','RWD'\n",
    "for index, row in df.iterrows():\n",
    "    if(row['Wheeldrive']=='FWD' or row['Wheeldrive']=='RWD' or row['Wheeldrive']=='2WD'):\n",
    "        df.iat[index, 35]='2WD'\n",
    "    \n",
    "    if(row['Wheeldrive']=='AWD'):\n",
    "        df.iat[index, 35]='4WD'"
   ]
  },
  {
   "cell_type": "code",
   "execution_count": 24,
   "metadata": {},
   "outputs": [
    {
     "data": {
      "text/plain": [
       "3"
      ]
     },
     "execution_count": 24,
     "metadata": {},
     "output_type": "execute_result"
    }
   ],
   "source": [
    "df['Wheeldrive'].nunique()"
   ]
  },
  {
   "cell_type": "code",
   "execution_count": 25,
   "metadata": {},
   "outputs": [],
   "source": [
    "df.to_csv(path_or_buf='model.csv' ,index=False)"
   ]
  },
  {
   "cell_type": "code",
   "execution_count": 26,
   "metadata": {},
   "outputs": [],
   "source": [
    "df = pd.read_csv('model.csv') "
   ]
  },
  {
   "cell_type": "code",
   "execution_count": 27,
   "metadata": {},
   "outputs": [
    {
     "name": "stdout",
     "output_type": "stream",
     "text": [
      "<class 'pandas.core.frame.DataFrame'>\n",
      "RangeIndex: 14597 entries, 0 to 14596\n",
      "Data columns (total 36 columns):\n",
      "RefId                                14597 non-null int64\n",
      "IsBadBuy                             14597 non-null int64\n",
      "PurchDate                            14597 non-null object\n",
      "Auction                              14597 non-null object\n",
      "VehYear                              14597 non-null int64\n",
      "VehicleAge                           14597 non-null int64\n",
      "Make                                 14597 non-null object\n",
      "Model                                7637 non-null object\n",
      "Trim                                 14148 non-null object\n",
      "SubModel                             14596 non-null object\n",
      "Color                                14596 non-null object\n",
      "Transmission                         14596 non-null object\n",
      "WheelTypeID                          14001 non-null float64\n",
      "WheelType                            14000 non-null object\n",
      "VehOdo                               14597 non-null int64\n",
      "Nationality                          14596 non-null object\n",
      "Size                                 14596 non-null object\n",
      "TopThreeAmericanName                 14596 non-null object\n",
      "MMRAcquisitionAuctionAveragePrice    14592 non-null float64\n",
      "MMRAcquisitionAuctionCleanPrice      14592 non-null float64\n",
      "MMRAcquisitionRetailAveragePrice     14592 non-null float64\n",
      "MMRAcquisitonRetailCleanPrice        14592 non-null float64\n",
      "MMRCurrentAuctionAveragePrice        14527 non-null float64\n",
      "MMRCurrentAuctionCleanPrice          14527 non-null float64\n",
      "MMRCurrentRetailAveragePrice         14527 non-null float64\n",
      "MMRCurrentRetailCleanPrice           14527 non-null float64\n",
      "PRIMEUNIT                            736 non-null object\n",
      "AUCGUART                             736 non-null object\n",
      "BYRNO                                14597 non-null int64\n",
      "VNZIP1                               14597 non-null int64\n",
      "VNST                                 14597 non-null object\n",
      "VehBCost                             14597 non-null float64\n",
      "IsOnlineSale                         14597 non-null int64\n",
      "WarrantyCost                         14597 non-null int64\n",
      "RealModel                            14597 non-null object\n",
      "Wheeldrive                           4547 non-null object\n",
      "dtypes: float64(10), int64(9), object(17)\n",
      "memory usage: 4.0+ MB\n"
     ]
    }
   ],
   "source": [
    "df.info()"
   ]
  },
  {
   "cell_type": "code",
   "execution_count": 28,
   "metadata": {},
   "outputs": [
    {
     "data": {
      "text/plain": [
       "2"
      ]
     },
     "execution_count": 28,
     "metadata": {},
     "output_type": "execute_result"
    }
   ],
   "source": [
    "df['Wheeldrive'].nunique()"
   ]
  }
 ],
 "metadata": {
  "kernelspec": {
   "display_name": "Python 3",
   "language": "python",
   "name": "python3"
  },
  "language_info": {
   "codemirror_mode": {
    "name": "ipython",
    "version": 3
   },
   "file_extension": ".py",
   "mimetype": "text/x-python",
   "name": "python",
   "nbconvert_exporter": "python",
   "pygments_lexer": "ipython3",
   "version": "3.6.5"
  }
 },
 "nbformat": 4,
 "nbformat_minor": 2
}
