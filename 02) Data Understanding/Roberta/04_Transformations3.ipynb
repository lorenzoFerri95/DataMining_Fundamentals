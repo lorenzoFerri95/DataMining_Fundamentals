{
 "cells": [
  {
   "cell_type": "markdown",
   "metadata": {},
   "source": [
    "# Trasformazioni\n",
    "\n",
    "prepariamo il Dataset per le analisi successive: Clustering; Classification; Association.\n",
    "\n",
    "1) Clustering:\n",
    "\n",
    "abbiamo bisogno dei soli attributi numerici standardizzati. Inoltre il dataset è troppo grosso, quindi operiamo un Sample su di esso condizionato a raggruppamenti categorici\n",
    "\n",
    "2) Classification:\n",
    "\n",
    "\n",
    "3) Association:"
   ]
  },
  {
   "cell_type": "markdown",
   "metadata": {},
   "source": [
    "** Import DataSet e Librerie Data Understanding **"
   ]
  },
  {
   "cell_type": "code",
   "execution_count": 1,
   "metadata": {},
   "outputs": [],
   "source": [
    "%matplotlib inline\n",
    "import math\n",
    "import numpy as np\n",
    "import pandas as pd\n",
    "import scipy.stats as stats\n",
    "import matplotlib.pyplot as plt\n",
    "\n",
    "from collections import defaultdict\n",
    "from scipy.stats.stats import pearsonr\n",
    "\n",
    "df = pd.read_csv('Training_DU.csv')"
   ]
  },
  {
   "cell_type": "code",
   "execution_count": 2,
   "metadata": {},
   "outputs": [
    {
     "data": {
      "text/plain": [
       "261"
      ]
     },
     "execution_count": 2,
     "metadata": {},
     "output_type": "execute_result"
    }
   ],
   "source": [
    "df['Model'].nunique()"
   ]
  },
  {
   "cell_type": "code",
   "execution_count": 3,
   "metadata": {},
   "outputs": [
    {
     "data": {
      "text/plain": [
       "38"
      ]
     },
     "execution_count": 3,
     "metadata": {},
     "output_type": "execute_result"
    }
   ],
   "source": [
    "df['SubModel'].nunique()"
   ]
  },
  {
   "cell_type": "code",
   "execution_count": 4,
   "metadata": {},
   "outputs": [
    {
     "data": {
      "text/plain": [
       "10"
      ]
     },
     "execution_count": 4,
     "metadata": {},
     "output_type": "execute_result"
    }
   ],
   "source": [
    "df['VehYear'].nunique()"
   ]
  },
  {
   "cell_type": "markdown",
   "metadata": {},
   "source": [
    "** 1) Tasformazioni per il Clustering **"
   ]
  },
  {
   "cell_type": "markdown",
   "metadata": {},
   "source": [
    "Operiamo un Sample sul DataSet condizionato a raggruppamenti categorici"
   ]
  },
  {
   "cell_type": "code",
   "execution_count": 5,
   "metadata": {},
   "outputs": [],
   "source": [
    "def Sample_df(x):\n",
    "    return x.sample(frac=0.1, replace=True, random_state=1)"
   ]
  },
  {
   "cell_type": "code",
   "execution_count": 6,
   "metadata": {},
   "outputs": [],
   "source": [
    "df = df.groupby([df['Model'], df['SubModel'], df['VehYear']]).apply(Sample_df)"
   ]
  },
  {
   "cell_type": "code",
   "execution_count": 36,
   "metadata": {
    "scrolled": false
   },
   "outputs": [
    {
     "data": {
      "text/plain": [
       "VehYear                              0\n",
       "WheelTypeID                          0\n",
       "VehOdo                               0\n",
       "MMRAcquisitionAuctionAveragePrice    0\n",
       "MMRAcquisitionRetailAveragePrice     0\n",
       "MMRCurrentAuctionAveragePrice        0\n",
       "MMRCurrentRetailAveragePrice         0\n",
       "VehBCost                             0\n",
       "WarrantyCost                         0\n",
       "NationalityID                        0\n",
       "MakeID                               0\n",
       "SubModelID                           0\n",
       "dtype: int64"
      ]
     },
     "execution_count": 36,
     "metadata": {},
     "output_type": "execute_result"
    }
   ],
   "source": [
    "df.count()"
   ]
  },
  {
   "cell_type": "code",
   "execution_count": 8,
   "metadata": {
    "scrolled": false
   },
   "outputs": [
    {
     "data": {
      "text/plain": [
       "175"
      ]
     },
     "execution_count": 8,
     "metadata": {},
     "output_type": "execute_result"
    }
   ],
   "source": [
    "df['Model'].nunique()"
   ]
  },
  {
   "cell_type": "code",
   "execution_count": 9,
   "metadata": {},
   "outputs": [
    {
     "data": {
      "text/plain": [
       "24"
      ]
     },
     "execution_count": 9,
     "metadata": {},
     "output_type": "execute_result"
    }
   ],
   "source": [
    "df['SubModel'].nunique()"
   ]
  },
  {
   "cell_type": "code",
   "execution_count": 10,
   "metadata": {},
   "outputs": [
    {
     "data": {
      "text/plain": [
       "9"
      ]
     },
     "execution_count": 10,
     "metadata": {},
     "output_type": "execute_result"
    }
   ],
   "source": [
    "df['VehYear'].nunique()"
   ]
  },
  {
   "cell_type": "markdown",
   "metadata": {},
   "source": [
    "eliminiamo tutti gli attributi non numerici"
   ]
  },
  {
   "cell_type": "code",
   "execution_count": 11,
   "metadata": {
    "scrolled": false
   },
   "outputs": [
    {
     "data": {
      "text/plain": [
       "RefId                                  int64\n",
       "IsBadBuy                               int64\n",
       "PurchDate                             object\n",
       "Auction                               object\n",
       "VehYear                                int64\n",
       "VehicleAge                             int64\n",
       "Make                                  object\n",
       "Engine                                object\n",
       "Trim                                  object\n",
       "Transmission                          object\n",
       "WheelTypeID                          float64\n",
       "VehOdo                                 int64\n",
       "Nationality                           object\n",
       "Size                                  object\n",
       "MMRAcquisitionAuctionAveragePrice    float64\n",
       "MMRAcquisitionRetailAveragePrice     float64\n",
       "MMRCurrentAuctionAveragePrice        float64\n",
       "MMRCurrentRetailAveragePrice         float64\n",
       "BYRNO                                  int64\n",
       "VNZIP1                                 int64\n",
       "VNST                                  object\n",
       "VehBCost                             float64\n",
       "IsOnlineSale                           int64\n",
       "WarrantyCost                           int64\n",
       "Model                                 object\n",
       "Doors                                 object\n",
       "SubModel                              object\n",
       "dtype: object"
      ]
     },
     "execution_count": 11,
     "metadata": {},
     "output_type": "execute_result"
    }
   ],
   "source": [
    "df.dtypes"
   ]
  },
  {
   "cell_type": "code",
   "execution_count": 12,
   "metadata": {},
   "outputs": [],
   "source": [
    "del df['RefId']\n",
    "del df['IsBadBuy']\n",
    "del df['PurchDate']\n",
    "del df['VehicleAge'] #aggiunto così conserviamo solo uno, ricordiamoci di inserire che lo aliminiamo poichè dato ridondante\n",
    "del df['Auction']\n",
    "#del df['Make']\n",
    "del df['Engine']\n",
    "del df['Trim']\n",
    "del df['Transmission']\n",
    "del df['Size']\n",
    "del df['BYRNO']\n",
    "del df['VNZIP1']\n",
    "del df['VNST']\n",
    "del df['IsOnlineSale']\n",
    "del df['Model']\n",
    "#del df['SubModel']\n",
    "del df['Doors']\n",
    "#eliminato i codici che cancellavano le variabili WheelTypeID,Transmission,Nationality\n",
    "#per trasformarle in variabili numeriche e usarle per fare diverse prove con la k-means analisi "
   ]
  },
  {
   "cell_type": "markdown",
   "metadata": {},
   "source": [
    "# Trasformazioni variabili categoriche in numeriche."
   ]
  },
  {
   "cell_type": "code",
   "execution_count": 13,
   "metadata": {},
   "outputs": [],
   "source": [
    "#1 TRANSMISSION\n",
    "#df['Transmission'].unique()"
   ]
  },
  {
   "cell_type": "code",
   "execution_count": 14,
   "metadata": {},
   "outputs": [],
   "source": [
    "#transm = sorted(df['Transmission'].unique())\n",
    "#transm_mapping = dict(zip(transm, range(0, len(transm) + 1)))\n",
    "#transm_mapping"
   ]
  },
  {
   "cell_type": "code",
   "execution_count": 15,
   "metadata": {},
   "outputs": [],
   "source": [
    "#df['TransmissionID'] = df['Transmission'].map(transm_mapping).astype(int)\n",
    "#df[['Transmission', 'TransmissionID']].head()"
   ]
  },
  {
   "cell_type": "code",
   "execution_count": 16,
   "metadata": {},
   "outputs": [
    {
     "data": {
      "text/plain": [
       "array(['AMERICAN', 'NOT AMERICA'], dtype=object)"
      ]
     },
     "execution_count": 16,
     "metadata": {},
     "output_type": "execute_result"
    }
   ],
   "source": [
    "#2 NATIONALITY\n",
    "df['Nationality'].unique()"
   ]
  },
  {
   "cell_type": "code",
   "execution_count": 17,
   "metadata": {},
   "outputs": [
    {
     "data": {
      "text/plain": [
       "{'AMERICAN': 0, 'NOT AMERICA': 1}"
      ]
     },
     "execution_count": 17,
     "metadata": {},
     "output_type": "execute_result"
    }
   ],
   "source": [
    "nation = sorted(df['Nationality'].unique())\n",
    "nation_mapping = dict(zip(nation, range(0, len(nation) + 1)))\n",
    "nation_mapping"
   ]
  },
  {
   "cell_type": "code",
   "execution_count": 18,
   "metadata": {
    "scrolled": true
   },
   "outputs": [
    {
     "data": {
      "text/html": [
       "<div>\n",
       "<style scoped>\n",
       "    .dataframe tbody tr th:only-of-type {\n",
       "        vertical-align: middle;\n",
       "    }\n",
       "\n",
       "    .dataframe tbody tr th {\n",
       "        vertical-align: top;\n",
       "    }\n",
       "\n",
       "    .dataframe thead th {\n",
       "        text-align: right;\n",
       "    }\n",
       "</style>\n",
       "<table border=\"1\" class=\"dataframe\">\n",
       "  <thead>\n",
       "    <tr style=\"text-align: right;\">\n",
       "      <th></th>\n",
       "      <th></th>\n",
       "      <th></th>\n",
       "      <th></th>\n",
       "      <th>Nationality</th>\n",
       "      <th>NationalityID</th>\n",
       "    </tr>\n",
       "    <tr>\n",
       "      <th>Model</th>\n",
       "      <th>SubModel</th>\n",
       "      <th>VehYear</th>\n",
       "      <th></th>\n",
       "      <th></th>\n",
       "      <th></th>\n",
       "    </tr>\n",
       "  </thead>\n",
       "  <tbody>\n",
       "    <tr>\n",
       "      <th rowspan=\"5\" valign=\"top\">1500 RAM</th>\n",
       "      <th rowspan=\"5\" valign=\"top\">QUAD CAB</th>\n",
       "      <th rowspan=\"5\" valign=\"top\">2002</th>\n",
       "      <th>44767</th>\n",
       "      <td>AMERICAN</td>\n",
       "      <td>0</td>\n",
       "    </tr>\n",
       "    <tr>\n",
       "      <th>52892</th>\n",
       "      <td>AMERICAN</td>\n",
       "      <td>0</td>\n",
       "    </tr>\n",
       "    <tr>\n",
       "      <th>14411</th>\n",
       "      <td>AMERICAN</td>\n",
       "      <td>0</td>\n",
       "    </tr>\n",
       "    <tr>\n",
       "      <th>8599</th>\n",
       "      <td>AMERICAN</td>\n",
       "      <td>0</td>\n",
       "    </tr>\n",
       "    <tr>\n",
       "      <th>9833</th>\n",
       "      <td>AMERICAN</td>\n",
       "      <td>0</td>\n",
       "    </tr>\n",
       "  </tbody>\n",
       "</table>\n",
       "</div>"
      ],
      "text/plain": [
       "                                Nationality  NationalityID\n",
       "Model    SubModel VehYear                                 \n",
       "1500 RAM QUAD CAB 2002    44767    AMERICAN              0\n",
       "                          52892    AMERICAN              0\n",
       "                          14411    AMERICAN              0\n",
       "                          8599     AMERICAN              0\n",
       "                          9833     AMERICAN              0"
      ]
     },
     "execution_count": 18,
     "metadata": {},
     "output_type": "execute_result"
    }
   ],
   "source": [
    "df['NationalityID'] = df['Nationality'].map(nation_mapping).astype(int)\n",
    "df[['Nationality', 'NationalityID']].head()"
   ]
  },
  {
   "cell_type": "code",
   "execution_count": 19,
   "metadata": {},
   "outputs": [
    {
     "data": {
      "text/plain": [
       "28"
      ]
     },
     "execution_count": 19,
     "metadata": {},
     "output_type": "execute_result"
    }
   ],
   "source": [
    "#3 Make\n",
    "df['Make'].nunique()"
   ]
  },
  {
   "cell_type": "code",
   "execution_count": 20,
   "metadata": {},
   "outputs": [
    {
     "data": {
      "text/plain": [
       "{'ACURA': 0,\n",
       " 'BUICK': 1,\n",
       " 'CADILLAC': 2,\n",
       " 'CHEVROLET': 3,\n",
       " 'CHRYSLER': 4,\n",
       " 'DODGE': 5,\n",
       " 'FORD': 6,\n",
       " 'GMC': 7,\n",
       " 'HONDA': 8,\n",
       " 'HYUNDAI': 9,\n",
       " 'INFINITI': 10,\n",
       " 'ISUZU': 11,\n",
       " 'JEEP': 12,\n",
       " 'KIA': 13,\n",
       " 'LEXUS': 14,\n",
       " 'LINCOLN': 15,\n",
       " 'MAZDA': 16,\n",
       " 'MERCURY': 17,\n",
       " 'MITSUBISHI': 18,\n",
       " 'NISSAN': 19,\n",
       " 'OLDSMOBILE': 20,\n",
       " 'PONTIAC': 21,\n",
       " 'SATURN': 22,\n",
       " 'SCION': 23,\n",
       " 'SUZUKI': 24,\n",
       " 'TOYOTA': 25,\n",
       " 'VOLKSWAGEN': 26,\n",
       " 'VOLVO': 27}"
      ]
     },
     "execution_count": 20,
     "metadata": {},
     "output_type": "execute_result"
    }
   ],
   "source": [
    "making = sorted(df['Make'].unique())\n",
    "making_mapping = dict(zip(making, range(0, len(making) + 1)))\n",
    "making_mapping"
   ]
  },
  {
   "cell_type": "code",
   "execution_count": 21,
   "metadata": {},
   "outputs": [
    {
     "data": {
      "text/html": [
       "<div>\n",
       "<style scoped>\n",
       "    .dataframe tbody tr th:only-of-type {\n",
       "        vertical-align: middle;\n",
       "    }\n",
       "\n",
       "    .dataframe tbody tr th {\n",
       "        vertical-align: top;\n",
       "    }\n",
       "\n",
       "    .dataframe thead th {\n",
       "        text-align: right;\n",
       "    }\n",
       "</style>\n",
       "<table border=\"1\" class=\"dataframe\">\n",
       "  <thead>\n",
       "    <tr style=\"text-align: right;\">\n",
       "      <th></th>\n",
       "      <th></th>\n",
       "      <th></th>\n",
       "      <th></th>\n",
       "      <th>Make</th>\n",
       "      <th>MakeID</th>\n",
       "    </tr>\n",
       "    <tr>\n",
       "      <th>Model</th>\n",
       "      <th>SubModel</th>\n",
       "      <th>VehYear</th>\n",
       "      <th></th>\n",
       "      <th></th>\n",
       "      <th></th>\n",
       "    </tr>\n",
       "  </thead>\n",
       "  <tbody>\n",
       "    <tr>\n",
       "      <th rowspan=\"5\" valign=\"top\">1500 RAM</th>\n",
       "      <th rowspan=\"5\" valign=\"top\">QUAD CAB</th>\n",
       "      <th rowspan=\"5\" valign=\"top\">2002</th>\n",
       "      <th>44767</th>\n",
       "      <td>DODGE</td>\n",
       "      <td>5</td>\n",
       "    </tr>\n",
       "    <tr>\n",
       "      <th>52892</th>\n",
       "      <td>DODGE</td>\n",
       "      <td>5</td>\n",
       "    </tr>\n",
       "    <tr>\n",
       "      <th>14411</th>\n",
       "      <td>DODGE</td>\n",
       "      <td>5</td>\n",
       "    </tr>\n",
       "    <tr>\n",
       "      <th>8599</th>\n",
       "      <td>DODGE</td>\n",
       "      <td>5</td>\n",
       "    </tr>\n",
       "    <tr>\n",
       "      <th>9833</th>\n",
       "      <td>DODGE</td>\n",
       "      <td>5</td>\n",
       "    </tr>\n",
       "  </tbody>\n",
       "</table>\n",
       "</div>"
      ],
      "text/plain": [
       "                                  Make  MakeID\n",
       "Model    SubModel VehYear                     \n",
       "1500 RAM QUAD CAB 2002    44767  DODGE       5\n",
       "                          52892  DODGE       5\n",
       "                          14411  DODGE       5\n",
       "                          8599   DODGE       5\n",
       "                          9833   DODGE       5"
      ]
     },
     "execution_count": 21,
     "metadata": {},
     "output_type": "execute_result"
    }
   ],
   "source": [
    "df['MakeID'] = df['Make'].map(making_mapping).astype(int)\n",
    "df[['Make', 'MakeID']].head()"
   ]
  },
  {
   "cell_type": "code",
   "execution_count": 22,
   "metadata": {},
   "outputs": [
    {
     "data": {
      "text/plain": [
       "24"
      ]
     },
     "execution_count": 22,
     "metadata": {},
     "output_type": "execute_result"
    }
   ],
   "source": [
    "#4 SubModel\n",
    "df['SubModel'].nunique()"
   ]
  },
  {
   "cell_type": "code",
   "execution_count": 23,
   "metadata": {},
   "outputs": [
    {
     "data": {
      "text/plain": [
       "{'CONVERTIBLE': 0,\n",
       " 'COUPE': 1,\n",
       " 'COUPE QUAD': 2,\n",
       " 'CREW CAB': 3,\n",
       " 'CROSSOVER': 4,\n",
       " 'CUV': 5,\n",
       " 'EXT CAB': 6,\n",
       " 'HATCHBACK': 7,\n",
       " 'MAZDA3': 8,\n",
       " 'MAZDA5': 9,\n",
       " 'MINIVAN': 10,\n",
       " 'MINIVAN EXT': 11,\n",
       " 'PASSENGER': 12,\n",
       " 'PASSENGER EXT': 13,\n",
       " 'QUAD CAB': 14,\n",
       " 'REG CAB': 15,\n",
       " 'SEDAN': 16,\n",
       " 'SPORT': 17,\n",
       " 'SPORTBACK': 18,\n",
       " 'SUV': 19,\n",
       " 'SUV-PICKUP': 20,\n",
       " 'UTILITY': 21,\n",
       " 'UTILITY SPORT': 22,\n",
       " 'WAGON': 23}"
      ]
     },
     "execution_count": 23,
     "metadata": {},
     "output_type": "execute_result"
    }
   ],
   "source": [
    "submod= sorted(df['SubModel'].unique())\n",
    "submod_mapping = dict(zip(submod, range(0, len(submod) + 1)))\n",
    "submod_mapping"
   ]
  },
  {
   "cell_type": "code",
   "execution_count": 24,
   "metadata": {
    "scrolled": true
   },
   "outputs": [
    {
     "data": {
      "text/html": [
       "<div>\n",
       "<style scoped>\n",
       "    .dataframe tbody tr th:only-of-type {\n",
       "        vertical-align: middle;\n",
       "    }\n",
       "\n",
       "    .dataframe tbody tr th {\n",
       "        vertical-align: top;\n",
       "    }\n",
       "\n",
       "    .dataframe thead th {\n",
       "        text-align: right;\n",
       "    }\n",
       "</style>\n",
       "<table border=\"1\" class=\"dataframe\">\n",
       "  <thead>\n",
       "    <tr style=\"text-align: right;\">\n",
       "      <th></th>\n",
       "      <th></th>\n",
       "      <th></th>\n",
       "      <th></th>\n",
       "      <th>SubModel</th>\n",
       "      <th>SubModelID</th>\n",
       "    </tr>\n",
       "    <tr>\n",
       "      <th>Model</th>\n",
       "      <th>SubModel</th>\n",
       "      <th>VehYear</th>\n",
       "      <th></th>\n",
       "      <th></th>\n",
       "      <th></th>\n",
       "    </tr>\n",
       "  </thead>\n",
       "  <tbody>\n",
       "    <tr>\n",
       "      <th rowspan=\"5\" valign=\"top\">1500 RAM</th>\n",
       "      <th rowspan=\"5\" valign=\"top\">QUAD CAB</th>\n",
       "      <th rowspan=\"5\" valign=\"top\">2002</th>\n",
       "      <th>44767</th>\n",
       "      <td>QUAD CAB</td>\n",
       "      <td>14</td>\n",
       "    </tr>\n",
       "    <tr>\n",
       "      <th>52892</th>\n",
       "      <td>QUAD CAB</td>\n",
       "      <td>14</td>\n",
       "    </tr>\n",
       "    <tr>\n",
       "      <th>14411</th>\n",
       "      <td>QUAD CAB</td>\n",
       "      <td>14</td>\n",
       "    </tr>\n",
       "    <tr>\n",
       "      <th>8599</th>\n",
       "      <td>QUAD CAB</td>\n",
       "      <td>14</td>\n",
       "    </tr>\n",
       "    <tr>\n",
       "      <th>9833</th>\n",
       "      <td>QUAD CAB</td>\n",
       "      <td>14</td>\n",
       "    </tr>\n",
       "  </tbody>\n",
       "</table>\n",
       "</div>"
      ],
      "text/plain": [
       "                                 SubModel  SubModelID\n",
       "Model    SubModel VehYear                            \n",
       "1500 RAM QUAD CAB 2002    44767  QUAD CAB          14\n",
       "                          52892  QUAD CAB          14\n",
       "                          14411  QUAD CAB          14\n",
       "                          8599   QUAD CAB          14\n",
       "                          9833   QUAD CAB          14"
      ]
     },
     "execution_count": 24,
     "metadata": {},
     "output_type": "execute_result"
    }
   ],
   "source": [
    "df['SubModelID'] = df['SubModel'].map(submod_mapping).astype(int)\n",
    "df[['SubModel', 'SubModelID']].head()"
   ]
  },
  {
   "cell_type": "code",
   "execution_count": null,
   "metadata": {},
   "outputs": [],
   "source": [
    "#4 TopThreeAmericanName\n",
    "#df['TopThreeAmericanName'].nunique()"
   ]
  },
  {
   "cell_type": "code",
   "execution_count": null,
   "metadata": {},
   "outputs": [],
   "source": [
    "#top3= sorted(df['TopThreeAmericanName'].unique())\n",
    "#top3_mapping = dict(zip(top3, range(0, len(top3) + 1)))\n",
    "#top3_mapping"
   ]
  },
  {
   "cell_type": "code",
   "execution_count": null,
   "metadata": {},
   "outputs": [],
   "source": [
    "#df['Top3AmerNamID'] = df['TopThreeAmericanName'].map(top3_mapping).astype(int)\n",
    "#df[['TopThreeAmericanName', 'Top3AmerNamID']].head()"
   ]
  },
  {
   "cell_type": "code",
   "execution_count": 25,
   "metadata": {
    "scrolled": false
   },
   "outputs": [
    {
     "data": {
      "text/plain": [
       "VehYear                                int64\n",
       "Make                                  object\n",
       "WheelTypeID                          float64\n",
       "VehOdo                                 int64\n",
       "Nationality                           object\n",
       "MMRAcquisitionAuctionAveragePrice    float64\n",
       "MMRAcquisitionRetailAveragePrice     float64\n",
       "MMRCurrentAuctionAveragePrice        float64\n",
       "MMRCurrentRetailAveragePrice         float64\n",
       "VehBCost                             float64\n",
       "WarrantyCost                           int64\n",
       "SubModel                              object\n",
       "NationalityID                          int32\n",
       "MakeID                                 int32\n",
       "SubModelID                             int32\n",
       "dtype: object"
      ]
     },
     "execution_count": 25,
     "metadata": {},
     "output_type": "execute_result"
    }
   ],
   "source": [
    "df.dtypes"
   ]
  },
  {
   "cell_type": "markdown",
   "metadata": {},
   "source": [
    "Ora elimino le variabili originali, ricordiamoci di aggiungere queste trasformazioni nel report."
   ]
  },
  {
   "cell_type": "code",
   "execution_count": 26,
   "metadata": {},
   "outputs": [],
   "source": [
    "del df['Nationality'] \n",
    "#del df['Transmission']\n",
    "del df['Make'] \n",
    "del df['SubModel']\n",
    "#del df['TopThreeAmericanName']"
   ]
  },
  {
   "cell_type": "code",
   "execution_count": 27,
   "metadata": {},
   "outputs": [
    {
     "data": {
      "text/html": [
       "<div>\n",
       "<style scoped>\n",
       "    .dataframe tbody tr th:only-of-type {\n",
       "        vertical-align: middle;\n",
       "    }\n",
       "\n",
       "    .dataframe tbody tr th {\n",
       "        vertical-align: top;\n",
       "    }\n",
       "\n",
       "    .dataframe thead th {\n",
       "        text-align: right;\n",
       "    }\n",
       "</style>\n",
       "<table border=\"1\" class=\"dataframe\">\n",
       "  <thead>\n",
       "    <tr style=\"text-align: right;\">\n",
       "      <th></th>\n",
       "      <th></th>\n",
       "      <th></th>\n",
       "      <th></th>\n",
       "      <th>VehYear</th>\n",
       "      <th>WheelTypeID</th>\n",
       "      <th>VehOdo</th>\n",
       "      <th>MMRAcquisitionAuctionAveragePrice</th>\n",
       "      <th>MMRAcquisitionRetailAveragePrice</th>\n",
       "      <th>MMRCurrentAuctionAveragePrice</th>\n",
       "      <th>MMRCurrentRetailAveragePrice</th>\n",
       "      <th>VehBCost</th>\n",
       "      <th>WarrantyCost</th>\n",
       "      <th>NationalityID</th>\n",
       "      <th>MakeID</th>\n",
       "      <th>SubModelID</th>\n",
       "    </tr>\n",
       "    <tr>\n",
       "      <th>Model</th>\n",
       "      <th>SubModel</th>\n",
       "      <th>VehYear</th>\n",
       "      <th></th>\n",
       "      <th></th>\n",
       "      <th></th>\n",
       "      <th></th>\n",
       "      <th></th>\n",
       "      <th></th>\n",
       "      <th></th>\n",
       "      <th></th>\n",
       "      <th></th>\n",
       "      <th></th>\n",
       "      <th></th>\n",
       "      <th></th>\n",
       "      <th></th>\n",
       "    </tr>\n",
       "  </thead>\n",
       "  <tbody>\n",
       "    <tr>\n",
       "      <th rowspan=\"5\" valign=\"top\">1500 RAM</th>\n",
       "      <th rowspan=\"5\" valign=\"top\">QUAD CAB</th>\n",
       "      <th rowspan=\"5\" valign=\"top\">2002</th>\n",
       "      <th>44767</th>\n",
       "      <td>2002</td>\n",
       "      <td>1.0</td>\n",
       "      <td>71733</td>\n",
       "      <td>5191.0</td>\n",
       "      <td>8466.0</td>\n",
       "      <td>5831.0</td>\n",
       "      <td>8452.0</td>\n",
       "      <td>8115.0</td>\n",
       "      <td>1220</td>\n",
       "      <td>0</td>\n",
       "      <td>5</td>\n",
       "      <td>14</td>\n",
       "    </tr>\n",
       "    <tr>\n",
       "      <th>52892</th>\n",
       "      <td>2002</td>\n",
       "      <td>1.0</td>\n",
       "      <td>58350</td>\n",
       "      <td>5617.0</td>\n",
       "      <td>6566.0</td>\n",
       "      <td>5617.0</td>\n",
       "      <td>6566.0</td>\n",
       "      <td>6455.0</td>\n",
       "      <td>1054</td>\n",
       "      <td>0</td>\n",
       "      <td>5</td>\n",
       "      <td>14</td>\n",
       "    </tr>\n",
       "    <tr>\n",
       "      <th>14411</th>\n",
       "      <td>2002</td>\n",
       "      <td>1.0</td>\n",
       "      <td>92100</td>\n",
       "      <td>6979.0</td>\n",
       "      <td>11192.0</td>\n",
       "      <td>6622.0</td>\n",
       "      <td>10484.0</td>\n",
       "      <td>9235.0</td>\n",
       "      <td>2362</td>\n",
       "      <td>0</td>\n",
       "      <td>5</td>\n",
       "      <td>14</td>\n",
       "    </tr>\n",
       "    <tr>\n",
       "      <th>8599</th>\n",
       "      <td>2002</td>\n",
       "      <td>1.0</td>\n",
       "      <td>74233</td>\n",
       "      <td>3499.0</td>\n",
       "      <td>4279.0</td>\n",
       "      <td>3942.0</td>\n",
       "      <td>6841.0</td>\n",
       "      <td>8100.0</td>\n",
       "      <td>1220</td>\n",
       "      <td>0</td>\n",
       "      <td>5</td>\n",
       "      <td>14</td>\n",
       "    </tr>\n",
       "    <tr>\n",
       "      <th>9833</th>\n",
       "      <td>2002</td>\n",
       "      <td>1.0</td>\n",
       "      <td>92075</td>\n",
       "      <td>6322.0</td>\n",
       "      <td>10326.0</td>\n",
       "      <td>7111.0</td>\n",
       "      <td>10864.0</td>\n",
       "      <td>9285.0</td>\n",
       "      <td>2362</td>\n",
       "      <td>0</td>\n",
       "      <td>5</td>\n",
       "      <td>14</td>\n",
       "    </tr>\n",
       "  </tbody>\n",
       "</table>\n",
       "</div>"
      ],
      "text/plain": [
       "                                 VehYear  WheelTypeID  VehOdo  \\\n",
       "Model    SubModel VehYear                                       \n",
       "1500 RAM QUAD CAB 2002    44767     2002          1.0   71733   \n",
       "                          52892     2002          1.0   58350   \n",
       "                          14411     2002          1.0   92100   \n",
       "                          8599      2002          1.0   74233   \n",
       "                          9833      2002          1.0   92075   \n",
       "\n",
       "                                 MMRAcquisitionAuctionAveragePrice  \\\n",
       "Model    SubModel VehYear                                            \n",
       "1500 RAM QUAD CAB 2002    44767                             5191.0   \n",
       "                          52892                             5617.0   \n",
       "                          14411                             6979.0   \n",
       "                          8599                              3499.0   \n",
       "                          9833                              6322.0   \n",
       "\n",
       "                                 MMRAcquisitionRetailAveragePrice  \\\n",
       "Model    SubModel VehYear                                           \n",
       "1500 RAM QUAD CAB 2002    44767                            8466.0   \n",
       "                          52892                            6566.0   \n",
       "                          14411                           11192.0   \n",
       "                          8599                             4279.0   \n",
       "                          9833                            10326.0   \n",
       "\n",
       "                                 MMRCurrentAuctionAveragePrice  \\\n",
       "Model    SubModel VehYear                                        \n",
       "1500 RAM QUAD CAB 2002    44767                         5831.0   \n",
       "                          52892                         5617.0   \n",
       "                          14411                         6622.0   \n",
       "                          8599                          3942.0   \n",
       "                          9833                          7111.0   \n",
       "\n",
       "                                 MMRCurrentRetailAveragePrice  VehBCost  \\\n",
       "Model    SubModel VehYear                                                 \n",
       "1500 RAM QUAD CAB 2002    44767                        8452.0    8115.0   \n",
       "                          52892                        6566.0    6455.0   \n",
       "                          14411                       10484.0    9235.0   \n",
       "                          8599                         6841.0    8100.0   \n",
       "                          9833                        10864.0    9285.0   \n",
       "\n",
       "                                 WarrantyCost  NationalityID  MakeID  \\\n",
       "Model    SubModel VehYear                                              \n",
       "1500 RAM QUAD CAB 2002    44767          1220              0       5   \n",
       "                          52892          1054              0       5   \n",
       "                          14411          2362              0       5   \n",
       "                          8599           1220              0       5   \n",
       "                          9833           2362              0       5   \n",
       "\n",
       "                                 SubModelID  \n",
       "Model    SubModel VehYear                    \n",
       "1500 RAM QUAD CAB 2002    44767          14  \n",
       "                          52892          14  \n",
       "                          14411          14  \n",
       "                          8599           14  \n",
       "                          9833           14  "
      ]
     },
     "execution_count": 27,
     "metadata": {},
     "output_type": "execute_result"
    }
   ],
   "source": [
    "df.head()"
   ]
  },
  {
   "cell_type": "code",
   "execution_count": 28,
   "metadata": {},
   "outputs": [],
   "source": [
    "from sklearn.preprocessing import StandardScaler, MinMaxScaler"
   ]
  },
  {
   "cell_type": "code",
   "execution_count": 29,
   "metadata": {},
   "outputs": [],
   "source": [
    "scaler = StandardScaler()\n",
    "Clustering_df = scaler.fit_transform(df)\n",
    "Clustering_df = pd.DataFrame(Clustering_df, columns=['VehYear', 'WheelTypeID', 'VehOdo', 'MMRAcquisitionAuctionAveragePrice',\n",
    "                                            'MMRAcquisitionRetailAveragePrice', 'MMRCurrentAuctionAveragePrice',\n",
    "                                            'MMRCurrentRetailAveragePrice', 'VehBCost', 'WarrantyCost','NationalityID',\n",
    "                                            'MakeID','SubModelID',])\n",
    "#'TransmissionID'"
   ]
  },
  {
   "cell_type": "code",
   "execution_count": 30,
   "metadata": {
    "scrolled": false
   },
   "outputs": [
    {
     "data": {
      "text/html": [
       "<div>\n",
       "<style scoped>\n",
       "    .dataframe tbody tr th:only-of-type {\n",
       "        vertical-align: middle;\n",
       "    }\n",
       "\n",
       "    .dataframe tbody tr th {\n",
       "        vertical-align: top;\n",
       "    }\n",
       "\n",
       "    .dataframe thead th {\n",
       "        text-align: right;\n",
       "    }\n",
       "</style>\n",
       "<table border=\"1\" class=\"dataframe\">\n",
       "  <thead>\n",
       "    <tr style=\"text-align: right;\">\n",
       "      <th></th>\n",
       "      <th>VehYear</th>\n",
       "      <th>WheelTypeID</th>\n",
       "      <th>VehOdo</th>\n",
       "      <th>MMRAcquisitionAuctionAveragePrice</th>\n",
       "      <th>MMRAcquisitionRetailAveragePrice</th>\n",
       "      <th>MMRCurrentAuctionAveragePrice</th>\n",
       "      <th>MMRCurrentRetailAveragePrice</th>\n",
       "      <th>VehBCost</th>\n",
       "      <th>WarrantyCost</th>\n",
       "      <th>NationalityID</th>\n",
       "      <th>MakeID</th>\n",
       "      <th>SubModelID</th>\n",
       "    </tr>\n",
       "  </thead>\n",
       "  <tbody>\n",
       "    <tr>\n",
       "      <th>0</th>\n",
       "      <td>-1.959593</td>\n",
       "      <td>-0.922729</td>\n",
       "      <td>0.002818</td>\n",
       "      <td>-0.419605</td>\n",
       "      <td>-0.037495</td>\n",
       "      <td>-0.138162</td>\n",
       "      <td>-0.126509</td>\n",
       "      <td>0.822464</td>\n",
       "      <td>-0.098482</td>\n",
       "      <td>-0.43002</td>\n",
       "      <td>-0.468795</td>\n",
       "      <td>-0.285751</td>\n",
       "    </tr>\n",
       "    <tr>\n",
       "      <th>1</th>\n",
       "      <td>-1.959593</td>\n",
       "      <td>-0.922729</td>\n",
       "      <td>-0.913678</td>\n",
       "      <td>-0.236393</td>\n",
       "      <td>-0.674581</td>\n",
       "      <td>-0.229808</td>\n",
       "      <td>-0.764070</td>\n",
       "      <td>-0.139944</td>\n",
       "      <td>-0.376187</td>\n",
       "      <td>-0.43002</td>\n",
       "      <td>-0.468795</td>\n",
       "      <td>-0.285751</td>\n",
       "    </tr>\n",
       "    <tr>\n",
       "      <th>2</th>\n",
       "      <td>-1.959593</td>\n",
       "      <td>-0.922729</td>\n",
       "      <td>1.397593</td>\n",
       "      <td>0.349368</td>\n",
       "      <td>0.876556</td>\n",
       "      <td>0.200584</td>\n",
       "      <td>0.560407</td>\n",
       "      <td>1.471799</td>\n",
       "      <td>1.811994</td>\n",
       "      <td>-0.43002</td>\n",
       "      <td>-0.468795</td>\n",
       "      <td>-0.285751</td>\n",
       "    </tr>\n",
       "    <tr>\n",
       "      <th>3</th>\n",
       "      <td>-1.959593</td>\n",
       "      <td>-0.922729</td>\n",
       "      <td>0.174023</td>\n",
       "      <td>-1.147291</td>\n",
       "      <td>-1.441432</td>\n",
       "      <td>-0.947127</td>\n",
       "      <td>-0.671106</td>\n",
       "      <td>0.813767</td>\n",
       "      <td>-0.098482</td>\n",
       "      <td>-0.43002</td>\n",
       "      <td>-0.468795</td>\n",
       "      <td>-0.285751</td>\n",
       "    </tr>\n",
       "    <tr>\n",
       "      <th>4</th>\n",
       "      <td>-1.959593</td>\n",
       "      <td>-0.922729</td>\n",
       "      <td>1.395881</td>\n",
       "      <td>0.066809</td>\n",
       "      <td>0.586179</td>\n",
       "      <td>0.409999</td>\n",
       "      <td>0.688866</td>\n",
       "      <td>1.500787</td>\n",
       "      <td>1.811994</td>\n",
       "      <td>-0.43002</td>\n",
       "      <td>-0.468795</td>\n",
       "      <td>-0.285751</td>\n",
       "    </tr>\n",
       "  </tbody>\n",
       "</table>\n",
       "</div>"
      ],
      "text/plain": [
       "    VehYear  WheelTypeID    VehOdo  MMRAcquisitionAuctionAveragePrice  \\\n",
       "0 -1.959593    -0.922729  0.002818                          -0.419605   \n",
       "1 -1.959593    -0.922729 -0.913678                          -0.236393   \n",
       "2 -1.959593    -0.922729  1.397593                           0.349368   \n",
       "3 -1.959593    -0.922729  0.174023                          -1.147291   \n",
       "4 -1.959593    -0.922729  1.395881                           0.066809   \n",
       "\n",
       "   MMRAcquisitionRetailAveragePrice  MMRCurrentAuctionAveragePrice  \\\n",
       "0                         -0.037495                      -0.138162   \n",
       "1                         -0.674581                      -0.229808   \n",
       "2                          0.876556                       0.200584   \n",
       "3                         -1.441432                      -0.947127   \n",
       "4                          0.586179                       0.409999   \n",
       "\n",
       "   MMRCurrentRetailAveragePrice  VehBCost  WarrantyCost  NationalityID  \\\n",
       "0                     -0.126509  0.822464     -0.098482       -0.43002   \n",
       "1                     -0.764070 -0.139944     -0.376187       -0.43002   \n",
       "2                      0.560407  1.471799      1.811994       -0.43002   \n",
       "3                     -0.671106  0.813767     -0.098482       -0.43002   \n",
       "4                      0.688866  1.500787      1.811994       -0.43002   \n",
       "\n",
       "     MakeID  SubModelID  \n",
       "0 -0.468795   -0.285751  \n",
       "1 -0.468795   -0.285751  \n",
       "2 -0.468795   -0.285751  \n",
       "3 -0.468795   -0.285751  \n",
       "4 -0.468795   -0.285751  "
      ]
     },
     "execution_count": 30,
     "metadata": {},
     "output_type": "execute_result"
    }
   ],
   "source": [
    "Clustering_df.head()"
   ]
  },
  {
   "cell_type": "code",
   "execution_count": 31,
   "metadata": {},
   "outputs": [
    {
     "data": {
      "text/html": [
       "<div>\n",
       "<style scoped>\n",
       "    .dataframe tbody tr th:only-of-type {\n",
       "        vertical-align: middle;\n",
       "    }\n",
       "\n",
       "    .dataframe tbody tr th {\n",
       "        vertical-align: top;\n",
       "    }\n",
       "\n",
       "    .dataframe thead th {\n",
       "        text-align: right;\n",
       "    }\n",
       "</style>\n",
       "<table border=\"1\" class=\"dataframe\">\n",
       "  <thead>\n",
       "    <tr style=\"text-align: right;\">\n",
       "      <th></th>\n",
       "      <th>VehYear</th>\n",
       "      <th>WheelTypeID</th>\n",
       "      <th>VehOdo</th>\n",
       "      <th>MMRAcquisitionAuctionAveragePrice</th>\n",
       "      <th>MMRAcquisitionRetailAveragePrice</th>\n",
       "      <th>MMRCurrentAuctionAveragePrice</th>\n",
       "      <th>MMRCurrentRetailAveragePrice</th>\n",
       "      <th>VehBCost</th>\n",
       "      <th>WarrantyCost</th>\n",
       "      <th>NationalityID</th>\n",
       "      <th>MakeID</th>\n",
       "      <th>SubModelID</th>\n",
       "    </tr>\n",
       "  </thead>\n",
       "  <tbody>\n",
       "    <tr>\n",
       "      <th>5730</th>\n",
       "      <td>-0.793435</td>\n",
       "      <td>-0.922729</td>\n",
       "      <td>1.818142</td>\n",
       "      <td>1.012542</td>\n",
       "      <td>1.422103</td>\n",
       "      <td>1.353863</td>\n",
       "      <td>1.594162</td>\n",
       "      <td>2.193605</td>\n",
       "      <td>1.069217</td>\n",
       "      <td>-0.43002</td>\n",
       "      <td>-0.167912</td>\n",
       "      <td>1.215359</td>\n",
       "    </tr>\n",
       "    <tr>\n",
       "      <th>5731</th>\n",
       "      <td>-1.376514</td>\n",
       "      <td>-0.922729</td>\n",
       "      <td>0.974100</td>\n",
       "      <td>0.276685</td>\n",
       "      <td>-0.242369</td>\n",
       "      <td>0.281095</td>\n",
       "      <td>-0.328324</td>\n",
       "      <td>1.964598</td>\n",
       "      <td>1.311790</td>\n",
       "      <td>-0.43002</td>\n",
       "      <td>-0.167912</td>\n",
       "      <td>1.215359</td>\n",
       "    </tr>\n",
       "    <tr>\n",
       "      <th>5732</th>\n",
       "      <td>-1.376514</td>\n",
       "      <td>-0.922729</td>\n",
       "      <td>0.750574</td>\n",
       "      <td>0.771701</td>\n",
       "      <td>1.007662</td>\n",
       "      <td>0.360322</td>\n",
       "      <td>0.682443</td>\n",
       "      <td>2.045765</td>\n",
       "      <td>1.311790</td>\n",
       "      <td>-0.43002</td>\n",
       "      <td>-0.167912</td>\n",
       "      <td>1.215359</td>\n",
       "    </tr>\n",
       "    <tr>\n",
       "      <th>5733</th>\n",
       "      <td>-0.793435</td>\n",
       "      <td>-0.922729</td>\n",
       "      <td>-0.240910</td>\n",
       "      <td>1.462400</td>\n",
       "      <td>0.755845</td>\n",
       "      <td>1.461782</td>\n",
       "      <td>0.678049</td>\n",
       "      <td>2.095045</td>\n",
       "      <td>0.221046</td>\n",
       "      <td>-0.43002</td>\n",
       "      <td>-0.167912</td>\n",
       "      <td>1.215359</td>\n",
       "    </tr>\n",
       "    <tr>\n",
       "      <th>5734</th>\n",
       "      <td>0.372723</td>\n",
       "      <td>-0.922729</td>\n",
       "      <td>0.030553</td>\n",
       "      <td>1.727756</td>\n",
       "      <td>1.850628</td>\n",
       "      <td>1.694322</td>\n",
       "      <td>1.865954</td>\n",
       "      <td>1.338453</td>\n",
       "      <td>-0.011491</td>\n",
       "      <td>-0.43002</td>\n",
       "      <td>1.035621</td>\n",
       "      <td>0.143137</td>\n",
       "    </tr>\n",
       "  </tbody>\n",
       "</table>\n",
       "</div>"
      ],
      "text/plain": [
       "       VehYear  WheelTypeID    VehOdo  MMRAcquisitionAuctionAveragePrice  \\\n",
       "5730 -0.793435    -0.922729  1.818142                           1.012542   \n",
       "5731 -1.376514    -0.922729  0.974100                           0.276685   \n",
       "5732 -1.376514    -0.922729  0.750574                           0.771701   \n",
       "5733 -0.793435    -0.922729 -0.240910                           1.462400   \n",
       "5734  0.372723    -0.922729  0.030553                           1.727756   \n",
       "\n",
       "      MMRAcquisitionRetailAveragePrice  MMRCurrentAuctionAveragePrice  \\\n",
       "5730                          1.422103                       1.353863   \n",
       "5731                         -0.242369                       0.281095   \n",
       "5732                          1.007662                       0.360322   \n",
       "5733                          0.755845                       1.461782   \n",
       "5734                          1.850628                       1.694322   \n",
       "\n",
       "      MMRCurrentRetailAveragePrice  VehBCost  WarrantyCost  NationalityID  \\\n",
       "5730                      1.594162  2.193605      1.069217       -0.43002   \n",
       "5731                     -0.328324  1.964598      1.311790       -0.43002   \n",
       "5732                      0.682443  2.045765      1.311790       -0.43002   \n",
       "5733                      0.678049  2.095045      0.221046       -0.43002   \n",
       "5734                      1.865954  1.338453     -0.011491       -0.43002   \n",
       "\n",
       "        MakeID  SubModelID  \n",
       "5730 -0.167912    1.215359  \n",
       "5731 -0.167912    1.215359  \n",
       "5732 -0.167912    1.215359  \n",
       "5733 -0.167912    1.215359  \n",
       "5734  1.035621    0.143137  "
      ]
     },
     "execution_count": 31,
     "metadata": {},
     "output_type": "execute_result"
    }
   ],
   "source": [
    "Clustering_df.tail()"
   ]
  },
  {
   "cell_type": "code",
   "execution_count": 32,
   "metadata": {
    "scrolled": false
   },
   "outputs": [],
   "source": [
    "# scaler.inverse_transform(scaler.transform(df.head().values))"
   ]
  },
  {
   "cell_type": "markdown",
   "metadata": {},
   "source": [
    "** 2) Tasformazioni per la Classification **"
   ]
  },
  {
   "cell_type": "markdown",
   "metadata": {},
   "source": [
    "** 3) Tasformazioni per la Association **"
   ]
  },
  {
   "cell_type": "markdown",
   "metadata": {},
   "source": [
    "# Files in Output per le analisi successive"
   ]
  },
  {
   "cell_type": "markdown",
   "metadata": {},
   "source": [
    "** - File per il Clustering **"
   ]
  },
  {
   "cell_type": "code",
   "execution_count": 33,
   "metadata": {
    "scrolled": true
   },
   "outputs": [],
   "source": [
    "Clustering_df.to_csv(path_or_buf='Training_DU_Clustering.csv' ,index=False)"
   ]
  },
  {
   "cell_type": "markdown",
   "metadata": {},
   "source": [
    "** - File per la Classification **"
   ]
  },
  {
   "cell_type": "code",
   "execution_count": 34,
   "metadata": {},
   "outputs": [],
   "source": [
    "#Classification_df.to_csv(path_or_buf='Training_DU_Classification.csv' ,index=False)"
   ]
  },
  {
   "cell_type": "markdown",
   "metadata": {},
   "source": [
    "** - File per la Association Rule **"
   ]
  },
  {
   "cell_type": "code",
   "execution_count": 35,
   "metadata": {},
   "outputs": [],
   "source": [
    "#Association_df.to_csv(path_or_buf='Training_DU_Association.csv' ,index=False)"
   ]
  }
 ],
 "metadata": {
  "kernelspec": {
   "display_name": "Python 3",
   "language": "python",
   "name": "python3"
  },
  "language_info": {
   "codemirror_mode": {
    "name": "ipython",
    "version": 3
   },
   "file_extension": ".py",
   "mimetype": "text/x-python",
   "name": "python",
   "nbconvert_exporter": "python",
   "pygments_lexer": "ipython3",
   "version": "3.7.3"
  }
 },
 "nbformat": 4,
 "nbformat_minor": 2
}
