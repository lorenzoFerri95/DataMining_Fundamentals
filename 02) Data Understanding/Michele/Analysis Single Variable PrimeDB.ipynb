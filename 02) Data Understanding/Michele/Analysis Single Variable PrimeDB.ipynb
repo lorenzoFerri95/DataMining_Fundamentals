{
 "cells": [
  {
   "cell_type": "code",
   "execution_count": 1,
   "metadata": {},
   "outputs": [],
   "source": [
    "%matplotlib inline\n",
    "import math\n",
    "import numpy as np\n",
    "import pandas as pd\n",
    "import scipy.stats as stats\n",
    "import matplotlib.pyplot as plt\n",
    "\n",
    "from collections import defaultdict\n",
    "from scipy.stats.stats import pearsonr"
   ]
  },
  {
   "cell_type": "code",
   "execution_count": 6,
   "metadata": {
    "collapsed": true
   },
   "outputs": [
    {
     "data": {
      "text/html": [
       "<div>\n",
       "<style scoped>\n",
       "    .dataframe tbody tr th:only-of-type {\n",
       "        vertical-align: middle;\n",
       "    }\n",
       "\n",
       "    .dataframe tbody tr th {\n",
       "        vertical-align: top;\n",
       "    }\n",
       "\n",
       "    .dataframe thead th {\n",
       "        text-align: right;\n",
       "    }\n",
       "</style>\n",
       "<table border=\"1\" class=\"dataframe\">\n",
       "  <thead>\n",
       "    <tr style=\"text-align: right;\">\n",
       "      <th></th>\n",
       "      <th>RefId</th>\n",
       "      <th>IsBadBuy</th>\n",
       "      <th>PurchDate</th>\n",
       "      <th>Auction</th>\n",
       "      <th>VehYear</th>\n",
       "      <th>VehicleAge</th>\n",
       "      <th>Make</th>\n",
       "      <th>Model</th>\n",
       "      <th>Trim</th>\n",
       "      <th>SubModel</th>\n",
       "      <th>...</th>\n",
       "      <th>MMRCurrentRetailAveragePrice</th>\n",
       "      <th>MMRCurrentRetailCleanPrice</th>\n",
       "      <th>PRIMEUNIT</th>\n",
       "      <th>AUCGUART</th>\n",
       "      <th>BYRNO</th>\n",
       "      <th>VNZIP1</th>\n",
       "      <th>VNST</th>\n",
       "      <th>VehBCost</th>\n",
       "      <th>IsOnlineSale</th>\n",
       "      <th>WarrantyCost</th>\n",
       "    </tr>\n",
       "  </thead>\n",
       "  <tbody>\n",
       "    <tr>\n",
       "      <td>0</td>\n",
       "      <td>326</td>\n",
       "      <td>1</td>\n",
       "      <td>2010-10-25</td>\n",
       "      <td>ADESA</td>\n",
       "      <td>2008</td>\n",
       "      <td>2</td>\n",
       "      <td>KIA</td>\n",
       "      <td>SPECTRA</td>\n",
       "      <td>EX</td>\n",
       "      <td>4D SEDAN EX</td>\n",
       "      <td>...</td>\n",
       "      <td>9605.0</td>\n",
       "      <td>10650.0</td>\n",
       "      <td>NaN</td>\n",
       "      <td>NaN</td>\n",
       "      <td>5546</td>\n",
       "      <td>33619</td>\n",
       "      <td>FL</td>\n",
       "      <td>6100.0</td>\n",
       "      <td>0</td>\n",
       "      <td>533</td>\n",
       "    </tr>\n",
       "    <tr>\n",
       "      <td>1</td>\n",
       "      <td>42991</td>\n",
       "      <td>0</td>\n",
       "      <td>2009-05-27</td>\n",
       "      <td>MANHEIM</td>\n",
       "      <td>2006</td>\n",
       "      <td>3</td>\n",
       "      <td>DODGE</td>\n",
       "      <td>STRATUS V6 2.7L V6 M</td>\n",
       "      <td>SXT</td>\n",
       "      <td>4D SEDAN SXT FFV</td>\n",
       "      <td>...</td>\n",
       "      <td>6418.0</td>\n",
       "      <td>7478.0</td>\n",
       "      <td>NaN</td>\n",
       "      <td>NaN</td>\n",
       "      <td>99750</td>\n",
       "      <td>32124</td>\n",
       "      <td>FL</td>\n",
       "      <td>4000.0</td>\n",
       "      <td>0</td>\n",
       "      <td>1630</td>\n",
       "    </tr>\n",
       "    <tr>\n",
       "      <td>2</td>\n",
       "      <td>55273</td>\n",
       "      <td>0</td>\n",
       "      <td>2010-03-18</td>\n",
       "      <td>OTHER</td>\n",
       "      <td>2008</td>\n",
       "      <td>2</td>\n",
       "      <td>DODGE</td>\n",
       "      <td>CALIBER</td>\n",
       "      <td>SE</td>\n",
       "      <td>4D WAGON</td>\n",
       "      <td>...</td>\n",
       "      <td>10721.0</td>\n",
       "      <td>11350.0</td>\n",
       "      <td>NaN</td>\n",
       "      <td>NaN</td>\n",
       "      <td>99761</td>\n",
       "      <td>74135</td>\n",
       "      <td>OK</td>\n",
       "      <td>7500.0</td>\n",
       "      <td>0</td>\n",
       "      <td>693</td>\n",
       "    </tr>\n",
       "    <tr>\n",
       "      <td>3</td>\n",
       "      <td>29058</td>\n",
       "      <td>0</td>\n",
       "      <td>2009-08-06</td>\n",
       "      <td>OTHER</td>\n",
       "      <td>2005</td>\n",
       "      <td>4</td>\n",
       "      <td>FORD</td>\n",
       "      <td>FREESTAR FWD V6 3.9L</td>\n",
       "      <td>S</td>\n",
       "      <td>PASSENGER 3.9L</td>\n",
       "      <td>...</td>\n",
       "      <td>5702.0</td>\n",
       "      <td>7691.0</td>\n",
       "      <td>NaN</td>\n",
       "      <td>NaN</td>\n",
       "      <td>99761</td>\n",
       "      <td>85018</td>\n",
       "      <td>AZ</td>\n",
       "      <td>4725.0</td>\n",
       "      <td>0</td>\n",
       "      <td>1633</td>\n",
       "    </tr>\n",
       "    <tr>\n",
       "      <td>4</td>\n",
       "      <td>34991</td>\n",
       "      <td>0</td>\n",
       "      <td>2009-04-03</td>\n",
       "      <td>MANHEIM</td>\n",
       "      <td>2005</td>\n",
       "      <td>4</td>\n",
       "      <td>CHRYSLER</td>\n",
       "      <td>TOWN &amp; COUNTRY FWD V</td>\n",
       "      <td>Bas</td>\n",
       "      <td>MINIVAN 3.3L</td>\n",
       "      <td>...</td>\n",
       "      <td>6300.0</td>\n",
       "      <td>7856.0</td>\n",
       "      <td>NaN</td>\n",
       "      <td>NaN</td>\n",
       "      <td>20833</td>\n",
       "      <td>75236</td>\n",
       "      <td>TX</td>\n",
       "      <td>5670.0</td>\n",
       "      <td>0</td>\n",
       "      <td>1623</td>\n",
       "    </tr>\n",
       "  </tbody>\n",
       "</table>\n",
       "<p>5 rows × 34 columns</p>\n",
       "</div>"
      ],
      "text/plain": [
       "   RefId  IsBadBuy   PurchDate  Auction  VehYear  VehicleAge      Make  \\\n",
       "0    326         1  2010-10-25    ADESA     2008           2       KIA   \n",
       "1  42991         0  2009-05-27  MANHEIM     2006           3     DODGE   \n",
       "2  55273         0  2010-03-18    OTHER     2008           2     DODGE   \n",
       "3  29058         0  2009-08-06    OTHER     2005           4      FORD   \n",
       "4  34991         0  2009-04-03  MANHEIM     2005           4  CHRYSLER   \n",
       "\n",
       "                  Model Trim          SubModel  ...  \\\n",
       "0               SPECTRA   EX       4D SEDAN EX  ...   \n",
       "1  STRATUS V6 2.7L V6 M  SXT  4D SEDAN SXT FFV  ...   \n",
       "2               CALIBER   SE          4D WAGON  ...   \n",
       "3  FREESTAR FWD V6 3.9L    S    PASSENGER 3.9L  ...   \n",
       "4  TOWN & COUNTRY FWD V  Bas      MINIVAN 3.3L  ...   \n",
       "\n",
       "  MMRCurrentRetailAveragePrice MMRCurrentRetailCleanPrice  PRIMEUNIT AUCGUART  \\\n",
       "0                       9605.0                    10650.0        NaN      NaN   \n",
       "1                       6418.0                     7478.0        NaN      NaN   \n",
       "2                      10721.0                    11350.0        NaN      NaN   \n",
       "3                       5702.0                     7691.0        NaN      NaN   \n",
       "4                       6300.0                     7856.0        NaN      NaN   \n",
       "\n",
       "   BYRNO VNZIP1 VNST VehBCost  IsOnlineSale  WarrantyCost  \n",
       "0   5546  33619   FL   6100.0             0           533  \n",
       "1  99750  32124   FL   4000.0             0          1630  \n",
       "2  99761  74135   OK   7500.0             0           693  \n",
       "3  99761  85018   AZ   4725.0             0          1633  \n",
       "4  20833  75236   TX   5670.0             0          1623  \n",
       "\n",
       "[5 rows x 34 columns]"
      ]
     },
     "execution_count": 6,
     "metadata": {},
     "output_type": "execute_result"
    }
   ],
   "source": [
    "df = pd.read_csv('../../Dataset/training date.csv')\n",
    "df.head()"
   ]
  },
  {
   "cell_type": "code",
   "execution_count": 8,
   "metadata": {},
   "outputs": [
    {
     "data": {
      "text/plain": [
       "RefId                                  int64\n",
       "IsBadBuy                               int64\n",
       "PurchDate                             object\n",
       "Auction                               object\n",
       "VehYear                                int64\n",
       "VehicleAge                             int64\n",
       "Make                                  object\n",
       "Model                                 object\n",
       "Trim                                  object\n",
       "SubModel                              object\n",
       "Color                                 object\n",
       "Transmission                          object\n",
       "WheelTypeID                          float64\n",
       "WheelType                             object\n",
       "VehOdo                                 int64\n",
       "Nationality                           object\n",
       "Size                                  object\n",
       "TopThreeAmericanName                  object\n",
       "MMRAcquisitionAuctionAveragePrice    float64\n",
       "MMRAcquisitionAuctionCleanPrice      float64\n",
       "MMRAcquisitionRetailAveragePrice     float64\n",
       "MMRAcquisitonRetailCleanPrice        float64\n",
       "MMRCurrentAuctionAveragePrice        float64\n",
       "MMRCurrentAuctionCleanPrice          float64\n",
       "MMRCurrentRetailAveragePrice         float64\n",
       "MMRCurrentRetailCleanPrice           float64\n",
       "PRIMEUNIT                             object\n",
       "AUCGUART                              object\n",
       "BYRNO                                  int64\n",
       "VNZIP1                                 int64\n",
       "VNST                                  object\n",
       "VehBCost                             float64\n",
       "IsOnlineSale                           int64\n",
       "WarrantyCost                           int64\n",
       "dtype: object"
      ]
     },
     "execution_count": 8,
     "metadata": {},
     "output_type": "execute_result"
    }
   ],
   "source": [
    "df.dtypes"
   ]
  },
  {
   "cell_type": "code",
   "execution_count": 11,
   "metadata": {},
   "outputs": [
    {
     "data": {
      "text/plain": [
       "RefId                                    0\n",
       "IsBadBuy                             51178\n",
       "PurchDate                                0\n",
       "Auction                                  0\n",
       "VehYear                                  0\n",
       "VehicleAge                               1\n",
       "Make                                     0\n",
       "Model                                    0\n",
       "Trim                                     0\n",
       "SubModel                                 0\n",
       "Color                                    0\n",
       "Transmission                             0\n",
       "WheelTypeID                              4\n",
       "WheelType                                0\n",
       "VehOdo                                   0\n",
       "Nationality                              0\n",
       "Size                                     0\n",
       "TopThreeAmericanName                     0\n",
       "MMRAcquisitionAuctionAveragePrice      648\n",
       "MMRAcquisitionAuctionCleanPrice        552\n",
       "MMRAcquisitionRetailAveragePrice       648\n",
       "MMRAcquisitonRetailCleanPrice          648\n",
       "MMRCurrentAuctionAveragePrice          393\n",
       "MMRCurrentAuctionCleanPrice            300\n",
       "MMRCurrentRetailAveragePrice           393\n",
       "MMRCurrentRetailCleanPrice             393\n",
       "PRIMEUNIT                                0\n",
       "AUCGUART                                 0\n",
       "BYRNO                                    0\n",
       "VNZIP1                                   0\n",
       "VNST                                     0\n",
       "VehBCost                                 0\n",
       "IsOnlineSale                         56887\n",
       "WarrantyCost                             0\n",
       "dtype: int64"
      ]
     },
     "execution_count": 11,
     "metadata": {},
     "output_type": "execute_result"
    }
   ],
   "source": [
    "(df == 0).sum(axis=0)"
   ]
  },
  {
   "cell_type": "code",
   "execution_count": 12,
   "metadata": {},
   "outputs": [
    {
     "data": {
      "text/plain": [
       "RefId                                    0\n",
       "IsBadBuy                                 0\n",
       "PurchDate                                0\n",
       "Auction                                  0\n",
       "VehYear                                  0\n",
       "VehicleAge                               0\n",
       "Make                                     0\n",
       "Model                                    0\n",
       "Trim                                  1911\n",
       "SubModel                                 7\n",
       "Color                                    7\n",
       "Transmission                             8\n",
       "WheelTypeID                           2573\n",
       "WheelType                             2577\n",
       "VehOdo                                   0\n",
       "Nationality                              4\n",
       "Size                                     4\n",
       "TopThreeAmericanName                     4\n",
       "MMRAcquisitionAuctionAveragePrice       13\n",
       "MMRAcquisitionAuctionCleanPrice         13\n",
       "MMRAcquisitionRetailAveragePrice        13\n",
       "MMRAcquisitonRetailCleanPrice           13\n",
       "MMRCurrentAuctionAveragePrice          245\n",
       "MMRCurrentAuctionCleanPrice            245\n",
       "MMRCurrentRetailAveragePrice           245\n",
       "MMRCurrentRetailCleanPrice             245\n",
       "PRIMEUNIT                            55703\n",
       "AUCGUART                             55703\n",
       "BYRNO                                    0\n",
       "VNZIP1                                   0\n",
       "VNST                                     0\n",
       "VehBCost                                 0\n",
       "IsOnlineSale                             0\n",
       "WarrantyCost                             0\n",
       "dtype: int64"
      ]
     },
     "execution_count": 12,
     "metadata": {},
     "output_type": "execute_result"
    }
   ],
   "source": [
    "df.isnull().sum()"
   ]
  },
  {
   "cell_type": "code",
   "execution_count": 22,
   "metadata": {
    "scrolled": true
   },
   "outputs": [
    {
     "data": {
      "text/plain": [
       "<matplotlib.axes._subplots.AxesSubplot at 0x1a1d7cdc748>"
      ]
     },
     "execution_count": 22,
     "metadata": {},
     "output_type": "execute_result"
    },
    {
     "data": {
      "image/png": "[encoded data removed]",
      "text/plain": [
       "<Figure size 432x288 with 1 Axes>"
      ]
     },
     "metadata": {
      "needs_background": "light"
     },
     "output_type": "display_data"
    }
   ],
   "source": [
    "#analisi per attributo senza le correzioni\n",
    "#PurchDate\n",
    "#MissingValues=0\n",
    "#Outliers=0\n",
    "#Distribution\n",
    "df[\"PurchDate\"] = df[\"PurchDate\"].astype(\"datetime64\")\n",
    "df.groupby([df[\"PurchDate\"].dt.month, df[\"PurchDate\"].dt.year ])[\"PurchDate\"].count().plot(kind=\"bar\")"
   ]
  },
  {
   "cell_type": "code",
   "execution_count": 24,
   "metadata": {},
   "outputs": [
    {
     "data": {
      "text/plain": [
       "<matplotlib.axes._subplots.AxesSubplot at 0x1a1dbdf1048>"
      ]
     },
     "execution_count": 24,
     "metadata": {},
     "output_type": "execute_result"
    },
    {
     "data": {
      "image/png": "[encoded data removed]",
      "text/plain": [
       "<Figure size 432x288 with 1 Axes>"
      ]
     },
     "metadata": {
      "needs_background": "light"
     },
     "output_type": "display_data"
    }
   ],
   "source": [
    "df.groupby(df[\"PurchDate\"].dt.year)[\"PurchDate\"].count().plot(kind=\"bar\")"
   ]
  },
  {
   "cell_type": "code",
   "execution_count": 27,
   "metadata": {},
   "outputs": [
    {
     "data": {
      "text/plain": [
       "<matplotlib.axes._subplots.AxesSubplot at 0x1a1dbe96cf8>"
      ]
     },
     "execution_count": 27,
     "metadata": {},
     "output_type": "execute_result"
    },
    {
     "data": {
      "image/png": "[encoded data removed]",
      "text/plain": [
       "<Figure size 432x288 with 1 Axes>"
      ]
     },
     "metadata": {
      "needs_background": "light"
     },
     "output_type": "display_data"
    }
   ],
   "source": [
    "#Auction (3 distinct values)\n",
    "#missing values=0\n",
    "#outliers=0\n",
    "#distribution\n",
    "df[\"Auction\"].value_counts().plot(kind=\"bar\")"
   ]
  },
  {
   "cell_type": "code",
   "execution_count": 29,
   "metadata": {},
   "outputs": [
    {
     "data": {
      "text/plain": [
       "<matplotlib.axes._subplots.AxesSubplot at 0x1a1dbf7b940>"
      ]
     },
     "execution_count": 29,
     "metadata": {},
     "output_type": "execute_result"
    },
    {
     "data": {
      "image/png": "[encoded data removed]",
      "text/plain": [
       "<Figure size 432x288 with 1 Axes>"
      ]
     },
     "metadata": {
      "needs_background": "light"
     },
     "output_type": "display_data"
    }
   ],
   "source": [
    "#VehYear (10 distinct values)\n",
    "#missing values=0\n",
    "#outliers=0\n",
    "#distribution\n",
    "df[\"VehYear\"].value_counts().plot(kind=\"bar\")"
   ]
  },
  {
   "cell_type": "code",
   "execution_count": 32,
   "metadata": {},
   "outputs": [
    {
     "data": {
      "text/plain": [
       "1"
      ]
     },
     "execution_count": 32,
     "metadata": {},
     "output_type": "execute_result"
    }
   ],
   "source": [
    "#Possible outlier (it isn't)\n",
    "df.loc[df['VehYear']==2010]['VehYear'].count()"
   ]
  },
  {
   "cell_type": "code",
   "execution_count": 35,
   "metadata": {
    "scrolled": true
   },
   "outputs": [
    {
     "data": {
      "text/plain": [
       "<matplotlib.axes._subplots.AxesSubplot at 0x1a1dbe96278>"
      ]
     },
     "execution_count": 35,
     "metadata": {},
     "output_type": "execute_result"
    },
    {
     "data": {
      "image/png": "[encoded data removed]",
      "text/plain": [
       "<Figure size 432x288 with 1 Axes>"
      ]
     },
     "metadata": {
      "needs_background": "light"
     },
     "output_type": "display_data"
    }
   ],
   "source": [
    "#VehAge (10 distinct values)\n",
    "#missing values=0\n",
    "#outliers=0\n",
    "#distribution\n",
    "df[\"VehicleAge\"].value_counts().plot(kind=\"bar\")"
   ]
  },
  {
   "cell_type": "code",
   "execution_count": 39,
   "metadata": {},
   "outputs": [
    {
     "data": {
      "text/plain": [
       "1"
      ]
     },
     "execution_count": 39,
     "metadata": {},
     "output_type": "execute_result"
    }
   ],
   "source": [
    "#Possible outlier (it isn't)\n",
    "df.loc[df['VehicleAge']==0]['VehicleAge'].count()"
   ]
  },
  {
   "cell_type": "code",
   "execution_count": 91,
   "metadata": {
    "scrolled": false
   },
   "outputs": [
    {
     "data": {
      "text/plain": [
       "<matplotlib.axes._subplots.AxesSubplot at 0x1a1e35fea20>"
      ]
     },
     "execution_count": 91,
     "metadata": {},
     "output_type": "execute_result"
    },
    {
     "data": {
      "image/png": "[encoded data removed]",
      "text/plain": [
       "<Figure size 432x288 with 1 Axes>"
      ]
     },
     "metadata": {
      "needs_background": "light"
     },
     "output_type": "display_data"
    }
   ],
   "source": [
    "#Make (33 distinct values)\n",
    "#missing values=0\n",
    "#outliers=1 + 2 Possible outliers\n",
    "#distribution\n",
    "df[\"Make\"].value_counts().plot(kind=\"bar\")"
   ]
  },
  {
   "cell_type": "code",
   "execution_count": 92,
   "metadata": {},
   "outputs": [
    {
     "data": {
      "text/plain": [
       "33"
      ]
     },
     "execution_count": 92,
     "metadata": {},
     "output_type": "execute_result"
    }
   ],
   "source": [
    "df[\"Make\"].nunique()"
   ]
  },
  {
   "cell_type": "code",
   "execution_count": 44,
   "metadata": {},
   "outputs": [
    {
     "data": {
      "text/plain": [
       "CHEVROLET       13842\n",
       "DODGE           10355\n",
       "FORD             9000\n",
       "CHRYSLER         7093\n",
       "PONTIAC          3421\n",
       "KIA              2006\n",
       "SATURN           1698\n",
       "NISSAN           1687\n",
       "HYUNDAI          1444\n",
       "JEEP             1287\n",
       "SUZUKI           1062\n",
       "TOYOTA            905\n",
       "MITSUBISHI        822\n",
       "MAZDA             774\n",
       "MERCURY           739\n",
       "BUICK             562\n",
       "GMC               502\n",
       "HONDA             407\n",
       "OLDSMOBILE        198\n",
       "ISUZU             110\n",
       "VOLKSWAGEN        104\n",
       "SCION             102\n",
       "LINCOLN            80\n",
       "INFINITI           36\n",
       "VOLVO              31\n",
       "LEXUS              27\n",
       "ACURA              25\n",
       "CADILLAC           25\n",
       "SUBARU             22\n",
       "MINI               17\n",
       "TOYOTA SCION        1\n",
       "PLYMOUTH            1\n",
       "HUMMER              1\n",
       "Name: Make, dtype: int64"
      ]
     },
     "execution_count": 44,
     "metadata": {},
     "output_type": "execute_result"
    }
   ],
   "source": [
    "#Eliminare TOYOTA SCION\n",
    "df[\"Make\"].value_counts()"
   ]
  },
  {
   "cell_type": "code",
   "execution_count": 95,
   "metadata": {},
   "outputs": [
    {
     "data": {
      "text/plain": [
       "<matplotlib.axes._subplots.AxesSubplot at 0x1a1dff89668>"
      ]
     },
     "execution_count": 95,
     "metadata": {},
     "output_type": "execute_result"
    },
    {
     "data": {
      "image/png": "[encoded data removed]",
      "text/plain": [
       "<Figure size 432x288 with 1 Axes>"
      ]
     },
     "metadata": {
      "needs_background": "light"
     },
     "output_type": "display_data"
    }
   ],
   "source": [
    "#Model (1029 distinct values)\n",
    "#missing values=0\n",
    "#outliers=(174 to 500)\n",
    "#distribution\n",
    "df[\"Model\"].value_counts().plot(kind=\"bar\")"
   ]
  },
  {
   "cell_type": "code",
   "execution_count": 54,
   "metadata": {},
   "outputs": [
    {
     "data": {
      "text/plain": [
       "1029"
      ]
     },
     "execution_count": 54,
     "metadata": {},
     "output_type": "execute_result"
    }
   ],
   "source": [
    "#number of categories\n",
    "df[\"Model\"].nunique()"
   ]
  },
  {
   "cell_type": "code",
   "execution_count": 94,
   "metadata": {},
   "outputs": [
    {
     "data": {
      "text/plain": [
       "174"
      ]
     },
     "execution_count": 94,
     "metadata": {},
     "output_type": "execute_result"
    }
   ],
   "source": [
    "#approximate number of outliers\n",
    "ModelCount=df['Model'].value_counts()\n",
    "ModelCount.loc[df['Model'].value_counts()<2].count()"
   ]
  },
  {
   "cell_type": "code",
   "execution_count": 74,
   "metadata": {},
   "outputs": [
    {
     "data": {
      "text/plain": [
       "<matplotlib.axes._subplots.AxesSubplot at 0x1a1e332a160>"
      ]
     },
     "execution_count": 74,
     "metadata": {},
     "output_type": "execute_result"
    },
    {
     "data": {
      "image/png": "[encoded data removed]",
      "text/plain": [
       "<Figure size 432x288 with 1 Axes>"
      ]
     },
     "metadata": {
      "needs_background": "light"
     },
     "output_type": "display_data"
    }
   ],
   "source": [
    "#Trim (131 distinc values)\n",
    "#missing values=1911\n",
    "#outliers=0 (8-24)\n",
    "#distribution\n",
    "df[\"Trim\"].value_counts().plot(kind=\"bar\")"
   ]
  },
  {
   "cell_type": "code",
   "execution_count": 78,
   "metadata": {},
   "outputs": [
    {
     "data": {
      "text/plain": [
       "131"
      ]
     },
     "execution_count": 78,
     "metadata": {},
     "output_type": "execute_result"
    }
   ],
   "source": [
    "df[\"Trim\"].nunique()"
   ]
  },
  {
   "cell_type": "code",
   "execution_count": 104,
   "metadata": {},
   "outputs": [
    {
     "data": {
      "text/plain": [
       "8"
      ]
     },
     "execution_count": 104,
     "metadata": {},
     "output_type": "execute_result"
    }
   ],
   "source": [
    "TrimCount=df['Trim'].value_counts()\n",
    "TrimCount.loc[df['Trim'].value_counts()<2].count()"
   ]
  },
  {
   "cell_type": "code",
   "execution_count": 106,
   "metadata": {},
   "outputs": [
    {
     "data": {
      "text/plain": [
       "<matplotlib.axes._subplots.AxesSubplot at 0x1a1e634c0f0>"
      ]
     },
     "execution_count": 106,
     "metadata": {},
     "output_type": "execute_result"
    },
    {
     "data": {
      "image/png": "[encoded data removed]",
      "text/plain": [
       "<Figure size 432x288 with 1 Axes>"
      ]
     },
     "metadata": {
      "needs_background": "light"
     },
     "output_type": "display_data"
    }
   ],
   "source": [
    "#SubModel (839 distinc values)\n",
    "#missing values=7\n",
    "#outliers=0 (175-500)\n",
    "#distribution\n",
    "df[\"SubModel\"].value_counts().plot(kind=\"bar\")"
   ]
  },
  {
   "cell_type": "code",
   "execution_count": 109,
   "metadata": {},
   "outputs": [
    {
     "data": {
      "text/plain": [
       "839"
      ]
     },
     "execution_count": 109,
     "metadata": {},
     "output_type": "execute_result"
    }
   ],
   "source": [
    "df[\"SubModel\"].nunique()"
   ]
  },
  {
   "cell_type": "code",
   "execution_count": 114,
   "metadata": {},
   "outputs": [
    {
     "data": {
      "text/plain": [
       "486"
      ]
     },
     "execution_count": 114,
     "metadata": {},
     "output_type": "execute_result"
    }
   ],
   "source": [
    "TrimCount=df['SubModel'].value_counts()\n",
    "TrimCount.loc[df['SubModel'].value_counts()<10].count()"
   ]
  },
  {
   "cell_type": "code",
   "execution_count": 123,
   "metadata": {
    "scrolled": true
   },
   "outputs": [
    {
     "data": {
      "text/plain": [
       "<matplotlib.axes._subplots.AxesSubplot at 0x1a1f271e2e8>"
      ]
     },
     "execution_count": 123,
     "metadata": {},
     "output_type": "execute_result"
    },
    {
     "data": {
      "image/png": "[encoded data removed]",
      "text/plain": [
       "<Figure size 432x288 with 1 Axes>"
      ]
     },
     "metadata": {
      "needs_background": "light"
     },
     "output_type": "display_data"
    }
   ],
   "source": [
    "#Color (839 distinc values)\n",
    "#missing values=7\n",
    "#outliers=0 (?What about not vail or other?)\n",
    "#distribution\n",
    "df[\"Color\"].value_counts().plot(kind=\"bar\")"
   ]
  },
  {
   "cell_type": "code",
   "execution_count": 126,
   "metadata": {},
   "outputs": [
    {
     "data": {
      "text/plain": [
       "16"
      ]
     },
     "execution_count": 126,
     "metadata": {},
     "output_type": "execute_result"
    }
   ],
   "source": [
    "df[\"Color\"].nunique()"
   ]
  },
  {
   "cell_type": "code",
   "execution_count": 134,
   "metadata": {},
   "outputs": [
    {
     "data": {
      "text/plain": [
       "SILVER       11812\n",
       "WHITE         9768\n",
       "BLUE          8271\n",
       "GREY          6284\n",
       "BLACK         6067\n",
       "RED           5020\n",
       "GOLD          4244\n",
       "GREEN         2561\n",
       "MAROON        1628\n",
       "BEIGE         1264\n",
       "BROWN          350\n",
       "ORANGE         340\n",
       "PURPLE         294\n",
       "YELLOW         200\n",
       "OTHER          199\n",
       "NOT AVAIL       77\n",
       "Name: Color, dtype: int64"
      ]
     },
     "execution_count": 134,
     "metadata": {},
     "output_type": "execute_result"
    }
   ],
   "source": [
    "ColorCount=df['Color'].value_counts()\n",
    "#ColorCount.loc[df['SubModel'].value_counts()<10].count()\n",
    "ColorCount"
   ]
  },
  {
   "cell_type": "code",
   "execution_count": 130,
   "metadata": {},
   "outputs": [
    {
     "data": {
      "text/plain": [
       "<matplotlib.axes._subplots.AxesSubplot at 0x1a1f3809160>"
      ]
     },
     "execution_count": 130,
     "metadata": {},
     "output_type": "execute_result"
    },
    {
     "data": {
      "image/png": "[encoded data removed]",
      "text/plain": [
       "<Figure size 432x288 with 1 Axes>"
      ]
     },
     "metadata": {
      "needs_background": "light"
     },
     "output_type": "display_data"
    }
   ],
   "source": [
    "#Transmission (3 distinc values (2 refined))\n",
    "#missing values=8\n",
    "#outliers=0\n",
    "#distribution\n",
    "df[\"Transmission\"].value_counts().plot(kind=\"bar\")"
   ]
  },
  {
   "cell_type": "code",
   "execution_count": 133,
   "metadata": {},
   "outputs": [
    {
     "data": {
      "text/plain": [
       "3"
      ]
     },
     "execution_count": 133,
     "metadata": {},
     "output_type": "execute_result"
    }
   ],
   "source": [
    "df[\"Transmission\"].nunique()"
   ]
  },
  {
   "cell_type": "code",
   "execution_count": 139,
   "metadata": {},
   "outputs": [
    {
     "data": {
      "text/plain": [
       "AUTO      56330\n",
       "MANUAL     2047\n",
       "Manual        1\n",
       "Name: Transmission, dtype: int64"
      ]
     },
     "execution_count": 139,
     "metadata": {},
     "output_type": "execute_result"
    }
   ],
   "source": [
    "TransmissionCount=df['Transmission'].value_counts()\n",
    "TransmissionCount"
   ]
  },
  {
   "cell_type": "code",
   "execution_count": 140,
   "metadata": {},
   "outputs": [
    {
     "data": {
      "text/plain": [
       "<matplotlib.axes._subplots.AxesSubplot at 0x1a1f4725eb8>"
      ]
     },
     "execution_count": 140,
     "metadata": {},
     "output_type": "execute_result"
    },
    {
     "data": {
      "image/png": "[encoded data removed]",
      "text/plain": [
       "<Figure size 432x288 with 1 Axes>"
      ]
     },
     "metadata": {
      "needs_background": "light"
     },
     "output_type": "display_data"
    }
   ],
   "source": [
    "#WheelTypeID (4 distinc values (3 refined))\n",
    "#missing values=2573+4(0)\n",
    "#outliers=0\n",
    "#distribution\n",
    "df['WheelTypeID'].value_counts().plot(kind=\"bar\")"
   ]
  },
  {
   "cell_type": "code",
   "execution_count": 141,
   "metadata": {},
   "outputs": [
    {
     "data": {
      "text/plain": [
       "1.0    28735\n",
       "2.0    26485\n",
       "3.0      589\n",
       "0.0        4\n",
       "Name: WheelTypeID, dtype: int64"
      ]
     },
     "execution_count": 141,
     "metadata": {},
     "output_type": "execute_result"
    }
   ],
   "source": [
    "WheelTypeIdCounter=df['WheelTypeID'].value_counts()\n",
    "WheelTypeIdCounter"
   ]
  },
  {
   "cell_type": "code",
   "execution_count": 143,
   "metadata": {
    "scrolled": true
   },
   "outputs": [
    {
     "data": {
      "text/plain": [
       "<matplotlib.axes._subplots.AxesSubplot at 0x1a1f509e518>"
      ]
     },
     "execution_count": 143,
     "metadata": {},
     "output_type": "execute_result"
    },
    {
     "data": {
      "image/png": "[encoded data removed]",
      "text/plain": [
       "<Figure size 432x288 with 1 Axes>"
      ]
     },
     "metadata": {
      "needs_background": "light"
     },
     "output_type": "display_data"
    }
   ],
   "source": [
    "#WheelType (3 distinc values)\n",
    "#missing values=2577\n",
    "#outliers=0\n",
    "#distribution\n",
    "df[\"WheelType\"].value_counts().plot(kind=\"bar\")"
   ]
  },
  {
   "cell_type": "code",
   "execution_count": 145,
   "metadata": {},
   "outputs": [
    {
     "data": {
      "text/plain": [
       "Alloy      28735\n",
       "Covers     26485\n",
       "Special      589\n",
       "Name: WheelType, dtype: int64"
      ]
     },
     "execution_count": 145,
     "metadata": {},
     "output_type": "execute_result"
    }
   ],
   "source": [
    "WheelTypeIdCounter=df['WheelType'].value_counts()\n",
    "WheelTypeIdCounter"
   ]
  },
  {
   "cell_type": "code",
   "execution_count": 165,
   "metadata": {},
   "outputs": [
    {
     "data": {
      "text/plain": [
       "2573"
      ]
     },
     "execution_count": 165,
     "metadata": {},
     "output_type": "execute_result"
    }
   ],
   "source": [
    "RefIdN=set(df.loc[df[\"WheelType\"].isnull()]['RefId'].unique())\n",
    "RefIdNu=set(df.loc[df[\"WheelTypeID\"].isnull()]['RefId'].unique())\n",
    "Inter=RefIdN.intersection(RefIdNu)\n",
    "len(Inter)"
   ]
  },
  {
   "cell_type": "code",
   "execution_count": 177,
   "metadata": {},
   "outputs": [
    {
     "data": {
      "text/plain": [
       "<matplotlib.axes._subplots.AxesSubplot at 0x1a1f51b1ac8>"
      ]
     },
     "execution_count": 177,
     "metadata": {},
     "output_type": "execute_result"
    },
    {
     "data": {
      "image/png": "[encoded data removed]",
      "text/plain": [
       "<Figure size 432x288 with 1 Axes>"
      ]
     },
     "metadata": {
      "needs_background": "light"
     },
     "output_type": "display_data"
    }
   ],
   "source": [
    "#VehOdo\n",
    "#missing values=0\n",
    "#outliers=????\n",
    "#distribution (longTail Distribution on the small values)\n",
    "binsN=math.ceil(math.log(df.shape[0],2))+1\n",
    "df[\"VehOdo\"].hist(bins=binsN)"
   ]
  },
  {
   "cell_type": "code",
   "execution_count": 178,
   "metadata": {},
   "outputs": [
    {
     "data": {
      "image/png": "[encoded data removed]",
      "text/plain": [
       "<Figure size 432x288 with 1 Axes>"
      ]
     },
     "metadata": {
      "needs_background": "light"
     },
     "output_type": "display_data"
    }
   ],
   "source": [
    "boxplot = df.boxplot(column=['VehOdo'])"
   ]
  },
  {
   "cell_type": "code",
   "execution_count": 180,
   "metadata": {},
   "outputs": [
    {
     "data": {
      "text/plain": [
       "<matplotlib.axes._subplots.AxesSubplot at 0x1a1f53047f0>"
      ]
     },
     "execution_count": 180,
     "metadata": {},
     "output_type": "execute_result"
    },
    {
     "data": {
      "image/png": "[encoded data removed]",
      "text/plain": [
       "<Figure size 432x288 with 1 Axes>"
      ]
     },
     "metadata": {
      "needs_background": "light"
     },
     "output_type": "display_data"
    }
   ],
   "source": [
    "#Nationality (4 distinc values)\n",
    "#missing values=4\n",
    "#outliers=? (?154?)\n",
    "#distribution\n",
    "df[\"Nationality\"].value_counts().plot(kind=\"bar\")"
   ]
  },
  {
   "cell_type": "code",
   "execution_count": 181,
   "metadata": {},
   "outputs": [
    {
     "data": {
      "text/plain": [
       "AMERICAN          48800\n",
       "OTHER ASIAN        6435\n",
       "TOP LINE ASIAN     2995\n",
       "OTHER               152\n",
       "Name: Nationality, dtype: int64"
      ]
     },
     "execution_count": 181,
     "metadata": {},
     "output_type": "execute_result"
    }
   ],
   "source": [
    "NationalityCounter=df['Nationality'].value_counts()\n",
    "NationalityCounter"
   ]
  },
  {
   "cell_type": "code",
   "execution_count": 184,
   "metadata": {},
   "outputs": [
    {
     "data": {
      "text/plain": [
       "<matplotlib.axes._subplots.AxesSubplot at 0x1a1f53f42b0>"
      ]
     },
     "execution_count": 184,
     "metadata": {},
     "output_type": "execute_result"
    },
    {
     "data": {
      "image/png": "[encoded data removed]",
      "text/plain": [
       "<Figure size 432x288 with 1 Axes>"
      ]
     },
     "metadata": {
      "needs_background": "light"
     },
     "output_type": "display_data"
    }
   ],
   "source": [
    "#Size (12 distinc values)\n",
    "#missing values=4\n",
    "#outliers=?\n",
    "#distribution\n",
    "df[\"Size\"].value_counts().plot(kind=\"bar\")"
   ]
  },
  {
   "cell_type": "code",
   "execution_count": 186,
   "metadata": {},
   "outputs": [
    {
     "data": {
      "text/plain": [
       "MEDIUM         24644\n",
       "LARGE           7120\n",
       "MEDIUM SUV      6398\n",
       "COMPACT         5764\n",
       "VAN             4677\n",
       "LARGE TRUCK     2554\n",
       "SMALL SUV       1805\n",
       "SPECIALTY       1527\n",
       "CROSSOVER       1419\n",
       "LARGE SUV       1157\n",
       "SMALL TRUCK      696\n",
       "SPORTS           621\n",
       "Name: Size, dtype: int64"
      ]
     },
     "execution_count": 186,
     "metadata": {},
     "output_type": "execute_result"
    }
   ],
   "source": [
    "SizeCounter=df['Size'].value_counts()\n",
    "SizeCounter"
   ]
  },
  {
   "cell_type": "code",
   "execution_count": 264,
   "metadata": {},
   "outputs": [
    {
     "data": {
      "text/plain": [
       "<matplotlib.axes._subplots.AxesSubplot at 0x1a1f929dfd0>"
      ]
     },
     "execution_count": 264,
     "metadata": {},
     "output_type": "execute_result"
    },
    {
     "data": {
      "image/png": "[encoded data removed]",
      "text/plain": [
       "<Figure size 720x720 with 1 Axes>"
      ]
     },
     "metadata": {
      "needs_background": "light"
     },
     "output_type": "display_data"
    }
   ],
   "source": [
    "#TopThreeAmericanName (4 distinc values)\n",
    "#missing values=4\n",
    "#outliers=?\n",
    "#distribution\n",
    "df[\"TopThreeAmericanName\"].value_counts().plot(kind=\"bar\", figsize=(10, 10))"
   ]
  },
  {
   "cell_type": "code",
   "execution_count": 192,
   "metadata": {},
   "outputs": [
    {
     "data": {
      "text/plain": [
       "GM          20248\n",
       "CHRYSLER    18733\n",
       "FORD         9819\n",
       "OTHER        9582\n",
       "Name: TopThreeAmericanName, dtype: int64"
      ]
     },
     "execution_count": 192,
     "metadata": {},
     "output_type": "execute_result"
    }
   ],
   "source": [
    "Top3Counter=df['TopThreeAmericanName'].value_counts()\n",
    "Top3Counter"
   ]
  },
  {
   "cell_type": "code",
   "execution_count": 196,
   "metadata": {},
   "outputs": [
    {
     "data": {
      "text/plain": [
       "<matplotlib.axes._subplots.AxesSubplot at 0x1a1f67b0128>"
      ]
     },
     "execution_count": 196,
     "metadata": {},
     "output_type": "execute_result"
    },
    {
     "data": {
      "image/png": "[encoded data removed]",
      "text/plain": [
       "<Figure size 360x360 with 1 Axes>"
      ]
     },
     "metadata": {},
     "output_type": "display_data"
    }
   ],
   "source": [
    "#PRIMEUNIT (2 distinc values)\n",
    "#missing values=55703\n",
    "#outliers=?\n",
    "#distribution\n",
    "df[\"PRIMEUNIT\"].value_counts(dropna=False).plot.pie(y='PRIMEUNIT',figsize=(5, 5))"
   ]
  },
  {
   "cell_type": "code",
   "execution_count": 202,
   "metadata": {},
   "outputs": [
    {
     "data": {
      "text/plain": [
       "<matplotlib.axes._subplots.AxesSubplot at 0x1a1f6bf6518>"
      ]
     },
     "execution_count": 202,
     "metadata": {},
     "output_type": "execute_result"
    },
    {
     "data": {
      "image/png": "[encoded data removed]",
      "text/plain": [
       "<Figure size 360x360 with 1 Axes>"
      ]
     },
     "metadata": {},
     "output_type": "display_data"
    }
   ],
   "source": [
    "#AUCGUART (4 distinc values)\n",
    "#missing values=55703\n",
    "#outliers=?\n",
    "#distribution\n",
    "df[\"AUCGUART\"].value_counts(dropna=False).plot.pie(y='AUCGUART',figsize=(5, 5))"
   ]
  },
  {
   "cell_type": "code",
   "execution_count": 200,
   "metadata": {},
   "outputs": [
    {
     "data": {
      "text/plain": [
       "<matplotlib.axes._subplots.AxesSubplot at 0x1a1f68db7f0>"
      ]
     },
     "execution_count": 200,
     "metadata": {},
     "output_type": "execute_result"
    },
    {
     "data": {
      "image/png": "[encoded data removed]",
      "text/plain": [
       "<Figure size 432x288 with 1 Axes>"
      ]
     },
     "metadata": {
      "needs_background": "light"
     },
     "output_type": "display_data"
    }
   ],
   "source": [
    "#BYRNO (72 distinc values)\n",
    "#missing values=0\n",
    "#outliers=0\n",
    "#distribution\n",
    "df[\"BYRNO\"].value_counts().plot(kind=\"bar\")"
   ]
  },
  {
   "cell_type": "code",
   "execution_count": 232,
   "metadata": {},
   "outputs": [
    {
     "data": {
      "text/plain": [
       "72"
      ]
     },
     "execution_count": 232,
     "metadata": {},
     "output_type": "execute_result"
    }
   ],
   "source": [
    "df[\"BYRNO\"].nunique()"
   ]
  },
  {
   "cell_type": "code",
   "execution_count": 237,
   "metadata": {},
   "outputs": [
    {
     "data": {
      "text/plain": [
       "17"
      ]
     },
     "execution_count": 237,
     "metadata": {},
     "output_type": "execute_result"
    }
   ],
   "source": [
    "ByeCount=df['BYRNO'].value_counts()\n",
    "ByeCount.loc[df['BYRNO'].value_counts()<10].count()\n",
    "#df.shape[0]/df[\"BYRNO\"].nunique()"
   ]
  },
  {
   "cell_type": "code",
   "execution_count": 208,
   "metadata": {},
   "outputs": [
    {
     "data": {
      "text/plain": [
       "<matplotlib.axes._subplots.AxesSubplot at 0x1a1f82f93c8>"
      ]
     },
     "execution_count": 208,
     "metadata": {},
     "output_type": "execute_result"
    },
    {
     "data": {
      "image/png": "[encoded data removed]",
      "text/plain": [
       "<Figure size 432x288 with 1 Axes>"
      ]
     },
     "metadata": {
      "needs_background": "light"
     },
     "output_type": "display_data"
    }
   ],
   "source": [
    "#VNZIP1 (152 distinc values)\n",
    "#missing values=0\n",
    "#outliers=0 (5)\n",
    "#distribution\n",
    "df[\"VNZIP1\"].value_counts().plot(kind=\"bar\")"
   ]
  },
  {
   "cell_type": "code",
   "execution_count": 209,
   "metadata": {},
   "outputs": [
    {
     "data": {
      "text/plain": [
       "152"
      ]
     },
     "execution_count": 209,
     "metadata": {},
     "output_type": "execute_result"
    }
   ],
   "source": [
    "df[\"VNZIP1\"].nunique()"
   ]
  },
  {
   "cell_type": "code",
   "execution_count": 210,
   "metadata": {},
   "outputs": [
    {
     "data": {
      "text/plain": [
       "5"
      ]
     },
     "execution_count": 210,
     "metadata": {},
     "output_type": "execute_result"
    }
   ],
   "source": [
    "#approximate number of outliers\n",
    "ZipCount=df['VNZIP1'].value_counts()\n",
    "ZipCount.loc[df['VNZIP1'].value_counts()<2].count()"
   ]
  },
  {
   "cell_type": "code",
   "execution_count": 212,
   "metadata": {},
   "outputs": [
    {
     "data": {
      "text/plain": [
       "<matplotlib.axes._subplots.AxesSubplot at 0x1a1f8747898>"
      ]
     },
     "execution_count": 212,
     "metadata": {},
     "output_type": "execute_result"
    },
    {
     "data": {
      "image/png": "[encoded data removed]",
      "text/plain": [
       "<Figure size 432x288 with 1 Axes>"
      ]
     },
     "metadata": {
      "needs_background": "light"
     },
     "output_type": "display_data"
    }
   ],
   "source": [
    "#VNZIP1 (37 distinc values)\n",
    "#missing values=0\n",
    "#outliers=0\n",
    "#distribution\n",
    "df[\"VNST\"].value_counts().plot(kind=\"bar\")"
   ]
  },
  {
   "cell_type": "code",
   "execution_count": 214,
   "metadata": {},
   "outputs": [
    {
     "data": {
      "text/plain": [
       "37"
      ]
     },
     "execution_count": 214,
     "metadata": {},
     "output_type": "execute_result"
    }
   ],
   "source": [
    "df[\"VNST\"].nunique()"
   ]
  },
  {
   "cell_type": "code",
   "execution_count": 219,
   "metadata": {},
   "outputs": [
    {
     "data": {
      "text/plain": [
       "0"
      ]
     },
     "execution_count": 219,
     "metadata": {},
     "output_type": "execute_result"
    }
   ],
   "source": [
    "#approximate number of outliers\n",
    "VNSTCount=df['VNST'].value_counts()\n",
    "VNSTCount.loc[df['VNST'].value_counts()<2].count()"
   ]
  },
  {
   "cell_type": "code",
   "execution_count": 241,
   "metadata": {},
   "outputs": [
    {
     "data": {
      "text/plain": [
       "<matplotlib.axes._subplots.AxesSubplot at 0x1a1f911a630>"
      ]
     },
     "execution_count": 241,
     "metadata": {},
     "output_type": "execute_result"
    },
    {
     "data": {
      "image/png": "[encoded data removed]",
      "text/plain": [
       "<Figure size 432x288 with 1 Axes>"
      ]
     },
     "metadata": {
      "needs_background": "light"
     },
     "output_type": "display_data"
    }
   ],
   "source": [
    "#VehBCost\n",
    "#missing values=0\n",
    "#outliers=????\n",
    "#distribution (longTail Distribution on the big values values)\n",
    "binsN=math.ceil(math.log(df.shape[0],2))+1\n",
    "df.loc[df[\"VehBCost\"]<15000][\"VehBCost\"].hist(bins=binsN)"
   ]
  },
  {
   "cell_type": "code",
   "execution_count": 242,
   "metadata": {
    "scrolled": true
   },
   "outputs": [
    {
     "data": {
      "image/png": "[encoded data removed]",
      "text/plain": [
       "<Figure size 432x288 with 1 Axes>"
      ]
     },
     "metadata": {
      "needs_background": "light"
     },
     "output_type": "display_data"
    }
   ],
   "source": [
    "boxplot = df.boxplot(column=['VehBCost'])"
   ]
  },
  {
   "cell_type": "code",
   "execution_count": 265,
   "metadata": {
    "scrolled": true
   },
   "outputs": [
    {
     "data": {
      "text/plain": [
       "12"
      ]
     },
     "execution_count": 265,
     "metadata": {},
     "output_type": "execute_result"
    }
   ],
   "source": [
    "df.loc[df[\"VehBCost\"]>15000][\"VehBCost\"].count()"
   ]
  },
  {
   "cell_type": "code",
   "execution_count": 281,
   "metadata": {},
   "outputs": [
    {
     "data": {
      "text/plain": [
       "5185      9400.62\n",
       "5691     13070.02\n",
       "6163     11250.00\n",
       "6380     29795.00\n",
       "7551      8100.00\n",
       "10590    10215.00\n",
       "11498    11727.64\n",
       "13248     8185.00\n",
       "18672     9100.00\n",
       "19816    11800.00\n",
       "23109    28560.00\n",
       "24014    13674.57\n",
       "30843     9400.00\n",
       "35739     9690.00\n",
       "36456     7045.00\n",
       "38272     9715.00\n",
       "38767    36485.00\n",
       "39873     9700.00\n",
       "40040    11700.00\n",
       "41213    13195.00\n",
       "41574     8685.00\n",
       "43884     8895.00\n",
       "45646     9770.00\n",
       "46103     9400.00\n",
       "47730    10800.00\n",
       "52530    10190.00\n",
       "53828     8780.00\n",
       "Name: VehBCost, dtype: float64"
      ]
     },
     "execution_count": 281,
     "metadata": {},
     "output_type": "execute_result"
    }
   ],
   "source": [
    "df.loc[df['Make']=='LEXUS']['VehBCost']\n",
    "\n",
    "wout.loc[df['VehBCost']>20000]\n",
    "\n",
    "\n"
   ]
  },
  {
   "cell_type": "code",
   "execution_count": 263,
   "metadata": {},
   "outputs": [
    {
     "data": {
      "text/plain": [
       "995      2500 SILVERADO PICKU\n",
       "1244                     300C\n",
       "1306      2500 RAM PICKUP 2WD\n",
       "4049                     300C\n",
       "5691                    GS300\n",
       "6380               RX400H AWD\n",
       "6410                   AVALON\n",
       "6733                      M35\n",
       "7380                      G35\n",
       "8456                       TL\n",
       "9142     AVALANCHE 1500 2WD V\n",
       "9863       F150 PICKUP 2WD V8\n",
       "10803                      TL\n",
       "11700     1500 RAM PICKUP 2WD\n",
       "12564       HIGHLANDER 4WD V6\n",
       "13225      F150 PICKUP 4WD V8\n",
       "13787       HIGHLANDER 4WD V6\n",
       "14677     1500 RAM PICKUP 4WD\n",
       "15270         4 RUNNER 2WD V6\n",
       "15491              TOUAREG V8\n",
       "19071               ACCORD V6\n",
       "21637     1500 RAM PICKUP 2WD\n",
       "23109                  GS450H\n",
       "23502    1500 SILVERADO PICKU\n",
       "24014                   GS300\n",
       "28467    AVALANCHE 1500 2WD V\n",
       "31737                     300\n",
       "32128         4 RUNNER 4WD V6\n",
       "32434    F150 PICKUP 2WD V8 4\n",
       "36322     1500 RAM PICKUP 4WD\n",
       "36887                FX35 AWD\n",
       "36907       SUBURBAN 1500 4WD\n",
       "37771      F150 PICKUP 2WD V8\n",
       "38767              RX400H AWD\n",
       "39457       EXPEDITION 2WD V8\n",
       "41213                   ES330\n",
       "42283      F150 PICKUP 4WD V8\n",
       "42505               ACCORD 4C\n",
       "47118    1500 SIERRA PICKUP 2\n",
       "52952    AVALANCHE 1500 2WD V\n",
       "53207                   G8 V8\n",
       "53731        NAVIGATOR 2WD V8\n",
       "53782    TUNDRA PICKUP 2WD V8\n",
       "Name: Model, dtype: object"
      ]
     },
     "execution_count": 263,
     "metadata": {},
     "output_type": "execute_result"
    }
   ],
   "source": [
    "df.loc[df[\"VehBCost\"]>12000][\"Model\"].value_counts()\n",
    "\n",
    "listUni=df.loc[df[\"VehBCost\"]>12000][\"Model\"]#.unique()\n",
    "#df.loc[df[\"VehBCost\"] in listUni]\n",
    "listUni=\n",
    "\n",
    "#df.loc[df[\"Model\"]==\"AVALANCHE 1500 2WD V\"][\"VehBCost\"].mean()\n",
    "\n",
    "#df.loc[df[\"Model\"]==\"AVALANCHE 1500 2WD V\"][\"VehBCost\"].max()"
   ]
  },
  {
   "cell_type": "code",
   "execution_count": 231,
   "metadata": {},
   "outputs": [
    {
     "data": {
      "text/plain": [
       "<matplotlib.axes._subplots.AxesSubplot at 0x1a1f8ddce80>"
      ]
     },
     "execution_count": 231,
     "metadata": {},
     "output_type": "execute_result"
    },
    {
     "data": {
      "image/png": "[encoded data removed]",
      "text/plain": [
       "<Figure size 432x288 with 1 Axes>"
      ]
     },
     "metadata": {
      "needs_background": "light"
     },
     "output_type": "display_data"
    }
   ],
   "source": [
    "#IsOnlineSale (2 distinct values)\n",
    "#missing values=0\n",
    "#outliers=0\n",
    "#distribution \n",
    "df[\"IsOnlineSale\"].value_counts().plot(kind=\"bar\")"
   ]
  },
  {
   "cell_type": "code",
   "execution_count": 227,
   "metadata": {},
   "outputs": [
    {
     "data": {
      "text/plain": [
       "<matplotlib.axes._subplots.AxesSubplot at 0x1a1f8ba87f0>"
      ]
     },
     "execution_count": 227,
     "metadata": {},
     "output_type": "execute_result"
    },
    {
     "data": {
      "image/png": "[encoded data removed]",
      "text/plain": [
       "<Figure size 432x288 with 1 Axes>"
      ]
     },
     "metadata": {
      "needs_background": "light"
     },
     "output_type": "display_data"
    }
   ],
   "source": [
    "#WarrantyCost\n",
    "#missing values=0\n",
    "#outliers=????\n",
    "#distribution (longTail Distribution on the big values values)\n",
    "binsN=math.ceil(math.log(df.shape[0],2))+1\n",
    "df[\"WarrantyCost\"].hist(bins=binsN)"
   ]
  },
  {
   "cell_type": "code",
   "execution_count": 282,
   "metadata": {},
   "outputs": [
    {
     "data": {
      "image/png": "[encoded data removed]",
      "text/plain": [
       "<Figure size 432x288 with 1 Axes>"
      ]
     },
     "metadata": {
      "needs_background": "light"
     },
     "output_type": "display_data"
    }
   ],
   "source": [
    "boxplot = df.boxplot(column=['WarrantyCost'])"
   ]
  },
  {
   "cell_type": "code",
   "execution_count": 286,
   "metadata": {},
   "outputs": [
    {
     "data": {
      "text/plain": [
       "<matplotlib.axes._subplots.AxesSubplot at 0x1a1f93fa320>"
      ]
     },
     "execution_count": 286,
     "metadata": {},
     "output_type": "execute_result"
    },
    {
     "data": {
      "image/png": "[encoded data removed]",
      "text/plain": [
       "<Figure size 432x288 with 1 Axes>"
      ]
     },
     "metadata": {
      "needs_background": "light"
     },
     "output_type": "display_data"
    }
   ],
   "source": [
    "#BadBUY (2 distinc values)\n",
    "#missing values=0\n",
    "#outliers=0\n",
    "#distribution\n",
    "df[\"IsBadBuy\"].value_counts().plot(kind=\"bar\")"
   ]
  },
  {
   "cell_type": "code",
   "execution_count": 288,
   "metadata": {},
   "outputs": [
    {
     "data": {
      "text/plain": [
       "0    51178\n",
       "1     7208\n",
       "Name: IsBadBuy, dtype: int64"
      ]
     },
     "execution_count": 288,
     "metadata": {},
     "output_type": "execute_result"
    }
   ],
   "source": [
    "df[\"IsBadBuy\"].value_counts()"
   ]
  },
  {
   "cell_type": "code",
   "execution_count": 308,
   "metadata": {},
   "outputs": [
    {
     "data": {
      "text/html": [
       "<div>\n",
       "<style scoped>\n",
       "    .dataframe tbody tr th:only-of-type {\n",
       "        vertical-align: middle;\n",
       "    }\n",
       "\n",
       "    .dataframe tbody tr th {\n",
       "        vertical-align: top;\n",
       "    }\n",
       "\n",
       "    .dataframe thead th {\n",
       "        text-align: right;\n",
       "    }\n",
       "</style>\n",
       "<table border=\"1\" class=\"dataframe\">\n",
       "  <thead>\n",
       "    <tr style=\"text-align: right;\">\n",
       "      <th></th>\n",
       "      <th>RefId</th>\n",
       "      <th>IsBadBuy</th>\n",
       "      <th>PurchDate</th>\n",
       "      <th>Auction</th>\n",
       "      <th>VehYear</th>\n",
       "      <th>VehicleAge</th>\n",
       "      <th>Make</th>\n",
       "      <th>Model</th>\n",
       "      <th>Trim</th>\n",
       "      <th>SubModel</th>\n",
       "      <th>...</th>\n",
       "      <th>MMRCurrentRetailAveragePrice</th>\n",
       "      <th>MMRCurrentRetailCleanPrice</th>\n",
       "      <th>PRIMEUNIT</th>\n",
       "      <th>AUCGUART</th>\n",
       "      <th>BYRNO</th>\n",
       "      <th>VNZIP1</th>\n",
       "      <th>VNST</th>\n",
       "      <th>VehBCost</th>\n",
       "      <th>IsOnlineSale</th>\n",
       "      <th>WarrantyCost</th>\n",
       "    </tr>\n",
       "  </thead>\n",
       "  <tbody>\n",
       "    <tr>\n",
       "      <td>5185</td>\n",
       "      <td>69213</td>\n",
       "      <td>1</td>\n",
       "      <td>2009-06-11</td>\n",
       "      <td>ADESA</td>\n",
       "      <td>2006</td>\n",
       "      <td>3</td>\n",
       "      <td>LEXUS</td>\n",
       "      <td>RX330 FWD</td>\n",
       "      <td>NaN</td>\n",
       "      <td>4D SPORT UTILITY</td>\n",
       "      <td>...</td>\n",
       "      <td>20930.0</td>\n",
       "      <td>23922.0</td>\n",
       "      <td>NaN</td>\n",
       "      <td>NaN</td>\n",
       "      <td>16926</td>\n",
       "      <td>91752</td>\n",
       "      <td>CA</td>\n",
       "      <td>9400.62</td>\n",
       "      <td>0</td>\n",
       "      <td>764</td>\n",
       "    </tr>\n",
       "    <tr>\n",
       "      <td>5691</td>\n",
       "      <td>6270</td>\n",
       "      <td>1</td>\n",
       "      <td>2010-04-29</td>\n",
       "      <td>MANHEIM</td>\n",
       "      <td>2006</td>\n",
       "      <td>4</td>\n",
       "      <td>LEXUS</td>\n",
       "      <td>GS300</td>\n",
       "      <td>NaN</td>\n",
       "      <td>4D SEDAN</td>\n",
       "      <td>...</td>\n",
       "      <td>23951.0</td>\n",
       "      <td>26754.0</td>\n",
       "      <td>NaN</td>\n",
       "      <td>NaN</td>\n",
       "      <td>18881</td>\n",
       "      <td>30272</td>\n",
       "      <td>GA</td>\n",
       "      <td>13070.02</td>\n",
       "      <td>0</td>\n",
       "      <td>764</td>\n",
       "    </tr>\n",
       "    <tr>\n",
       "      <td>6380</td>\n",
       "      <td>69256</td>\n",
       "      <td>1</td>\n",
       "      <td>2009-04-12</td>\n",
       "      <td>ADESA</td>\n",
       "      <td>2007</td>\n",
       "      <td>2</td>\n",
       "      <td>LEXUS</td>\n",
       "      <td>RX400H AWD</td>\n",
       "      <td>NaN</td>\n",
       "      <td>4D SPORT UTILITY</td>\n",
       "      <td>...</td>\n",
       "      <td>32928.0</td>\n",
       "      <td>35366.0</td>\n",
       "      <td>NaN</td>\n",
       "      <td>NaN</td>\n",
       "      <td>16926</td>\n",
       "      <td>91752</td>\n",
       "      <td>CA</td>\n",
       "      <td>29795.00</td>\n",
       "      <td>0</td>\n",
       "      <td>1001</td>\n",
       "    </tr>\n",
       "    <tr>\n",
       "      <td>11498</td>\n",
       "      <td>33502</td>\n",
       "      <td>1</td>\n",
       "      <td>2009-12-05</td>\n",
       "      <td>MANHEIM</td>\n",
       "      <td>2006</td>\n",
       "      <td>3</td>\n",
       "      <td>LEXUS</td>\n",
       "      <td>GS300 3.0L I6 EFI</td>\n",
       "      <td>NaN</td>\n",
       "      <td>4D SEDAN</td>\n",
       "      <td>...</td>\n",
       "      <td>23327.0</td>\n",
       "      <td>26164.0</td>\n",
       "      <td>YES</td>\n",
       "      <td>GREEN</td>\n",
       "      <td>21973</td>\n",
       "      <td>34761</td>\n",
       "      <td>FL</td>\n",
       "      <td>11727.64</td>\n",
       "      <td>0</td>\n",
       "      <td>764</td>\n",
       "    </tr>\n",
       "    <tr>\n",
       "      <td>23109</td>\n",
       "      <td>6038</td>\n",
       "      <td>1</td>\n",
       "      <td>2010-11-23</td>\n",
       "      <td>MANHEIM</td>\n",
       "      <td>2007</td>\n",
       "      <td>3</td>\n",
       "      <td>LEXUS</td>\n",
       "      <td>GS450H</td>\n",
       "      <td>NaN</td>\n",
       "      <td>4D SEDAN HYBRID</td>\n",
       "      <td>...</td>\n",
       "      <td>29752.0</td>\n",
       "      <td>33337.0</td>\n",
       "      <td>NaN</td>\n",
       "      <td>NaN</td>\n",
       "      <td>835</td>\n",
       "      <td>85040</td>\n",
       "      <td>AZ</td>\n",
       "      <td>28560.00</td>\n",
       "      <td>0</td>\n",
       "      <td>1121</td>\n",
       "    </tr>\n",
       "    <tr>\n",
       "      <td>24014</td>\n",
       "      <td>15340</td>\n",
       "      <td>1</td>\n",
       "      <td>2010-06-23</td>\n",
       "      <td>MANHEIM</td>\n",
       "      <td>2006</td>\n",
       "      <td>4</td>\n",
       "      <td>LEXUS</td>\n",
       "      <td>GS300</td>\n",
       "      <td>NaN</td>\n",
       "      <td>4D SEDAN</td>\n",
       "      <td>...</td>\n",
       "      <td>23107.0</td>\n",
       "      <td>26542.0</td>\n",
       "      <td>NaN</td>\n",
       "      <td>NaN</td>\n",
       "      <td>835</td>\n",
       "      <td>94544</td>\n",
       "      <td>CA</td>\n",
       "      <td>13674.57</td>\n",
       "      <td>0</td>\n",
       "      <td>764</td>\n",
       "    </tr>\n",
       "    <tr>\n",
       "      <td>35739</td>\n",
       "      <td>19000</td>\n",
       "      <td>1</td>\n",
       "      <td>2009-01-09</td>\n",
       "      <td>MANHEIM</td>\n",
       "      <td>2002</td>\n",
       "      <td>7</td>\n",
       "      <td>LEXUS</td>\n",
       "      <td>ES300 3.0L V6 EFI</td>\n",
       "      <td>NaN</td>\n",
       "      <td>4D SEDAN</td>\n",
       "      <td>...</td>\n",
       "      <td>10082.0</td>\n",
       "      <td>11632.0</td>\n",
       "      <td>NaN</td>\n",
       "      <td>NaN</td>\n",
       "      <td>22916</td>\n",
       "      <td>80022</td>\n",
       "      <td>CO</td>\n",
       "      <td>9690.00</td>\n",
       "      <td>0</td>\n",
       "      <td>1497</td>\n",
       "    </tr>\n",
       "    <tr>\n",
       "      <td>38767</td>\n",
       "      <td>15318</td>\n",
       "      <td>1</td>\n",
       "      <td>2010-05-26</td>\n",
       "      <td>MANHEIM</td>\n",
       "      <td>2008</td>\n",
       "      <td>2</td>\n",
       "      <td>LEXUS</td>\n",
       "      <td>RX400H AWD</td>\n",
       "      <td>NaN</td>\n",
       "      <td>4D SPORT UTILITY</td>\n",
       "      <td>...</td>\n",
       "      <td>38151.0</td>\n",
       "      <td>41062.0</td>\n",
       "      <td>NaN</td>\n",
       "      <td>NaN</td>\n",
       "      <td>835</td>\n",
       "      <td>94544</td>\n",
       "      <td>CA</td>\n",
       "      <td>36485.00</td>\n",
       "      <td>0</td>\n",
       "      <td>1001</td>\n",
       "    </tr>\n",
       "    <tr>\n",
       "      <td>52530</td>\n",
       "      <td>19026</td>\n",
       "      <td>1</td>\n",
       "      <td>2009-09-15</td>\n",
       "      <td>MANHEIM</td>\n",
       "      <td>2002</td>\n",
       "      <td>7</td>\n",
       "      <td>LEXUS</td>\n",
       "      <td>ES300 3.0L V6 EFI</td>\n",
       "      <td>NaN</td>\n",
       "      <td>4D SEDAN</td>\n",
       "      <td>...</td>\n",
       "      <td>9976.0</td>\n",
       "      <td>11511.0</td>\n",
       "      <td>NaN</td>\n",
       "      <td>NaN</td>\n",
       "      <td>22916</td>\n",
       "      <td>80022</td>\n",
       "      <td>CO</td>\n",
       "      <td>10190.00</td>\n",
       "      <td>0</td>\n",
       "      <td>1497</td>\n",
       "    </tr>\n",
       "  </tbody>\n",
       "</table>\n",
       "<p>9 rows × 34 columns</p>\n",
       "</div>"
      ],
      "text/plain": [
       "       RefId  IsBadBuy  PurchDate  Auction  VehYear  VehicleAge   Make  \\\n",
       "5185   69213         1 2009-06-11    ADESA     2006           3  LEXUS   \n",
       "5691    6270         1 2010-04-29  MANHEIM     2006           4  LEXUS   \n",
       "6380   69256         1 2009-04-12    ADESA     2007           2  LEXUS   \n",
       "11498  33502         1 2009-12-05  MANHEIM     2006           3  LEXUS   \n",
       "23109   6038         1 2010-11-23  MANHEIM     2007           3  LEXUS   \n",
       "24014  15340         1 2010-06-23  MANHEIM     2006           4  LEXUS   \n",
       "35739  19000         1 2009-01-09  MANHEIM     2002           7  LEXUS   \n",
       "38767  15318         1 2010-05-26  MANHEIM     2008           2  LEXUS   \n",
       "52530  19026         1 2009-09-15  MANHEIM     2002           7  LEXUS   \n",
       "\n",
       "                   Model Trim          SubModel  ...  \\\n",
       "5185           RX330 FWD  NaN  4D SPORT UTILITY  ...   \n",
       "5691               GS300  NaN          4D SEDAN  ...   \n",
       "6380          RX400H AWD  NaN  4D SPORT UTILITY  ...   \n",
       "11498  GS300 3.0L I6 EFI  NaN          4D SEDAN  ...   \n",
       "23109             GS450H  NaN   4D SEDAN HYBRID  ...   \n",
       "24014              GS300  NaN          4D SEDAN  ...   \n",
       "35739  ES300 3.0L V6 EFI  NaN          4D SEDAN  ...   \n",
       "38767         RX400H AWD  NaN  4D SPORT UTILITY  ...   \n",
       "52530  ES300 3.0L V6 EFI  NaN          4D SEDAN  ...   \n",
       "\n",
       "      MMRCurrentRetailAveragePrice MMRCurrentRetailCleanPrice  PRIMEUNIT  \\\n",
       "5185                       20930.0                    23922.0        NaN   \n",
       "5691                       23951.0                    26754.0        NaN   \n",
       "6380                       32928.0                    35366.0        NaN   \n",
       "11498                      23327.0                    26164.0        YES   \n",
       "23109                      29752.0                    33337.0        NaN   \n",
       "24014                      23107.0                    26542.0        NaN   \n",
       "35739                      10082.0                    11632.0        NaN   \n",
       "38767                      38151.0                    41062.0        NaN   \n",
       "52530                       9976.0                    11511.0        NaN   \n",
       "\n",
       "      AUCGUART  BYRNO VNZIP1 VNST  VehBCost  IsOnlineSale  WarrantyCost  \n",
       "5185       NaN  16926  91752   CA   9400.62             0           764  \n",
       "5691       NaN  18881  30272   GA  13070.02             0           764  \n",
       "6380       NaN  16926  91752   CA  29795.00             0          1001  \n",
       "11498    GREEN  21973  34761   FL  11727.64             0           764  \n",
       "23109      NaN    835  85040   AZ  28560.00             0          1121  \n",
       "24014      NaN    835  94544   CA  13674.57             0           764  \n",
       "35739      NaN  22916  80022   CO   9690.00             0          1497  \n",
       "38767      NaN    835  94544   CA  36485.00             0          1001  \n",
       "52530      NaN  22916  80022   CO  10190.00             0          1497  \n",
       "\n",
       "[9 rows x 34 columns]"
      ]
     },
     "execution_count": 308,
     "metadata": {},
     "output_type": "execute_result"
    }
   ],
   "source": [
    "table=df.loc[df['IsBadBuy']==1]['Make'].value_counts()\n",
    "table\n",
    "\n",
    "table=df.loc[df['Make']=='LEXUS']\n",
    "table.loc[table['IsBadBuy']==1]"
   ]
  }
 ],
 "metadata": {
  "kernelspec": {
   "display_name": "Python 3",
   "language": "python",
   "name": "python3"
  },
  "language_info": {
   "codemirror_mode": {
    "name": "ipython",
    "version": 3
   },
   "file_extension": ".py",
   "mimetype": "text/x-python",
   "name": "python",
   "nbconvert_exporter": "python",
   "pygments_lexer": "ipython3",
   "version": "3.6.5"
  }
 },
 "nbformat": 4,
 "nbformat_minor": 2
}
