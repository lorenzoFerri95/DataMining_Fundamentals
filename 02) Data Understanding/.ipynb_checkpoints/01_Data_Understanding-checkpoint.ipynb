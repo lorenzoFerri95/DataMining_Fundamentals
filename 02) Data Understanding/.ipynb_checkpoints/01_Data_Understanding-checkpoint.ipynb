{
 "cells": [
  {
   "cell_type": "markdown",
   "metadata": {},
   "source": [
    "# Data Understanding"
   ]
  },
  {
   "cell_type": "markdown",
   "metadata": {},
   "source": [
    "- Stato del Dataset\n",
    "\n",
    "- Distribuzioni di tutti gli attributi\n",
    "\n",
    "- Statistiche principali degli attributi numerici\n",
    "\n",
    "- Eliminazione degli attributi non significativi o con troppi missing values"
   ]
  },
  {
   "cell_type": "markdown",
   "metadata": {},
   "source": [
    "## Stato del Dataset"
   ]
  },
  {
   "cell_type": "markdown",
   "metadata": {},
   "source": [
    "- Importiamo le Librerie"
   ]
  },
  {
   "cell_type": "code",
   "execution_count": 1,
   "metadata": {},
   "outputs": [],
   "source": [
    "%matplotlib inline\n",
    "import math\n",
    "import numpy as np\n",
    "import pandas as pd\n",
    "import scipy.stats as stats\n",
    "import matplotlib.pyplot as plt\n",
    "\n",
    "from collections import defaultdict\n",
    "from scipy.stats.stats import pearsonr"
   ]
  },
  {
   "cell_type": "markdown",
   "metadata": {},
   "source": [
    "*** Vecchio DataSet ***"
   ]
  },
  {
   "cell_type": "markdown",
   "metadata": {},
   "source": [
    "abbiamo modificato sostanzialmente gli attributi 'Model' e 'SubModel' del DataSet originale.\n",
    "\n",
    "quindi verifichiamo i miglioramenti apportati analizzando questi attributi prima e dopo le modifiche. "
   ]
  },
  {
   "cell_type": "code",
   "execution_count": 2,
   "metadata": {},
   "outputs": [],
   "source": [
    "df_oldTrain = pd.read_csv(\"baseTrain.csv\")"
   ]
  },
  {
   "cell_type": "code",
   "execution_count": 3,
   "metadata": {
    "scrolled": true
   },
   "outputs": [
    {
     "data": {
      "text/plain": [
       "RefId                                  int64\n",
       "IsBadBuy                               int64\n",
       "PurchDate                             object\n",
       "Auction                               object\n",
       "VehYear                                int64\n",
       "VehicleAge                             int64\n",
       "Make                                  object\n",
       "Model                                 object\n",
       "Trim                                  object\n",
       "SubModel                              object\n",
       "Color                                 object\n",
       "Transmission                          object\n",
       "WheelTypeID                          float64\n",
       "WheelType                             object\n",
       "VehOdo                                 int64\n",
       "Nationality                           object\n",
       "Size                                  object\n",
       "TopThreeAmericanName                  object\n",
       "MMRAcquisitionAuctionAveragePrice    float64\n",
       "MMRAcquisitionAuctionCleanPrice      float64\n",
       "MMRAcquisitionRetailAveragePrice     float64\n",
       "MMRAcquisitonRetailCleanPrice        float64\n",
       "MMRCurrentAuctionAveragePrice        float64\n",
       "MMRCurrentAuctionCleanPrice          float64\n",
       "MMRCurrentRetailAveragePrice         float64\n",
       "MMRCurrentRetailCleanPrice           float64\n",
       "PRIMEUNIT                             object\n",
       "AUCGUART                              object\n",
       "BYRNO                                  int64\n",
       "VNZIP1                                 int64\n",
       "VNST                                  object\n",
       "VehBCost                             float64\n",
       "IsOnlineSale                           int64\n",
       "WarrantyCost                           int64\n",
       "dtype: object"
      ]
     },
     "execution_count": 3,
     "metadata": {},
     "output_type": "execute_result"
    }
   ],
   "source": [
    "df_oldTrain.dtypes"
   ]
  },
  {
   "cell_type": "markdown",
   "metadata": {},
   "source": [
    "- Model"
   ]
  },
  {
   "cell_type": "code",
   "execution_count": 4,
   "metadata": {
    "scrolled": true
   },
   "outputs": [
    {
     "data": {
      "text/plain": [
       "1029"
      ]
     },
     "execution_count": 4,
     "metadata": {},
     "output_type": "execute_result"
    }
   ],
   "source": [
    "df_oldTrain[\"Model\"].nunique()"
   ]
  },
  {
   "cell_type": "code",
   "execution_count": 5,
   "metadata": {
    "scrolled": true
   },
   "outputs": [
    {
     "data": {
      "text/plain": [
       "174"
      ]
     },
     "execution_count": 5,
     "metadata": {},
     "output_type": "execute_result"
    }
   ],
   "source": [
    "#approximate number of outliers\n",
    "df_oldTrain['Model'].value_counts().loc[df_oldTrain['Model'].value_counts()<2].count()"
   ]
  },
  {
   "cell_type": "code",
   "execution_count": 6,
   "metadata": {
    "scrolled": false
   },
   "outputs": [],
   "source": [
    "#df_oldTrain[\"Model\"].value_counts().plot(kind=\"bar\")\n",
    "#plt.show()"
   ]
  },
  {
   "cell_type": "markdown",
   "metadata": {},
   "source": [
    "- SubModel"
   ]
  },
  {
   "cell_type": "code",
   "execution_count": 7,
   "metadata": {
    "scrolled": true
   },
   "outputs": [
    {
     "data": {
      "text/plain": [
       "839"
      ]
     },
     "execution_count": 7,
     "metadata": {},
     "output_type": "execute_result"
    }
   ],
   "source": [
    "df_oldTrain[\"SubModel\"].nunique()"
   ]
  },
  {
   "cell_type": "code",
   "execution_count": 8,
   "metadata": {
    "scrolled": true
   },
   "outputs": [
    {
     "data": {
      "text/plain": [
       "175"
      ]
     },
     "execution_count": 8,
     "metadata": {},
     "output_type": "execute_result"
    }
   ],
   "source": [
    "#approximate number of outliers\n",
    "df_oldTrain['SubModel'].value_counts().loc[df_oldTrain['SubModel'].value_counts()<2].count()"
   ]
  },
  {
   "cell_type": "markdown",
   "metadata": {},
   "source": [
    "come avremo modo di verificare successivamente abbiamo ridotto di molto il numero di categorie di questi attributi scorporandone i valori in ulteriori attributi interessanti."
   ]
  },
  {
   "cell_type": "markdown",
   "metadata": {},
   "source": [
    "*** Nuovo Dataset ***"
   ]
  },
  {
   "cell_type": "code",
   "execution_count": 9,
   "metadata": {
    "scrolled": false
   },
   "outputs": [],
   "source": [
    "df = pd.read_csv(\"Training_Set.csv\")\n",
    "df_test = pd.read_csv(\"Test_Set.csv\")"
   ]
  },
  {
   "cell_type": "code",
   "execution_count": 10,
   "metadata": {
    "scrolled": true
   },
   "outputs": [
    {
     "data": {
      "text/html": [
       "<div>\n",
       "<style scoped>\n",
       "    .dataframe tbody tr th:only-of-type {\n",
       "        vertical-align: middle;\n",
       "    }\n",
       "\n",
       "    .dataframe tbody tr th {\n",
       "        vertical-align: top;\n",
       "    }\n",
       "\n",
       "    .dataframe thead th {\n",
       "        text-align: right;\n",
       "    }\n",
       "</style>\n",
       "<table border=\"1\" class=\"dataframe\">\n",
       "  <thead>\n",
       "    <tr style=\"text-align: right;\">\n",
       "      <th></th>\n",
       "      <th>RefId</th>\n",
       "      <th>IsBadBuy</th>\n",
       "      <th>PurchDate</th>\n",
       "      <th>Auction</th>\n",
       "      <th>VehYear</th>\n",
       "      <th>VehicleAge</th>\n",
       "      <th>Make</th>\n",
       "      <th>Engine</th>\n",
       "      <th>Trim</th>\n",
       "      <th>SubModelSpecifics</th>\n",
       "      <th>...</th>\n",
       "      <th>BYRNO</th>\n",
       "      <th>VNZIP1</th>\n",
       "      <th>VNST</th>\n",
       "      <th>VehBCost</th>\n",
       "      <th>IsOnlineSale</th>\n",
       "      <th>WarrantyCost</th>\n",
       "      <th>Model</th>\n",
       "      <th>Wheeldrive</th>\n",
       "      <th>Doors</th>\n",
       "      <th>SubModel</th>\n",
       "    </tr>\n",
       "  </thead>\n",
       "  <tbody>\n",
       "    <tr>\n",
       "      <th>0</th>\n",
       "      <td>326</td>\n",
       "      <td>1</td>\n",
       "      <td>2010-10-25</td>\n",
       "      <td>ADESA</td>\n",
       "      <td>2008</td>\n",
       "      <td>2</td>\n",
       "      <td>KIA</td>\n",
       "      <td>NaN</td>\n",
       "      <td>EX</td>\n",
       "      <td>NaN</td>\n",
       "      <td>...</td>\n",
       "      <td>5546</td>\n",
       "      <td>33619</td>\n",
       "      <td>FL</td>\n",
       "      <td>6100.0</td>\n",
       "      <td>0</td>\n",
       "      <td>533</td>\n",
       "      <td>SPECTRA</td>\n",
       "      <td>NaN</td>\n",
       "      <td>4D</td>\n",
       "      <td>SEDAN</td>\n",
       "    </tr>\n",
       "    <tr>\n",
       "      <th>1</th>\n",
       "      <td>42991</td>\n",
       "      <td>0</td>\n",
       "      <td>2009-05-27</td>\n",
       "      <td>MANHEIM</td>\n",
       "      <td>2006</td>\n",
       "      <td>3</td>\n",
       "      <td>DODGE</td>\n",
       "      <td>2.7L</td>\n",
       "      <td>SXT</td>\n",
       "      <td>FFV</td>\n",
       "      <td>...</td>\n",
       "      <td>99750</td>\n",
       "      <td>32124</td>\n",
       "      <td>FL</td>\n",
       "      <td>4000.0</td>\n",
       "      <td>0</td>\n",
       "      <td>1630</td>\n",
       "      <td>STRATUS</td>\n",
       "      <td>NaN</td>\n",
       "      <td>4D</td>\n",
       "      <td>SEDAN</td>\n",
       "    </tr>\n",
       "    <tr>\n",
       "      <th>2</th>\n",
       "      <td>55273</td>\n",
       "      <td>0</td>\n",
       "      <td>2010-03-18</td>\n",
       "      <td>OTHER</td>\n",
       "      <td>2008</td>\n",
       "      <td>2</td>\n",
       "      <td>DODGE</td>\n",
       "      <td>NaN</td>\n",
       "      <td>SE</td>\n",
       "      <td>NaN</td>\n",
       "      <td>...</td>\n",
       "      <td>99761</td>\n",
       "      <td>74135</td>\n",
       "      <td>OK</td>\n",
       "      <td>7500.0</td>\n",
       "      <td>0</td>\n",
       "      <td>693</td>\n",
       "      <td>CALIBER</td>\n",
       "      <td>NaN</td>\n",
       "      <td>4D</td>\n",
       "      <td>WAGON</td>\n",
       "    </tr>\n",
       "    <tr>\n",
       "      <th>3</th>\n",
       "      <td>29058</td>\n",
       "      <td>0</td>\n",
       "      <td>2009-08-06</td>\n",
       "      <td>OTHER</td>\n",
       "      <td>2005</td>\n",
       "      <td>4</td>\n",
       "      <td>FORD</td>\n",
       "      <td>3.9L</td>\n",
       "      <td>S</td>\n",
       "      <td>NaN</td>\n",
       "      <td>...</td>\n",
       "      <td>99761</td>\n",
       "      <td>85018</td>\n",
       "      <td>AZ</td>\n",
       "      <td>4725.0</td>\n",
       "      <td>0</td>\n",
       "      <td>1633</td>\n",
       "      <td>FREESTAR</td>\n",
       "      <td>2WD</td>\n",
       "      <td>NaN</td>\n",
       "      <td>PASSENGER</td>\n",
       "    </tr>\n",
       "    <tr>\n",
       "      <th>4</th>\n",
       "      <td>34991</td>\n",
       "      <td>0</td>\n",
       "      <td>2009-04-03</td>\n",
       "      <td>MANHEIM</td>\n",
       "      <td>2005</td>\n",
       "      <td>4</td>\n",
       "      <td>CHRYSLER</td>\n",
       "      <td>V6</td>\n",
       "      <td>BAS</td>\n",
       "      <td>NaN</td>\n",
       "      <td>...</td>\n",
       "      <td>20833</td>\n",
       "      <td>75236</td>\n",
       "      <td>TX</td>\n",
       "      <td>5670.0</td>\n",
       "      <td>0</td>\n",
       "      <td>1623</td>\n",
       "      <td>TOWN &amp; COUNTRY</td>\n",
       "      <td>2WD</td>\n",
       "      <td>NaN</td>\n",
       "      <td>MINIVAN</td>\n",
       "    </tr>\n",
       "    <tr>\n",
       "      <th>5</th>\n",
       "      <td>62522</td>\n",
       "      <td>0</td>\n",
       "      <td>2009-04-22</td>\n",
       "      <td>ADESA</td>\n",
       "      <td>2007</td>\n",
       "      <td>2</td>\n",
       "      <td>KIA</td>\n",
       "      <td>2.0L EFI</td>\n",
       "      <td>EX</td>\n",
       "      <td>NaN</td>\n",
       "      <td>...</td>\n",
       "      <td>21053</td>\n",
       "      <td>85226</td>\n",
       "      <td>AZ</td>\n",
       "      <td>5430.0</td>\n",
       "      <td>0</td>\n",
       "      <td>462</td>\n",
       "      <td>SPECTRA</td>\n",
       "      <td>NaN</td>\n",
       "      <td>4D</td>\n",
       "      <td>SEDAN</td>\n",
       "    </tr>\n",
       "    <tr>\n",
       "      <th>6</th>\n",
       "      <td>1653</td>\n",
       "      <td>0</td>\n",
       "      <td>2010-05-21</td>\n",
       "      <td>ADESA</td>\n",
       "      <td>2005</td>\n",
       "      <td>5</td>\n",
       "      <td>NISSAN</td>\n",
       "      <td>NaN</td>\n",
       "      <td>BAS</td>\n",
       "      <td>NaN</td>\n",
       "      <td>...</td>\n",
       "      <td>5546</td>\n",
       "      <td>34203</td>\n",
       "      <td>FL</td>\n",
       "      <td>7675.0</td>\n",
       "      <td>0</td>\n",
       "      <td>723</td>\n",
       "      <td>ALTIMA</td>\n",
       "      <td>NaN</td>\n",
       "      <td>4D</td>\n",
       "      <td>SEDAN</td>\n",
       "    </tr>\n",
       "    <tr>\n",
       "      <th>7</th>\n",
       "      <td>40878</td>\n",
       "      <td>0</td>\n",
       "      <td>2009-09-24</td>\n",
       "      <td>MANHEIM</td>\n",
       "      <td>2008</td>\n",
       "      <td>1</td>\n",
       "      <td>DODGE</td>\n",
       "      <td>4C 2.4L</td>\n",
       "      <td>SE</td>\n",
       "      <td>NaN</td>\n",
       "      <td>...</td>\n",
       "      <td>99740</td>\n",
       "      <td>29532</td>\n",
       "      <td>SC</td>\n",
       "      <td>7810.0</td>\n",
       "      <td>0</td>\n",
       "      <td>920</td>\n",
       "      <td>AVENGER</td>\n",
       "      <td>NaN</td>\n",
       "      <td>4D</td>\n",
       "      <td>SEDAN</td>\n",
       "    </tr>\n",
       "    <tr>\n",
       "      <th>8</th>\n",
       "      <td>55149</td>\n",
       "      <td>0</td>\n",
       "      <td>2010-06-07</td>\n",
       "      <td>MANHEIM</td>\n",
       "      <td>2006</td>\n",
       "      <td>4</td>\n",
       "      <td>SUZUKI</td>\n",
       "      <td>NaN</td>\n",
       "      <td>NaN</td>\n",
       "      <td>NaN</td>\n",
       "      <td>...</td>\n",
       "      <td>20234</td>\n",
       "      <td>97217</td>\n",
       "      <td>OR</td>\n",
       "      <td>5870.0</td>\n",
       "      <td>0</td>\n",
       "      <td>462</td>\n",
       "      <td>FORENZA</td>\n",
       "      <td>NaN</td>\n",
       "      <td>4D</td>\n",
       "      <td>SEDAN</td>\n",
       "    </tr>\n",
       "    <tr>\n",
       "      <th>9</th>\n",
       "      <td>7255</td>\n",
       "      <td>0</td>\n",
       "      <td>2009-04-06</td>\n",
       "      <td>MANHEIM</td>\n",
       "      <td>2006</td>\n",
       "      <td>3</td>\n",
       "      <td>SUZUKI</td>\n",
       "      <td>2.0L EFI</td>\n",
       "      <td>NaN</td>\n",
       "      <td>NaN</td>\n",
       "      <td>...</td>\n",
       "      <td>18880</td>\n",
       "      <td>30272</td>\n",
       "      <td>GA</td>\n",
       "      <td>4825.0</td>\n",
       "      <td>0</td>\n",
       "      <td>505</td>\n",
       "      <td>FORENZA</td>\n",
       "      <td>NaN</td>\n",
       "      <td>4D</td>\n",
       "      <td>SEDAN</td>\n",
       "    </tr>\n",
       "    <tr>\n",
       "      <th>10</th>\n",
       "      <td>63516</td>\n",
       "      <td>0</td>\n",
       "      <td>2009-10-13</td>\n",
       "      <td>MANHEIM</td>\n",
       "      <td>2004</td>\n",
       "      <td>5</td>\n",
       "      <td>CHRYSLER</td>\n",
       "      <td>2.4L</td>\n",
       "      <td>BAS</td>\n",
       "      <td>NaN</td>\n",
       "      <td>...</td>\n",
       "      <td>18111</td>\n",
       "      <td>37210</td>\n",
       "      <td>TN</td>\n",
       "      <td>5125.0</td>\n",
       "      <td>0</td>\n",
       "      <td>1503</td>\n",
       "      <td>PT CRUISER</td>\n",
       "      <td>NaN</td>\n",
       "      <td>4D</td>\n",
       "      <td>SEDAN</td>\n",
       "    </tr>\n",
       "    <tr>\n",
       "      <th>11</th>\n",
       "      <td>16842</td>\n",
       "      <td>0</td>\n",
       "      <td>2010-10-02</td>\n",
       "      <td>MANHEIM</td>\n",
       "      <td>2007</td>\n",
       "      <td>3</td>\n",
       "      <td>PONTIAC</td>\n",
       "      <td>4C</td>\n",
       "      <td>BAS</td>\n",
       "      <td>SE1</td>\n",
       "      <td>...</td>\n",
       "      <td>19619</td>\n",
       "      <td>32824</td>\n",
       "      <td>FL</td>\n",
       "      <td>7300.0</td>\n",
       "      <td>0</td>\n",
       "      <td>764</td>\n",
       "      <td>G6</td>\n",
       "      <td>NaN</td>\n",
       "      <td>4D</td>\n",
       "      <td>SEDAN</td>\n",
       "    </tr>\n",
       "    <tr>\n",
       "      <th>12</th>\n",
       "      <td>52022</td>\n",
       "      <td>0</td>\n",
       "      <td>2010-12-05</td>\n",
       "      <td>MANHEIM</td>\n",
       "      <td>2005</td>\n",
       "      <td>5</td>\n",
       "      <td>DODGE</td>\n",
       "      <td>V8</td>\n",
       "      <td>SLT</td>\n",
       "      <td>NaN</td>\n",
       "      <td>...</td>\n",
       "      <td>18822</td>\n",
       "      <td>78219</td>\n",
       "      <td>TX</td>\n",
       "      <td>10135.0</td>\n",
       "      <td>0</td>\n",
       "      <td>1623</td>\n",
       "      <td>DURANGO</td>\n",
       "      <td>4WD</td>\n",
       "      <td>4D</td>\n",
       "      <td>SUV</td>\n",
       "    </tr>\n",
       "    <tr>\n",
       "      <th>13</th>\n",
       "      <td>37991</td>\n",
       "      <td>0</td>\n",
       "      <td>2009-05-06</td>\n",
       "      <td>MANHEIM</td>\n",
       "      <td>2004</td>\n",
       "      <td>5</td>\n",
       "      <td>CHEVROLET</td>\n",
       "      <td>3.4L SFI</td>\n",
       "      <td>BAS</td>\n",
       "      <td>NaN</td>\n",
       "      <td>...</td>\n",
       "      <td>22916</td>\n",
       "      <td>89165</td>\n",
       "      <td>NV</td>\n",
       "      <td>4185.0</td>\n",
       "      <td>0</td>\n",
       "      <td>2351</td>\n",
       "      <td>IMPALA</td>\n",
       "      <td>NaN</td>\n",
       "      <td>4D</td>\n",
       "      <td>SEDAN</td>\n",
       "    </tr>\n",
       "    <tr>\n",
       "      <th>14</th>\n",
       "      <td>67625</td>\n",
       "      <td>0</td>\n",
       "      <td>2009-11-08</td>\n",
       "      <td>ADESA</td>\n",
       "      <td>2007</td>\n",
       "      <td>2</td>\n",
       "      <td>CHRYSLER</td>\n",
       "      <td>2.4L</td>\n",
       "      <td>BAS</td>\n",
       "      <td>NaN</td>\n",
       "      <td>...</td>\n",
       "      <td>20833</td>\n",
       "      <td>78754</td>\n",
       "      <td>TX</td>\n",
       "      <td>6305.0</td>\n",
       "      <td>0</td>\n",
       "      <td>975</td>\n",
       "      <td>PT CRUISER</td>\n",
       "      <td>NaN</td>\n",
       "      <td>4D</td>\n",
       "      <td>SEDAN</td>\n",
       "    </tr>\n",
       "    <tr>\n",
       "      <th>15</th>\n",
       "      <td>21383</td>\n",
       "      <td>0</td>\n",
       "      <td>2010-07-23</td>\n",
       "      <td>OTHER</td>\n",
       "      <td>2007</td>\n",
       "      <td>3</td>\n",
       "      <td>CHEVROLET</td>\n",
       "      <td>NaN</td>\n",
       "      <td>LS</td>\n",
       "      <td>NaN</td>\n",
       "      <td>...</td>\n",
       "      <td>99750</td>\n",
       "      <td>95673</td>\n",
       "      <td>CA</td>\n",
       "      <td>8000.0</td>\n",
       "      <td>0</td>\n",
       "      <td>1703</td>\n",
       "      <td>IMPALA</td>\n",
       "      <td>NaN</td>\n",
       "      <td>4D</td>\n",
       "      <td>SEDAN</td>\n",
       "    </tr>\n",
       "    <tr>\n",
       "      <th>16</th>\n",
       "      <td>52699</td>\n",
       "      <td>0</td>\n",
       "      <td>2010-05-20</td>\n",
       "      <td>MANHEIM</td>\n",
       "      <td>2006</td>\n",
       "      <td>4</td>\n",
       "      <td>PONTIAC</td>\n",
       "      <td>NaN</td>\n",
       "      <td>BAS</td>\n",
       "      <td>NaN</td>\n",
       "      <td>...</td>\n",
       "      <td>17212</td>\n",
       "      <td>39402</td>\n",
       "      <td>MS</td>\n",
       "      <td>7425.0</td>\n",
       "      <td>0</td>\n",
       "      <td>1272</td>\n",
       "      <td>G6</td>\n",
       "      <td>NaN</td>\n",
       "      <td>4D</td>\n",
       "      <td>SEDAN</td>\n",
       "    </tr>\n",
       "    <tr>\n",
       "      <th>17</th>\n",
       "      <td>50691</td>\n",
       "      <td>0</td>\n",
       "      <td>2010-01-13</td>\n",
       "      <td>MANHEIM</td>\n",
       "      <td>2008</td>\n",
       "      <td>2</td>\n",
       "      <td>CHEVROLET</td>\n",
       "      <td>4C</td>\n",
       "      <td>LS</td>\n",
       "      <td>CLASSIC</td>\n",
       "      <td>...</td>\n",
       "      <td>20833</td>\n",
       "      <td>78219</td>\n",
       "      <td>TX</td>\n",
       "      <td>7440.0</td>\n",
       "      <td>0</td>\n",
       "      <td>764</td>\n",
       "      <td>MALIBU</td>\n",
       "      <td>NaN</td>\n",
       "      <td>4D</td>\n",
       "      <td>SEDAN</td>\n",
       "    </tr>\n",
       "    <tr>\n",
       "      <th>18</th>\n",
       "      <td>40617</td>\n",
       "      <td>0</td>\n",
       "      <td>2009-01-29</td>\n",
       "      <td>MANHEIM</td>\n",
       "      <td>2006</td>\n",
       "      <td>3</td>\n",
       "      <td>SATURN</td>\n",
       "      <td>NaN</td>\n",
       "      <td>NaN</td>\n",
       "      <td>NaN</td>\n",
       "      <td>...</td>\n",
       "      <td>20740</td>\n",
       "      <td>29532</td>\n",
       "      <td>SC</td>\n",
       "      <td>5690.0</td>\n",
       "      <td>0</td>\n",
       "      <td>1583</td>\n",
       "      <td>RELAY</td>\n",
       "      <td>2WD</td>\n",
       "      <td>4D</td>\n",
       "      <td>UTILITY SPORT</td>\n",
       "    </tr>\n",
       "    <tr>\n",
       "      <th>19</th>\n",
       "      <td>27941</td>\n",
       "      <td>0</td>\n",
       "      <td>2009-08-07</td>\n",
       "      <td>MANHEIM</td>\n",
       "      <td>2002</td>\n",
       "      <td>7</td>\n",
       "      <td>CHEVROLET</td>\n",
       "      <td>3.1L</td>\n",
       "      <td>BAS</td>\n",
       "      <td>NaN</td>\n",
       "      <td>...</td>\n",
       "      <td>19619</td>\n",
       "      <td>32824</td>\n",
       "      <td>FL</td>\n",
       "      <td>3700.0</td>\n",
       "      <td>0</td>\n",
       "      <td>2198</td>\n",
       "      <td>MALIBU</td>\n",
       "      <td>NaN</td>\n",
       "      <td>4D</td>\n",
       "      <td>SEDAN</td>\n",
       "    </tr>\n",
       "    <tr>\n",
       "      <th>20</th>\n",
       "      <td>24536</td>\n",
       "      <td>0</td>\n",
       "      <td>2009-05-27</td>\n",
       "      <td>MANHEIM</td>\n",
       "      <td>2005</td>\n",
       "      <td>4</td>\n",
       "      <td>DODGE</td>\n",
       "      <td>2.7L</td>\n",
       "      <td>SXT</td>\n",
       "      <td>FFV</td>\n",
       "      <td>...</td>\n",
       "      <td>99750</td>\n",
       "      <td>32124</td>\n",
       "      <td>FL</td>\n",
       "      <td>4600.0</td>\n",
       "      <td>0</td>\n",
       "      <td>1215</td>\n",
       "      <td>STRATUS</td>\n",
       "      <td>NaN</td>\n",
       "      <td>4D</td>\n",
       "      <td>SEDAN</td>\n",
       "    </tr>\n",
       "    <tr>\n",
       "      <th>21</th>\n",
       "      <td>11325</td>\n",
       "      <td>0</td>\n",
       "      <td>2010-03-15</td>\n",
       "      <td>MANHEIM</td>\n",
       "      <td>2003</td>\n",
       "      <td>7</td>\n",
       "      <td>DODGE</td>\n",
       "      <td>V8</td>\n",
       "      <td>SLT</td>\n",
       "      <td>NaN</td>\n",
       "      <td>...</td>\n",
       "      <td>18880</td>\n",
       "      <td>27542</td>\n",
       "      <td>NC</td>\n",
       "      <td>7200.0</td>\n",
       "      <td>0</td>\n",
       "      <td>1689</td>\n",
       "      <td>DURANGO</td>\n",
       "      <td>2WD</td>\n",
       "      <td>4D</td>\n",
       "      <td>SUV</td>\n",
       "    </tr>\n",
       "    <tr>\n",
       "      <th>22</th>\n",
       "      <td>51038</td>\n",
       "      <td>0</td>\n",
       "      <td>2009-11-25</td>\n",
       "      <td>OTHER</td>\n",
       "      <td>2004</td>\n",
       "      <td>5</td>\n",
       "      <td>FORD</td>\n",
       "      <td>NaN</td>\n",
       "      <td>BAS</td>\n",
       "      <td>NaN</td>\n",
       "      <td>...</td>\n",
       "      <td>835</td>\n",
       "      <td>85009</td>\n",
       "      <td>AZ</td>\n",
       "      <td>7495.0</td>\n",
       "      <td>0</td>\n",
       "      <td>803</td>\n",
       "      <td>MUSTANG</td>\n",
       "      <td>NaN</td>\n",
       "      <td>2D</td>\n",
       "      <td>COUPE</td>\n",
       "    </tr>\n",
       "    <tr>\n",
       "      <th>23</th>\n",
       "      <td>29109</td>\n",
       "      <td>0</td>\n",
       "      <td>2009-10-28</td>\n",
       "      <td>OTHER</td>\n",
       "      <td>2005</td>\n",
       "      <td>4</td>\n",
       "      <td>FORD</td>\n",
       "      <td>3.9L</td>\n",
       "      <td>S</td>\n",
       "      <td>NaN</td>\n",
       "      <td>...</td>\n",
       "      <td>99761</td>\n",
       "      <td>85018</td>\n",
       "      <td>AZ</td>\n",
       "      <td>4900.0</td>\n",
       "      <td>0</td>\n",
       "      <td>1633</td>\n",
       "      <td>FREESTAR</td>\n",
       "      <td>2WD</td>\n",
       "      <td>NaN</td>\n",
       "      <td>PASSENGER</td>\n",
       "    </tr>\n",
       "    <tr>\n",
       "      <th>24</th>\n",
       "      <td>66864</td>\n",
       "      <td>0</td>\n",
       "      <td>2010-07-29</td>\n",
       "      <td>ADESA</td>\n",
       "      <td>2004</td>\n",
       "      <td>6</td>\n",
       "      <td>CHEVROLET</td>\n",
       "      <td>4.3L</td>\n",
       "      <td>LS</td>\n",
       "      <td>NaN</td>\n",
       "      <td>...</td>\n",
       "      <td>17675</td>\n",
       "      <td>28273</td>\n",
       "      <td>NC</td>\n",
       "      <td>9170.0</td>\n",
       "      <td>0</td>\n",
       "      <td>1272</td>\n",
       "      <td>1500 SILVERADO</td>\n",
       "      <td>NaN</td>\n",
       "      <td>NaN</td>\n",
       "      <td>EXT CAB</td>\n",
       "    </tr>\n",
       "    <tr>\n",
       "      <th>25</th>\n",
       "      <td>71633</td>\n",
       "      <td>0</td>\n",
       "      <td>2010-11-02</td>\n",
       "      <td>ADESA</td>\n",
       "      <td>2007</td>\n",
       "      <td>3</td>\n",
       "      <td>SATURN</td>\n",
       "      <td>NaN</td>\n",
       "      <td>XE</td>\n",
       "      <td>NaN</td>\n",
       "      <td>...</td>\n",
       "      <td>17675</td>\n",
       "      <td>28273</td>\n",
       "      <td>NC</td>\n",
       "      <td>8065.0</td>\n",
       "      <td>0</td>\n",
       "      <td>1118</td>\n",
       "      <td>AURA</td>\n",
       "      <td>NaN</td>\n",
       "      <td>4D</td>\n",
       "      <td>SEDAN</td>\n",
       "    </tr>\n",
       "    <tr>\n",
       "      <th>26</th>\n",
       "      <td>21465</td>\n",
       "      <td>0</td>\n",
       "      <td>2010-08-24</td>\n",
       "      <td>OTHER</td>\n",
       "      <td>2006</td>\n",
       "      <td>4</td>\n",
       "      <td>PONTIAC</td>\n",
       "      <td>NaN</td>\n",
       "      <td>BAS</td>\n",
       "      <td>NaN</td>\n",
       "      <td>...</td>\n",
       "      <td>21053</td>\n",
       "      <td>95673</td>\n",
       "      <td>CA</td>\n",
       "      <td>7305.0</td>\n",
       "      <td>0</td>\n",
       "      <td>1328</td>\n",
       "      <td>GRAND PRIX</td>\n",
       "      <td>NaN</td>\n",
       "      <td>4D</td>\n",
       "      <td>SEDAN</td>\n",
       "    </tr>\n",
       "    <tr>\n",
       "      <th>27</th>\n",
       "      <td>38302</td>\n",
       "      <td>0</td>\n",
       "      <td>2010-09-29</td>\n",
       "      <td>MANHEIM</td>\n",
       "      <td>2007</td>\n",
       "      <td>3</td>\n",
       "      <td>NISSAN</td>\n",
       "      <td>NaN</td>\n",
       "      <td>BAS</td>\n",
       "      <td>NaN</td>\n",
       "      <td>...</td>\n",
       "      <td>52598</td>\n",
       "      <td>75236</td>\n",
       "      <td>TX</td>\n",
       "      <td>10350.0</td>\n",
       "      <td>0</td>\n",
       "      <td>686</td>\n",
       "      <td>ALTIMA</td>\n",
       "      <td>NaN</td>\n",
       "      <td>4D</td>\n",
       "      <td>SEDAN</td>\n",
       "    </tr>\n",
       "    <tr>\n",
       "      <th>28</th>\n",
       "      <td>68449</td>\n",
       "      <td>0</td>\n",
       "      <td>2010-02-25</td>\n",
       "      <td>ADESA</td>\n",
       "      <td>2003</td>\n",
       "      <td>7</td>\n",
       "      <td>FORD</td>\n",
       "      <td>4.0L</td>\n",
       "      <td>XLS</td>\n",
       "      <td>SPORT TRAC</td>\n",
       "      <td>...</td>\n",
       "      <td>3453</td>\n",
       "      <td>80817</td>\n",
       "      <td>CO</td>\n",
       "      <td>9325.0</td>\n",
       "      <td>0</td>\n",
       "      <td>1543</td>\n",
       "      <td>EXPLORER</td>\n",
       "      <td>2WD</td>\n",
       "      <td>4D</td>\n",
       "      <td>SUV</td>\n",
       "    </tr>\n",
       "    <tr>\n",
       "      <th>29</th>\n",
       "      <td>46291</td>\n",
       "      <td>0</td>\n",
       "      <td>2009-03-02</td>\n",
       "      <td>MANHEIM</td>\n",
       "      <td>2005</td>\n",
       "      <td>4</td>\n",
       "      <td>FORD</td>\n",
       "      <td>3.9L</td>\n",
       "      <td>SE</td>\n",
       "      <td>NaN</td>\n",
       "      <td>...</td>\n",
       "      <td>23359</td>\n",
       "      <td>91770</td>\n",
       "      <td>CA</td>\n",
       "      <td>4340.0</td>\n",
       "      <td>0</td>\n",
       "      <td>1633</td>\n",
       "      <td>FREESTAR</td>\n",
       "      <td>2WD</td>\n",
       "      <td>NaN</td>\n",
       "      <td>PASSENGER</td>\n",
       "    </tr>\n",
       "    <tr>\n",
       "      <th>...</th>\n",
       "      <td>...</td>\n",
       "      <td>...</td>\n",
       "      <td>...</td>\n",
       "      <td>...</td>\n",
       "      <td>...</td>\n",
       "      <td>...</td>\n",
       "      <td>...</td>\n",
       "      <td>...</td>\n",
       "      <td>...</td>\n",
       "      <td>...</td>\n",
       "      <td>...</td>\n",
       "      <td>...</td>\n",
       "      <td>...</td>\n",
       "      <td>...</td>\n",
       "      <td>...</td>\n",
       "      <td>...</td>\n",
       "      <td>...</td>\n",
       "      <td>...</td>\n",
       "      <td>...</td>\n",
       "      <td>...</td>\n",
       "      <td>...</td>\n",
       "    </tr>\n",
       "    <tr>\n",
       "      <th>58356</th>\n",
       "      <td>59417</td>\n",
       "      <td>1</td>\n",
       "      <td>2010-04-22</td>\n",
       "      <td>MANHEIM</td>\n",
       "      <td>2006</td>\n",
       "      <td>4</td>\n",
       "      <td>CHEVROLET</td>\n",
       "      <td>NaN</td>\n",
       "      <td>LS</td>\n",
       "      <td>NaN</td>\n",
       "      <td>...</td>\n",
       "      <td>16926</td>\n",
       "      <td>92337</td>\n",
       "      <td>CA</td>\n",
       "      <td>6120.0</td>\n",
       "      <td>0</td>\n",
       "      <td>803</td>\n",
       "      <td>AVEO</td>\n",
       "      <td>NaN</td>\n",
       "      <td>4D</td>\n",
       "      <td>SEDAN</td>\n",
       "    </tr>\n",
       "    <tr>\n",
       "      <th>58357</th>\n",
       "      <td>38858</td>\n",
       "      <td>1</td>\n",
       "      <td>2009-08-13</td>\n",
       "      <td>MANHEIM</td>\n",
       "      <td>2007</td>\n",
       "      <td>2</td>\n",
       "      <td>FORD</td>\n",
       "      <td>4C 2.3L</td>\n",
       "      <td>S</td>\n",
       "      <td>NaN</td>\n",
       "      <td>...</td>\n",
       "      <td>17212</td>\n",
       "      <td>76040</td>\n",
       "      <td>TX</td>\n",
       "      <td>7185.0</td>\n",
       "      <td>0</td>\n",
       "      <td>803</td>\n",
       "      <td>FUSION</td>\n",
       "      <td>NaN</td>\n",
       "      <td>4D</td>\n",
       "      <td>SEDAN</td>\n",
       "    </tr>\n",
       "    <tr>\n",
       "      <th>58358</th>\n",
       "      <td>59447</td>\n",
       "      <td>1</td>\n",
       "      <td>2010-04-29</td>\n",
       "      <td>MANHEIM</td>\n",
       "      <td>2005</td>\n",
       "      <td>5</td>\n",
       "      <td>HYUNDAI</td>\n",
       "      <td>NaN</td>\n",
       "      <td>GLS</td>\n",
       "      <td>NaN</td>\n",
       "      <td>...</td>\n",
       "      <td>16926</td>\n",
       "      <td>92337</td>\n",
       "      <td>CA</td>\n",
       "      <td>5520.0</td>\n",
       "      <td>0</td>\n",
       "      <td>693</td>\n",
       "      <td>ACCENT</td>\n",
       "      <td>NaN</td>\n",
       "      <td>4D</td>\n",
       "      <td>SEDAN</td>\n",
       "    </tr>\n",
       "    <tr>\n",
       "      <th>58359</th>\n",
       "      <td>6529</td>\n",
       "      <td>1</td>\n",
       "      <td>2010-05-25</td>\n",
       "      <td>MANHEIM</td>\n",
       "      <td>2004</td>\n",
       "      <td>6</td>\n",
       "      <td>CHEVROLET</td>\n",
       "      <td>NaN</td>\n",
       "      <td>LS</td>\n",
       "      <td>NaN</td>\n",
       "      <td>...</td>\n",
       "      <td>835</td>\n",
       "      <td>85040</td>\n",
       "      <td>AZ</td>\n",
       "      <td>6700.0</td>\n",
       "      <td>0</td>\n",
       "      <td>1272</td>\n",
       "      <td>MALIBU MAXX</td>\n",
       "      <td>NaN</td>\n",
       "      <td>4D</td>\n",
       "      <td>SEDAN</td>\n",
       "    </tr>\n",
       "    <tr>\n",
       "      <th>58360</th>\n",
       "      <td>16848</td>\n",
       "      <td>0</td>\n",
       "      <td>2010-02-17</td>\n",
       "      <td>MANHEIM</td>\n",
       "      <td>2006</td>\n",
       "      <td>4</td>\n",
       "      <td>DODGE</td>\n",
       "      <td>4C</td>\n",
       "      <td>SXT</td>\n",
       "      <td>NaN</td>\n",
       "      <td>...</td>\n",
       "      <td>19619</td>\n",
       "      <td>32824</td>\n",
       "      <td>FL</td>\n",
       "      <td>5700.0</td>\n",
       "      <td>0</td>\n",
       "      <td>1155</td>\n",
       "      <td>STRATUS</td>\n",
       "      <td>NaN</td>\n",
       "      <td>4D</td>\n",
       "      <td>SEDAN</td>\n",
       "    </tr>\n",
       "    <tr>\n",
       "      <th>58361</th>\n",
       "      <td>41231</td>\n",
       "      <td>0</td>\n",
       "      <td>2010-06-05</td>\n",
       "      <td>MANHEIM</td>\n",
       "      <td>2005</td>\n",
       "      <td>5</td>\n",
       "      <td>FORD</td>\n",
       "      <td>3.0L</td>\n",
       "      <td>SEL</td>\n",
       "      <td>NaN</td>\n",
       "      <td>...</td>\n",
       "      <td>17675</td>\n",
       "      <td>29532</td>\n",
       "      <td>SC</td>\n",
       "      <td>8170.0</td>\n",
       "      <td>0</td>\n",
       "      <td>1633</td>\n",
       "      <td>FREESTYLE</td>\n",
       "      <td>2WD</td>\n",
       "      <td>4D</td>\n",
       "      <td>CUV</td>\n",
       "    </tr>\n",
       "    <tr>\n",
       "      <th>58362</th>\n",
       "      <td>4659</td>\n",
       "      <td>0</td>\n",
       "      <td>2009-01-27</td>\n",
       "      <td>MANHEIM</td>\n",
       "      <td>2005</td>\n",
       "      <td>4</td>\n",
       "      <td>DODGE</td>\n",
       "      <td>2.7L</td>\n",
       "      <td>SXT</td>\n",
       "      <td>FFV</td>\n",
       "      <td>...</td>\n",
       "      <td>835</td>\n",
       "      <td>85040</td>\n",
       "      <td>AZ</td>\n",
       "      <td>3860.0</td>\n",
       "      <td>0</td>\n",
       "      <td>1503</td>\n",
       "      <td>STRATUS</td>\n",
       "      <td>NaN</td>\n",
       "      <td>4D</td>\n",
       "      <td>SEDAN</td>\n",
       "    </tr>\n",
       "    <tr>\n",
       "      <th>58363</th>\n",
       "      <td>64903</td>\n",
       "      <td>0</td>\n",
       "      <td>2010-12-14</td>\n",
       "      <td>MANHEIM</td>\n",
       "      <td>2003</td>\n",
       "      <td>7</td>\n",
       "      <td>FORD</td>\n",
       "      <td>3.8L</td>\n",
       "      <td>SEL</td>\n",
       "      <td>NaN</td>\n",
       "      <td>...</td>\n",
       "      <td>18880</td>\n",
       "      <td>37210</td>\n",
       "      <td>TN</td>\n",
       "      <td>5000.0</td>\n",
       "      <td>0</td>\n",
       "      <td>1906</td>\n",
       "      <td>WINDSTAR</td>\n",
       "      <td>2WD</td>\n",
       "      <td>4D</td>\n",
       "      <td>PASSENGER</td>\n",
       "    </tr>\n",
       "    <tr>\n",
       "      <th>58364</th>\n",
       "      <td>56437</td>\n",
       "      <td>0</td>\n",
       "      <td>2009-09-22</td>\n",
       "      <td>OTHER</td>\n",
       "      <td>2002</td>\n",
       "      <td>7</td>\n",
       "      <td>FORD</td>\n",
       "      <td>3.0L EFI</td>\n",
       "      <td>SE</td>\n",
       "      <td>NaN</td>\n",
       "      <td>...</td>\n",
       "      <td>18880</td>\n",
       "      <td>29070</td>\n",
       "      <td>SC</td>\n",
       "      <td>4550.0</td>\n",
       "      <td>0</td>\n",
       "      <td>993</td>\n",
       "      <td>TAURUS</td>\n",
       "      <td>NaN</td>\n",
       "      <td>4D</td>\n",
       "      <td>SEDAN</td>\n",
       "    </tr>\n",
       "    <tr>\n",
       "      <th>58365</th>\n",
       "      <td>62043</td>\n",
       "      <td>0</td>\n",
       "      <td>2010-04-23</td>\n",
       "      <td>ADESA</td>\n",
       "      <td>2007</td>\n",
       "      <td>3</td>\n",
       "      <td>CHEVROLET</td>\n",
       "      <td>2.2L</td>\n",
       "      <td>LS</td>\n",
       "      <td>NaN</td>\n",
       "      <td>...</td>\n",
       "      <td>16926</td>\n",
       "      <td>91752</td>\n",
       "      <td>CA</td>\n",
       "      <td>8315.0</td>\n",
       "      <td>0</td>\n",
       "      <td>803</td>\n",
       "      <td>HHR</td>\n",
       "      <td>NaN</td>\n",
       "      <td>4D</td>\n",
       "      <td>SUV</td>\n",
       "    </tr>\n",
       "    <tr>\n",
       "      <th>58366</th>\n",
       "      <td>68144</td>\n",
       "      <td>1</td>\n",
       "      <td>2009-12-02</td>\n",
       "      <td>ADESA</td>\n",
       "      <td>2004</td>\n",
       "      <td>5</td>\n",
       "      <td>CHEVROLET</td>\n",
       "      <td>6C</td>\n",
       "      <td>NOR</td>\n",
       "      <td>NaN</td>\n",
       "      <td>...</td>\n",
       "      <td>21053</td>\n",
       "      <td>80817</td>\n",
       "      <td>CO</td>\n",
       "      <td>6190.0</td>\n",
       "      <td>0</td>\n",
       "      <td>2152</td>\n",
       "      <td>TRAILBLAZER</td>\n",
       "      <td>4WD</td>\n",
       "      <td>4D</td>\n",
       "      <td>SUV</td>\n",
       "    </tr>\n",
       "    <tr>\n",
       "      <th>58367</th>\n",
       "      <td>44402</td>\n",
       "      <td>0</td>\n",
       "      <td>2010-11-30</td>\n",
       "      <td>MANHEIM</td>\n",
       "      <td>2003</td>\n",
       "      <td>7</td>\n",
       "      <td>DODGE</td>\n",
       "      <td>NaN</td>\n",
       "      <td>SE</td>\n",
       "      <td>NaN</td>\n",
       "      <td>...</td>\n",
       "      <td>16044</td>\n",
       "      <td>19440</td>\n",
       "      <td>PA</td>\n",
       "      <td>4705.0</td>\n",
       "      <td>0</td>\n",
       "      <td>930</td>\n",
       "      <td>NEON</td>\n",
       "      <td>NaN</td>\n",
       "      <td>4D</td>\n",
       "      <td>SEDAN</td>\n",
       "    </tr>\n",
       "    <tr>\n",
       "      <th>58368</th>\n",
       "      <td>71903</td>\n",
       "      <td>0</td>\n",
       "      <td>2009-04-16</td>\n",
       "      <td>ADESA</td>\n",
       "      <td>2004</td>\n",
       "      <td>5</td>\n",
       "      <td>NISSAN</td>\n",
       "      <td>3.5L MPI</td>\n",
       "      <td>SE</td>\n",
       "      <td>NaN</td>\n",
       "      <td>...</td>\n",
       "      <td>3453</td>\n",
       "      <td>80817</td>\n",
       "      <td>CO</td>\n",
       "      <td>9210.0</td>\n",
       "      <td>0</td>\n",
       "      <td>1155</td>\n",
       "      <td>MAXIMA</td>\n",
       "      <td>NaN</td>\n",
       "      <td>4D</td>\n",
       "      <td>SEDAN</td>\n",
       "    </tr>\n",
       "    <tr>\n",
       "      <th>58369</th>\n",
       "      <td>39699</td>\n",
       "      <td>0</td>\n",
       "      <td>2010-01-28</td>\n",
       "      <td>MANHEIM</td>\n",
       "      <td>2004</td>\n",
       "      <td>6</td>\n",
       "      <td>MAZDA</td>\n",
       "      <td>NaN</td>\n",
       "      <td>LX</td>\n",
       "      <td>NaN</td>\n",
       "      <td>...</td>\n",
       "      <td>20234</td>\n",
       "      <td>85353</td>\n",
       "      <td>AZ</td>\n",
       "      <td>6970.0</td>\n",
       "      <td>0</td>\n",
       "      <td>920</td>\n",
       "      <td>TRIBUTE</td>\n",
       "      <td>2WD</td>\n",
       "      <td>4D</td>\n",
       "      <td>UTILITY SPORT</td>\n",
       "    </tr>\n",
       "    <tr>\n",
       "      <th>58370</th>\n",
       "      <td>66180</td>\n",
       "      <td>0</td>\n",
       "      <td>2009-08-27</td>\n",
       "      <td>ADESA</td>\n",
       "      <td>2004</td>\n",
       "      <td>5</td>\n",
       "      <td>FORD</td>\n",
       "      <td>3.9L</td>\n",
       "      <td>BAS</td>\n",
       "      <td>NaN</td>\n",
       "      <td>...</td>\n",
       "      <td>17675</td>\n",
       "      <td>28273</td>\n",
       "      <td>NC</td>\n",
       "      <td>7345.0</td>\n",
       "      <td>0</td>\n",
       "      <td>728</td>\n",
       "      <td>MUSTANG</td>\n",
       "      <td>NaN</td>\n",
       "      <td>2D</td>\n",
       "      <td>COUPE</td>\n",
       "    </tr>\n",
       "    <tr>\n",
       "      <th>58371</th>\n",
       "      <td>10308</td>\n",
       "      <td>0</td>\n",
       "      <td>2009-05-05</td>\n",
       "      <td>OTHER</td>\n",
       "      <td>2006</td>\n",
       "      <td>3</td>\n",
       "      <td>DODGE</td>\n",
       "      <td>3.3L</td>\n",
       "      <td>BAS</td>\n",
       "      <td>NaN</td>\n",
       "      <td>...</td>\n",
       "      <td>99750</td>\n",
       "      <td>21014</td>\n",
       "      <td>MD</td>\n",
       "      <td>5600.0</td>\n",
       "      <td>0</td>\n",
       "      <td>1623</td>\n",
       "      <td>CARAVAN</td>\n",
       "      <td>2WD</td>\n",
       "      <td>NaN</td>\n",
       "      <td>MINIVAN</td>\n",
       "    </tr>\n",
       "    <tr>\n",
       "      <th>58372</th>\n",
       "      <td>64402</td>\n",
       "      <td>0</td>\n",
       "      <td>2010-12-05</td>\n",
       "      <td>ADESA</td>\n",
       "      <td>2007</td>\n",
       "      <td>3</td>\n",
       "      <td>CHEVROLET</td>\n",
       "      <td>3.9L</td>\n",
       "      <td>LT</td>\n",
       "      <td>NaN</td>\n",
       "      <td>...</td>\n",
       "      <td>21053</td>\n",
       "      <td>85226</td>\n",
       "      <td>AZ</td>\n",
       "      <td>8415.0</td>\n",
       "      <td>0</td>\n",
       "      <td>1974</td>\n",
       "      <td>IMPALA</td>\n",
       "      <td>NaN</td>\n",
       "      <td>4D</td>\n",
       "      <td>SEDAN</td>\n",
       "    </tr>\n",
       "    <tr>\n",
       "      <th>58373</th>\n",
       "      <td>2130</td>\n",
       "      <td>0</td>\n",
       "      <td>2010-08-30</td>\n",
       "      <td>ADESA</td>\n",
       "      <td>2004</td>\n",
       "      <td>6</td>\n",
       "      <td>TOYOTA</td>\n",
       "      <td>4C</td>\n",
       "      <td>LE</td>\n",
       "      <td>NaN</td>\n",
       "      <td>...</td>\n",
       "      <td>19638</td>\n",
       "      <td>33619</td>\n",
       "      <td>FL</td>\n",
       "      <td>7300.0</td>\n",
       "      <td>0</td>\n",
       "      <td>594</td>\n",
       "      <td>CAMRY</td>\n",
       "      <td>NaN</td>\n",
       "      <td>4D</td>\n",
       "      <td>SEDAN</td>\n",
       "    </tr>\n",
       "    <tr>\n",
       "      <th>58374</th>\n",
       "      <td>1889</td>\n",
       "      <td>0</td>\n",
       "      <td>2009-04-20</td>\n",
       "      <td>ADESA</td>\n",
       "      <td>2004</td>\n",
       "      <td>5</td>\n",
       "      <td>CHRYSLER</td>\n",
       "      <td>2.4L</td>\n",
       "      <td>BAS</td>\n",
       "      <td>NaN</td>\n",
       "      <td>...</td>\n",
       "      <td>19638</td>\n",
       "      <td>33619</td>\n",
       "      <td>FL</td>\n",
       "      <td>4800.0</td>\n",
       "      <td>0</td>\n",
       "      <td>1086</td>\n",
       "      <td>PT CRUISER</td>\n",
       "      <td>NaN</td>\n",
       "      <td>4D</td>\n",
       "      <td>SEDAN</td>\n",
       "    </tr>\n",
       "    <tr>\n",
       "      <th>58375</th>\n",
       "      <td>70379</td>\n",
       "      <td>0</td>\n",
       "      <td>2010-10-28</td>\n",
       "      <td>ADESA</td>\n",
       "      <td>2005</td>\n",
       "      <td>5</td>\n",
       "      <td>TOYOTA</td>\n",
       "      <td>NaN</td>\n",
       "      <td>BAS</td>\n",
       "      <td>NaN</td>\n",
       "      <td>...</td>\n",
       "      <td>20740</td>\n",
       "      <td>32219</td>\n",
       "      <td>FL</td>\n",
       "      <td>9600.0</td>\n",
       "      <td>0</td>\n",
       "      <td>620</td>\n",
       "      <td>HIGHLANDER</td>\n",
       "      <td>2WD</td>\n",
       "      <td>4D</td>\n",
       "      <td>UTILITY SPORT</td>\n",
       "    </tr>\n",
       "    <tr>\n",
       "      <th>58376</th>\n",
       "      <td>23926</td>\n",
       "      <td>0</td>\n",
       "      <td>2009-07-01</td>\n",
       "      <td>OTHER</td>\n",
       "      <td>2007</td>\n",
       "      <td>2</td>\n",
       "      <td>CHEVROLET</td>\n",
       "      <td>3.4L</td>\n",
       "      <td>LT</td>\n",
       "      <td>NaN</td>\n",
       "      <td>...</td>\n",
       "      <td>18880</td>\n",
       "      <td>29697</td>\n",
       "      <td>SC</td>\n",
       "      <td>8700.0</td>\n",
       "      <td>0</td>\n",
       "      <td>1389</td>\n",
       "      <td>EQUINOX</td>\n",
       "      <td>2WD</td>\n",
       "      <td>4D</td>\n",
       "      <td>SUV</td>\n",
       "    </tr>\n",
       "    <tr>\n",
       "      <th>58377</th>\n",
       "      <td>16257</td>\n",
       "      <td>0</td>\n",
       "      <td>2009-04-02</td>\n",
       "      <td>MANHEIM</td>\n",
       "      <td>2006</td>\n",
       "      <td>3</td>\n",
       "      <td>SUZUKI</td>\n",
       "      <td>2.0L EFI</td>\n",
       "      <td>NaN</td>\n",
       "      <td>NaN</td>\n",
       "      <td>...</td>\n",
       "      <td>19619</td>\n",
       "      <td>32824</td>\n",
       "      <td>FL</td>\n",
       "      <td>5400.0</td>\n",
       "      <td>0</td>\n",
       "      <td>462</td>\n",
       "      <td>FORENZA</td>\n",
       "      <td>NaN</td>\n",
       "      <td>4D</td>\n",
       "      <td>SEDAN</td>\n",
       "    </tr>\n",
       "    <tr>\n",
       "      <th>58378</th>\n",
       "      <td>11415</td>\n",
       "      <td>0</td>\n",
       "      <td>2010-05-04</td>\n",
       "      <td>MANHEIM</td>\n",
       "      <td>2004</td>\n",
       "      <td>6</td>\n",
       "      <td>CADILLAC</td>\n",
       "      <td>NaN</td>\n",
       "      <td>BAS</td>\n",
       "      <td>NaN</td>\n",
       "      <td>...</td>\n",
       "      <td>8172</td>\n",
       "      <td>27542</td>\n",
       "      <td>NC</td>\n",
       "      <td>9335.0</td>\n",
       "      <td>0</td>\n",
       "      <td>1763</td>\n",
       "      <td>CTS</td>\n",
       "      <td>NaN</td>\n",
       "      <td>4D</td>\n",
       "      <td>SEDAN</td>\n",
       "    </tr>\n",
       "    <tr>\n",
       "      <th>58379</th>\n",
       "      <td>5871</td>\n",
       "      <td>0</td>\n",
       "      <td>2010-07-13</td>\n",
       "      <td>MANHEIM</td>\n",
       "      <td>2005</td>\n",
       "      <td>5</td>\n",
       "      <td>FORD</td>\n",
       "      <td>V8</td>\n",
       "      <td>STX</td>\n",
       "      <td>NaN</td>\n",
       "      <td>...</td>\n",
       "      <td>835</td>\n",
       "      <td>85040</td>\n",
       "      <td>AZ</td>\n",
       "      <td>10440.0</td>\n",
       "      <td>0</td>\n",
       "      <td>728</td>\n",
       "      <td>F150</td>\n",
       "      <td>2WD</td>\n",
       "      <td>NaN</td>\n",
       "      <td>EXT CAB</td>\n",
       "    </tr>\n",
       "    <tr>\n",
       "      <th>58380</th>\n",
       "      <td>10289</td>\n",
       "      <td>0</td>\n",
       "      <td>2009-05-05</td>\n",
       "      <td>OTHER</td>\n",
       "      <td>2005</td>\n",
       "      <td>4</td>\n",
       "      <td>DODGE</td>\n",
       "      <td>2.7L</td>\n",
       "      <td>SXT</td>\n",
       "      <td>FFV</td>\n",
       "      <td>...</td>\n",
       "      <td>99750</td>\n",
       "      <td>21014</td>\n",
       "      <td>MD</td>\n",
       "      <td>4100.0</td>\n",
       "      <td>0</td>\n",
       "      <td>1389</td>\n",
       "      <td>STRATUS</td>\n",
       "      <td>NaN</td>\n",
       "      <td>4D</td>\n",
       "      <td>SEDAN</td>\n",
       "    </tr>\n",
       "    <tr>\n",
       "      <th>58381</th>\n",
       "      <td>20065</td>\n",
       "      <td>0</td>\n",
       "      <td>2010-09-03</td>\n",
       "      <td>OTHER</td>\n",
       "      <td>2007</td>\n",
       "      <td>3</td>\n",
       "      <td>CHEVROLET</td>\n",
       "      <td>NaN</td>\n",
       "      <td>LS</td>\n",
       "      <td>NaN</td>\n",
       "      <td>...</td>\n",
       "      <td>21053</td>\n",
       "      <td>95673</td>\n",
       "      <td>CA</td>\n",
       "      <td>7205.0</td>\n",
       "      <td>0</td>\n",
       "      <td>1974</td>\n",
       "      <td>MONTE CARLO</td>\n",
       "      <td>NaN</td>\n",
       "      <td>2D</td>\n",
       "      <td>COUPE</td>\n",
       "    </tr>\n",
       "    <tr>\n",
       "      <th>58382</th>\n",
       "      <td>12550</td>\n",
       "      <td>0</td>\n",
       "      <td>2010-01-26</td>\n",
       "      <td>OTHER</td>\n",
       "      <td>2006</td>\n",
       "      <td>4</td>\n",
       "      <td>FORD</td>\n",
       "      <td>NaN</td>\n",
       "      <td>ZX4</td>\n",
       "      <td>NaN</td>\n",
       "      <td>...</td>\n",
       "      <td>21053</td>\n",
       "      <td>95673</td>\n",
       "      <td>CA</td>\n",
       "      <td>4690.0</td>\n",
       "      <td>0</td>\n",
       "      <td>1155</td>\n",
       "      <td>FOCUS</td>\n",
       "      <td>NaN</td>\n",
       "      <td>4D</td>\n",
       "      <td>SEDAN</td>\n",
       "    </tr>\n",
       "    <tr>\n",
       "      <th>58383</th>\n",
       "      <td>15626</td>\n",
       "      <td>0</td>\n",
       "      <td>2010-10-28</td>\n",
       "      <td>OTHER</td>\n",
       "      <td>2007</td>\n",
       "      <td>3</td>\n",
       "      <td>CHEVROLET</td>\n",
       "      <td>NaN</td>\n",
       "      <td>LS</td>\n",
       "      <td>NaN</td>\n",
       "      <td>...</td>\n",
       "      <td>99750</td>\n",
       "      <td>21014</td>\n",
       "      <td>MD</td>\n",
       "      <td>7000.0</td>\n",
       "      <td>0</td>\n",
       "      <td>1703</td>\n",
       "      <td>IMPALA</td>\n",
       "      <td>NaN</td>\n",
       "      <td>4D</td>\n",
       "      <td>SEDAN</td>\n",
       "    </tr>\n",
       "    <tr>\n",
       "      <th>58384</th>\n",
       "      <td>21224</td>\n",
       "      <td>1</td>\n",
       "      <td>2010-01-12</td>\n",
       "      <td>MANHEIM</td>\n",
       "      <td>2005</td>\n",
       "      <td>5</td>\n",
       "      <td>NISSAN</td>\n",
       "      <td>1.8L</td>\n",
       "      <td>BAS</td>\n",
       "      <td>NaN</td>\n",
       "      <td>...</td>\n",
       "      <td>52644</td>\n",
       "      <td>75236</td>\n",
       "      <td>TX</td>\n",
       "      <td>5525.0</td>\n",
       "      <td>0</td>\n",
       "      <td>594</td>\n",
       "      <td>SENTRA</td>\n",
       "      <td>NaN</td>\n",
       "      <td>4D</td>\n",
       "      <td>SEDAN</td>\n",
       "    </tr>\n",
       "    <tr>\n",
       "      <th>58385</th>\n",
       "      <td>40898</td>\n",
       "      <td>1</td>\n",
       "      <td>2009-08-10</td>\n",
       "      <td>MANHEIM</td>\n",
       "      <td>2001</td>\n",
       "      <td>8</td>\n",
       "      <td>CHEVROLET</td>\n",
       "      <td>4C 2.2L</td>\n",
       "      <td>BAS</td>\n",
       "      <td>NaN</td>\n",
       "      <td>...</td>\n",
       "      <td>18880</td>\n",
       "      <td>29532</td>\n",
       "      <td>SC</td>\n",
       "      <td>3240.0</td>\n",
       "      <td>0</td>\n",
       "      <td>1455</td>\n",
       "      <td>CAVALIER</td>\n",
       "      <td>NaN</td>\n",
       "      <td>4D</td>\n",
       "      <td>SEDAN</td>\n",
       "    </tr>\n",
       "  </tbody>\n",
       "</table>\n",
       "<p>58386 rows × 38 columns</p>\n",
       "</div>"
      ],
      "text/plain": [
       "       RefId  IsBadBuy   PurchDate  Auction  VehYear  VehicleAge       Make  \\\n",
       "0        326         1  2010-10-25    ADESA     2008           2        KIA   \n",
       "1      42991         0  2009-05-27  MANHEIM     2006           3      DODGE   \n",
       "2      55273         0  2010-03-18    OTHER     2008           2      DODGE   \n",
       "3      29058         0  2009-08-06    OTHER     2005           4       FORD   \n",
       "4      34991         0  2009-04-03  MANHEIM     2005           4   CHRYSLER   \n",
       "5      62522         0  2009-04-22    ADESA     2007           2        KIA   \n",
       "6       1653         0  2010-05-21    ADESA     2005           5     NISSAN   \n",
       "7      40878         0  2009-09-24  MANHEIM     2008           1      DODGE   \n",
       "8      55149         0  2010-06-07  MANHEIM     2006           4     SUZUKI   \n",
       "9       7255         0  2009-04-06  MANHEIM     2006           3     SUZUKI   \n",
       "10     63516         0  2009-10-13  MANHEIM     2004           5   CHRYSLER   \n",
       "11     16842         0  2010-10-02  MANHEIM     2007           3    PONTIAC   \n",
       "12     52022         0  2010-12-05  MANHEIM     2005           5      DODGE   \n",
       "13     37991         0  2009-05-06  MANHEIM     2004           5  CHEVROLET   \n",
       "14     67625         0  2009-11-08    ADESA     2007           2   CHRYSLER   \n",
       "15     21383         0  2010-07-23    OTHER     2007           3  CHEVROLET   \n",
       "16     52699         0  2010-05-20  MANHEIM     2006           4    PONTIAC   \n",
       "17     50691         0  2010-01-13  MANHEIM     2008           2  CHEVROLET   \n",
       "18     40617         0  2009-01-29  MANHEIM     2006           3     SATURN   \n",
       "19     27941         0  2009-08-07  MANHEIM     2002           7  CHEVROLET   \n",
       "20     24536         0  2009-05-27  MANHEIM     2005           4      DODGE   \n",
       "21     11325         0  2010-03-15  MANHEIM     2003           7      DODGE   \n",
       "22     51038         0  2009-11-25    OTHER     2004           5       FORD   \n",
       "23     29109         0  2009-10-28    OTHER     2005           4       FORD   \n",
       "24     66864         0  2010-07-29    ADESA     2004           6  CHEVROLET   \n",
       "25     71633         0  2010-11-02    ADESA     2007           3     SATURN   \n",
       "26     21465         0  2010-08-24    OTHER     2006           4    PONTIAC   \n",
       "27     38302         0  2010-09-29  MANHEIM     2007           3     NISSAN   \n",
       "28     68449         0  2010-02-25    ADESA     2003           7       FORD   \n",
       "29     46291         0  2009-03-02  MANHEIM     2005           4       FORD   \n",
       "...      ...       ...         ...      ...      ...         ...        ...   \n",
       "58356  59417         1  2010-04-22  MANHEIM     2006           4  CHEVROLET   \n",
       "58357  38858         1  2009-08-13  MANHEIM     2007           2       FORD   \n",
       "58358  59447         1  2010-04-29  MANHEIM     2005           5    HYUNDAI   \n",
       "58359   6529         1  2010-05-25  MANHEIM     2004           6  CHEVROLET   \n",
       "58360  16848         0  2010-02-17  MANHEIM     2006           4      DODGE   \n",
       "58361  41231         0  2010-06-05  MANHEIM     2005           5       FORD   \n",
       "58362   4659         0  2009-01-27  MANHEIM     2005           4      DODGE   \n",
       "58363  64903         0  2010-12-14  MANHEIM     2003           7       FORD   \n",
       "58364  56437         0  2009-09-22    OTHER     2002           7       FORD   \n",
       "58365  62043         0  2010-04-23    ADESA     2007           3  CHEVROLET   \n",
       "58366  68144         1  2009-12-02    ADESA     2004           5  CHEVROLET   \n",
       "58367  44402         0  2010-11-30  MANHEIM     2003           7      DODGE   \n",
       "58368  71903         0  2009-04-16    ADESA     2004           5     NISSAN   \n",
       "58369  39699         0  2010-01-28  MANHEIM     2004           6      MAZDA   \n",
       "58370  66180         0  2009-08-27    ADESA     2004           5       FORD   \n",
       "58371  10308         0  2009-05-05    OTHER     2006           3      DODGE   \n",
       "58372  64402         0  2010-12-05    ADESA     2007           3  CHEVROLET   \n",
       "58373   2130         0  2010-08-30    ADESA     2004           6     TOYOTA   \n",
       "58374   1889         0  2009-04-20    ADESA     2004           5   CHRYSLER   \n",
       "58375  70379         0  2010-10-28    ADESA     2005           5     TOYOTA   \n",
       "58376  23926         0  2009-07-01    OTHER     2007           2  CHEVROLET   \n",
       "58377  16257         0  2009-04-02  MANHEIM     2006           3     SUZUKI   \n",
       "58378  11415         0  2010-05-04  MANHEIM     2004           6   CADILLAC   \n",
       "58379   5871         0  2010-07-13  MANHEIM     2005           5       FORD   \n",
       "58380  10289         0  2009-05-05    OTHER     2005           4      DODGE   \n",
       "58381  20065         0  2010-09-03    OTHER     2007           3  CHEVROLET   \n",
       "58382  12550         0  2010-01-26    OTHER     2006           4       FORD   \n",
       "58383  15626         0  2010-10-28    OTHER     2007           3  CHEVROLET   \n",
       "58384  21224         1  2010-01-12  MANHEIM     2005           5     NISSAN   \n",
       "58385  40898         1  2009-08-10  MANHEIM     2001           8  CHEVROLET   \n",
       "\n",
       "         Engine Trim SubModelSpecifics      ...        BYRNO VNZIP1  VNST  \\\n",
       "0           NaN   EX               NaN      ...         5546  33619    FL   \n",
       "1          2.7L  SXT               FFV      ...        99750  32124    FL   \n",
       "2           NaN   SE               NaN      ...        99761  74135    OK   \n",
       "3          3.9L    S               NaN      ...        99761  85018    AZ   \n",
       "4            V6  BAS               NaN      ...        20833  75236    TX   \n",
       "5      2.0L EFI   EX               NaN      ...        21053  85226    AZ   \n",
       "6           NaN  BAS               NaN      ...         5546  34203    FL   \n",
       "7       4C 2.4L   SE               NaN      ...        99740  29532    SC   \n",
       "8           NaN  NaN               NaN      ...        20234  97217    OR   \n",
       "9      2.0L EFI  NaN               NaN      ...        18880  30272    GA   \n",
       "10         2.4L  BAS               NaN      ...        18111  37210    TN   \n",
       "11           4C  BAS               SE1      ...        19619  32824    FL   \n",
       "12           V8  SLT               NaN      ...        18822  78219    TX   \n",
       "13     3.4L SFI  BAS               NaN      ...        22916  89165    NV   \n",
       "14         2.4L  BAS               NaN      ...        20833  78754    TX   \n",
       "15          NaN   LS               NaN      ...        99750  95673    CA   \n",
       "16          NaN  BAS               NaN      ...        17212  39402    MS   \n",
       "17           4C   LS           CLASSIC      ...        20833  78219    TX   \n",
       "18          NaN  NaN               NaN      ...        20740  29532    SC   \n",
       "19         3.1L  BAS               NaN      ...        19619  32824    FL   \n",
       "20         2.7L  SXT               FFV      ...        99750  32124    FL   \n",
       "21           V8  SLT               NaN      ...        18880  27542    NC   \n",
       "22          NaN  BAS               NaN      ...          835  85009    AZ   \n",
       "23         3.9L    S               NaN      ...        99761  85018    AZ   \n",
       "24         4.3L   LS               NaN      ...        17675  28273    NC   \n",
       "25          NaN   XE               NaN      ...        17675  28273    NC   \n",
       "26          NaN  BAS               NaN      ...        21053  95673    CA   \n",
       "27          NaN  BAS               NaN      ...        52598  75236    TX   \n",
       "28         4.0L  XLS        SPORT TRAC      ...         3453  80817    CO   \n",
       "29         3.9L   SE               NaN      ...        23359  91770    CA   \n",
       "...         ...  ...               ...      ...          ...    ...   ...   \n",
       "58356       NaN   LS               NaN      ...        16926  92337    CA   \n",
       "58357   4C 2.3L    S               NaN      ...        17212  76040    TX   \n",
       "58358       NaN  GLS               NaN      ...        16926  92337    CA   \n",
       "58359       NaN   LS               NaN      ...          835  85040    AZ   \n",
       "58360        4C  SXT               NaN      ...        19619  32824    FL   \n",
       "58361      3.0L  SEL               NaN      ...        17675  29532    SC   \n",
       "58362      2.7L  SXT               FFV      ...          835  85040    AZ   \n",
       "58363      3.8L  SEL               NaN      ...        18880  37210    TN   \n",
       "58364  3.0L EFI   SE               NaN      ...        18880  29070    SC   \n",
       "58365      2.2L   LS               NaN      ...        16926  91752    CA   \n",
       "58366        6C  NOR               NaN      ...        21053  80817    CO   \n",
       "58367       NaN   SE               NaN      ...        16044  19440    PA   \n",
       "58368  3.5L MPI   SE               NaN      ...         3453  80817    CO   \n",
       "58369       NaN   LX               NaN      ...        20234  85353    AZ   \n",
       "58370      3.9L  BAS               NaN      ...        17675  28273    NC   \n",
       "58371      3.3L  BAS               NaN      ...        99750  21014    MD   \n",
       "58372      3.9L   LT               NaN      ...        21053  85226    AZ   \n",
       "58373        4C   LE               NaN      ...        19638  33619    FL   \n",
       "58374      2.4L  BAS               NaN      ...        19638  33619    FL   \n",
       "58375       NaN  BAS               NaN      ...        20740  32219    FL   \n",
       "58376      3.4L   LT               NaN      ...        18880  29697    SC   \n",
       "58377  2.0L EFI  NaN               NaN      ...        19619  32824    FL   \n",
       "58378       NaN  BAS               NaN      ...         8172  27542    NC   \n",
       "58379        V8  STX               NaN      ...          835  85040    AZ   \n",
       "58380      2.7L  SXT               FFV      ...        99750  21014    MD   \n",
       "58381       NaN   LS               NaN      ...        21053  95673    CA   \n",
       "58382       NaN  ZX4               NaN      ...        21053  95673    CA   \n",
       "58383       NaN   LS               NaN      ...        99750  21014    MD   \n",
       "58384      1.8L  BAS               NaN      ...        52644  75236    TX   \n",
       "58385   4C 2.2L  BAS               NaN      ...        18880  29532    SC   \n",
       "\n",
       "      VehBCost  IsOnlineSale WarrantyCost           Model Wheeldrive  Doors  \\\n",
       "0       6100.0             0          533         SPECTRA        NaN     4D   \n",
       "1       4000.0             0         1630         STRATUS        NaN     4D   \n",
       "2       7500.0             0          693         CALIBER        NaN     4D   \n",
       "3       4725.0             0         1633        FREESTAR        2WD    NaN   \n",
       "4       5670.0             0         1623  TOWN & COUNTRY        2WD    NaN   \n",
       "5       5430.0             0          462         SPECTRA        NaN     4D   \n",
       "6       7675.0             0          723          ALTIMA        NaN     4D   \n",
       "7       7810.0             0          920         AVENGER        NaN     4D   \n",
       "8       5870.0             0          462         FORENZA        NaN     4D   \n",
       "9       4825.0             0          505         FORENZA        NaN     4D   \n",
       "10      5125.0             0         1503      PT CRUISER        NaN     4D   \n",
       "11      7300.0             0          764              G6        NaN     4D   \n",
       "12     10135.0             0         1623         DURANGO        4WD     4D   \n",
       "13      4185.0             0         2351          IMPALA        NaN     4D   \n",
       "14      6305.0             0          975      PT CRUISER        NaN     4D   \n",
       "15      8000.0             0         1703          IMPALA        NaN     4D   \n",
       "16      7425.0             0         1272              G6        NaN     4D   \n",
       "17      7440.0             0          764          MALIBU        NaN     4D   \n",
       "18      5690.0             0         1583           RELAY        2WD     4D   \n",
       "19      3700.0             0         2198          MALIBU        NaN     4D   \n",
       "20      4600.0             0         1215         STRATUS        NaN     4D   \n",
       "21      7200.0             0         1689         DURANGO        2WD     4D   \n",
       "22      7495.0             0          803         MUSTANG        NaN     2D   \n",
       "23      4900.0             0         1633        FREESTAR        2WD    NaN   \n",
       "24      9170.0             0         1272  1500 SILVERADO        NaN    NaN   \n",
       "25      8065.0             0         1118            AURA        NaN     4D   \n",
       "26      7305.0             0         1328      GRAND PRIX        NaN     4D   \n",
       "27     10350.0             0          686          ALTIMA        NaN     4D   \n",
       "28      9325.0             0         1543        EXPLORER        2WD     4D   \n",
       "29      4340.0             0         1633        FREESTAR        2WD    NaN   \n",
       "...        ...           ...          ...             ...        ...    ...   \n",
       "58356   6120.0             0          803            AVEO        NaN     4D   \n",
       "58357   7185.0             0          803          FUSION        NaN     4D   \n",
       "58358   5520.0             0          693          ACCENT        NaN     4D   \n",
       "58359   6700.0             0         1272     MALIBU MAXX        NaN     4D   \n",
       "58360   5700.0             0         1155         STRATUS        NaN     4D   \n",
       "58361   8170.0             0         1633       FREESTYLE        2WD     4D   \n",
       "58362   3860.0             0         1503         STRATUS        NaN     4D   \n",
       "58363   5000.0             0         1906        WINDSTAR        2WD     4D   \n",
       "58364   4550.0             0          993          TAURUS        NaN     4D   \n",
       "58365   8315.0             0          803             HHR        NaN     4D   \n",
       "58366   6190.0             0         2152     TRAILBLAZER        4WD     4D   \n",
       "58367   4705.0             0          930            NEON        NaN     4D   \n",
       "58368   9210.0             0         1155          MAXIMA        NaN     4D   \n",
       "58369   6970.0             0          920         TRIBUTE        2WD     4D   \n",
       "58370   7345.0             0          728         MUSTANG        NaN     2D   \n",
       "58371   5600.0             0         1623         CARAVAN        2WD    NaN   \n",
       "58372   8415.0             0         1974          IMPALA        NaN     4D   \n",
       "58373   7300.0             0          594           CAMRY        NaN     4D   \n",
       "58374   4800.0             0         1086      PT CRUISER        NaN     4D   \n",
       "58375   9600.0             0          620      HIGHLANDER        2WD     4D   \n",
       "58376   8700.0             0         1389         EQUINOX        2WD     4D   \n",
       "58377   5400.0             0          462         FORENZA        NaN     4D   \n",
       "58378   9335.0             0         1763             CTS        NaN     4D   \n",
       "58379  10440.0             0          728            F150        2WD    NaN   \n",
       "58380   4100.0             0         1389         STRATUS        NaN     4D   \n",
       "58381   7205.0             0         1974     MONTE CARLO        NaN     2D   \n",
       "58382   4690.0             0         1155           FOCUS        NaN     4D   \n",
       "58383   7000.0             0         1703          IMPALA        NaN     4D   \n",
       "58384   5525.0             0          594          SENTRA        NaN     4D   \n",
       "58385   3240.0             0         1455        CAVALIER        NaN     4D   \n",
       "\n",
       "            SubModel  \n",
       "0              SEDAN  \n",
       "1              SEDAN  \n",
       "2              WAGON  \n",
       "3          PASSENGER  \n",
       "4            MINIVAN  \n",
       "5              SEDAN  \n",
       "6              SEDAN  \n",
       "7              SEDAN  \n",
       "8              SEDAN  \n",
       "9              SEDAN  \n",
       "10             SEDAN  \n",
       "11             SEDAN  \n",
       "12               SUV  \n",
       "13             SEDAN  \n",
       "14             SEDAN  \n",
       "15             SEDAN  \n",
       "16             SEDAN  \n",
       "17             SEDAN  \n",
       "18     UTILITY SPORT  \n",
       "19             SEDAN  \n",
       "20             SEDAN  \n",
       "21               SUV  \n",
       "22             COUPE  \n",
       "23         PASSENGER  \n",
       "24           EXT CAB  \n",
       "25             SEDAN  \n",
       "26             SEDAN  \n",
       "27             SEDAN  \n",
       "28               SUV  \n",
       "29         PASSENGER  \n",
       "...              ...  \n",
       "58356          SEDAN  \n",
       "58357          SEDAN  \n",
       "58358          SEDAN  \n",
       "58359          SEDAN  \n",
       "58360          SEDAN  \n",
       "58361            CUV  \n",
       "58362          SEDAN  \n",
       "58363      PASSENGER  \n",
       "58364          SEDAN  \n",
       "58365            SUV  \n",
       "58366            SUV  \n",
       "58367          SEDAN  \n",
       "58368          SEDAN  \n",
       "58369  UTILITY SPORT  \n",
       "58370          COUPE  \n",
       "58371        MINIVAN  \n",
       "58372          SEDAN  \n",
       "58373          SEDAN  \n",
       "58374          SEDAN  \n",
       "58375  UTILITY SPORT  \n",
       "58376            SUV  \n",
       "58377          SEDAN  \n",
       "58378          SEDAN  \n",
       "58379        EXT CAB  \n",
       "58380          SEDAN  \n",
       "58381          COUPE  \n",
       "58382          SEDAN  \n",
       "58383          SEDAN  \n",
       "58384          SEDAN  \n",
       "58385          SEDAN  \n",
       "\n",
       "[58386 rows x 38 columns]"
      ]
     },
     "execution_count": 10,
     "metadata": {},
     "output_type": "execute_result"
    }
   ],
   "source": [
    "df"
   ]
  },
  {
   "cell_type": "markdown",
   "metadata": {},
   "source": [
    "- Data Type di ciascun attributo:\n",
    "\n",
    "Integer (numero intero); Floating (numero decimale); Object (stringa, data). per verificare che non ci siano incongruenze"
   ]
  },
  {
   "cell_type": "code",
   "execution_count": 11,
   "metadata": {
    "scrolled": true
   },
   "outputs": [
    {
     "data": {
      "text/plain": [
       "RefId                                  int64\n",
       "IsBadBuy                               int64\n",
       "PurchDate                             object\n",
       "Auction                               object\n",
       "VehYear                                int64\n",
       "VehicleAge                             int64\n",
       "Make                                  object\n",
       "Engine                                object\n",
       "Trim                                  object\n",
       "SubModelSpecifics                     object\n",
       "Color                                 object\n",
       "Transmission                          object\n",
       "WheelTypeID                          float64\n",
       "WheelType                             object\n",
       "VehOdo                                 int64\n",
       "Nationality                           object\n",
       "Size                                  object\n",
       "TopThreeAmericanName                  object\n",
       "MMRAcquisitionAuctionAveragePrice    float64\n",
       "MMRAcquisitionAuctionCleanPrice      float64\n",
       "MMRAcquisitionRetailAveragePrice     float64\n",
       "MMRAcquisitonRetailCleanPrice        float64\n",
       "MMRCurrentAuctionAveragePrice        float64\n",
       "MMRCurrentAuctionCleanPrice          float64\n",
       "MMRCurrentRetailAveragePrice         float64\n",
       "MMRCurrentRetailCleanPrice           float64\n",
       "PRIMEUNIT                             object\n",
       "AUCGUART                              object\n",
       "BYRNO                                  int64\n",
       "VNZIP1                                 int64\n",
       "VNST                                  object\n",
       "VehBCost                             float64\n",
       "IsOnlineSale                           int64\n",
       "WarrantyCost                           int64\n",
       "Model                                 object\n",
       "Wheeldrive                            object\n",
       "Doors                                 object\n",
       "SubModel                              object\n",
       "dtype: object"
      ]
     },
     "execution_count": 11,
     "metadata": {},
     "output_type": "execute_result"
    }
   ],
   "source": [
    "df.dtypes"
   ]
  },
  {
   "cell_type": "markdown",
   "metadata": {},
   "source": [
    "- somma dei valori nulli per ogni attributo"
   ]
  },
  {
   "cell_type": "code",
   "execution_count": 12,
   "metadata": {
    "scrolled": true
   },
   "outputs": [
    {
     "data": {
      "text/plain": [
       "RefId                                    0\n",
       "IsBadBuy                                 0\n",
       "PurchDate                                0\n",
       "Auction                                  0\n",
       "VehYear                                  0\n",
       "VehicleAge                               0\n",
       "Make                                     0\n",
       "Engine                               19582\n",
       "Trim                                  1793\n",
       "SubModelSpecifics                    49091\n",
       "Color                                    7\n",
       "Transmission                             8\n",
       "WheelTypeID                           2573\n",
       "WheelType                             2577\n",
       "VehOdo                                   0\n",
       "Nationality                              4\n",
       "Size                                     4\n",
       "TopThreeAmericanName                     4\n",
       "MMRAcquisitionAuctionAveragePrice       13\n",
       "MMRAcquisitionAuctionCleanPrice         13\n",
       "MMRAcquisitionRetailAveragePrice        13\n",
       "MMRAcquisitonRetailCleanPrice           13\n",
       "MMRCurrentAuctionAveragePrice          245\n",
       "MMRCurrentAuctionCleanPrice            245\n",
       "MMRCurrentRetailAveragePrice           245\n",
       "MMRCurrentRetailCleanPrice             245\n",
       "PRIMEUNIT                            55703\n",
       "AUCGUART                             55703\n",
       "BYRNO                                    0\n",
       "VNZIP1                                   0\n",
       "VNST                                     0\n",
       "VehBCost                                 0\n",
       "IsOnlineSale                             0\n",
       "WarrantyCost                             0\n",
       "Model                                    0\n",
       "Wheeldrive                           40532\n",
       "Doors                                 7737\n",
       "SubModel                                 7\n",
       "dtype: int64"
      ]
     },
     "execution_count": 12,
     "metadata": {},
     "output_type": "execute_result"
    }
   ],
   "source": [
    "df.isnull().sum()"
   ]
  },
  {
   "cell_type": "markdown",
   "metadata": {},
   "source": [
    "- Somma dei valori uguali a 0 lungo le colonne (axis=0), per ciascun attributo"
   ]
  },
  {
   "cell_type": "code",
   "execution_count": 13,
   "metadata": {
    "scrolled": true
   },
   "outputs": [
    {
     "data": {
      "text/plain": [
       "RefId                                    0\n",
       "IsBadBuy                             51178\n",
       "PurchDate                                0\n",
       "Auction                                  0\n",
       "VehYear                                  0\n",
       "VehicleAge                               1\n",
       "Make                                     0\n",
       "Engine                                   0\n",
       "Trim                                     0\n",
       "SubModelSpecifics                        0\n",
       "Color                                    0\n",
       "Transmission                             0\n",
       "WheelTypeID                              4\n",
       "WheelType                                0\n",
       "VehOdo                                   0\n",
       "Nationality                              0\n",
       "Size                                     0\n",
       "TopThreeAmericanName                     0\n",
       "MMRAcquisitionAuctionAveragePrice      648\n",
       "MMRAcquisitionAuctionCleanPrice        552\n",
       "MMRAcquisitionRetailAveragePrice       648\n",
       "MMRAcquisitonRetailCleanPrice          648\n",
       "MMRCurrentAuctionAveragePrice          393\n",
       "MMRCurrentAuctionCleanPrice            300\n",
       "MMRCurrentRetailAveragePrice           393\n",
       "MMRCurrentRetailCleanPrice             393\n",
       "PRIMEUNIT                                0\n",
       "AUCGUART                                 0\n",
       "BYRNO                                    0\n",
       "VNZIP1                                   0\n",
       "VNST                                     0\n",
       "VehBCost                                 0\n",
       "IsOnlineSale                         56887\n",
       "WarrantyCost                             0\n",
       "Model                                    0\n",
       "Wheeldrive                               0\n",
       "Doors                                    0\n",
       "SubModel                                 0\n",
       "dtype: int64"
      ]
     },
     "execution_count": 13,
     "metadata": {},
     "output_type": "execute_result"
    }
   ],
   "source": [
    "(df == 0).sum(axis=0)"
   ]
  },
  {
   "cell_type": "markdown",
   "metadata": {},
   "source": [
    "# Distribuzioni\n",
    "\n",
    "Analizziamo la distribuzione dei valori di tutti gli attributi.\n",
    "\n",
    "Usiamo il grafico BarChart per gli attributi categorici e l'Istogramma per gli attributi numerici."
   ]
  },
  {
   "cell_type": "markdown",
   "metadata": {},
   "source": [
    "*** - Attributi Categorici ***"
   ]
  },
  {
   "cell_type": "markdown",
   "metadata": {},
   "source": [
    "- Make"
   ]
  },
  {
   "cell_type": "code",
   "execution_count": 14,
   "metadata": {
    "scrolled": true
   },
   "outputs": [
    {
     "data": {
      "text/plain": [
       "CHEVROLET       13842\n",
       "DODGE           10355\n",
       "FORD             9000\n",
       "CHRYSLER         7093\n",
       "PONTIAC          3421\n",
       "KIA              2006\n",
       "SATURN           1698\n",
       "NISSAN           1687\n",
       "HYUNDAI          1444\n",
       "JEEP             1287\n",
       "SUZUKI           1062\n",
       "TOYOTA            905\n",
       "MITSUBISHI        822\n",
       "MAZDA             774\n",
       "MERCURY           739\n",
       "BUICK             562\n",
       "GMC               502\n",
       "HONDA             407\n",
       "OLDSMOBILE        198\n",
       "ISUZU             110\n",
       "VOLKSWAGEN        104\n",
       "SCION             102\n",
       "LINCOLN            80\n",
       "INFINITI           36\n",
       "VOLVO              31\n",
       "LEXUS              27\n",
       "ACURA              25\n",
       "CADILLAC           25\n",
       "SUBARU             22\n",
       "MINI               17\n",
       "PLYMOUTH            1\n",
       "TOYOTA SCION        1\n",
       "HUMMER              1\n",
       "Name: Make, dtype: int64"
      ]
     },
     "execution_count": 14,
     "metadata": {},
     "output_type": "execute_result"
    }
   ],
   "source": [
    "df[\"Make\"].value_counts()"
   ]
  },
  {
   "cell_type": "code",
   "execution_count": 15,
   "metadata": {
    "scrolled": true
   },
   "outputs": [
    {
     "data": {
      "text/plain": [
       "33"
      ]
     },
     "execution_count": 15,
     "metadata": {},
     "output_type": "execute_result"
    }
   ],
   "source": [
    "df[\"Make\"].nunique()  # numero di valori unici"
   ]
  },
  {
   "cell_type": "code",
   "execution_count": 16,
   "metadata": {
    "scrolled": false
   },
   "outputs": [
    {
     "data": {
      "image/png": "[encoded data removed]",
      "text/plain": [
       "<Figure size 432x288 with 1 Axes>"
      ]
     },
     "metadata": {},
     "output_type": "display_data"
    }
   ],
   "source": [
    "df[\"Make\"].value_counts().plot(kind=\"bar\")\n",
    "plt.show()"
   ]
  },
  {
   "cell_type": "code",
   "execution_count": 17,
   "metadata": {},
   "outputs": [
    {
     "data": {
      "text/plain": [
       "PLYMOUTH    1\n",
       "HUMMER      1\n",
       "Name: Make, dtype: int64"
      ]
     },
     "execution_count": 17,
     "metadata": {},
     "output_type": "execute_result"
    }
   ],
   "source": [
    "# sostituiamo TOYOTA SCION con SCION (perchè sono la stessa cosa)\n",
    "df['Make'].replace(['TOYOTA SCION'], ['SCION'], inplace=True)\n",
    "\n",
    "# verifica dell'eliminazione di TOYOTA SCION\n",
    "df['Make'].value_counts().loc[df['Make'].value_counts() < 10]"
   ]
  },
  {
   "cell_type": "markdown",
   "metadata": {},
   "source": [
    "- TopThreeAmericanName"
   ]
  },
  {
   "cell_type": "code",
   "execution_count": 18,
   "metadata": {},
   "outputs": [
    {
     "data": {
      "image/png": "[encoded data removed]",
      "text/plain": [
       "<Figure size 144x144 with 1 Axes>"
      ]
     },
     "metadata": {},
     "output_type": "display_data"
    }
   ],
   "source": [
    "df[\"TopThreeAmericanName\"].value_counts().plot(kind=\"bar\", figsize=(2, 2))\n",
    "plt.show()"
   ]
  },
  {
   "cell_type": "code",
   "execution_count": 19,
   "metadata": {},
   "outputs": [
    {
     "data": {
      "text/plain": [
       "GM          20248\n",
       "CHRYSLER    18733\n",
       "FORD         9819\n",
       "OTHER        9582\n",
       "Name: TopThreeAmericanName, dtype: int64"
      ]
     },
     "execution_count": 19,
     "metadata": {},
     "output_type": "execute_result"
    }
   ],
   "source": [
    "Top3Counter=df['TopThreeAmericanName'].value_counts()\n",
    "Top3Counter"
   ]
  },
  {
   "cell_type": "markdown",
   "metadata": {},
   "source": [
    "- Model"
   ]
  },
  {
   "cell_type": "code",
   "execution_count": 20,
   "metadata": {},
   "outputs": [
    {
     "data": {
      "text/plain": [
       "264"
      ]
     },
     "execution_count": 20,
     "metadata": {},
     "output_type": "execute_result"
    }
   ],
   "source": [
    "df[\"Model\"].nunique()"
   ]
  },
  {
   "cell_type": "code",
   "execution_count": 21,
   "metadata": {},
   "outputs": [
    {
     "data": {
      "text/plain": [
       "21"
      ]
     },
     "execution_count": 21,
     "metadata": {},
     "output_type": "execute_result"
    }
   ],
   "source": [
    "#approximate number of outliers\n",
    "df['Model'].value_counts().loc[df['Model'].value_counts()<2].count()"
   ]
  },
  {
   "cell_type": "code",
   "execution_count": 22,
   "metadata": {
    "scrolled": false
   },
   "outputs": [],
   "source": [
    "#df[\"Model\"].value_counts().plot(kind=\"bar\")\n",
    "#plt.show()"
   ]
  },
  {
   "cell_type": "markdown",
   "metadata": {},
   "source": [
    "- SubModel"
   ]
  },
  {
   "cell_type": "code",
   "execution_count": 23,
   "metadata": {},
   "outputs": [
    {
     "data": {
      "text/plain": [
       "38"
      ]
     },
     "execution_count": 23,
     "metadata": {},
     "output_type": "execute_result"
    }
   ],
   "source": [
    "df[\"SubModel\"].nunique()"
   ]
  },
  {
   "cell_type": "code",
   "execution_count": 24,
   "metadata": {},
   "outputs": [
    {
     "data": {
      "text/plain": [
       "7"
      ]
     },
     "execution_count": 24,
     "metadata": {},
     "output_type": "execute_result"
    }
   ],
   "source": [
    "df[\"SubModel\"].isnull().sum()"
   ]
  },
  {
   "cell_type": "code",
   "execution_count": 25,
   "metadata": {},
   "outputs": [
    {
     "data": {
      "text/plain": [
       "13"
      ]
     },
     "execution_count": 25,
     "metadata": {},
     "output_type": "execute_result"
    }
   ],
   "source": [
    "df['SubModel'].value_counts().loc[df['SubModel'].value_counts()<10].count()"
   ]
  },
  {
   "cell_type": "code",
   "execution_count": 26,
   "metadata": {
    "scrolled": false
   },
   "outputs": [
    {
     "data": {
      "image/png": "[encoded data removed]",
      "text/plain": [
       "<Figure size 432x288 with 1 Axes>"
      ]
     },
     "metadata": {},
     "output_type": "display_data"
    }
   ],
   "source": [
    "df[\"SubModel\"].value_counts().plot(kind=\"bar\")\n",
    "plt.show()"
   ]
  },
  {
   "cell_type": "markdown",
   "metadata": {},
   "source": [
    "- Engine"
   ]
  },
  {
   "cell_type": "code",
   "execution_count": 27,
   "metadata": {},
   "outputs": [
    {
     "data": {
      "text/plain": [
       "129"
      ]
     },
     "execution_count": 27,
     "metadata": {},
     "output_type": "execute_result"
    }
   ],
   "source": [
    "df[\"Engine\"].nunique()"
   ]
  },
  {
   "cell_type": "code",
   "execution_count": 28,
   "metadata": {},
   "outputs": [
    {
     "data": {
      "text/plain": [
       "19582"
      ]
     },
     "execution_count": 28,
     "metadata": {},
     "output_type": "execute_result"
    }
   ],
   "source": [
    "df[\"Engine\"].isnull().sum()"
   ]
  },
  {
   "cell_type": "code",
   "execution_count": 29,
   "metadata": {},
   "outputs": [
    {
     "data": {
      "text/plain": [
       "10"
      ]
     },
     "execution_count": 29,
     "metadata": {},
     "output_type": "execute_result"
    }
   ],
   "source": [
    "#approximate number of outliers\n",
    "df['Engine'].value_counts().loc[df['Engine'].value_counts()<2].count()"
   ]
  },
  {
   "cell_type": "code",
   "execution_count": 30,
   "metadata": {
    "scrolled": false
   },
   "outputs": [],
   "source": [
    "#df[\"Engine\"].value_counts().plot(kind=\"bar\")\n",
    "#plt.show()"
   ]
  },
  {
   "cell_type": "markdown",
   "metadata": {},
   "source": [
    "- Trim"
   ]
  },
  {
   "cell_type": "code",
   "execution_count": 31,
   "metadata": {
    "scrolled": true
   },
   "outputs": [
    {
     "data": {
      "text/plain": [
       "130"
      ]
     },
     "execution_count": 31,
     "metadata": {},
     "output_type": "execute_result"
    }
   ],
   "source": [
    "df[\"Trim\"].nunique()"
   ]
  },
  {
   "cell_type": "code",
   "execution_count": 32,
   "metadata": {},
   "outputs": [
    {
     "data": {
      "text/plain": [
       "1793"
      ]
     },
     "execution_count": 32,
     "metadata": {},
     "output_type": "execute_result"
    }
   ],
   "source": [
    "df[\"Trim\"].isnull().sum()"
   ]
  },
  {
   "cell_type": "code",
   "execution_count": 33,
   "metadata": {},
   "outputs": [],
   "source": [
    "# df[\"Trim\"].value_counts().plot(kind=\"bar\")\n",
    "# plt.show()"
   ]
  },
  {
   "cell_type": "markdown",
   "metadata": {},
   "source": [
    "- Size"
   ]
  },
  {
   "cell_type": "code",
   "execution_count": 34,
   "metadata": {},
   "outputs": [
    {
     "data": {
      "image/png": "[encoded data removed]",
      "text/plain": [
       "<Figure size 432x288 with 1 Axes>"
      ]
     },
     "metadata": {},
     "output_type": "display_data"
    }
   ],
   "source": [
    "# 12 distinc values\n",
    "#missing values=4\n",
    "#outliers=?\n",
    "#distribution\n",
    "df[\"Size\"].value_counts().plot(kind=\"bar\")\n",
    "plt.show()"
   ]
  },
  {
   "cell_type": "code",
   "execution_count": 35,
   "metadata": {},
   "outputs": [
    {
     "data": {
      "text/plain": [
       "MEDIUM         24644\n",
       "LARGE           7120\n",
       "MEDIUM SUV      6398\n",
       "COMPACT         5764\n",
       "VAN             4677\n",
       "LARGE TRUCK     2554\n",
       "SMALL SUV       1805\n",
       "SPECIALTY       1527\n",
       "CROSSOVER       1419\n",
       "LARGE SUV       1157\n",
       "SMALL TRUCK      696\n",
       "SPORTS           621\n",
       "Name: Size, dtype: int64"
      ]
     },
     "execution_count": 35,
     "metadata": {},
     "output_type": "execute_result"
    }
   ],
   "source": [
    "df['Size'].value_counts()"
   ]
  },
  {
   "cell_type": "markdown",
   "metadata": {},
   "source": [
    "- Transmission"
   ]
  },
  {
   "cell_type": "code",
   "execution_count": 36,
   "metadata": {},
   "outputs": [
    {
     "data": {
      "image/png": "[encoded data removed]",
      "text/plain": [
       "<Figure size 360x360 with 1 Axes>"
      ]
     },
     "metadata": {},
     "output_type": "display_data"
    }
   ],
   "source": [
    "df[\"Transmission\"].value_counts(dropna=False).plot.pie(y=\"Transmission\",figsize=(5, 5))\n",
    "plt.show()"
   ]
  },
  {
   "cell_type": "code",
   "execution_count": 37,
   "metadata": {
    "scrolled": true
   },
   "outputs": [
    {
     "data": {
      "text/plain": [
       "8"
      ]
     },
     "execution_count": 37,
     "metadata": {},
     "output_type": "execute_result"
    }
   ],
   "source": [
    "df[\"Transmission\"].isnull().sum()"
   ]
  },
  {
   "cell_type": "markdown",
   "metadata": {},
   "source": [
    "- WheelTypeID"
   ]
  },
  {
   "cell_type": "code",
   "execution_count": 38,
   "metadata": {},
   "outputs": [
    {
     "data": {
      "image/png": "[encoded data removed]",
      "text/plain": [
       "<Figure size 432x288 with 1 Axes>"
      ]
     },
     "metadata": {},
     "output_type": "display_data"
    }
   ],
   "source": [
    "df['WheelTypeID'].value_counts().plot(kind=\"bar\")\n",
    "plt.show()"
   ]
  },
  {
   "cell_type": "code",
   "execution_count": 39,
   "metadata": {},
   "outputs": [],
   "source": [
    "# i valori uguali a 0 dovrebbero essere valori nulli, quindi li sostituiamo\n",
    "df['WheelTypeID'].replace(0, np.nan, inplace=True)"
   ]
  },
  {
   "cell_type": "code",
   "execution_count": 40,
   "metadata": {
    "scrolled": true
   },
   "outputs": [
    {
     "data": {
      "text/plain": [
       "1.0    28735\n",
       "2.0    26485\n",
       "3.0      589\n",
       "Name: WheelTypeID, dtype: int64"
      ]
     },
     "execution_count": 40,
     "metadata": {},
     "output_type": "execute_result"
    }
   ],
   "source": [
    "WheelTypeIdCounter=df['WheelTypeID'].value_counts()\n",
    "WheelTypeIdCounter"
   ]
  },
  {
   "cell_type": "code",
   "execution_count": 41,
   "metadata": {},
   "outputs": [
    {
     "data": {
      "text/plain": [
       "2577"
      ]
     },
     "execution_count": 41,
     "metadata": {},
     "output_type": "execute_result"
    }
   ],
   "source": [
    "df['WheelTypeID'].isnull().sum()"
   ]
  },
  {
   "cell_type": "markdown",
   "metadata": {},
   "source": [
    "- WheelType"
   ]
  },
  {
   "cell_type": "code",
   "execution_count": 42,
   "metadata": {
    "scrolled": true
   },
   "outputs": [
    {
     "data": {
      "image/png": "[encoded data removed]",
      "text/plain": [
       "<Figure size 432x288 with 1 Axes>"
      ]
     },
     "metadata": {},
     "output_type": "display_data"
    }
   ],
   "source": [
    "df[\"WheelType\"].value_counts().plot(kind=\"bar\")\n",
    "plt.show()"
   ]
  },
  {
   "cell_type": "code",
   "execution_count": 43,
   "metadata": {},
   "outputs": [
    {
     "data": {
      "text/plain": [
       "True"
      ]
     },
     "execution_count": 43,
     "metadata": {},
     "output_type": "execute_result"
    }
   ],
   "source": [
    "# verifichiamo se gli attributi \"WheelType\" e \"WheelTypeID\" hanno lo stesso numero di valori nulli\n",
    "\n",
    "df[\"WheelType\"].isnull().sum() == df[\"WheelTypeID\"].isnull().sum()"
   ]
  },
  {
   "cell_type": "markdown",
   "metadata": {},
   "source": [
    "- Nationality"
   ]
  },
  {
   "cell_type": "code",
   "execution_count": 44,
   "metadata": {
    "scrolled": false
   },
   "outputs": [
    {
     "data": {
      "image/png": "[encoded data removed]",
      "text/plain": [
       "<Figure size 432x288 with 1 Axes>"
      ]
     },
     "metadata": {},
     "output_type": "display_data"
    }
   ],
   "source": [
    "#missing values=4\n",
    "#outliers=\n",
    "df[\"Nationality\"].value_counts().plot(kind=\"bar\")\n",
    "plt.show()"
   ]
  },
  {
   "cell_type": "markdown",
   "metadata": {},
   "source": [
    "L'attributo 'Nationality' presenta molti valori per la variabile \"AMERICAN\" e pochi per le altre variabili.\n",
    "abbiamo quindi sostituito le altre ('Other', 'Other asian', 'Top ten asian') con un unico attributo: 'Not American'."
   ]
  },
  {
   "cell_type": "code",
   "execution_count": 45,
   "metadata": {
    "scrolled": false
   },
   "outputs": [
    {
     "data": {
      "text/plain": [
       "AMERICAN          48800\n",
       "OTHER ASIAN        6435\n",
       "TOP LINE ASIAN     2995\n",
       "OTHER               152\n",
       "Name: Nationality, dtype: int64"
      ]
     },
     "execution_count": 45,
     "metadata": {},
     "output_type": "execute_result"
    }
   ],
   "source": [
    "df['Nationality'].value_counts()"
   ]
  },
  {
   "cell_type": "code",
   "execution_count": 46,
   "metadata": {},
   "outputs": [],
   "source": [
    "df['Nationality'] = df['Nationality'].replace(['OTHER', 'OTHER ASIAN', 'TOP LINE ASIAN'],\n",
    "                                              ['NOT AMERICAN', 'NOT AMERICAN', 'NOT AMERICAN'])\n",
    "\n",
    "df_test['Nationality'] = df_test['Nationality'].replace(['OTHER', 'OTHER ASIAN', 'TOP LINE ASIAN'],\n",
    "                                                        ['NOT AMERICAN', 'NOT AMERICAN', 'NOT AMERICAN'])"
   ]
  },
  {
   "cell_type": "code",
   "execution_count": 47,
   "metadata": {
    "scrolled": true
   },
   "outputs": [
    {
     "data": {
      "text/plain": [
       "AMERICAN        48800\n",
       "NOT AMERICAN     9582\n",
       "Name: Nationality, dtype: int64"
      ]
     },
     "execution_count": 47,
     "metadata": {},
     "output_type": "execute_result"
    }
   ],
   "source": [
    "df['Nationality'].value_counts()"
   ]
  },
  {
   "cell_type": "code",
   "execution_count": 48,
   "metadata": {},
   "outputs": [
    {
     "data": {
      "text/plain": [
       "AMERICAN        12228\n",
       "NOT AMERICAN     2368\n",
       "Name: Nationality, dtype: int64"
      ]
     },
     "execution_count": 48,
     "metadata": {},
     "output_type": "execute_result"
    }
   ],
   "source": [
    "df_test['Nationality'].value_counts()"
   ]
  },
  {
   "cell_type": "code",
   "execution_count": 49,
   "metadata": {},
   "outputs": [
    {
     "data": {
      "image/png": "[encoded data removed]",
      "text/plain": [
       "<Figure size 432x288 with 1 Axes>"
      ]
     },
     "metadata": {},
     "output_type": "display_data"
    }
   ],
   "source": [
    "df[\"Nationality\"].value_counts().plot(kind=\"bar\")\n",
    "plt.show()"
   ]
  },
  {
   "cell_type": "markdown",
   "metadata": {},
   "source": [
    "- PurchDate"
   ]
  },
  {
   "cell_type": "markdown",
   "metadata": {},
   "source": [
    "trasformiamo il data type di \"PurchDate\" in \"datetime64\".\n",
    "\n",
    "di questo attributo teniamo solo i valori di mese e anno (non il giorno) in maniera da ridurre il numero di categorie di valori."
   ]
  },
  {
   "cell_type": "code",
   "execution_count": 50,
   "metadata": {
    "scrolled": true
   },
   "outputs": [
    {
     "data": {
      "text/plain": [
       "517"
      ]
     },
     "execution_count": 50,
     "metadata": {},
     "output_type": "execute_result"
    }
   ],
   "source": [
    "df[\"PurchDate\"].nunique()"
   ]
  },
  {
   "cell_type": "code",
   "execution_count": 51,
   "metadata": {
    "scrolled": true
   },
   "outputs": [
    {
     "data": {
      "text/plain": [
       "0       2010-10\n",
       "1       2009-05\n",
       "2       2010-03\n",
       "3       2009-08\n",
       "4       2009-04\n",
       "5       2009-04\n",
       "6       2010-05\n",
       "7       2009-09\n",
       "8       2010-06\n",
       "9       2009-04\n",
       "10      2009-10\n",
       "11      2010-10\n",
       "12      2010-12\n",
       "13      2009-05\n",
       "14      2009-11\n",
       "15      2010-07\n",
       "16      2010-05\n",
       "17      2010-01\n",
       "18      2009-01\n",
       "19      2009-08\n",
       "20      2009-05\n",
       "21      2010-03\n",
       "22      2009-11\n",
       "23      2009-10\n",
       "24      2010-07\n",
       "25      2010-11\n",
       "26      2010-08\n",
       "27      2010-09\n",
       "28      2010-02\n",
       "29      2009-03\n",
       "          ...  \n",
       "58356   2010-04\n",
       "58357   2009-08\n",
       "58358   2010-04\n",
       "58359   2010-05\n",
       "58360   2010-02\n",
       "58361   2010-06\n",
       "58362   2009-01\n",
       "58363   2010-12\n",
       "58364   2009-09\n",
       "58365   2010-04\n",
       "58366   2009-12\n",
       "58367   2010-11\n",
       "58368   2009-04\n",
       "58369   2010-01\n",
       "58370   2009-08\n",
       "58371   2009-05\n",
       "58372   2010-12\n",
       "58373   2010-08\n",
       "58374   2009-04\n",
       "58375   2010-10\n",
       "58376   2009-07\n",
       "58377   2009-04\n",
       "58378   2010-05\n",
       "58379   2010-07\n",
       "58380   2009-05\n",
       "58381   2010-09\n",
       "58382   2010-01\n",
       "58383   2010-10\n",
       "58384   2010-01\n",
       "58385   2009-08\n",
       "Name: PurchYearMonth, Length: 58386, dtype: object"
      ]
     },
     "execution_count": 51,
     "metadata": {},
     "output_type": "execute_result"
    }
   ],
   "source": [
    "df['PurchYearMonth'] = pd.to_datetime(df['PurchDate']).dt.to_period('M')\n",
    "df['PurchYearMonth']"
   ]
  },
  {
   "cell_type": "code",
   "execution_count": 52,
   "metadata": {},
   "outputs": [
    {
     "data": {
      "text/plain": [
       "24"
      ]
     },
     "execution_count": 52,
     "metadata": {},
     "output_type": "execute_result"
    }
   ],
   "source": [
    "df[\"PurchYearMonth\"].nunique()"
   ]
  },
  {
   "cell_type": "code",
   "execution_count": 53,
   "metadata": {
    "scrolled": true
   },
   "outputs": [
    {
     "data": {
      "text/plain": [
       "0       2010-10\n",
       "1       2010-01\n",
       "2       2009-09\n",
       "3       2010-01\n",
       "4       2009-03\n",
       "5       2010-12\n",
       "6       2010-01\n",
       "7       2009-07\n",
       "8       2010-06\n",
       "9       2009-03\n",
       "10      2010-08\n",
       "11      2009-04\n",
       "12      2010-08\n",
       "13      2010-12\n",
       "14      2010-02\n",
       "15      2010-12\n",
       "16      2010-03\n",
       "17      2009-03\n",
       "18      2010-06\n",
       "19      2009-02\n",
       "20      2009-10\n",
       "21      2009-07\n",
       "22      2010-04\n",
       "23      2010-09\n",
       "24      2010-07\n",
       "25      2010-01\n",
       "26      2009-06\n",
       "27      2009-09\n",
       "28      2010-05\n",
       "29      2009-03\n",
       "          ...  \n",
       "14567   2009-08\n",
       "14568   2009-07\n",
       "14569   2010-03\n",
       "14570   2009-03\n",
       "14571   2009-09\n",
       "14572   2010-03\n",
       "14573   2010-04\n",
       "14574   2010-08\n",
       "14575   2009-07\n",
       "14576   2010-11\n",
       "14577   2010-07\n",
       "14578   2009-12\n",
       "14579   2009-12\n",
       "14580   2009-09\n",
       "14581   2009-09\n",
       "14582   2009-09\n",
       "14583   2010-02\n",
       "14584   2009-08\n",
       "14585   2010-05\n",
       "14586   2010-07\n",
       "14587   2010-12\n",
       "14588   2010-08\n",
       "14589   2010-08\n",
       "14590   2009-03\n",
       "14591   2010-02\n",
       "14592   2009-09\n",
       "14593   2010-08\n",
       "14594   2009-07\n",
       "14595   2009-06\n",
       "14596   2009-11\n",
       "Name: PurchYearMonth, Length: 14597, dtype: object"
      ]
     },
     "execution_count": 53,
     "metadata": {},
     "output_type": "execute_result"
    }
   ],
   "source": [
    "df_test['PurchYearMonth'] = pd.to_datetime(df_test['PurchDate']).dt.to_period('M')\n",
    "df_test['PurchYearMonth']"
   ]
  },
  {
   "cell_type": "code",
   "execution_count": 54,
   "metadata": {
    "scrolled": true
   },
   "outputs": [
    {
     "data": {
      "image/png": "[encoded data removed]",
      "text/plain": [
       "<Figure size 432x288 with 1 Axes>"
      ]
     },
     "metadata": {},
     "output_type": "display_data"
    }
   ],
   "source": [
    "#missing values=0\n",
    "#outliers=0\n",
    "df['PurchYearMonth'].value_counts().plot(kind=\"bar\")\n",
    "plt.show()\n",
    "\n",
    "# prendiamo solo l'anno della data e ne stampiamo il BarChart"
   ]
  },
  {
   "cell_type": "markdown",
   "metadata": {},
   "source": [
    "- VehicleAge"
   ]
  },
  {
   "cell_type": "code",
   "execution_count": 55,
   "metadata": {},
   "outputs": [
    {
     "data": {
      "image/png": "[encoded data removed]",
      "text/plain": [
       "<Figure size 432x288 with 1 Axes>"
      ]
     },
     "metadata": {},
     "output_type": "display_data"
    }
   ],
   "source": [
    "df[\"VehicleAge\"].value_counts().plot(kind=\"bar\")\n",
    "plt.show()"
   ]
  },
  {
   "cell_type": "code",
   "execution_count": 56,
   "metadata": {},
   "outputs": [
    {
     "data": {
      "image/png": "[encoded data removed]",
      "text/plain": [
       "<Figure size 720x360 with 1 Axes>"
      ]
     },
     "metadata": {},
     "output_type": "display_data"
    }
   ],
   "source": [
    "VehAge_by_IsBadBuy_Crosstab = pd.crosstab(df['VehicleAge'], df['IsBadBuy'])\n",
    "VehAge_by_IsBadBuy= VehAge_by_IsBadBuy_Crosstab.div(VehAge_by_IsBadBuy_Crosstab.sum(1).astype(float), axis=0)\n",
    "\n",
    "VehAge_by_IsBadBuy.plot(kind='bar', stacked=True, title='VehicleAge by IsBadBuy', figsize=(10,5))\n",
    "plt.xlabel('VehicleAge')\n",
    "plt.ylabel('IsBadBuy')\n",
    "plt.show()"
   ]
  },
  {
   "cell_type": "markdown",
   "metadata": {},
   "source": [
    "- Auction"
   ]
  },
  {
   "cell_type": "code",
   "execution_count": 57,
   "metadata": {
    "scrolled": true
   },
   "outputs": [
    {
     "data": {
      "image/png": "[encoded data removed]",
      "text/plain": [
       "<Figure size 432x288 with 1 Axes>"
      ]
     },
     "metadata": {},
     "output_type": "display_data"
    }
   ],
   "source": [
    "#missing values=0\n",
    "#outliers=0\n",
    "df[\"Auction\"].value_counts().plot(kind=\"bar\")\n",
    "plt.show()"
   ]
  },
  {
   "cell_type": "markdown",
   "metadata": {},
   "source": [
    "- BYRNO"
   ]
  },
  {
   "cell_type": "code",
   "execution_count": 58,
   "metadata": {
    "scrolled": true
   },
   "outputs": [
    {
     "data": {
      "text/plain": [
       "72"
      ]
     },
     "execution_count": 58,
     "metadata": {},
     "output_type": "execute_result"
    }
   ],
   "source": [
    "df[\"BYRNO\"].nunique()"
   ]
  },
  {
   "cell_type": "code",
   "execution_count": 59,
   "metadata": {},
   "outputs": [
    {
     "data": {
      "image/png": "[encoded data removed]",
      "text/plain": [
       "<Figure size 432x288 with 1 Axes>"
      ]
     },
     "metadata": {},
     "output_type": "display_data"
    }
   ],
   "source": [
    "df[\"BYRNO\"].value_counts().plot(kind=\"bar\")\n",
    "plt.show()"
   ]
  },
  {
   "cell_type": "markdown",
   "metadata": {},
   "source": [
    "- VNST"
   ]
  },
  {
   "cell_type": "code",
   "execution_count": 60,
   "metadata": {},
   "outputs": [
    {
     "data": {
      "text/plain": [
       "37"
      ]
     },
     "execution_count": 60,
     "metadata": {},
     "output_type": "execute_result"
    }
   ],
   "source": [
    "df[\"VNST\"].nunique()"
   ]
  },
  {
   "cell_type": "code",
   "execution_count": 61,
   "metadata": {},
   "outputs": [
    {
     "data": {
      "text/plain": [
       "0    FL\n",
       "1    FL\n",
       "2    OK\n",
       "3    AZ\n",
       "4    TX\n",
       "Name: VNST, dtype: object"
      ]
     },
     "execution_count": 61,
     "metadata": {},
     "output_type": "execute_result"
    }
   ],
   "source": [
    "df[\"VNST\"].head()"
   ]
  },
  {
   "cell_type": "code",
   "execution_count": 62,
   "metadata": {},
   "outputs": [
    {
     "data": {
      "image/png": "[encoded data removed]",
      "text/plain": [
       "<Figure size 432x288 with 1 Axes>"
      ]
     },
     "metadata": {},
     "output_type": "display_data"
    }
   ],
   "source": [
    "df[\"VNST\"].value_counts().plot(kind=\"bar\")\n",
    "plt.show()"
   ]
  },
  {
   "cell_type": "code",
   "execution_count": 63,
   "metadata": {
    "scrolled": false
   },
   "outputs": [
    {
     "data": {
      "text/plain": [
       "4"
      ]
     },
     "execution_count": 63,
     "metadata": {},
     "output_type": "execute_result"
    }
   ],
   "source": [
    "#approximate number of outliers\n",
    "df['VNST'].value_counts().loc[df['VNST'].value_counts()<30].count()"
   ]
  },
  {
   "cell_type": "markdown",
   "metadata": {},
   "source": [
    "- VNZIP1"
   ]
  },
  {
   "cell_type": "code",
   "execution_count": 64,
   "metadata": {},
   "outputs": [
    {
     "data": {
      "text/plain": [
       "152"
      ]
     },
     "execution_count": 64,
     "metadata": {},
     "output_type": "execute_result"
    }
   ],
   "source": [
    "df[\"VNZIP1\"].nunique()"
   ]
  },
  {
   "cell_type": "code",
   "execution_count": 65,
   "metadata": {},
   "outputs": [
    {
     "data": {
      "text/plain": [
       "array([33619, 32124, 34203, 32824, 33809, 33314, 34761, 32219, 33411,\n",
       "       32750, 32812, 33073, 33311, 33762, 32772, 33916, 32503, 32225],\n",
       "      dtype=int64)"
      ]
     },
     "execution_count": 65,
     "metadata": {},
     "output_type": "execute_result"
    }
   ],
   "source": [
    "df[\"VNZIP1\"].loc[df[\"VNST\"] == 'FL'].unique()\n",
    "\n",
    "# come si nota ci sono ZIP Code diversi in corrispondenza dello stesso stato. Quindi questi ZIP non si riferiscono allo stato ma alla città"
   ]
  },
  {
   "cell_type": "code",
   "execution_count": 66,
   "metadata": {},
   "outputs": [
    {
     "data": {
      "text/plain": [
       "5"
      ]
     },
     "execution_count": 66,
     "metadata": {},
     "output_type": "execute_result"
    }
   ],
   "source": [
    "#approximate number of outliers\n",
    "df['VNZIP1'].value_counts().loc[df['VNZIP1'].value_counts()<2].count()"
   ]
  },
  {
   "cell_type": "code",
   "execution_count": 67,
   "metadata": {},
   "outputs": [],
   "source": [
    "#df[\"VNZIP1\"].value_counts().plot(kind=\"bar\")\n",
    "#plt.show()"
   ]
  },
  {
   "cell_type": "markdown",
   "metadata": {},
   "source": [
    "- IsOnlineSale"
   ]
  },
  {
   "cell_type": "code",
   "execution_count": 68,
   "metadata": {
    "scrolled": false
   },
   "outputs": [
    {
     "data": {
      "image/png": "[encoded data removed]",
      "text/plain": [
       "<Figure size 432x288 with 1 Axes>"
      ]
     },
     "metadata": {},
     "output_type": "display_data"
    }
   ],
   "source": [
    "df[\"IsOnlineSale\"].value_counts().plot(kind=\"bar\")\n",
    "plt.show()"
   ]
  },
  {
   "cell_type": "code",
   "execution_count": 69,
   "metadata": {},
   "outputs": [
    {
     "data": {
      "text/plain": [
       "0    56887\n",
       "1     1499\n",
       "Name: IsOnlineSale, dtype: int64"
      ]
     },
     "execution_count": 69,
     "metadata": {},
     "output_type": "execute_result"
    }
   ],
   "source": [
    "df[\"IsOnlineSale\"].value_counts()"
   ]
  },
  {
   "cell_type": "markdown",
   "metadata": {},
   "source": [
    "- IsBadBuy"
   ]
  },
  {
   "cell_type": "code",
   "execution_count": 70,
   "metadata": {
    "scrolled": true
   },
   "outputs": [
    {
     "data": {
      "image/png": "[encoded data removed]",
      "text/plain": [
       "<Figure size 432x288 with 1 Axes>"
      ]
     },
     "metadata": {},
     "output_type": "display_data"
    }
   ],
   "source": [
    "df[\"IsBadBuy\"].value_counts().plot(kind=\"bar\")\n",
    "plt.show()"
   ]
  },
  {
   "cell_type": "code",
   "execution_count": 71,
   "metadata": {},
   "outputs": [
    {
     "data": {
      "text/plain": [
       "0    51178\n",
       "1     7208\n",
       "Name: IsBadBuy, dtype: int64"
      ]
     },
     "execution_count": 71,
     "metadata": {},
     "output_type": "execute_result"
    }
   ],
   "source": [
    "df[\"IsBadBuy\"].value_counts()"
   ]
  },
  {
   "cell_type": "markdown",
   "metadata": {},
   "source": [
    "*** - Attributi Numerici ***"
   ]
  },
  {
   "cell_type": "markdown",
   "metadata": {},
   "source": [
    "tutti gli attributi numerici necessitano un raggruppamento in intervalli detti Bins dei loro valori per essere rappresentati con Istogrammi. Stabiliamo il numero di Bins con la formula di Sturges (che dipende dalla size del DataSet)."
   ]
  },
  {
   "cell_type": "code",
   "execution_count": 72,
   "metadata": {},
   "outputs": [],
   "source": [
    "binsN = math.ceil(math.log(df.shape[0],2))+1"
   ]
  },
  {
   "cell_type": "markdown",
   "metadata": {},
   "source": [
    "- VehBCost"
   ]
  },
  {
   "cell_type": "code",
   "execution_count": 73,
   "metadata": {
    "scrolled": true
   },
   "outputs": [
    {
     "data": {
      "image/png": "[encoded data removed]",
      "text/plain": [
       "<Figure size 720x360 with 1 Axes>"
      ]
     },
     "metadata": {},
     "output_type": "display_data"
    }
   ],
   "source": [
    "df.loc[df[\"VehBCost\"]<15000][\"VehBCost\"].hist(bins=binsN, figsize=(10,5))\n",
    "plt.title('VehBCost Histogram')\n",
    "plt.xlabel('VehBCost')\n",
    "plt.ylabel('Objects Freq')\n",
    "plt.show()"
   ]
  },
  {
   "cell_type": "code",
   "execution_count": 74,
   "metadata": {
    "scrolled": true
   },
   "outputs": [
    {
     "data": {
      "image/png": "[encoded data removed]",
      "text/plain": [
       "<Figure size 432x288 with 1 Axes>"
      ]
     },
     "metadata": {},
     "output_type": "display_data"
    }
   ],
   "source": [
    "boxplot = df.boxplot(column=['VehBCost'], by='IsBadBuy')\n",
    "plt.title('')\n",
    "plt.show()"
   ]
  },
  {
   "cell_type": "markdown",
   "metadata": {},
   "source": [
    "- MMRAcquisitionAuctionAveragePrice"
   ]
  },
  {
   "cell_type": "code",
   "execution_count": 75,
   "metadata": {},
   "outputs": [
    {
     "data": {
      "image/png": "[encoded data removed]",
      "text/plain": [
       "<Figure size 720x360 with 1 Axes>"
      ]
     },
     "metadata": {},
     "output_type": "display_data"
    }
   ],
   "source": [
    "df.loc[df[\"MMRAcquisitionAuctionAveragePrice\"]<16000][\"MMRAcquisitionAuctionAveragePrice\"].plot(kind='kde', figsize=(10,5))\n",
    "plt.title('MMRAcquAuctAvgPrice Prob Density')\n",
    "plt.xlabel('MMRAcquisitionAuctionAveragePrice')\n",
    "plt.show()"
   ]
  },
  {
   "cell_type": "code",
   "execution_count": 76,
   "metadata": {
    "scrolled": true
   },
   "outputs": [
    {
     "data": {
      "image/png": "[encoded data removed]",
      "text/plain": [
       "<Figure size 432x288 with 1 Axes>"
      ]
     },
     "metadata": {},
     "output_type": "display_data"
    }
   ],
   "source": [
    "df.loc[df[\"MMRAcquisitionAuctionAveragePrice\"]<16000][\"MMRAcquisitionAuctionAveragePrice\"].hist(bins=binsN) #.plot(kind='kde')\n",
    "plt.title('MMRAcquAuctAvgPrice Histogram')\n",
    "plt.xlabel('MMRAcquisitionAuctionAveragePrice')\n",
    "plt.show()"
   ]
  },
  {
   "cell_type": "code",
   "execution_count": 77,
   "metadata": {},
   "outputs": [
    {
     "data": {
      "image/png": "[encoded data removed]",
      "text/plain": [
       "<Figure size 432x288 with 1 Axes>"
      ]
     },
     "metadata": {},
     "output_type": "display_data"
    }
   ],
   "source": [
    "boxplot = df.boxplot(column=['MMRAcquisitionAuctionAveragePrice'], by='IsBadBuy')\n",
    "plt.title('')\n",
    "plt.show()"
   ]
  },
  {
   "cell_type": "markdown",
   "metadata": {},
   "source": [
    "- VehOdo"
   ]
  },
  {
   "cell_type": "code",
   "execution_count": 78,
   "metadata": {},
   "outputs": [
    {
     "data": {
      "image/png": "[encoded data removed]",
      "text/plain": [
       "<Figure size 432x288 with 1 Axes>"
      ]
     },
     "metadata": {},
     "output_type": "display_data"
    }
   ],
   "source": [
    "for IsBadBuy_Class in df['IsBadBuy'].unique():\n",
    "    df.VehOdo[df.IsBadBuy == IsBadBuy_Class].plot(kind='kde')\n",
    "\n",
    "plt.title('')\n",
    "plt.xlabel('')\n",
    "plt.legend(('IsBadBuy = 0', 'IsBadBuy = 1'), loc='best')\n",
    "plt.show()"
   ]
  },
  {
   "cell_type": "code",
   "execution_count": 79,
   "metadata": {},
   "outputs": [
    {
     "data": {
      "image/png": "[encoded data removed]",
      "text/plain": [
       "<Figure size 720x360 with 1 Axes>"
      ]
     },
     "metadata": {},
     "output_type": "display_data"
    }
   ],
   "source": [
    "df[\"VehOdo\"].hist(bins=binsN, figsize=(10,5))\n",
    "plt.title('VehOdo Histogram')\n",
    "plt.xlabel('VehOdo')\n",
    "plt.ylabel('Objects Freq')\n",
    "plt.show()"
   ]
  },
  {
   "cell_type": "code",
   "execution_count": 80,
   "metadata": {},
   "outputs": [
    {
     "data": {
      "image/png": "[encoded data removed]",
      "text/plain": [
       "<Figure size 432x288 with 1 Axes>"
      ]
     },
     "metadata": {},
     "output_type": "display_data"
    }
   ],
   "source": [
    "boxplot = df.boxplot(column=['VehOdo'])\n",
    "plt.title('VehOdo BoxPlot')\n",
    "plt.show()"
   ]
  },
  {
   "cell_type": "markdown",
   "metadata": {},
   "source": [
    "- VehicleAge"
   ]
  },
  {
   "cell_type": "markdown",
   "metadata": {},
   "source": [
    "questo può essere visto anche come attributo numerico"
   ]
  },
  {
   "cell_type": "code",
   "execution_count": 81,
   "metadata": {
    "scrolled": false
   },
   "outputs": [
    {
     "data": {
      "image/png": "[encoded data removed]",
      "text/plain": [
       "<Figure size 432x288 with 1 Axes>"
      ]
     },
     "metadata": {},
     "output_type": "display_data"
    }
   ],
   "source": [
    "df[\"VehicleAge\"].hist(bins=binsN)\n",
    "plt.title('VehicleAge Histogram')\n",
    "plt.xlabel('VehicleAge')\n",
    "plt.ylabel('Objects Freq')\n",
    "plt.show()"
   ]
  },
  {
   "cell_type": "code",
   "execution_count": 82,
   "metadata": {},
   "outputs": [
    {
     "data": {
      "image/png": "[encoded data removed]",
      "text/plain": [
       "<Figure size 432x288 with 1 Axes>"
      ]
     },
     "metadata": {},
     "output_type": "display_data"
    }
   ],
   "source": [
    "boxplot = df.boxplot(column=['VehicleAge'])\n",
    "plt.title('VehicleAge BoxPlot')\n",
    "plt.show()"
   ]
  },
  {
   "cell_type": "markdown",
   "metadata": {},
   "source": [
    "- WarrantyCost"
   ]
  },
  {
   "cell_type": "code",
   "execution_count": 83,
   "metadata": {
    "scrolled": true
   },
   "outputs": [
    {
     "data": {
      "image/png": "[encoded data removed]",
      "text/plain": [
       "<Figure size 720x360 with 1 Axes>"
      ]
     },
     "metadata": {},
     "output_type": "display_data"
    }
   ],
   "source": [
    "df[\"WarrantyCost\"].hist(bins=binsN, figsize=(10,5))\n",
    "df.loc[df[\"WarrantyCost\"]<3000][\"WarrantyCost\"].hist(bins=binsN)\n",
    "plt.title('WarrantyCost Histogram')\n",
    "plt.show()"
   ]
  },
  {
   "cell_type": "code",
   "execution_count": 84,
   "metadata": {
    "scrolled": false
   },
   "outputs": [
    {
     "data": {
      "image/png": "[encoded data removed]",
      "text/plain": [
       "<Figure size 432x288 with 1 Axes>"
      ]
     },
     "metadata": {},
     "output_type": "display_data"
    }
   ],
   "source": [
    "boxplot = df.boxplot(column=['WarrantyCost'])\n",
    "plt.title('WarrantyCost BoxPlot')\n",
    "plt.show()"
   ]
  },
  {
   "cell_type": "markdown",
   "metadata": {},
   "source": [
    "** Statistiche degli Attributi Numerici **"
   ]
  },
  {
   "cell_type": "code",
   "execution_count": 85,
   "metadata": {
    "scrolled": true
   },
   "outputs": [
    {
     "data": {
      "text/html": [
       "<div>\n",
       "<style scoped>\n",
       "    .dataframe tbody tr th:only-of-type {\n",
       "        vertical-align: middle;\n",
       "    }\n",
       "\n",
       "    .dataframe tbody tr th {\n",
       "        vertical-align: top;\n",
       "    }\n",
       "\n",
       "    .dataframe thead th {\n",
       "        text-align: right;\n",
       "    }\n",
       "</style>\n",
       "<table border=\"1\" class=\"dataframe\">\n",
       "  <thead>\n",
       "    <tr style=\"text-align: right;\">\n",
       "      <th></th>\n",
       "      <th>MMRAcquisitionAuctionAveragePrice</th>\n",
       "      <th>MMRAcquisitionAuctionCleanPrice</th>\n",
       "      <th>MMRAcquisitionRetailAveragePrice</th>\n",
       "      <th>MMRAcquisitonRetailCleanPrice</th>\n",
       "      <th>MMRCurrentAuctionAveragePrice</th>\n",
       "      <th>MMRCurrentAuctionCleanPrice</th>\n",
       "      <th>MMRCurrentRetailAveragePrice</th>\n",
       "      <th>MMRCurrentRetailCleanPrice</th>\n",
       "      <th>VehBCost</th>\n",
       "      <th>VehOdo</th>\n",
       "      <th>VehicleAge</th>\n",
       "      <th>WarrantyCost</th>\n",
       "    </tr>\n",
       "  </thead>\n",
       "  <tbody>\n",
       "    <tr>\n",
       "      <th>count</th>\n",
       "      <td>58373.000000</td>\n",
       "      <td>58373.000000</td>\n",
       "      <td>58373.000000</td>\n",
       "      <td>58373.000000</td>\n",
       "      <td>58141.000000</td>\n",
       "      <td>58141.000000</td>\n",
       "      <td>58141.000000</td>\n",
       "      <td>58141.000000</td>\n",
       "      <td>58386.000000</td>\n",
       "      <td>58386.000000</td>\n",
       "      <td>58386.000000</td>\n",
       "      <td>58386.000000</td>\n",
       "    </tr>\n",
       "    <tr>\n",
       "      <th>mean</th>\n",
       "      <td>6128.127953</td>\n",
       "      <td>7372.912699</td>\n",
       "      <td>8497.288558</td>\n",
       "      <td>9851.768061</td>\n",
       "      <td>6131.666655</td>\n",
       "      <td>7389.958652</td>\n",
       "      <td>8776.065118</td>\n",
       "      <td>10145.227034</td>\n",
       "      <td>6730.008335</td>\n",
       "      <td>71478.090518</td>\n",
       "      <td>4.174956</td>\n",
       "      <td>1276.105042</td>\n",
       "    </tr>\n",
       "    <tr>\n",
       "      <th>std</th>\n",
       "      <td>2456.632611</td>\n",
       "      <td>2715.506462</td>\n",
       "      <td>3151.106237</td>\n",
       "      <td>3378.839613</td>\n",
       "      <td>2432.171539</td>\n",
       "      <td>2682.310828</td>\n",
       "      <td>3086.373733</td>\n",
       "      <td>3304.637060</td>\n",
       "      <td>1762.075265</td>\n",
       "      <td>14591.224550</td>\n",
       "      <td>1.713833</td>\n",
       "      <td>598.885423</td>\n",
       "    </tr>\n",
       "    <tr>\n",
       "      <th>min</th>\n",
       "      <td>0.000000</td>\n",
       "      <td>0.000000</td>\n",
       "      <td>0.000000</td>\n",
       "      <td>0.000000</td>\n",
       "      <td>0.000000</td>\n",
       "      <td>0.000000</td>\n",
       "      <td>0.000000</td>\n",
       "      <td>0.000000</td>\n",
       "      <td>1.000000</td>\n",
       "      <td>4825.000000</td>\n",
       "      <td>0.000000</td>\n",
       "      <td>462.000000</td>\n",
       "    </tr>\n",
       "    <tr>\n",
       "      <th>25%</th>\n",
       "      <td>4273.000000</td>\n",
       "      <td>5409.000000</td>\n",
       "      <td>6279.000000</td>\n",
       "      <td>7501.000000</td>\n",
       "      <td>4275.000000</td>\n",
       "      <td>5415.000000</td>\n",
       "      <td>6538.000000</td>\n",
       "      <td>7788.000000</td>\n",
       "      <td>5430.000000</td>\n",
       "      <td>61785.000000</td>\n",
       "      <td>3.000000</td>\n",
       "      <td>837.000000</td>\n",
       "    </tr>\n",
       "    <tr>\n",
       "      <th>50%</th>\n",
       "      <td>6097.000000</td>\n",
       "      <td>7308.000000</td>\n",
       "      <td>8448.000000</td>\n",
       "      <td>9798.000000</td>\n",
       "      <td>6063.000000</td>\n",
       "      <td>7311.000000</td>\n",
       "      <td>8733.000000</td>\n",
       "      <td>10103.000000</td>\n",
       "      <td>6700.000000</td>\n",
       "      <td>73359.000000</td>\n",
       "      <td>4.000000</td>\n",
       "      <td>1155.000000</td>\n",
       "    </tr>\n",
       "    <tr>\n",
       "      <th>75%</th>\n",
       "      <td>7765.000000</td>\n",
       "      <td>9017.000000</td>\n",
       "      <td>10652.000000</td>\n",
       "      <td>12084.000000</td>\n",
       "      <td>7737.000000</td>\n",
       "      <td>9014.000000</td>\n",
       "      <td>10910.000000</td>\n",
       "      <td>12309.000000</td>\n",
       "      <td>7900.000000</td>\n",
       "      <td>82427.000000</td>\n",
       "      <td>5.000000</td>\n",
       "      <td>1623.000000</td>\n",
       "    </tr>\n",
       "    <tr>\n",
       "      <th>max</th>\n",
       "      <td>35722.000000</td>\n",
       "      <td>36859.000000</td>\n",
       "      <td>39080.000000</td>\n",
       "      <td>41482.000000</td>\n",
       "      <td>35722.000000</td>\n",
       "      <td>36859.000000</td>\n",
       "      <td>39080.000000</td>\n",
       "      <td>41062.000000</td>\n",
       "      <td>36485.000000</td>\n",
       "      <td>115717.000000</td>\n",
       "      <td>9.000000</td>\n",
       "      <td>7498.000000</td>\n",
       "    </tr>\n",
       "  </tbody>\n",
       "</table>\n",
       "</div>"
      ],
      "text/plain": [
       "       MMRAcquisitionAuctionAveragePrice  MMRAcquisitionAuctionCleanPrice  \\\n",
       "count                       58373.000000                     58373.000000   \n",
       "mean                         6128.127953                      7372.912699   \n",
       "std                          2456.632611                      2715.506462   \n",
       "min                             0.000000                         0.000000   \n",
       "25%                          4273.000000                      5409.000000   \n",
       "50%                          6097.000000                      7308.000000   \n",
       "75%                          7765.000000                      9017.000000   \n",
       "max                         35722.000000                     36859.000000   \n",
       "\n",
       "       MMRAcquisitionRetailAveragePrice  MMRAcquisitonRetailCleanPrice  \\\n",
       "count                      58373.000000                   58373.000000   \n",
       "mean                        8497.288558                    9851.768061   \n",
       "std                         3151.106237                    3378.839613   \n",
       "min                            0.000000                       0.000000   \n",
       "25%                         6279.000000                    7501.000000   \n",
       "50%                         8448.000000                    9798.000000   \n",
       "75%                        10652.000000                   12084.000000   \n",
       "max                        39080.000000                   41482.000000   \n",
       "\n",
       "       MMRCurrentAuctionAveragePrice  MMRCurrentAuctionCleanPrice  \\\n",
       "count                   58141.000000                 58141.000000   \n",
       "mean                     6131.666655                  7389.958652   \n",
       "std                      2432.171539                  2682.310828   \n",
       "min                         0.000000                     0.000000   \n",
       "25%                      4275.000000                  5415.000000   \n",
       "50%                      6063.000000                  7311.000000   \n",
       "75%                      7737.000000                  9014.000000   \n",
       "max                     35722.000000                 36859.000000   \n",
       "\n",
       "       MMRCurrentRetailAveragePrice  MMRCurrentRetailCleanPrice      VehBCost  \\\n",
       "count                  58141.000000                58141.000000  58386.000000   \n",
       "mean                    8776.065118                10145.227034   6730.008335   \n",
       "std                     3086.373733                 3304.637060   1762.075265   \n",
       "min                        0.000000                    0.000000      1.000000   \n",
       "25%                     6538.000000                 7788.000000   5430.000000   \n",
       "50%                     8733.000000                10103.000000   6700.000000   \n",
       "75%                    10910.000000                12309.000000   7900.000000   \n",
       "max                    39080.000000                41062.000000  36485.000000   \n",
       "\n",
       "              VehOdo    VehicleAge  WarrantyCost  \n",
       "count   58386.000000  58386.000000  58386.000000  \n",
       "mean    71478.090518      4.174956   1276.105042  \n",
       "std     14591.224550      1.713833    598.885423  \n",
       "min      4825.000000      0.000000    462.000000  \n",
       "25%     61785.000000      3.000000    837.000000  \n",
       "50%     73359.000000      4.000000   1155.000000  \n",
       "75%     82427.000000      5.000000   1623.000000  \n",
       "max    115717.000000      9.000000   7498.000000  "
      ]
     },
     "execution_count": 85,
     "metadata": {},
     "output_type": "execute_result"
    }
   ],
   "source": [
    "df[df.columns.difference(['RefId', 'IsBadBuy', 'IsOnlineSale', 'WheelTypeID',\\\n",
    "                         'BYRNO', 'VNZIP1', 'VehYear'])].describe()\n",
    "\n",
    "#df.loc[:, df.columns != 'RefId' and df.columns != 'IsBadBuy'].describe()"
   ]
  },
  {
   "cell_type": "code",
   "execution_count": 86,
   "metadata": {},
   "outputs": [
    {
     "data": {
      "text/plain": [
       "True"
      ]
     },
     "execution_count": 86,
     "metadata": {},
     "output_type": "execute_result"
    }
   ],
   "source": [
    "# verifichiamo se gli attributi \"WheelType\" e \"WheelTypeID\" hanno lo stesso numero di valori nulli\n",
    "\n",
    "df[\"WheelType\"].isnull().sum() == df[\"WheelTypeID\"].isnull().sum()"
   ]
  },
  {
   "cell_type": "code",
   "execution_count": null,
   "metadata": {},
   "outputs": [],
   "source": []
  },
  {
   "cell_type": "markdown",
   "metadata": {},
   "source": [
    "## Eliminazione Attributi"
   ]
  },
  {
   "cell_type": "markdown",
   "metadata": {},
   "source": [
    "Eliminazione degli attributi non significativi per l'analisi o con un numero troppo elevato di missing values che non potrebbero essere sostituiti senza influenzare la distribuzione dell'attributo"
   ]
  },
  {
   "cell_type": "markdown",
   "metadata": {},
   "source": [
    "- SubModelSpecifics"
   ]
  },
  {
   "cell_type": "code",
   "execution_count": 87,
   "metadata": {},
   "outputs": [
    {
     "data": {
      "text/plain": [
       "132"
      ]
     },
     "execution_count": 87,
     "metadata": {},
     "output_type": "execute_result"
    }
   ],
   "source": [
    "df[\"SubModelSpecifics\"].nunique()"
   ]
  },
  {
   "cell_type": "code",
   "execution_count": 88,
   "metadata": {
    "scrolled": true
   },
   "outputs": [
    {
     "data": {
      "text/plain": [
       "49091"
      ]
     },
     "execution_count": 88,
     "metadata": {},
     "output_type": "execute_result"
    }
   ],
   "source": [
    "df[\"SubModelSpecifics\"].isnull().sum()"
   ]
  },
  {
   "cell_type": "markdown",
   "metadata": {},
   "source": [
    "- Color"
   ]
  },
  {
   "cell_type": "code",
   "execution_count": 89,
   "metadata": {
    "scrolled": true
   },
   "outputs": [
    {
     "data": {
      "image/png": "[encoded data removed]",
      "text/plain": [
       "<Figure size 432x288 with 1 Axes>"
      ]
     },
     "metadata": {},
     "output_type": "display_data"
    }
   ],
   "source": [
    "df[\"Color\"].value_counts().plot(kind=\"bar\")\n",
    "plt.show()"
   ]
  },
  {
   "cell_type": "markdown",
   "metadata": {},
   "source": [
    "- PRIMEUNIT"
   ]
  },
  {
   "cell_type": "code",
   "execution_count": 90,
   "metadata": {
    "scrolled": true
   },
   "outputs": [
    {
     "data": {
      "image/png": "[encoded data removed]",
      "text/plain": [
       "<Figure size 360x360 with 1 Axes>"
      ]
     },
     "metadata": {},
     "output_type": "display_data"
    }
   ],
   "source": [
    "df[\"PRIMEUNIT\"].value_counts(dropna=False).plot.pie(y='PRIMEUNIT',figsize=(5, 5))\n",
    "plt.show()"
   ]
  },
  {
   "cell_type": "markdown",
   "metadata": {},
   "source": [
    "- AUCGUART"
   ]
  },
  {
   "cell_type": "code",
   "execution_count": 91,
   "metadata": {
    "scrolled": false
   },
   "outputs": [
    {
     "data": {
      "image/png": "[encoded data removed]",
      "text/plain": [
       "<Figure size 360x360 with 1 Axes>"
      ]
     },
     "metadata": {},
     "output_type": "display_data"
    }
   ],
   "source": [
    "df[\"AUCGUART\"].value_counts(dropna=False).plot.pie(y='AUCGUART',figsize=(5, 5))\n",
    "plt.show()"
   ]
  },
  {
   "cell_type": "markdown",
   "metadata": {},
   "source": [
    "- VehYear"
   ]
  },
  {
   "cell_type": "markdown",
   "metadata": {},
   "source": [
    "Eliminiamo questo attributo perchè può essere dedotto dai due attributi 'VehicleAge' e 'PurchYearMonth': <br>\n",
    "VehYear = PurchYear - VehicleAge"
   ]
  },
  {
   "cell_type": "code",
   "execution_count": 92,
   "metadata": {
    "scrolled": true
   },
   "outputs": [
    {
     "data": {
      "image/png": "[encoded data removed]",
      "text/plain": [
       "<Figure size 432x288 with 1 Axes>"
      ]
     },
     "metadata": {},
     "output_type": "display_data"
    }
   ],
   "source": [
    "#missing values=0\n",
    "#outliers=0\n",
    "df[\"VehYear\"].value_counts().plot(kind=\"bar\")\n",
    "plt.show()"
   ]
  },
  {
   "cell_type": "code",
   "execution_count": 93,
   "metadata": {},
   "outputs": [
    {
     "data": {
      "text/plain": [
       "False    58386\n",
       "dtype: int64"
      ]
     },
     "execution_count": 93,
     "metadata": {},
     "output_type": "execute_result"
    }
   ],
   "source": [
    "PurchYear = pd.to_datetime(df['PurchDate']).dt.to_period('Y')\n",
    "((PurchYear - df['VehicleAge']) == df['VehYear']).value_counts()"
   ]
  },
  {
   "cell_type": "markdown",
   "metadata": {},
   "source": [
    "- Eliminazione Attributi dal Training Set"
   ]
  },
  {
   "cell_type": "code",
   "execution_count": 94,
   "metadata": {
    "scrolled": true
   },
   "outputs": [],
   "source": [
    "del df['PurchDate']\n",
    "\n",
    "del df['Color']\n",
    "\n",
    "del df['VehYear']\n",
    "\n",
    "del df['WheelType']\n",
    "\n",
    "del df['PRIMEUNIT']\n",
    "\n",
    "del df['AUCGUART']\n",
    "\n",
    "del df['SubModelSpecifics']\n",
    "\n",
    "del df['Wheeldrive']"
   ]
  },
  {
   "cell_type": "markdown",
   "metadata": {},
   "source": [
    "- Eliminazione Attributi dal Test Set"
   ]
  },
  {
   "cell_type": "code",
   "execution_count": 95,
   "metadata": {},
   "outputs": [],
   "source": [
    "del df_test['PurchDate']\n",
    "\n",
    "del df_test['Color']\n",
    "\n",
    "del df_test['VehYear']\n",
    "\n",
    "del df_test['WheelType']\n",
    "\n",
    "del df_test['PRIMEUNIT']\n",
    "\n",
    "del df_test['AUCGUART']\n",
    "\n",
    "del df_test['SubModelSpecifics']\n",
    "\n",
    "del df_test['Wheeldrive']"
   ]
  },
  {
   "cell_type": "markdown",
   "metadata": {},
   "source": [
    "# Files di Output"
   ]
  },
  {
   "cell_type": "markdown",
   "metadata": {},
   "source": [
    "esperto due file per Training e Test dove l'unica differenza rispetto ai files in input è che mancano le colonne degli attributi eliminati."
   ]
  },
  {
   "cell_type": "code",
   "execution_count": 96,
   "metadata": {},
   "outputs": [],
   "source": [
    "df.to_csv(path_or_buf='Training_DU.csv' ,index=False)"
   ]
  },
  {
   "cell_type": "code",
   "execution_count": 97,
   "metadata": {},
   "outputs": [],
   "source": [
    "df_test.to_csv(path_or_buf='Test_DU.csv' ,index=False)"
   ]
  }
 ],
 "metadata": {
  "kernelspec": {
   "display_name": "Python 3",
   "language": "python",
   "name": "python3"
  },
  "language_info": {
   "codemirror_mode": {
    "name": "ipython",
    "version": 3
   },
   "file_extension": ".py",
   "mimetype": "text/x-python",
   "name": "python",
   "nbconvert_exporter": "python",
   "pygments_lexer": "ipython3",
   "version": "3.6.5"
  }
 },
 "nbformat": 4,
 "nbformat_minor": 2
}
