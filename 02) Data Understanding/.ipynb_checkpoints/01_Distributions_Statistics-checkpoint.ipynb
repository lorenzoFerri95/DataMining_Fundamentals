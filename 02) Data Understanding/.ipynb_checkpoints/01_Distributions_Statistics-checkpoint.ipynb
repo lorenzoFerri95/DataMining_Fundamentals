{
 "cells": [
  {
   "cell_type": "markdown",
   "metadata": {},
   "source": [
    "# Distribuzioni e Statistiche"
   ]
  },
  {
   "cell_type": "markdown",
   "metadata": {},
   "source": [
    "- Stato del Dataset\n",
    "\n",
    "- Distribuzioni di tutti gli attributi\n",
    "\n",
    "- Statistiche principali degli attributi numerici\n",
    "\n",
    "- Eliminazione degli attributi non significativi o con troppi missing values"
   ]
  },
  {
   "cell_type": "markdown",
   "metadata": {},
   "source": [
    "## Stato del Dataset"
   ]
  },
  {
   "cell_type": "markdown",
   "metadata": {},
   "source": [
    "- Importiamo le Librerie"
   ]
  },
  {
   "cell_type": "code",
   "execution_count": 1,
   "metadata": {},
   "outputs": [],
   "source": [
    "%matplotlib inline\n",
    "import math\n",
    "import numpy as np\n",
    "import pandas as pd\n",
    "import scipy.stats as stats\n",
    "import matplotlib.pyplot as plt\n",
    "\n",
    "from collections import defaultdict\n",
    "from scipy.stats.stats import pearsonr"
   ]
  },
  {
   "cell_type": "markdown",
   "metadata": {},
   "source": [
    "** Dataset Non Modificato **"
   ]
  },
  {
   "cell_type": "markdown",
   "metadata": {},
   "source": [
    "abbiamo modificato sostanzialmente gli attributi 'Model' e 'SubModel' del DataSet originale.\n",
    "\n",
    "quindi verifichiamo i miglioramenti apportati analizzando questi attributi prima e dopo le modifiche. "
   ]
  },
  {
   "cell_type": "code",
   "execution_count": 2,
   "metadata": {},
   "outputs": [],
   "source": [
    "df_oldTrain = pd.read_csv(\"baseTrain.csv\")"
   ]
  },
  {
   "cell_type": "code",
   "execution_count": 3,
   "metadata": {},
   "outputs": [
    {
     "data": {
      "text/plain": [
       "RefId                                  int64\n",
       "IsBadBuy                               int64\n",
       "PurchDate                             object\n",
       "Auction                               object\n",
       "VehYear                                int64\n",
       "VehicleAge                             int64\n",
       "Make                                  object\n",
       "Model                                 object\n",
       "Trim                                  object\n",
       "SubModel                              object\n",
       "Color                                 object\n",
       "Transmission                          object\n",
       "WheelTypeID                          float64\n",
       "WheelType                             object\n",
       "VehOdo                                 int64\n",
       "Nationality                           object\n",
       "Size                                  object\n",
       "TopThreeAmericanName                  object\n",
       "MMRAcquisitionAuctionAveragePrice    float64\n",
       "MMRAcquisitionAuctionCleanPrice      float64\n",
       "MMRAcquisitionRetailAveragePrice     float64\n",
       "MMRAcquisitonRetailCleanPrice        float64\n",
       "MMRCurrentAuctionAveragePrice        float64\n",
       "MMRCurrentAuctionCleanPrice          float64\n",
       "MMRCurrentRetailAveragePrice         float64\n",
       "MMRCurrentRetailCleanPrice           float64\n",
       "PRIMEUNIT                             object\n",
       "AUCGUART                              object\n",
       "BYRNO                                  int64\n",
       "VNZIP1                                 int64\n",
       "VNST                                  object\n",
       "VehBCost                             float64\n",
       "IsOnlineSale                           int64\n",
       "WarrantyCost                           int64\n",
       "dtype: object"
      ]
     },
     "execution_count": 3,
     "metadata": {},
     "output_type": "execute_result"
    }
   ],
   "source": [
    "df_oldTrain.dtypes"
   ]
  },
  {
   "cell_type": "markdown",
   "metadata": {},
   "source": [
    "- Model"
   ]
  },
  {
   "cell_type": "code",
   "execution_count": 4,
   "metadata": {},
   "outputs": [
    {
     "data": {
      "text/plain": [
       "1029"
      ]
     },
     "execution_count": 4,
     "metadata": {},
     "output_type": "execute_result"
    }
   ],
   "source": [
    "df_oldTrain[\"Model\"].nunique()"
   ]
  },
  {
   "cell_type": "code",
   "execution_count": 5,
   "metadata": {},
   "outputs": [
    {
     "data": {
      "text/plain": [
       "174"
      ]
     },
     "execution_count": 5,
     "metadata": {},
     "output_type": "execute_result"
    }
   ],
   "source": [
    "#approximate number of outliers\n",
    "ModelCount=df_oldTrain['Model'].value_counts()\n",
    "ModelCount.loc[df_oldTrain['Model'].value_counts()<2].count()"
   ]
  },
  {
   "cell_type": "code",
   "execution_count": 6,
   "metadata": {},
   "outputs": [],
   "source": [
    "#df_oldTrain[\"Model\"].value_counts().plot(kind=\"bar\")\n",
    "#plt.show()"
   ]
  },
  {
   "cell_type": "markdown",
   "metadata": {},
   "source": [
    "- SubModel"
   ]
  },
  {
   "cell_type": "code",
   "execution_count": 7,
   "metadata": {},
   "outputs": [
    {
     "data": {
      "text/plain": [
       "839"
      ]
     },
     "execution_count": 7,
     "metadata": {},
     "output_type": "execute_result"
    }
   ],
   "source": [
    "df_oldTrain[\"SubModel\"].nunique()"
   ]
  },
  {
   "cell_type": "code",
   "execution_count": 8,
   "metadata": {},
   "outputs": [
    {
     "data": {
      "text/plain": [
       "175"
      ]
     },
     "execution_count": 8,
     "metadata": {},
     "output_type": "execute_result"
    }
   ],
   "source": [
    "#approximate number of outliers\n",
    "ModelCount=df_oldTrain['SubModel'].value_counts()\n",
    "ModelCount.loc[df_oldTrain['SubModel'].value_counts()<2].count()"
   ]
  },
  {
   "cell_type": "markdown",
   "metadata": {},
   "source": [
    "come avremo modo di verificare successivamente abbiamo ridotto di molto il numero di categorie di questi attributi scorporandone i valori in ulteriori attributi interessanti."
   ]
  },
  {
   "cell_type": "markdown",
   "metadata": {},
   "source": [
    "** Nuovo Dataset **"
   ]
  },
  {
   "cell_type": "code",
   "execution_count": 2,
   "metadata": {},
   "outputs": [],
   "source": [
    "df = pd.read_csv(\"Training_Set.csv\")\n",
    "df_test = pd.read_csv(\"Test_Set.csv\")"
   ]
  },
  {
   "cell_type": "code",
   "execution_count": 3,
   "metadata": {},
   "outputs": [
    {
     "data": {
      "text/html": [
       "<div>\n",
       "<style scoped>\n",
       "    .dataframe tbody tr th:only-of-type {\n",
       "        vertical-align: middle;\n",
       "    }\n",
       "\n",
       "    .dataframe tbody tr th {\n",
       "        vertical-align: top;\n",
       "    }\n",
       "\n",
       "    .dataframe thead th {\n",
       "        text-align: right;\n",
       "    }\n",
       "</style>\n",
       "<table border=\"1\" class=\"dataframe\">\n",
       "  <thead>\n",
       "    <tr style=\"text-align: right;\">\n",
       "      <th></th>\n",
       "      <th>RefId</th>\n",
       "      <th>IsBadBuy</th>\n",
       "      <th>PurchDate</th>\n",
       "      <th>Auction</th>\n",
       "      <th>VehYear</th>\n",
       "      <th>VehicleAge</th>\n",
       "      <th>Make</th>\n",
       "      <th>Engine</th>\n",
       "      <th>Trim</th>\n",
       "      <th>SubModelSpecifics</th>\n",
       "      <th>...</th>\n",
       "      <th>BYRNO</th>\n",
       "      <th>VNZIP1</th>\n",
       "      <th>VNST</th>\n",
       "      <th>VehBCost</th>\n",
       "      <th>IsOnlineSale</th>\n",
       "      <th>WarrantyCost</th>\n",
       "      <th>Model</th>\n",
       "      <th>Wheeldrive</th>\n",
       "      <th>Doors</th>\n",
       "      <th>SubModel</th>\n",
       "    </tr>\n",
       "  </thead>\n",
       "  <tbody>\n",
       "    <tr>\n",
       "      <th>0</th>\n",
       "      <td>326</td>\n",
       "      <td>1</td>\n",
       "      <td>2010-10-25</td>\n",
       "      <td>ADESA</td>\n",
       "      <td>2008</td>\n",
       "      <td>2</td>\n",
       "      <td>KIA</td>\n",
       "      <td>NaN</td>\n",
       "      <td>EX</td>\n",
       "      <td>NaN</td>\n",
       "      <td>...</td>\n",
       "      <td>5546</td>\n",
       "      <td>33619</td>\n",
       "      <td>FL</td>\n",
       "      <td>6100.0</td>\n",
       "      <td>0</td>\n",
       "      <td>533</td>\n",
       "      <td>SPECTRA</td>\n",
       "      <td>NaN</td>\n",
       "      <td>4D</td>\n",
       "      <td>SEDAN</td>\n",
       "    </tr>\n",
       "    <tr>\n",
       "      <th>1</th>\n",
       "      <td>42991</td>\n",
       "      <td>0</td>\n",
       "      <td>2009-05-27</td>\n",
       "      <td>MANHEIM</td>\n",
       "      <td>2006</td>\n",
       "      <td>3</td>\n",
       "      <td>DODGE</td>\n",
       "      <td>2.7L</td>\n",
       "      <td>SXT</td>\n",
       "      <td>FFV</td>\n",
       "      <td>...</td>\n",
       "      <td>99750</td>\n",
       "      <td>32124</td>\n",
       "      <td>FL</td>\n",
       "      <td>4000.0</td>\n",
       "      <td>0</td>\n",
       "      <td>1630</td>\n",
       "      <td>STRATUS</td>\n",
       "      <td>NaN</td>\n",
       "      <td>4D</td>\n",
       "      <td>SEDAN</td>\n",
       "    </tr>\n",
       "    <tr>\n",
       "      <th>2</th>\n",
       "      <td>55273</td>\n",
       "      <td>0</td>\n",
       "      <td>2010-03-18</td>\n",
       "      <td>OTHER</td>\n",
       "      <td>2008</td>\n",
       "      <td>2</td>\n",
       "      <td>DODGE</td>\n",
       "      <td>NaN</td>\n",
       "      <td>SE</td>\n",
       "      <td>NaN</td>\n",
       "      <td>...</td>\n",
       "      <td>99761</td>\n",
       "      <td>74135</td>\n",
       "      <td>OK</td>\n",
       "      <td>7500.0</td>\n",
       "      <td>0</td>\n",
       "      <td>693</td>\n",
       "      <td>CALIBER</td>\n",
       "      <td>NaN</td>\n",
       "      <td>4D</td>\n",
       "      <td>WAGON</td>\n",
       "    </tr>\n",
       "    <tr>\n",
       "      <th>3</th>\n",
       "      <td>29058</td>\n",
       "      <td>0</td>\n",
       "      <td>2009-08-06</td>\n",
       "      <td>OTHER</td>\n",
       "      <td>2005</td>\n",
       "      <td>4</td>\n",
       "      <td>FORD</td>\n",
       "      <td>3.9L</td>\n",
       "      <td>S</td>\n",
       "      <td>NaN</td>\n",
       "      <td>...</td>\n",
       "      <td>99761</td>\n",
       "      <td>85018</td>\n",
       "      <td>AZ</td>\n",
       "      <td>4725.0</td>\n",
       "      <td>0</td>\n",
       "      <td>1633</td>\n",
       "      <td>FREESTAR</td>\n",
       "      <td>2WD</td>\n",
       "      <td>NaN</td>\n",
       "      <td>PASSENGER</td>\n",
       "    </tr>\n",
       "    <tr>\n",
       "      <th>4</th>\n",
       "      <td>34991</td>\n",
       "      <td>0</td>\n",
       "      <td>2009-04-03</td>\n",
       "      <td>MANHEIM</td>\n",
       "      <td>2005</td>\n",
       "      <td>4</td>\n",
       "      <td>CHRYSLER</td>\n",
       "      <td>V6</td>\n",
       "      <td>BAS</td>\n",
       "      <td>NaN</td>\n",
       "      <td>...</td>\n",
       "      <td>20833</td>\n",
       "      <td>75236</td>\n",
       "      <td>TX</td>\n",
       "      <td>5670.0</td>\n",
       "      <td>0</td>\n",
       "      <td>1623</td>\n",
       "      <td>TOWN &amp; COUNTRY</td>\n",
       "      <td>2WD</td>\n",
       "      <td>NaN</td>\n",
       "      <td>MINIVAN</td>\n",
       "    </tr>\n",
       "  </tbody>\n",
       "</table>\n",
       "<p>5 rows × 38 columns</p>\n",
       "</div>"
      ],
      "text/plain": [
       "   RefId  IsBadBuy   PurchDate  Auction  VehYear  VehicleAge      Make Engine  \\\n",
       "0    326         1  2010-10-25    ADESA     2008           2       KIA    NaN   \n",
       "1  42991         0  2009-05-27  MANHEIM     2006           3     DODGE   2.7L   \n",
       "2  55273         0  2010-03-18    OTHER     2008           2     DODGE    NaN   \n",
       "3  29058         0  2009-08-06    OTHER     2005           4      FORD   3.9L   \n",
       "4  34991         0  2009-04-03  MANHEIM     2005           4  CHRYSLER     V6   \n",
       "\n",
       "  Trim SubModelSpecifics    ...      BYRNO VNZIP1  VNST VehBCost  \\\n",
       "0   EX               NaN    ...       5546  33619    FL   6100.0   \n",
       "1  SXT               FFV    ...      99750  32124    FL   4000.0   \n",
       "2   SE               NaN    ...      99761  74135    OK   7500.0   \n",
       "3    S               NaN    ...      99761  85018    AZ   4725.0   \n",
       "4  BAS               NaN    ...      20833  75236    TX   5670.0   \n",
       "\n",
       "   IsOnlineSale WarrantyCost           Model Wheeldrive  Doors   SubModel  \n",
       "0             0          533         SPECTRA        NaN     4D      SEDAN  \n",
       "1             0         1630         STRATUS        NaN     4D      SEDAN  \n",
       "2             0          693         CALIBER        NaN     4D      WAGON  \n",
       "3             0         1633        FREESTAR        2WD    NaN  PASSENGER  \n",
       "4             0         1623  TOWN & COUNTRY        2WD    NaN    MINIVAN  \n",
       "\n",
       "[5 rows x 38 columns]"
      ]
     },
     "execution_count": 3,
     "metadata": {},
     "output_type": "execute_result"
    }
   ],
   "source": [
    "df.head()"
   ]
  },
  {
   "cell_type": "code",
   "execution_count": 4,
   "metadata": {},
   "outputs": [
    {
     "data": {
      "text/html": [
       "<div>\n",
       "<style scoped>\n",
       "    .dataframe tbody tr th:only-of-type {\n",
       "        vertical-align: middle;\n",
       "    }\n",
       "\n",
       "    .dataframe tbody tr th {\n",
       "        vertical-align: top;\n",
       "    }\n",
       "\n",
       "    .dataframe thead th {\n",
       "        text-align: right;\n",
       "    }\n",
       "</style>\n",
       "<table border=\"1\" class=\"dataframe\">\n",
       "  <thead>\n",
       "    <tr style=\"text-align: right;\">\n",
       "      <th></th>\n",
       "      <th>RefId</th>\n",
       "      <th>IsBadBuy</th>\n",
       "      <th>PurchDate</th>\n",
       "      <th>Auction</th>\n",
       "      <th>VehYear</th>\n",
       "      <th>VehicleAge</th>\n",
       "      <th>Make</th>\n",
       "      <th>Engine</th>\n",
       "      <th>Trim</th>\n",
       "      <th>SubModelSpecifics</th>\n",
       "      <th>...</th>\n",
       "      <th>BYRNO</th>\n",
       "      <th>VNZIP1</th>\n",
       "      <th>VNST</th>\n",
       "      <th>VehBCost</th>\n",
       "      <th>IsOnlineSale</th>\n",
       "      <th>WarrantyCost</th>\n",
       "      <th>Model</th>\n",
       "      <th>Wheeldrive</th>\n",
       "      <th>Doors</th>\n",
       "      <th>SubModel</th>\n",
       "    </tr>\n",
       "  </thead>\n",
       "  <tbody>\n",
       "    <tr>\n",
       "      <th>58381</th>\n",
       "      <td>20065</td>\n",
       "      <td>0</td>\n",
       "      <td>2010-09-03</td>\n",
       "      <td>OTHER</td>\n",
       "      <td>2007</td>\n",
       "      <td>3</td>\n",
       "      <td>CHEVROLET</td>\n",
       "      <td>NaN</td>\n",
       "      <td>LS</td>\n",
       "      <td>NaN</td>\n",
       "      <td>...</td>\n",
       "      <td>21053</td>\n",
       "      <td>95673</td>\n",
       "      <td>CA</td>\n",
       "      <td>7205.0</td>\n",
       "      <td>0</td>\n",
       "      <td>1974</td>\n",
       "      <td>MONTE CARLO</td>\n",
       "      <td>NaN</td>\n",
       "      <td>2D</td>\n",
       "      <td>COUPE</td>\n",
       "    </tr>\n",
       "    <tr>\n",
       "      <th>58382</th>\n",
       "      <td>12550</td>\n",
       "      <td>0</td>\n",
       "      <td>2010-01-26</td>\n",
       "      <td>OTHER</td>\n",
       "      <td>2006</td>\n",
       "      <td>4</td>\n",
       "      <td>FORD</td>\n",
       "      <td>NaN</td>\n",
       "      <td>ZX4</td>\n",
       "      <td>NaN</td>\n",
       "      <td>...</td>\n",
       "      <td>21053</td>\n",
       "      <td>95673</td>\n",
       "      <td>CA</td>\n",
       "      <td>4690.0</td>\n",
       "      <td>0</td>\n",
       "      <td>1155</td>\n",
       "      <td>FOCUS</td>\n",
       "      <td>NaN</td>\n",
       "      <td>4D</td>\n",
       "      <td>SEDAN</td>\n",
       "    </tr>\n",
       "    <tr>\n",
       "      <th>58383</th>\n",
       "      <td>15626</td>\n",
       "      <td>0</td>\n",
       "      <td>2010-10-28</td>\n",
       "      <td>OTHER</td>\n",
       "      <td>2007</td>\n",
       "      <td>3</td>\n",
       "      <td>CHEVROLET</td>\n",
       "      <td>NaN</td>\n",
       "      <td>LS</td>\n",
       "      <td>NaN</td>\n",
       "      <td>...</td>\n",
       "      <td>99750</td>\n",
       "      <td>21014</td>\n",
       "      <td>MD</td>\n",
       "      <td>7000.0</td>\n",
       "      <td>0</td>\n",
       "      <td>1703</td>\n",
       "      <td>IMPALA</td>\n",
       "      <td>NaN</td>\n",
       "      <td>4D</td>\n",
       "      <td>SEDAN</td>\n",
       "    </tr>\n",
       "    <tr>\n",
       "      <th>58384</th>\n",
       "      <td>21224</td>\n",
       "      <td>1</td>\n",
       "      <td>2010-01-12</td>\n",
       "      <td>MANHEIM</td>\n",
       "      <td>2005</td>\n",
       "      <td>5</td>\n",
       "      <td>NISSAN</td>\n",
       "      <td>1.8L</td>\n",
       "      <td>BAS</td>\n",
       "      <td>NaN</td>\n",
       "      <td>...</td>\n",
       "      <td>52644</td>\n",
       "      <td>75236</td>\n",
       "      <td>TX</td>\n",
       "      <td>5525.0</td>\n",
       "      <td>0</td>\n",
       "      <td>594</td>\n",
       "      <td>SENTRA</td>\n",
       "      <td>NaN</td>\n",
       "      <td>4D</td>\n",
       "      <td>SEDAN</td>\n",
       "    </tr>\n",
       "    <tr>\n",
       "      <th>58385</th>\n",
       "      <td>40898</td>\n",
       "      <td>1</td>\n",
       "      <td>2009-08-10</td>\n",
       "      <td>MANHEIM</td>\n",
       "      <td>2001</td>\n",
       "      <td>8</td>\n",
       "      <td>CHEVROLET</td>\n",
       "      <td>4C 2.2L</td>\n",
       "      <td>BAS</td>\n",
       "      <td>NaN</td>\n",
       "      <td>...</td>\n",
       "      <td>18880</td>\n",
       "      <td>29532</td>\n",
       "      <td>SC</td>\n",
       "      <td>3240.0</td>\n",
       "      <td>0</td>\n",
       "      <td>1455</td>\n",
       "      <td>CAVALIER</td>\n",
       "      <td>NaN</td>\n",
       "      <td>4D</td>\n",
       "      <td>SEDAN</td>\n",
       "    </tr>\n",
       "  </tbody>\n",
       "</table>\n",
       "<p>5 rows × 38 columns</p>\n",
       "</div>"
      ],
      "text/plain": [
       "       RefId  IsBadBuy   PurchDate  Auction  VehYear  VehicleAge       Make  \\\n",
       "58381  20065         0  2010-09-03    OTHER     2007           3  CHEVROLET   \n",
       "58382  12550         0  2010-01-26    OTHER     2006           4       FORD   \n",
       "58383  15626         0  2010-10-28    OTHER     2007           3  CHEVROLET   \n",
       "58384  21224         1  2010-01-12  MANHEIM     2005           5     NISSAN   \n",
       "58385  40898         1  2009-08-10  MANHEIM     2001           8  CHEVROLET   \n",
       "\n",
       "        Engine Trim SubModelSpecifics    ...     BYRNO VNZIP1  VNST VehBCost  \\\n",
       "58381      NaN   LS               NaN    ...     21053  95673    CA   7205.0   \n",
       "58382      NaN  ZX4               NaN    ...     21053  95673    CA   4690.0   \n",
       "58383      NaN   LS               NaN    ...     99750  21014    MD   7000.0   \n",
       "58384     1.8L  BAS               NaN    ...     52644  75236    TX   5525.0   \n",
       "58385  4C 2.2L  BAS               NaN    ...     18880  29532    SC   3240.0   \n",
       "\n",
       "       IsOnlineSale WarrantyCost        Model Wheeldrive  Doors  SubModel  \n",
       "58381             0         1974  MONTE CARLO        NaN     2D     COUPE  \n",
       "58382             0         1155        FOCUS        NaN     4D     SEDAN  \n",
       "58383             0         1703       IMPALA        NaN     4D     SEDAN  \n",
       "58384             0          594       SENTRA        NaN     4D     SEDAN  \n",
       "58385             0         1455     CAVALIER        NaN     4D     SEDAN  \n",
       "\n",
       "[5 rows x 38 columns]"
      ]
     },
     "execution_count": 4,
     "metadata": {},
     "output_type": "execute_result"
    }
   ],
   "source": [
    "df.tail()"
   ]
  },
  {
   "cell_type": "markdown",
   "metadata": {},
   "source": [
    "- Data Type di ciascun attributo:\n",
    "\n",
    "Integer (numero intero); Floating (numero decimale); Object (stringa, data). per verificare che non ci siano incongruenze\n",
    "\n",
    "Trasformiamo prima il data type dell'attributo \"PurchDate\" da Object a datetime64"
   ]
  },
  {
   "cell_type": "code",
   "execution_count": 12,
   "metadata": {},
   "outputs": [],
   "source": [
    "df[\"PurchDate\"] = df[\"PurchDate\"].astype(\"datetime64\")"
   ]
  },
  {
   "cell_type": "code",
   "execution_count": 13,
   "metadata": {},
   "outputs": [
    {
     "data": {
      "text/plain": [
       "RefId                                         int64\n",
       "IsBadBuy                                      int64\n",
       "PurchDate                            datetime64[ns]\n",
       "Auction                                      object\n",
       "VehYear                                       int64\n",
       "VehicleAge                                    int64\n",
       "Make                                         object\n",
       "Engine                                       object\n",
       "Trim                                         object\n",
       "SubModelSpecifics                            object\n",
       "Color                                        object\n",
       "Transmission                                 object\n",
       "WheelTypeID                                 float64\n",
       "WheelType                                    object\n",
       "VehOdo                                        int64\n",
       "Nationality                                  object\n",
       "Size                                         object\n",
       "TopThreeAmericanName                         object\n",
       "MMRAcquisitionAuctionAveragePrice           float64\n",
       "MMRAcquisitionAuctionCleanPrice             float64\n",
       "MMRAcquisitionRetailAveragePrice            float64\n",
       "MMRAcquisitonRetailCleanPrice               float64\n",
       "MMRCurrentAuctionAveragePrice               float64\n",
       "MMRCurrentAuctionCleanPrice                 float64\n",
       "MMRCurrentRetailAveragePrice                float64\n",
       "MMRCurrentRetailCleanPrice                  float64\n",
       "PRIMEUNIT                                    object\n",
       "AUCGUART                                     object\n",
       "BYRNO                                         int64\n",
       "VNZIP1                                        int64\n",
       "VNST                                         object\n",
       "VehBCost                                    float64\n",
       "IsOnlineSale                                  int64\n",
       "WarrantyCost                                  int64\n",
       "Model                                        object\n",
       "Wheeldrive                                   object\n",
       "Doors                                        object\n",
       "SubModel                                     object\n",
       "dtype: object"
      ]
     },
     "execution_count": 13,
     "metadata": {},
     "output_type": "execute_result"
    }
   ],
   "source": [
    "df.dtypes"
   ]
  },
  {
   "cell_type": "markdown",
   "metadata": {},
   "source": [
    "- somma dei valori nulli per ogni attributo"
   ]
  },
  {
   "cell_type": "code",
   "execution_count": 14,
   "metadata": {},
   "outputs": [
    {
     "data": {
      "text/plain": [
       "RefId                                    0\n",
       "IsBadBuy                                 0\n",
       "PurchDate                                0\n",
       "Auction                                  0\n",
       "VehYear                                  0\n",
       "VehicleAge                               0\n",
       "Make                                     0\n",
       "Engine                               19582\n",
       "Trim                                  1793\n",
       "SubModelSpecifics                    49091\n",
       "Color                                    7\n",
       "Transmission                             8\n",
       "WheelTypeID                           2573\n",
       "WheelType                             2577\n",
       "VehOdo                                   0\n",
       "Nationality                              4\n",
       "Size                                     4\n",
       "TopThreeAmericanName                     4\n",
       "MMRAcquisitionAuctionAveragePrice       13\n",
       "MMRAcquisitionAuctionCleanPrice         13\n",
       "MMRAcquisitionRetailAveragePrice        13\n",
       "MMRAcquisitonRetailCleanPrice           13\n",
       "MMRCurrentAuctionAveragePrice          245\n",
       "MMRCurrentAuctionCleanPrice            245\n",
       "MMRCurrentRetailAveragePrice           245\n",
       "MMRCurrentRetailCleanPrice             245\n",
       "PRIMEUNIT                            55703\n",
       "AUCGUART                             55703\n",
       "BYRNO                                    0\n",
       "VNZIP1                                   0\n",
       "VNST                                     0\n",
       "VehBCost                                 0\n",
       "IsOnlineSale                             0\n",
       "WarrantyCost                             0\n",
       "Model                                    0\n",
       "Wheeldrive                           40532\n",
       "Doors                                 7737\n",
       "SubModel                                 7\n",
       "dtype: int64"
      ]
     },
     "execution_count": 14,
     "metadata": {},
     "output_type": "execute_result"
    }
   ],
   "source": [
    "df.isnull().sum()"
   ]
  },
  {
   "cell_type": "markdown",
   "metadata": {},
   "source": [
    "- Somma dei valori uguali a 0 lungo le colonne (axis=0), per ciascun attributo"
   ]
  },
  {
   "cell_type": "code",
   "execution_count": 15,
   "metadata": {},
   "outputs": [
    {
     "data": {
      "text/plain": [
       "RefId                                    0\n",
       "IsBadBuy                             51178\n",
       "PurchDate                                0\n",
       "Auction                                  0\n",
       "VehYear                                  0\n",
       "VehicleAge                               1\n",
       "Make                                     0\n",
       "Engine                                   0\n",
       "Trim                                     0\n",
       "SubModelSpecifics                        0\n",
       "Color                                    0\n",
       "Transmission                             0\n",
       "WheelTypeID                              4\n",
       "WheelType                                0\n",
       "VehOdo                                   0\n",
       "Nationality                              0\n",
       "Size                                     0\n",
       "TopThreeAmericanName                     0\n",
       "MMRAcquisitionAuctionAveragePrice      648\n",
       "MMRAcquisitionAuctionCleanPrice        552\n",
       "MMRAcquisitionRetailAveragePrice       648\n",
       "MMRAcquisitonRetailCleanPrice          648\n",
       "MMRCurrentAuctionAveragePrice          393\n",
       "MMRCurrentAuctionCleanPrice            300\n",
       "MMRCurrentRetailAveragePrice           393\n",
       "MMRCurrentRetailCleanPrice             393\n",
       "PRIMEUNIT                                0\n",
       "AUCGUART                                 0\n",
       "BYRNO                                    0\n",
       "VNZIP1                                   0\n",
       "VNST                                     0\n",
       "VehBCost                                 0\n",
       "IsOnlineSale                         56887\n",
       "WarrantyCost                             0\n",
       "Model                                    0\n",
       "Wheeldrive                               0\n",
       "Doors                                    0\n",
       "SubModel                                 0\n",
       "dtype: int64"
      ]
     },
     "execution_count": 15,
     "metadata": {},
     "output_type": "execute_result"
    }
   ],
   "source": [
    "(df == 0).sum(axis=0)"
   ]
  },
  {
   "cell_type": "markdown",
   "metadata": {},
   "source": [
    "# Distribuzioni\n",
    "\n",
    "Analizziamo la distribuzione dei valori di tutti gli attributi.\n",
    "\n",
    "Usiamo il grafico BarChart per gli attributi categorici e l'Istogramma per gli attributi numerici."
   ]
  },
  {
   "cell_type": "markdown",
   "metadata": {},
   "source": [
    "*** - Attributi Categorici ***"
   ]
  },
  {
   "cell_type": "markdown",
   "metadata": {},
   "source": [
    "- Make"
   ]
  },
  {
   "cell_type": "code",
   "execution_count": 16,
   "metadata": {},
   "outputs": [
    {
     "data": {
      "text/plain": [
       "CHEVROLET       13842\n",
       "DODGE           10355\n",
       "FORD             9000\n",
       "CHRYSLER         7093\n",
       "PONTIAC          3421\n",
       "KIA              2006\n",
       "SATURN           1698\n",
       "NISSAN           1687\n",
       "HYUNDAI          1444\n",
       "JEEP             1287\n",
       "SUZUKI           1062\n",
       "TOYOTA            905\n",
       "MITSUBISHI        822\n",
       "MAZDA             774\n",
       "MERCURY           739\n",
       "BUICK             562\n",
       "GMC               502\n",
       "HONDA             407\n",
       "OLDSMOBILE        198\n",
       "ISUZU             110\n",
       "VOLKSWAGEN        104\n",
       "SCION             102\n",
       "LINCOLN            80\n",
       "INFINITI           36\n",
       "VOLVO              31\n",
       "LEXUS              27\n",
       "CADILLAC           25\n",
       "ACURA              25\n",
       "SUBARU             22\n",
       "MINI               17\n",
       "PLYMOUTH            1\n",
       "HUMMER              1\n",
       "TOYOTA SCION        1\n",
       "Name: Make, dtype: int64"
      ]
     },
     "execution_count": 16,
     "metadata": {},
     "output_type": "execute_result"
    }
   ],
   "source": [
    "df[\"Make\"].value_counts()"
   ]
  },
  {
   "cell_type": "code",
   "execution_count": 17,
   "metadata": {},
   "outputs": [
    {
     "data": {
      "text/plain": [
       "33"
      ]
     },
     "execution_count": 17,
     "metadata": {},
     "output_type": "execute_result"
    }
   ],
   "source": [
    "df[\"Make\"].nunique()  # numero di valori unici"
   ]
  },
  {
   "cell_type": "code",
   "execution_count": 18,
   "metadata": {},
   "outputs": [
    {
     "data": {
      "image/png": "[encoded data removed]",
      "text/plain": [
       "<Figure size 432x288 with 1 Axes>"
      ]
     },
     "metadata": {},
     "output_type": "display_data"
    }
   ],
   "source": [
    "df[\"Make\"].value_counts().plot(kind=\"bar\")\n",
    "plt.show()"
   ]
  },
  {
   "cell_type": "code",
   "execution_count": 19,
   "metadata": {},
   "outputs": [
    {
     "data": {
      "text/plain": [
       "PLYMOUTH    1\n",
       "HUMMER      1\n",
       "Name: Make, dtype: int64"
      ]
     },
     "execution_count": 19,
     "metadata": {},
     "output_type": "execute_result"
    }
   ],
   "source": [
    "# sostituiamo TOYOTA SCION con SCION (perchè sono la stessa cosa)\n",
    "df['Make'].replace(['TOYOTA SCION'], ['SCION'], inplace=True)\n",
    "\n",
    "# verifica dell'eliminazione di TOYOTA SCION\n",
    "df['Make'].value_counts().loc[df['Make'].value_counts() < 10]"
   ]
  },
  {
   "cell_type": "code",
   "execution_count": 20,
   "metadata": {},
   "outputs": [],
   "source": [
    "# df[\"Make\"].value_counts()"
   ]
  },
  {
   "cell_type": "markdown",
   "metadata": {},
   "source": [
    "- TopThreeAmericanName"
   ]
  },
  {
   "cell_type": "code",
   "execution_count": 21,
   "metadata": {},
   "outputs": [
    {
     "data": {
      "image/png": "[encoded data removed]",
      "text/plain": [
       "<Figure size 144x144 with 1 Axes>"
      ]
     },
     "metadata": {},
     "output_type": "display_data"
    }
   ],
   "source": [
    "df[\"TopThreeAmericanName\"].value_counts().plot(kind=\"bar\", figsize=(2, 2))\n",
    "plt.show()"
   ]
  },
  {
   "cell_type": "code",
   "execution_count": 22,
   "metadata": {},
   "outputs": [
    {
     "data": {
      "text/plain": [
       "GM          20248\n",
       "CHRYSLER    18733\n",
       "FORD         9819\n",
       "OTHER        9582\n",
       "Name: TopThreeAmericanName, dtype: int64"
      ]
     },
     "execution_count": 22,
     "metadata": {},
     "output_type": "execute_result"
    }
   ],
   "source": [
    "Top3Counter=df['TopThreeAmericanName'].value_counts()\n",
    "Top3Counter"
   ]
  },
  {
   "cell_type": "markdown",
   "metadata": {},
   "source": [
    "- Model"
   ]
  },
  {
   "cell_type": "code",
   "execution_count": 23,
   "metadata": {},
   "outputs": [
    {
     "data": {
      "text/plain": [
       "264"
      ]
     },
     "execution_count": 23,
     "metadata": {},
     "output_type": "execute_result"
    }
   ],
   "source": [
    "df[\"Model\"].nunique()"
   ]
  },
  {
   "cell_type": "code",
   "execution_count": 24,
   "metadata": {},
   "outputs": [
    {
     "data": {
      "text/plain": [
       "21"
      ]
     },
     "execution_count": 24,
     "metadata": {},
     "output_type": "execute_result"
    }
   ],
   "source": [
    "#approximate number of outliers\n",
    "df['Model'].value_counts().loc[df['Model'].value_counts()<2].count()"
   ]
  },
  {
   "cell_type": "code",
   "execution_count": 25,
   "metadata": {},
   "outputs": [],
   "source": [
    "#df[\"Model\"].value_counts().plot(kind=\"bar\")\n",
    "#plt.show()"
   ]
  },
  {
   "cell_type": "markdown",
   "metadata": {},
   "source": [
    "- SubModel"
   ]
  },
  {
   "cell_type": "code",
   "execution_count": 26,
   "metadata": {},
   "outputs": [
    {
     "data": {
      "text/plain": [
       "38"
      ]
     },
     "execution_count": 26,
     "metadata": {},
     "output_type": "execute_result"
    }
   ],
   "source": [
    "df[\"SubModel\"].nunique()"
   ]
  },
  {
   "cell_type": "code",
   "execution_count": 27,
   "metadata": {},
   "outputs": [
    {
     "data": {
      "text/plain": [
       "7"
      ]
     },
     "execution_count": 27,
     "metadata": {},
     "output_type": "execute_result"
    }
   ],
   "source": [
    "df[\"SubModel\"].isnull().sum()"
   ]
  },
  {
   "cell_type": "code",
   "execution_count": 28,
   "metadata": {},
   "outputs": [
    {
     "data": {
      "text/plain": [
       "13"
      ]
     },
     "execution_count": 28,
     "metadata": {},
     "output_type": "execute_result"
    }
   ],
   "source": [
    "df['SubModel'].value_counts().loc[df['SubModel'].value_counts()<10].count()"
   ]
  },
  {
   "cell_type": "code",
   "execution_count": 29,
   "metadata": {},
   "outputs": [
    {
     "data": {
      "image/png": "[encoded data removed]",
      "text/plain": [
       "<Figure size 432x288 with 1 Axes>"
      ]
     },
     "metadata": {},
     "output_type": "display_data"
    }
   ],
   "source": [
    "df[\"SubModel\"].value_counts().plot(kind=\"bar\")\n",
    "plt.show()"
   ]
  },
  {
   "cell_type": "markdown",
   "metadata": {},
   "source": [
    "- Engine"
   ]
  },
  {
   "cell_type": "code",
   "execution_count": 30,
   "metadata": {},
   "outputs": [
    {
     "data": {
      "text/plain": [
       "129"
      ]
     },
     "execution_count": 30,
     "metadata": {},
     "output_type": "execute_result"
    }
   ],
   "source": [
    "df[\"Engine\"].nunique()"
   ]
  },
  {
   "cell_type": "code",
   "execution_count": 31,
   "metadata": {},
   "outputs": [
    {
     "data": {
      "text/plain": [
       "19582"
      ]
     },
     "execution_count": 31,
     "metadata": {},
     "output_type": "execute_result"
    }
   ],
   "source": [
    "df[\"Engine\"].isnull().sum()"
   ]
  },
  {
   "cell_type": "code",
   "execution_count": 32,
   "metadata": {},
   "outputs": [
    {
     "data": {
      "text/plain": [
       "10"
      ]
     },
     "execution_count": 32,
     "metadata": {},
     "output_type": "execute_result"
    }
   ],
   "source": [
    "#approximate number of outliers\n",
    "df['Engine'].value_counts().loc[df['Engine'].value_counts()<2].count()"
   ]
  },
  {
   "cell_type": "code",
   "execution_count": 34,
   "metadata": {
    "scrolled": true
   },
   "outputs": [
    {
     "data": {
      "text/plain": [
       "4C               5842\n",
       "3.5L             3017\n",
       "V8               1874\n",
       "4C 2.4L          1752\n",
       "2.7L             1706\n",
       "3.8L             1596\n",
       "3.0L             1378\n",
       "3.3L             1353\n",
       "6C               1318\n",
       "V6               1253\n",
       "2.4L             1189\n",
       "3.0L EFI         1176\n",
       "2.0L SFI          993\n",
       "4C 2.2L           982\n",
       "3.9L              914\n",
       "3.5L SFI          834\n",
       "3.4L              827\n",
       "3.7L              805\n",
       "4.0L              773\n",
       "2.2L MPI          646\n",
       "2.0L EFI          614\n",
       "4.7L              528\n",
       "4.2L              505\n",
       "2.2L              453\n",
       "3.4L SFI          431\n",
       "V8 4.7L           398\n",
       "5.3L              333\n",
       "2.0L MPI          279\n",
       "4.3L              252\n",
       "2.7L MPI          227\n",
       "                 ... \n",
       "4C 2.3L EFI         6\n",
       "2.4L EFI DOHC       5\n",
       "4.6L V6             5\n",
       "4C 2.4L EFI         5\n",
       "2.9L                5\n",
       "2.7L SFI            5\n",
       "4.6L                5\n",
       "1.7L MPI            4\n",
       "1.6L DOHC           4\n",
       "4C 2.0L EFI         4\n",
       "1.5L MPI            3\n",
       "3.4L V6             3\n",
       "4.6L V8             3\n",
       "3.5L MPI DOHC       3\n",
       "4.5L V8 MPI         2\n",
       "2.2L SFI            2\n",
       "5.7L V8 SFI         2\n",
       "5.2L                2\n",
       "1.8L SFI            2\n",
       "4C 2.7L             2\n",
       "3.5L MPI SFI        1\n",
       "3.5L SOHC           1\n",
       "8.1L                1\n",
       "5.3L V8 SFI         1\n",
       "3.6L EFI            1\n",
       "3.2L V6             1\n",
       "3.5L SMPI           1\n",
       "V8 3.9L EFI         1\n",
       "1.7L                1\n",
       "3.5L DOHC           1\n",
       "Name: Engine, Length: 129, dtype: int64"
      ]
     },
     "execution_count": 34,
     "metadata": {},
     "output_type": "execute_result"
    }
   ],
   "source": [
    "df[\"Engine\"].value_counts()"
   ]
  },
  {
   "cell_type": "markdown",
   "metadata": {},
   "source": [
    "- Trim"
   ]
  },
  {
   "cell_type": "code",
   "execution_count": 34,
   "metadata": {},
   "outputs": [
    {
     "data": {
      "text/plain": [
       "130"
      ]
     },
     "execution_count": 34,
     "metadata": {},
     "output_type": "execute_result"
    }
   ],
   "source": [
    "df[\"Trim\"].nunique()"
   ]
  },
  {
   "cell_type": "code",
   "execution_count": 35,
   "metadata": {
    "scrolled": true
   },
   "outputs": [
    {
     "data": {
      "text/plain": [
       "1793"
      ]
     },
     "execution_count": 35,
     "metadata": {},
     "output_type": "execute_result"
    }
   ],
   "source": [
    "df[\"Trim\"].isnull().sum()"
   ]
  },
  {
   "cell_type": "code",
   "execution_count": 36,
   "metadata": {},
   "outputs": [],
   "source": [
    "# df[\"Trim\"].value_counts().plot(kind=\"bar\")\n",
    "# plt.show()"
   ]
  },
  {
   "cell_type": "markdown",
   "metadata": {},
   "source": [
    "- Size"
   ]
  },
  {
   "cell_type": "code",
   "execution_count": 37,
   "metadata": {},
   "outputs": [
    {
     "data": {
      "image/png": "[encoded data removed]",
      "text/plain": [
       "<Figure size 432x288 with 1 Axes>"
      ]
     },
     "metadata": {},
     "output_type": "display_data"
    }
   ],
   "source": [
    "# 12 distinc values\n",
    "#missing values=4\n",
    "#outliers=?\n",
    "#distribution\n",
    "df[\"Size\"].value_counts().plot(kind=\"bar\")\n",
    "plt.show()"
   ]
  },
  {
   "cell_type": "code",
   "execution_count": 38,
   "metadata": {},
   "outputs": [
    {
     "data": {
      "text/plain": [
       "MEDIUM         24644\n",
       "LARGE           7120\n",
       "MEDIUM SUV      6398\n",
       "COMPACT         5764\n",
       "VAN             4677\n",
       "LARGE TRUCK     2554\n",
       "SMALL SUV       1805\n",
       "SPECIALTY       1527\n",
       "CROSSOVER       1419\n",
       "LARGE SUV       1157\n",
       "SMALL TRUCK      696\n",
       "SPORTS           621\n",
       "Name: Size, dtype: int64"
      ]
     },
     "execution_count": 38,
     "metadata": {},
     "output_type": "execute_result"
    }
   ],
   "source": [
    "df['Size'].value_counts()"
   ]
  },
  {
   "cell_type": "markdown",
   "metadata": {},
   "source": [
    "- Transmission"
   ]
  },
  {
   "cell_type": "code",
   "execution_count": 39,
   "metadata": {},
   "outputs": [
    {
     "data": {
      "image/png": "[encoded data removed]",
      "text/plain": [
       "<Figure size 432x288 with 1 Axes>"
      ]
     },
     "metadata": {},
     "output_type": "display_data"
    }
   ],
   "source": [
    "df[\"Transmission\"].value_counts().plot(kind=\"bar\")\n",
    "plt.show()"
   ]
  },
  {
   "cell_type": "code",
   "execution_count": 40,
   "metadata": {},
   "outputs": [
    {
     "data": {
      "text/plain": [
       "8"
      ]
     },
     "execution_count": 40,
     "metadata": {},
     "output_type": "execute_result"
    }
   ],
   "source": [
    "df[\"Transmission\"].isnull().sum()"
   ]
  },
  {
   "cell_type": "markdown",
   "metadata": {},
   "source": [
    "- Doors"
   ]
  },
  {
   "cell_type": "code",
   "execution_count": 35,
   "metadata": {
    "scrolled": true
   },
   "outputs": [
    {
     "data": {
      "text/plain": [
       "4"
      ]
     },
     "execution_count": 35,
     "metadata": {},
     "output_type": "execute_result"
    }
   ],
   "source": [
    "df[\"Doors\"].nunique()"
   ]
  },
  {
   "cell_type": "code",
   "execution_count": 36,
   "metadata": {},
   "outputs": [
    {
     "data": {
      "text/plain": [
       "7737"
      ]
     },
     "execution_count": 36,
     "metadata": {},
     "output_type": "execute_result"
    }
   ],
   "source": [
    "df[\"Doors\"].isnull().sum()"
   ]
  },
  {
   "cell_type": "code",
   "execution_count": 37,
   "metadata": {},
   "outputs": [
    {
     "data": {
      "image/png": "[encoded data removed]",
      "text/plain": [
       "<Figure size 432x288 with 1 Axes>"
      ]
     },
     "metadata": {},
     "output_type": "display_data"
    }
   ],
   "source": [
    "df[\"Doors\"].value_counts().plot(kind=\"bar\")\n",
    "plt.show()"
   ]
  },
  {
   "cell_type": "markdown",
   "metadata": {},
   "source": [
    "- WheelTypeID"
   ]
  },
  {
   "cell_type": "code",
   "execution_count": 41,
   "metadata": {},
   "outputs": [
    {
     "data": {
      "image/png": "[encoded data removed]",
      "text/plain": [
       "<Figure size 432x288 with 1 Axes>"
      ]
     },
     "metadata": {},
     "output_type": "display_data"
    }
   ],
   "source": [
    "df['WheelTypeID'].value_counts().plot(kind=\"bar\")\n",
    "plt.show()"
   ]
  },
  {
   "cell_type": "code",
   "execution_count": 42,
   "metadata": {},
   "outputs": [
    {
     "data": {
      "text/plain": [
       "1.0    28735\n",
       "2.0    26485\n",
       "3.0      589\n",
       "0.0        4\n",
       "Name: WheelTypeID, dtype: int64"
      ]
     },
     "execution_count": 42,
     "metadata": {},
     "output_type": "execute_result"
    }
   ],
   "source": [
    "df['WheelTypeID'].value_counts()"
   ]
  },
  {
   "cell_type": "code",
   "execution_count": 43,
   "metadata": {},
   "outputs": [],
   "source": [
    "# i valori uguali a 0 dovrebbero essere valori nulli, quindi li sostituiamo\n",
    "df['WheelTypeID'].replace(0, np.nan, inplace=True)"
   ]
  },
  {
   "cell_type": "code",
   "execution_count": 44,
   "metadata": {},
   "outputs": [
    {
     "data": {
      "text/plain": [
       "1.0    28735\n",
       "2.0    26485\n",
       "3.0      589\n",
       "Name: WheelTypeID, dtype: int64"
      ]
     },
     "execution_count": 44,
     "metadata": {},
     "output_type": "execute_result"
    }
   ],
   "source": [
    "df['WheelTypeID'].value_counts()"
   ]
  },
  {
   "cell_type": "code",
   "execution_count": 45,
   "metadata": {},
   "outputs": [
    {
     "data": {
      "text/plain": [
       "2577"
      ]
     },
     "execution_count": 45,
     "metadata": {},
     "output_type": "execute_result"
    }
   ],
   "source": [
    "df['WheelTypeID'].isnull().sum()"
   ]
  },
  {
   "cell_type": "markdown",
   "metadata": {},
   "source": [
    "- WheelType"
   ]
  },
  {
   "cell_type": "code",
   "execution_count": 46,
   "metadata": {},
   "outputs": [
    {
     "data": {
      "image/png": "[encoded data removed]",
      "text/plain": [
       "<Figure size 432x288 with 1 Axes>"
      ]
     },
     "metadata": {},
     "output_type": "display_data"
    }
   ],
   "source": [
    "df[\"WheelType\"].value_counts().plot(kind=\"bar\")\n",
    "plt.show()"
   ]
  },
  {
   "cell_type": "code",
   "execution_count": 47,
   "metadata": {},
   "outputs": [
    {
     "data": {
      "text/plain": [
       "True"
      ]
     },
     "execution_count": 47,
     "metadata": {},
     "output_type": "execute_result"
    }
   ],
   "source": [
    "# verifichiamo se gli attributi \"WheelType\" e \"WheelTypeID\" hanno lo stesso numero di valori nulli\n",
    "\n",
    "df[\"WheelType\"].isnull().sum() == df[\"WheelTypeID\"].isnull().sum()"
   ]
  },
  {
   "cell_type": "code",
   "execution_count": 48,
   "metadata": {
    "scrolled": true
   },
   "outputs": [
    {
     "data": {
      "text/plain": [
       "Alloy      28735\n",
       "Covers     26485\n",
       "Special      589\n",
       "Name: WheelType, dtype: int64"
      ]
     },
     "execution_count": 48,
     "metadata": {},
     "output_type": "execute_result"
    }
   ],
   "source": [
    "df[\"WheelType\"].value_counts()"
   ]
  },
  {
   "cell_type": "markdown",
   "metadata": {},
   "source": [
    "- Nationality"
   ]
  },
  {
   "cell_type": "code",
   "execution_count": 49,
   "metadata": {},
   "outputs": [
    {
     "data": {
      "image/png": "[encoded data removed]",
      "text/plain": [
       "<Figure size 432x288 with 1 Axes>"
      ]
     },
     "metadata": {},
     "output_type": "display_data"
    }
   ],
   "source": [
    "#missing values=4\n",
    "#outliers=\n",
    "df[\"Nationality\"].value_counts().plot(kind=\"bar\")\n",
    "plt.show()"
   ]
  },
  {
   "cell_type": "markdown",
   "metadata": {},
   "source": [
    "L'attributo 'Nationality' presenta molti valori per la variabile \"AMERICAN\" e pochi per le altre variabili.\n",
    "abbiamo quindi sostituito le altre ('Other', 'Other asian', 'Top ten asian') con un unico attributo: 'Not American'."
   ]
  },
  {
   "cell_type": "code",
   "execution_count": 50,
   "metadata": {},
   "outputs": [
    {
     "data": {
      "text/plain": [
       "AMERICAN          48800\n",
       "OTHER ASIAN        6435\n",
       "TOP LINE ASIAN     2995\n",
       "OTHER               152\n",
       "Name: Nationality, dtype: int64"
      ]
     },
     "execution_count": 50,
     "metadata": {},
     "output_type": "execute_result"
    }
   ],
   "source": [
    "df['Nationality'].value_counts()"
   ]
  },
  {
   "cell_type": "code",
   "execution_count": 51,
   "metadata": {},
   "outputs": [],
   "source": [
    "df['Nationality'] = df['Nationality'].replace(['OTHER', 'OTHER ASIAN', 'TOP LINE ASIAN'],\n",
    "                                              ['NOT AMERICAN', 'NOT AMERICAN', 'NOT AMERICAN'])\n",
    "\n",
    "df_test['Nationality'] = df_test['Nationality'].replace(['OTHER', 'OTHER ASIAN', 'TOP LINE ASIAN'],\n",
    "                                                        ['NOT AMERICAN', 'NOT AMERICAN', 'NOT AMERICAN'])"
   ]
  },
  {
   "cell_type": "code",
   "execution_count": 52,
   "metadata": {},
   "outputs": [
    {
     "data": {
      "text/plain": [
       "AMERICAN        48800\n",
       "NOT AMERICAN     9582\n",
       "Name: Nationality, dtype: int64"
      ]
     },
     "execution_count": 52,
     "metadata": {},
     "output_type": "execute_result"
    }
   ],
   "source": [
    "df['Nationality'].value_counts()"
   ]
  },
  {
   "cell_type": "code",
   "execution_count": 53,
   "metadata": {},
   "outputs": [
    {
     "data": {
      "image/png": "[encoded data removed]",
      "text/plain": [
       "<Figure size 432x288 with 1 Axes>"
      ]
     },
     "metadata": {},
     "output_type": "display_data"
    }
   ],
   "source": [
    "df[\"Nationality\"].value_counts().plot(kind=\"bar\")\n",
    "plt.show()"
   ]
  },
  {
   "cell_type": "markdown",
   "metadata": {},
   "source": [
    "- PurchDate"
   ]
  },
  {
   "cell_type": "code",
   "execution_count": 54,
   "metadata": {
    "scrolled": true
   },
   "outputs": [
    {
     "data": {
      "image/png": "[encoded data removed]",
      "text/plain": [
       "<Figure size 432x288 with 1 Axes>"
      ]
     },
     "metadata": {},
     "output_type": "display_data"
    }
   ],
   "source": [
    "#missing values=0\n",
    "#outliers=0\n",
    "df['PurchDate'].dt.year.value_counts().plot(kind=\"bar\")\n",
    "plt.show()\n",
    "\n",
    "# prendiamo solo l'anno della data e ne stampiamo il BarChart"
   ]
  },
  {
   "cell_type": "markdown",
   "metadata": {},
   "source": [
    "- VehYear"
   ]
  },
  {
   "cell_type": "code",
   "execution_count": 55,
   "metadata": {},
   "outputs": [
    {
     "data": {
      "image/png": "[encoded data removed]",
      "text/plain": [
       "<Figure size 432x288 with 1 Axes>"
      ]
     },
     "metadata": {},
     "output_type": "display_data"
    }
   ],
   "source": [
    "#missing values=0\n",
    "#outliers=0\n",
    "df[\"VehYear\"].value_counts().plot(kind=\"bar\")\n",
    "plt.show()"
   ]
  },
  {
   "cell_type": "markdown",
   "metadata": {},
   "source": [
    "- Auction"
   ]
  },
  {
   "cell_type": "code",
   "execution_count": 56,
   "metadata": {},
   "outputs": [
    {
     "data": {
      "image/png": "[encoded data removed]",
      "text/plain": [
       "<Figure size 432x288 with 1 Axes>"
      ]
     },
     "metadata": {},
     "output_type": "display_data"
    }
   ],
   "source": [
    "#missing values=0\n",
    "#outliers=0\n",
    "df[\"Auction\"].value_counts().plot(kind=\"bar\")\n",
    "plt.show()"
   ]
  },
  {
   "cell_type": "markdown",
   "metadata": {},
   "source": [
    "- BYRNO"
   ]
  },
  {
   "cell_type": "code",
   "execution_count": 57,
   "metadata": {},
   "outputs": [
    {
     "data": {
      "text/plain": [
       "72"
      ]
     },
     "execution_count": 57,
     "metadata": {},
     "output_type": "execute_result"
    }
   ],
   "source": [
    "df[\"BYRNO\"].nunique()"
   ]
  },
  {
   "cell_type": "code",
   "execution_count": 58,
   "metadata": {},
   "outputs": [
    {
     "data": {
      "image/png": "[encoded data removed]",
      "text/plain": [
       "<Figure size 432x288 with 1 Axes>"
      ]
     },
     "metadata": {},
     "output_type": "display_data"
    }
   ],
   "source": [
    "df[\"BYRNO\"].value_counts().plot(kind=\"bar\")\n",
    "plt.show()"
   ]
  },
  {
   "cell_type": "markdown",
   "metadata": {},
   "source": [
    "- VNST"
   ]
  },
  {
   "cell_type": "code",
   "execution_count": 59,
   "metadata": {},
   "outputs": [
    {
     "data": {
      "text/plain": [
       "37"
      ]
     },
     "execution_count": 59,
     "metadata": {},
     "output_type": "execute_result"
    }
   ],
   "source": [
    "df[\"VNST\"].nunique()"
   ]
  },
  {
   "cell_type": "code",
   "execution_count": 60,
   "metadata": {},
   "outputs": [
    {
     "data": {
      "text/plain": [
       "0    FL\n",
       "1    FL\n",
       "2    OK\n",
       "3    AZ\n",
       "4    TX\n",
       "Name: VNST, dtype: object"
      ]
     },
     "execution_count": 60,
     "metadata": {},
     "output_type": "execute_result"
    }
   ],
   "source": [
    "df[\"VNST\"].head()"
   ]
  },
  {
   "cell_type": "code",
   "execution_count": 61,
   "metadata": {},
   "outputs": [
    {
     "data": {
      "image/png": "[encoded data removed]",
      "text/plain": [
       "<Figure size 432x288 with 1 Axes>"
      ]
     },
     "metadata": {},
     "output_type": "display_data"
    }
   ],
   "source": [
    "df[\"VNST\"].value_counts().plot(kind=\"bar\")\n",
    "plt.show()"
   ]
  },
  {
   "cell_type": "code",
   "execution_count": 62,
   "metadata": {},
   "outputs": [
    {
     "data": {
      "text/plain": [
       "4"
      ]
     },
     "execution_count": 62,
     "metadata": {},
     "output_type": "execute_result"
    }
   ],
   "source": [
    "#approximate number of outliers\n",
    "df['VNST'].value_counts().loc[df['VNST'].value_counts()<30].count()"
   ]
  },
  {
   "cell_type": "markdown",
   "metadata": {},
   "source": [
    "- VNZIP1"
   ]
  },
  {
   "cell_type": "code",
   "execution_count": 63,
   "metadata": {},
   "outputs": [
    {
     "data": {
      "text/plain": [
       "152"
      ]
     },
     "execution_count": 63,
     "metadata": {},
     "output_type": "execute_result"
    }
   ],
   "source": [
    "df[\"VNZIP1\"].nunique()"
   ]
  },
  {
   "cell_type": "code",
   "execution_count": 64,
   "metadata": {},
   "outputs": [
    {
     "data": {
      "text/plain": [
       "array([33619, 32124, 34203, 32824, 33809, 33314, 34761, 32219, 33411,\n",
       "       32750, 32812, 33073, 33311, 33762, 32772, 33916, 32503, 32225],\n",
       "      dtype=int64)"
      ]
     },
     "execution_count": 64,
     "metadata": {},
     "output_type": "execute_result"
    }
   ],
   "source": [
    "df[\"VNZIP1\"].loc[df[\"VNST\"] == 'FL'].unique()\n",
    "\n",
    "# come si nota ci sono ZIP Code diversi in corrispondenza dello stesso stato. Quindi questi ZIP non si riferiscono allo stato ma alla città"
   ]
  },
  {
   "cell_type": "code",
   "execution_count": 65,
   "metadata": {},
   "outputs": [
    {
     "data": {
      "text/plain": [
       "5"
      ]
     },
     "execution_count": 65,
     "metadata": {},
     "output_type": "execute_result"
    }
   ],
   "source": [
    "#approximate number of outliers\n",
    "df['VNZIP1'].value_counts().loc[df['VNZIP1'].value_counts()<2].count()"
   ]
  },
  {
   "cell_type": "code",
   "execution_count": 66,
   "metadata": {},
   "outputs": [],
   "source": [
    "#df[\"VNZIP1\"].value_counts().plot(kind=\"bar\")\n",
    "#plt.show()"
   ]
  },
  {
   "cell_type": "markdown",
   "metadata": {},
   "source": [
    "- IsOnlineSale"
   ]
  },
  {
   "cell_type": "code",
   "execution_count": 67,
   "metadata": {},
   "outputs": [
    {
     "data": {
      "image/png": "[encoded data removed]",
      "text/plain": [
       "<Figure size 432x288 with 1 Axes>"
      ]
     },
     "metadata": {},
     "output_type": "display_data"
    }
   ],
   "source": [
    "df[\"IsOnlineSale\"].value_counts().plot(kind=\"bar\")\n",
    "plt.show()"
   ]
  },
  {
   "cell_type": "code",
   "execution_count": 68,
   "metadata": {},
   "outputs": [
    {
     "data": {
      "text/plain": [
       "0    56887\n",
       "1     1499\n",
       "Name: IsOnlineSale, dtype: int64"
      ]
     },
     "execution_count": 68,
     "metadata": {},
     "output_type": "execute_result"
    }
   ],
   "source": [
    "df[\"IsOnlineSale\"].value_counts()"
   ]
  },
  {
   "cell_type": "markdown",
   "metadata": {},
   "source": [
    "- IsBadBuy"
   ]
  },
  {
   "cell_type": "code",
   "execution_count": 69,
   "metadata": {},
   "outputs": [
    {
     "data": {
      "image/png": "[encoded data removed]",
      "text/plain": [
       "<Figure size 432x288 with 1 Axes>"
      ]
     },
     "metadata": {},
     "output_type": "display_data"
    }
   ],
   "source": [
    "df[\"IsBadBuy\"].value_counts().plot(kind=\"bar\")\n",
    "plt.show()"
   ]
  },
  {
   "cell_type": "code",
   "execution_count": 70,
   "metadata": {},
   "outputs": [
    {
     "data": {
      "text/plain": [
       "0    51178\n",
       "1     7208\n",
       "Name: IsBadBuy, dtype: int64"
      ]
     },
     "execution_count": 70,
     "metadata": {},
     "output_type": "execute_result"
    }
   ],
   "source": [
    "df[\"IsBadBuy\"].value_counts()"
   ]
  },
  {
   "cell_type": "markdown",
   "metadata": {},
   "source": [
    "*** - Attributi Numerici ***"
   ]
  },
  {
   "cell_type": "markdown",
   "metadata": {},
   "source": [
    "tutti gli attributi numerici necessitano un raggruppamento in intervalli detti Bins dei loro valori per essere rappresentati con Istogrammi. Stabiliamo il numero di Bins con la formula di Sturges (che dipende dalla size del DataSet)."
   ]
  },
  {
   "cell_type": "code",
   "execution_count": 44,
   "metadata": {},
   "outputs": [],
   "source": [
    "binsN = math.ceil(math.log(df.shape[0],2))+1"
   ]
  },
  {
   "cell_type": "markdown",
   "metadata": {},
   "source": [
    "- VehBCost"
   ]
  },
  {
   "cell_type": "code",
   "execution_count": 115,
   "metadata": {},
   "outputs": [
    {
     "data": {
      "image/png": "[encoded data removed]",
      "text/plain": [
       "<Figure size 432x288 with 1 Axes>"
      ]
     },
     "metadata": {},
     "output_type": "display_data"
    }
   ],
   "source": [
    "df.loc[df[\"VehBCost\"]<15000][\"VehBCost\"].hist(bins=binsN)\n",
    "plt.title('VehBCost Histogram', pad=15, size=15)\n",
    "plt.xlabel('VehBCost', size=10)\n",
    "plt.ylabel('Objects Freq', size=10)\n",
    "plt.show()"
   ]
  },
  {
   "cell_type": "code",
   "execution_count": 103,
   "metadata": {
    "scrolled": false
   },
   "outputs": [
    {
     "data": {
      "image/png": "[encoded data removed]",
      "text/plain": [
       "<Figure size 432x288 with 1 Axes>"
      ]
     },
     "metadata": {},
     "output_type": "display_data"
    }
   ],
   "source": [
    "boxplot = df.boxplot(column=['VehBCost'], by='IsBadBuy')\n",
    "plt.title('VehBCost', pad=30)\n",
    "plt.show()"
   ]
  },
  {
   "cell_type": "code",
   "execution_count": 64,
   "metadata": {},
   "outputs": [
    {
     "data": {
      "text/plain": [
       "11"
      ]
     },
     "execution_count": 64,
     "metadata": {},
     "output_type": "execute_result"
    }
   ],
   "source": [
    "((df['VehBCost'] > 15000) &  (df['IsBadBuy'] == 1)).sum()"
   ]
  },
  {
   "cell_type": "code",
   "execution_count": 60,
   "metadata": {},
   "outputs": [
    {
     "data": {
      "text/plain": [
       "1"
      ]
     },
     "execution_count": 60,
     "metadata": {},
     "output_type": "execute_result"
    }
   ],
   "source": [
    "((df['VehBCost'] > 15000) & (df['IsBadBuy'] == 0)).sum()"
   ]
  },
  {
   "cell_type": "markdown",
   "metadata": {},
   "source": [
    "- MMRAcquisitionAuctionAveragePrice"
   ]
  },
  {
   "cell_type": "code",
   "execution_count": 104,
   "metadata": {},
   "outputs": [
    {
     "data": {
      "image/png": "[encoded data removed]",
      "text/plain": [
       "<Figure size 432x288 with 1 Axes>"
      ]
     },
     "metadata": {},
     "output_type": "display_data"
    }
   ],
   "source": [
    "df.loc[df[\"MMRAcquisitionAuctionAveragePrice\"]<16000][\"MMRAcquisitionAuctionAveragePrice\"].plot(kind='kde')\n",
    "plt.title('MMRAcquAuctAvgPrice Prob Density', pad=15, size=15)\n",
    "plt.xlabel('MMRAcquisitionAuctionAveragePrice', size=10)\n",
    "plt.show()"
   ]
  },
  {
   "cell_type": "code",
   "execution_count": 105,
   "metadata": {},
   "outputs": [
    {
     "data": {
      "image/png": "[encoded data removed]",
      "text/plain": [
       "<Figure size 432x288 with 1 Axes>"
      ]
     },
     "metadata": {},
     "output_type": "display_data"
    }
   ],
   "source": [
    "df.loc[df[\"MMRAcquisitionAuctionAveragePrice\"]<16000][\"MMRAcquisitionAuctionAveragePrice\"].hist(bins=binsN) #.plot(kind='kde')\n",
    "plt.title('MMRAcquAuctAvgPrice Histogram', pad=15, size=15)\n",
    "plt.xlabel('MMRAcquisitionAuctionAveragePrice', size=10)\n",
    "plt.show()"
   ]
  },
  {
   "cell_type": "code",
   "execution_count": 92,
   "metadata": {
    "scrolled": true
   },
   "outputs": [
    {
     "data": {
      "image/png": "[encoded data removed]",
      "text/plain": [
       "<Figure size 432x288 with 1 Axes>"
      ]
     },
     "metadata": {},
     "output_type": "display_data"
    }
   ],
   "source": [
    "boxplot = df.boxplot(column=['MMRAcquisitionAuctionAveragePrice'], by='IsBadBuy')\n",
    "plt.title('MMRAcquisitionAuctionAveragePrice', pad=30)\n",
    "plt.show()"
   ]
  },
  {
   "cell_type": "code",
   "execution_count": 74,
   "metadata": {},
   "outputs": [
    {
     "data": {
      "text/plain": [
       "14"
      ]
     },
     "execution_count": 74,
     "metadata": {},
     "output_type": "execute_result"
    }
   ],
   "source": [
    "((df['MMRAcquisitionAuctionAveragePrice'] > 20000) &  (df['IsBadBuy'] == 1)).sum()"
   ]
  },
  {
   "cell_type": "code",
   "execution_count": 73,
   "metadata": {},
   "outputs": [
    {
     "data": {
      "text/plain": [
       "1"
      ]
     },
     "execution_count": 73,
     "metadata": {},
     "output_type": "execute_result"
    }
   ],
   "source": [
    "((df['MMRAcquisitionAuctionAveragePrice'] > 20000) &  (df['IsBadBuy'] == 0)).sum()"
   ]
  },
  {
   "cell_type": "markdown",
   "metadata": {},
   "source": [
    "- VehOdo"
   ]
  },
  {
   "cell_type": "code",
   "execution_count": 106,
   "metadata": {},
   "outputs": [
    {
     "data": {
      "image/png": "[encoded data removed]",
      "text/plain": [
       "<Figure size 432x288 with 1 Axes>"
      ]
     },
     "metadata": {},
     "output_type": "display_data"
    }
   ],
   "source": [
    "df[\"VehOdo\"].hist(bins=binsN)\n",
    "plt.title('VehOdo Histogram', pad=15, size=15)\n",
    "plt.xlabel('VehOdo', size=10)\n",
    "plt.ylabel('Objects Freq', size=10)\n",
    "plt.show()"
   ]
  },
  {
   "cell_type": "code",
   "execution_count": 77,
   "metadata": {},
   "outputs": [
    {
     "data": {
      "image/png": "[encoded data removed]",
      "text/plain": [
       "<Figure size 432x288 with 1 Axes>"
      ]
     },
     "metadata": {},
     "output_type": "display_data"
    }
   ],
   "source": [
    "for IsBadBuy_Class in df['IsBadBuy'].unique():\n",
    "    df.VehOdo[df.IsBadBuy == IsBadBuy_Class].plot(kind='kde')\n",
    "\n",
    "plt.title('')\n",
    "plt.xlabel('')\n",
    "plt.legend(('IsBadBuy = 0', 'IsBadBuy = 1'), loc='best')\n",
    "plt.show()"
   ]
  },
  {
   "cell_type": "code",
   "execution_count": 91,
   "metadata": {
    "scrolled": true
   },
   "outputs": [
    {
     "data": {
      "image/png": "[encoded data removed]",
      "text/plain": [
       "<Figure size 432x288 with 1 Axes>"
      ]
     },
     "metadata": {},
     "output_type": "display_data"
    }
   ],
   "source": [
    "boxplot = df.boxplot(column=['VehOdo'])\n",
    "plt.title('VehOdo BoxPlot', pad=20, size=15)\n",
    "plt.show()"
   ]
  },
  {
   "cell_type": "markdown",
   "metadata": {},
   "source": [
    "- VehicleAge"
   ]
  },
  {
   "cell_type": "code",
   "execution_count": 101,
   "metadata": {},
   "outputs": [
    {
     "data": {
      "image/png": "[encoded data removed]",
      "text/plain": [
       "<Figure size 432x288 with 1 Axes>"
      ]
     },
     "metadata": {},
     "output_type": "display_data"
    }
   ],
   "source": [
    "df[\"VehicleAge\"].hist(bins=binsN)\n",
    "plt.title('VehicleAge Histogram', pad=15, size=15)\n",
    "plt.xlabel('VehicleAge', size=10)\n",
    "plt.ylabel('Objects Freq', size=10)\n",
    "plt.show()"
   ]
  },
  {
   "cell_type": "code",
   "execution_count": 114,
   "metadata": {},
   "outputs": [
    {
     "data": {
      "image/png": "[encoded data removed]",
      "text/plain": [
       "<Figure size 432x288 with 1 Axes>"
      ]
     },
     "metadata": {},
     "output_type": "display_data"
    }
   ],
   "source": [
    "boxplot = df.boxplot(column=['VehicleAge'])\n",
    "plt.title('VehicleAge BoxPlot')\n",
    "plt.show()"
   ]
  },
  {
   "cell_type": "code",
   "execution_count": 113,
   "metadata": {
    "scrolled": true
   },
   "outputs": [
    {
     "data": {
      "image/png": "[encoded data removed]",
      "text/plain": [
       "<Figure size 576x288 with 1 Axes>"
      ]
     },
     "metadata": {},
     "output_type": "display_data"
    }
   ],
   "source": [
    "VehAge_by_IsBadBuy_Crosstab = pd.crosstab(df['VehicleAge'], df['IsBadBuy'])\n",
    "VehAge_by_IsBadBuy= VehAge_by_IsBadBuy_Crosstab.div(VehAge_by_IsBadBuy_Crosstab.sum(1).astype(float), axis=0)\n",
    "\n",
    "VehAge_by_IsBadBuy.plot(kind='bar', stacked=True, figsize=(8,4))\n",
    "plt.title('VehicleAge by IsBadBuy', pad=20, size=15)\n",
    "plt.xlabel('VehicleAge', size=10)\n",
    "plt.show()"
   ]
  },
  {
   "cell_type": "code",
   "execution_count": 9,
   "metadata": {},
   "outputs": [
    {
     "data": {
      "text/html": [
       "<div>\n",
       "<style scoped>\n",
       "    .dataframe tbody tr th:only-of-type {\n",
       "        vertical-align: middle;\n",
       "    }\n",
       "\n",
       "    .dataframe tbody tr th {\n",
       "        vertical-align: top;\n",
       "    }\n",
       "\n",
       "    .dataframe thead th {\n",
       "        text-align: right;\n",
       "    }\n",
       "</style>\n",
       "<table border=\"1\" class=\"dataframe\">\n",
       "  <thead>\n",
       "    <tr style=\"text-align: right;\">\n",
       "      <th>IsBadBuy</th>\n",
       "      <th>0</th>\n",
       "      <th>1</th>\n",
       "    </tr>\n",
       "    <tr>\n",
       "      <th>VehicleAge</th>\n",
       "      <th></th>\n",
       "      <th></th>\n",
       "    </tr>\n",
       "  </thead>\n",
       "  <tbody>\n",
       "    <tr>\n",
       "      <th>0</th>\n",
       "      <td>1.000000</td>\n",
       "      <td>0.000000</td>\n",
       "    </tr>\n",
       "    <tr>\n",
       "      <th>1</th>\n",
       "      <td>0.956556</td>\n",
       "      <td>0.043444</td>\n",
       "    </tr>\n",
       "    <tr>\n",
       "      <th>2</th>\n",
       "      <td>0.934712</td>\n",
       "      <td>0.065288</td>\n",
       "    </tr>\n",
       "    <tr>\n",
       "      <th>3</th>\n",
       "      <td>0.917342</td>\n",
       "      <td>0.082658</td>\n",
       "    </tr>\n",
       "    <tr>\n",
       "      <th>4</th>\n",
       "      <td>0.890968</td>\n",
       "      <td>0.109032</td>\n",
       "    </tr>\n",
       "    <tr>\n",
       "      <th>5</th>\n",
       "      <td>0.851888</td>\n",
       "      <td>0.148112</td>\n",
       "    </tr>\n",
       "    <tr>\n",
       "      <th>6</th>\n",
       "      <td>0.821999</td>\n",
       "      <td>0.178001</td>\n",
       "    </tr>\n",
       "    <tr>\n",
       "      <th>7</th>\n",
       "      <td>0.785446</td>\n",
       "      <td>0.214554</td>\n",
       "    </tr>\n",
       "    <tr>\n",
       "      <th>8</th>\n",
       "      <td>0.721667</td>\n",
       "      <td>0.278333</td>\n",
       "    </tr>\n",
       "    <tr>\n",
       "      <th>9</th>\n",
       "      <td>0.700000</td>\n",
       "      <td>0.300000</td>\n",
       "    </tr>\n",
       "  </tbody>\n",
       "</table>\n",
       "</div>"
      ],
      "text/plain": [
       "IsBadBuy           0         1\n",
       "VehicleAge                    \n",
       "0           1.000000  0.000000\n",
       "1           0.956556  0.043444\n",
       "2           0.934712  0.065288\n",
       "3           0.917342  0.082658\n",
       "4           0.890968  0.109032\n",
       "5           0.851888  0.148112\n",
       "6           0.821999  0.178001\n",
       "7           0.785446  0.214554\n",
       "8           0.721667  0.278333\n",
       "9           0.700000  0.300000"
      ]
     },
     "execution_count": 9,
     "metadata": {},
     "output_type": "execute_result"
    }
   ],
   "source": [
    "VehAge_by_IsBadBuy"
   ]
  },
  {
   "cell_type": "markdown",
   "metadata": {},
   "source": [
    "- WarrantyCost"
   ]
  },
  {
   "cell_type": "code",
   "execution_count": 83,
   "metadata": {},
   "outputs": [
    {
     "data": {
      "image/png": "[encoded data removed]",
      "text/plain": [
       "<Figure size 720x360 with 1 Axes>"
      ]
     },
     "metadata": {},
     "output_type": "display_data"
    }
   ],
   "source": [
    "df[\"WarrantyCost\"].hist(bins=binsN, figsize=(10,5))\n",
    "df.loc[df[\"WarrantyCost\"]<3000][\"WarrantyCost\"].hist(bins=binsN)\n",
    "plt.title('WarrantyCost Histogram')\n",
    "plt.show()"
   ]
  },
  {
   "cell_type": "code",
   "execution_count": 84,
   "metadata": {},
   "outputs": [
    {
     "data": {
      "image/png": "[encoded data removed]",
      "text/plain": [
       "<Figure size 432x288 with 1 Axes>"
      ]
     },
     "metadata": {},
     "output_type": "display_data"
    }
   ],
   "source": [
    "boxplot = df.boxplot(column=['WarrantyCost'])\n",
    "plt.title('WarrantyCost BoxPlot')\n",
    "plt.show()"
   ]
  },
  {
   "cell_type": "markdown",
   "metadata": {},
   "source": [
    "# Statistiche degli Attributi Numerici"
   ]
  },
  {
   "cell_type": "code",
   "execution_count": 9,
   "metadata": {},
   "outputs": [
    {
     "data": {
      "text/html": [
       "<div>\n",
       "<style scoped>\n",
       "    .dataframe tbody tr th:only-of-type {\n",
       "        vertical-align: middle;\n",
       "    }\n",
       "\n",
       "    .dataframe tbody tr th {\n",
       "        vertical-align: top;\n",
       "    }\n",
       "\n",
       "    .dataframe thead th {\n",
       "        text-align: right;\n",
       "    }\n",
       "</style>\n",
       "<table border=\"1\" class=\"dataframe\">\n",
       "  <thead>\n",
       "    <tr style=\"text-align: right;\">\n",
       "      <th></th>\n",
       "      <th>MMRAcquisitionAuctionAveragePrice</th>\n",
       "      <th>VehBCost</th>\n",
       "      <th>VehOdo</th>\n",
       "      <th>VehicleAge</th>\n",
       "      <th>WarrantyCost</th>\n",
       "    </tr>\n",
       "  </thead>\n",
       "  <tbody>\n",
       "    <tr>\n",
       "      <th>count</th>\n",
       "      <td>58373.000000</td>\n",
       "      <td>58386.000000</td>\n",
       "      <td>58386.000000</td>\n",
       "      <td>58386.000000</td>\n",
       "      <td>58386.000000</td>\n",
       "    </tr>\n",
       "    <tr>\n",
       "      <th>mean</th>\n",
       "      <td>6128.127953</td>\n",
       "      <td>6730.008335</td>\n",
       "      <td>71478.090518</td>\n",
       "      <td>4.174956</td>\n",
       "      <td>1276.105042</td>\n",
       "    </tr>\n",
       "    <tr>\n",
       "      <th>std</th>\n",
       "      <td>2456.632611</td>\n",
       "      <td>1762.075265</td>\n",
       "      <td>14591.224550</td>\n",
       "      <td>1.713833</td>\n",
       "      <td>598.885423</td>\n",
       "    </tr>\n",
       "    <tr>\n",
       "      <th>min</th>\n",
       "      <td>0.000000</td>\n",
       "      <td>1.000000</td>\n",
       "      <td>4825.000000</td>\n",
       "      <td>0.000000</td>\n",
       "      <td>462.000000</td>\n",
       "    </tr>\n",
       "    <tr>\n",
       "      <th>25%</th>\n",
       "      <td>4273.000000</td>\n",
       "      <td>5430.000000</td>\n",
       "      <td>61785.000000</td>\n",
       "      <td>3.000000</td>\n",
       "      <td>837.000000</td>\n",
       "    </tr>\n",
       "    <tr>\n",
       "      <th>50%</th>\n",
       "      <td>6097.000000</td>\n",
       "      <td>6700.000000</td>\n",
       "      <td>73359.000000</td>\n",
       "      <td>4.000000</td>\n",
       "      <td>1155.000000</td>\n",
       "    </tr>\n",
       "    <tr>\n",
       "      <th>75%</th>\n",
       "      <td>7765.000000</td>\n",
       "      <td>7900.000000</td>\n",
       "      <td>82427.000000</td>\n",
       "      <td>5.000000</td>\n",
       "      <td>1623.000000</td>\n",
       "    </tr>\n",
       "    <tr>\n",
       "      <th>max</th>\n",
       "      <td>35722.000000</td>\n",
       "      <td>36485.000000</td>\n",
       "      <td>115717.000000</td>\n",
       "      <td>9.000000</td>\n",
       "      <td>7498.000000</td>\n",
       "    </tr>\n",
       "  </tbody>\n",
       "</table>\n",
       "</div>"
      ],
      "text/plain": [
       "       MMRAcquisitionAuctionAveragePrice      VehBCost         VehOdo  \\\n",
       "count                       58373.000000  58386.000000   58386.000000   \n",
       "mean                         6128.127953   6730.008335   71478.090518   \n",
       "std                          2456.632611   1762.075265   14591.224550   \n",
       "min                             0.000000      1.000000    4825.000000   \n",
       "25%                          4273.000000   5430.000000   61785.000000   \n",
       "50%                          6097.000000   6700.000000   73359.000000   \n",
       "75%                          7765.000000   7900.000000   82427.000000   \n",
       "max                         35722.000000  36485.000000  115717.000000   \n",
       "\n",
       "         VehicleAge  WarrantyCost  \n",
       "count  58386.000000  58386.000000  \n",
       "mean       4.174956   1276.105042  \n",
       "std        1.713833    598.885423  \n",
       "min        0.000000    462.000000  \n",
       "25%        3.000000    837.000000  \n",
       "50%        4.000000   1155.000000  \n",
       "75%        5.000000   1623.000000  \n",
       "max        9.000000   7498.000000  "
      ]
     },
     "execution_count": 9,
     "metadata": {},
     "output_type": "execute_result"
    }
   ],
   "source": [
    "df[df.columns.difference(['RefId', 'IsBadBuy', 'IsOnlineSale', 'WheelTypeID',\n",
    "                          'BYRNO', 'VNZIP1', 'VehYear', 'MMRAcquisitionAuctionCleanPrice',\n",
    "                          'MMRAcquisitionRetailAveragePrice', 'MMRAcquisitonRetailCleanPrice',\n",
    "                          'MMRCurrentAuctionAveragePrice', 'MMRCurrentAuctionCleanPrice',\n",
    "                          'MMRCurrentRetailAveragePrice', 'MMRCurrentRetailCleanPrice'])].describe()\n",
    "\n",
    "#df.loc[:, df.columns != 'RefId' and df.columns != 'IsBadBuy'].describe()"
   ]
  },
  {
   "cell_type": "markdown",
   "metadata": {},
   "source": [
    "# Eliminazione Attributi"
   ]
  },
  {
   "cell_type": "markdown",
   "metadata": {},
   "source": [
    "Eliminazione degli attributi non significativi per l'analisi o con un numero troppo elevato di missing values che non potrebbero essere sostituiti senza influenzare la distribuzione dell'attributo"
   ]
  },
  {
   "cell_type": "markdown",
   "metadata": {},
   "source": [
    "- Wheeldrive"
   ]
  },
  {
   "cell_type": "code",
   "execution_count": 40,
   "metadata": {
    "scrolled": true
   },
   "outputs": [
    {
     "data": {
      "text/plain": [
       "2"
      ]
     },
     "execution_count": 40,
     "metadata": {},
     "output_type": "execute_result"
    }
   ],
   "source": [
    "df[\"Wheeldrive\"].nunique()"
   ]
  },
  {
   "cell_type": "code",
   "execution_count": 42,
   "metadata": {
    "scrolled": false
   },
   "outputs": [
    {
     "data": {
      "text/plain": [
       "40532"
      ]
     },
     "execution_count": 42,
     "metadata": {},
     "output_type": "execute_result"
    }
   ],
   "source": [
    "df[\"Wheeldrive\"].isnull().sum()"
   ]
  },
  {
   "cell_type": "code",
   "execution_count": 41,
   "metadata": {},
   "outputs": [
    {
     "data": {
      "image/png": "[encoded data removed]",
      "text/plain": [
       "<Figure size 432x288 with 1 Axes>"
      ]
     },
     "metadata": {},
     "output_type": "display_data"
    }
   ],
   "source": [
    "df[\"Wheeldrive\"].value_counts().plot(kind=\"bar\")\n",
    "plt.show()"
   ]
  },
  {
   "cell_type": "markdown",
   "metadata": {},
   "source": [
    "- SubModelSpecifics"
   ]
  },
  {
   "cell_type": "code",
   "execution_count": 86,
   "metadata": {},
   "outputs": [
    {
     "data": {
      "text/plain": [
       "132"
      ]
     },
     "execution_count": 86,
     "metadata": {},
     "output_type": "execute_result"
    }
   ],
   "source": [
    "df[\"SubModelSpecifics\"].nunique()"
   ]
  },
  {
   "cell_type": "code",
   "execution_count": 87,
   "metadata": {},
   "outputs": [
    {
     "data": {
      "text/plain": [
       "49091"
      ]
     },
     "execution_count": 87,
     "metadata": {},
     "output_type": "execute_result"
    }
   ],
   "source": [
    "df[\"SubModelSpecifics\"].isnull().sum()"
   ]
  },
  {
   "cell_type": "markdown",
   "metadata": {},
   "source": [
    "- Color"
   ]
  },
  {
   "cell_type": "code",
   "execution_count": 88,
   "metadata": {},
   "outputs": [
    {
     "data": {
      "image/png": "[encoded data removed]",
      "text/plain": [
       "<Figure size 432x288 with 1 Axes>"
      ]
     },
     "metadata": {},
     "output_type": "display_data"
    }
   ],
   "source": [
    "df[\"Color\"].value_counts().plot(kind=\"bar\")\n",
    "plt.show()"
   ]
  },
  {
   "cell_type": "markdown",
   "metadata": {},
   "source": [
    "- PRIMEUNIT"
   ]
  },
  {
   "cell_type": "code",
   "execution_count": 89,
   "metadata": {},
   "outputs": [
    {
     "data": {
      "image/png": "[encoded data removed]",
      "text/plain": [
       "<Figure size 360x360 with 1 Axes>"
      ]
     },
     "metadata": {},
     "output_type": "display_data"
    }
   ],
   "source": [
    "df[\"PRIMEUNIT\"].value_counts(dropna=False).plot.pie(y='PRIMEUNIT',figsize=(5, 5))\n",
    "plt.show()"
   ]
  },
  {
   "cell_type": "markdown",
   "metadata": {},
   "source": [
    "- AUCGUART"
   ]
  },
  {
   "cell_type": "code",
   "execution_count": 90,
   "metadata": {},
   "outputs": [
    {
     "data": {
      "image/png": "[encoded data removed]",
      "text/plain": [
       "<Figure size 360x360 with 1 Axes>"
      ]
     },
     "metadata": {},
     "output_type": "display_data"
    }
   ],
   "source": [
    "df[\"AUCGUART\"].value_counts(dropna=False).plot.pie(y='AUCGUART',figsize=(5, 5))\n",
    "plt.show()"
   ]
  },
  {
   "cell_type": "markdown",
   "metadata": {},
   "source": [
    "- Eliminazione Attributi dal Training Set"
   ]
  },
  {
   "cell_type": "code",
   "execution_count": 91,
   "metadata": {},
   "outputs": [],
   "source": [
    "del df['Color']\n",
    "\n",
    "del df['WheelType']  # la eliminiamo perchè attributo identico a  'WheelTypeID'\n",
    "\n",
    "del df['PRIMEUNIT']\n",
    "\n",
    "del df['AUCGUART']\n",
    "\n",
    "del df['SubModelSpecifics']\n",
    "\n",
    "del df['Wheeldrive']"
   ]
  },
  {
   "cell_type": "markdown",
   "metadata": {},
   "source": [
    "- Eliminazione Attributi dal Test Set"
   ]
  },
  {
   "cell_type": "code",
   "execution_count": 92,
   "metadata": {},
   "outputs": [],
   "source": [
    "del df_test['Color']\n",
    "\n",
    "del df_test['WheelType']\n",
    "\n",
    "del df_test['PRIMEUNIT']\n",
    "\n",
    "del df_test['AUCGUART']\n",
    "\n",
    "del df_test['SubModelSpecifics']\n",
    "\n",
    "del df_test['Wheeldrive']"
   ]
  },
  {
   "cell_type": "markdown",
   "metadata": {},
   "source": [
    "# Files di Output"
   ]
  },
  {
   "cell_type": "markdown",
   "metadata": {},
   "source": [
    "esperto due file per Training e Test dove l'unica differenza rispetto ai files in input è che mancano le colonne degli attributi eliminati."
   ]
  },
  {
   "cell_type": "code",
   "execution_count": 93,
   "metadata": {},
   "outputs": [],
   "source": [
    "df.to_csv(path_or_buf='Training_DistributionStatistic.csv' ,index=False)"
   ]
  },
  {
   "cell_type": "code",
   "execution_count": 94,
   "metadata": {},
   "outputs": [],
   "source": [
    "df_test.to_csv(path_or_buf='Test_DU.csv' ,index=False)"
   ]
  }
 ],
 "metadata": {
  "kernelspec": {
   "display_name": "Python 3",
   "language": "python",
   "name": "python3"
  },
  "language_info": {
   "codemirror_mode": {
    "name": "ipython",
    "version": 3
   },
   "file_extension": ".py",
   "mimetype": "text/x-python",
   "name": "python",
   "nbconvert_exporter": "python",
   "pygments_lexer": "ipython3",
   "version": "3.6.5"
  }
 },
 "nbformat": 4,
 "nbformat_minor": 2
}
