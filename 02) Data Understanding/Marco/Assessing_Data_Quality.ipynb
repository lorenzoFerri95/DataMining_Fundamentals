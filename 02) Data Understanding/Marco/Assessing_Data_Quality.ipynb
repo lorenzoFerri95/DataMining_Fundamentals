{
 "cells": [
  {
   "cell_type": "markdown",
   "metadata": {},
   "source": [
    "- Importiamo Librerie e Dataset"
   ]
  },
  {
   "cell_type": "code",
   "execution_count": 342,
   "metadata": {
    "scrolled": false
   },
   "outputs": [],
   "source": [
    "%matplotlib inline\n",
    "import math\n",
    "import numpy as np\n",
    "import pandas as pd\n",
    "import scipy.stats as stats\n",
    "import matplotlib.pyplot as plt\n",
    "\n",
    "from collections import defaultdict\n",
    "from scipy.stats.stats import pearsonr\n",
    "\n",
    "df = pd.read_csv(\"Training_distributionStatistic.csv\")"
   ]
  },
  {
   "cell_type": "code",
   "execution_count": 343,
   "metadata": {},
   "outputs": [
    {
     "data": {
      "text/html": [
       "<div>\n",
       "<style scoped>\n",
       "    .dataframe tbody tr th:only-of-type {\n",
       "        vertical-align: middle;\n",
       "    }\n",
       "\n",
       "    .dataframe tbody tr th {\n",
       "        vertical-align: top;\n",
       "    }\n",
       "\n",
       "    .dataframe thead th {\n",
       "        text-align: right;\n",
       "    }\n",
       "</style>\n",
       "<table border=\"1\" class=\"dataframe\">\n",
       "  <thead>\n",
       "    <tr style=\"text-align: right;\">\n",
       "      <th></th>\n",
       "      <th>RefId</th>\n",
       "      <th>IsBadBuy</th>\n",
       "      <th>PurchDate</th>\n",
       "      <th>Auction</th>\n",
       "      <th>VehYear</th>\n",
       "      <th>VehicleAge</th>\n",
       "      <th>Make</th>\n",
       "      <th>Engine</th>\n",
       "      <th>Trim</th>\n",
       "      <th>Transmission</th>\n",
       "      <th>...</th>\n",
       "      <th>MMRCurrentRetailCleanPrice</th>\n",
       "      <th>BYRNO</th>\n",
       "      <th>VNZIP1</th>\n",
       "      <th>VNST</th>\n",
       "      <th>VehBCost</th>\n",
       "      <th>IsOnlineSale</th>\n",
       "      <th>WarrantyCost</th>\n",
       "      <th>Model</th>\n",
       "      <th>Doors</th>\n",
       "      <th>SubModel</th>\n",
       "    </tr>\n",
       "  </thead>\n",
       "  <tbody>\n",
       "    <tr>\n",
       "      <td>0</td>\n",
       "      <td>326</td>\n",
       "      <td>1</td>\n",
       "      <td>2010-10-25</td>\n",
       "      <td>ADESA</td>\n",
       "      <td>2008</td>\n",
       "      <td>2</td>\n",
       "      <td>KIA</td>\n",
       "      <td>NaN</td>\n",
       "      <td>EX</td>\n",
       "      <td>AUTO</td>\n",
       "      <td>...</td>\n",
       "      <td>10650.0</td>\n",
       "      <td>5546</td>\n",
       "      <td>33619</td>\n",
       "      <td>FL</td>\n",
       "      <td>6100.0</td>\n",
       "      <td>0</td>\n",
       "      <td>533</td>\n",
       "      <td>SPECTRA</td>\n",
       "      <td>4D</td>\n",
       "      <td>SEDAN</td>\n",
       "    </tr>\n",
       "    <tr>\n",
       "      <td>1</td>\n",
       "      <td>42991</td>\n",
       "      <td>0</td>\n",
       "      <td>2009-05-27</td>\n",
       "      <td>MANHEIM</td>\n",
       "      <td>2006</td>\n",
       "      <td>3</td>\n",
       "      <td>DODGE</td>\n",
       "      <td>2.7L</td>\n",
       "      <td>SXT</td>\n",
       "      <td>AUTO</td>\n",
       "      <td>...</td>\n",
       "      <td>7478.0</td>\n",
       "      <td>99750</td>\n",
       "      <td>32124</td>\n",
       "      <td>FL</td>\n",
       "      <td>4000.0</td>\n",
       "      <td>0</td>\n",
       "      <td>1630</td>\n",
       "      <td>STRATUS</td>\n",
       "      <td>4D</td>\n",
       "      <td>SEDAN</td>\n",
       "    </tr>\n",
       "    <tr>\n",
       "      <td>2</td>\n",
       "      <td>55273</td>\n",
       "      <td>0</td>\n",
       "      <td>2010-03-18</td>\n",
       "      <td>OTHER</td>\n",
       "      <td>2008</td>\n",
       "      <td>2</td>\n",
       "      <td>DODGE</td>\n",
       "      <td>NaN</td>\n",
       "      <td>SE</td>\n",
       "      <td>AUTO</td>\n",
       "      <td>...</td>\n",
       "      <td>11350.0</td>\n",
       "      <td>99761</td>\n",
       "      <td>74135</td>\n",
       "      <td>OK</td>\n",
       "      <td>7500.0</td>\n",
       "      <td>0</td>\n",
       "      <td>693</td>\n",
       "      <td>CALIBER</td>\n",
       "      <td>4D</td>\n",
       "      <td>WAGON</td>\n",
       "    </tr>\n",
       "    <tr>\n",
       "      <td>3</td>\n",
       "      <td>29058</td>\n",
       "      <td>0</td>\n",
       "      <td>2009-08-06</td>\n",
       "      <td>OTHER</td>\n",
       "      <td>2005</td>\n",
       "      <td>4</td>\n",
       "      <td>FORD</td>\n",
       "      <td>3.9L</td>\n",
       "      <td>S</td>\n",
       "      <td>AUTO</td>\n",
       "      <td>...</td>\n",
       "      <td>7691.0</td>\n",
       "      <td>99761</td>\n",
       "      <td>85018</td>\n",
       "      <td>AZ</td>\n",
       "      <td>4725.0</td>\n",
       "      <td>0</td>\n",
       "      <td>1633</td>\n",
       "      <td>FREESTAR</td>\n",
       "      <td>NaN</td>\n",
       "      <td>PASSENGER</td>\n",
       "    </tr>\n",
       "    <tr>\n",
       "      <td>4</td>\n",
       "      <td>34991</td>\n",
       "      <td>0</td>\n",
       "      <td>2009-04-03</td>\n",
       "      <td>MANHEIM</td>\n",
       "      <td>2005</td>\n",
       "      <td>4</td>\n",
       "      <td>CHRYSLER</td>\n",
       "      <td>V6</td>\n",
       "      <td>BAS</td>\n",
       "      <td>AUTO</td>\n",
       "      <td>...</td>\n",
       "      <td>7856.0</td>\n",
       "      <td>20833</td>\n",
       "      <td>75236</td>\n",
       "      <td>TX</td>\n",
       "      <td>5670.0</td>\n",
       "      <td>0</td>\n",
       "      <td>1623</td>\n",
       "      <td>TOWN &amp; COUNTRY</td>\n",
       "      <td>NaN</td>\n",
       "      <td>MINIVAN</td>\n",
       "    </tr>\n",
       "  </tbody>\n",
       "</table>\n",
       "<p>5 rows × 31 columns</p>\n",
       "</div>"
      ],
      "text/plain": [
       "   RefId  IsBadBuy   PurchDate  Auction  VehYear  VehicleAge      Make Engine  \\\n",
       "0    326         1  2010-10-25    ADESA     2008           2       KIA    NaN   \n",
       "1  42991         0  2009-05-27  MANHEIM     2006           3     DODGE   2.7L   \n",
       "2  55273         0  2010-03-18    OTHER     2008           2     DODGE    NaN   \n",
       "3  29058         0  2009-08-06    OTHER     2005           4      FORD   3.9L   \n",
       "4  34991         0  2009-04-03  MANHEIM     2005           4  CHRYSLER     V6   \n",
       "\n",
       "  Trim Transmission  ...  MMRCurrentRetailCleanPrice  BYRNO VNZIP1 VNST  \\\n",
       "0   EX         AUTO  ...                     10650.0   5546  33619   FL   \n",
       "1  SXT         AUTO  ...                      7478.0  99750  32124   FL   \n",
       "2   SE         AUTO  ...                     11350.0  99761  74135   OK   \n",
       "3    S         AUTO  ...                      7691.0  99761  85018   AZ   \n",
       "4  BAS         AUTO  ...                      7856.0  20833  75236   TX   \n",
       "\n",
       "   VehBCost  IsOnlineSale  WarrantyCost           Model  Doors   SubModel  \n",
       "0    6100.0             0           533         SPECTRA     4D      SEDAN  \n",
       "1    4000.0             0          1630         STRATUS     4D      SEDAN  \n",
       "2    7500.0             0           693         CALIBER     4D      WAGON  \n",
       "3    4725.0             0          1633        FREESTAR    NaN  PASSENGER  \n",
       "4    5670.0             0          1623  TOWN & COUNTRY    NaN    MINIVAN  \n",
       "\n",
       "[5 rows x 31 columns]"
      ]
     },
     "execution_count": 343,
     "metadata": {},
     "output_type": "execute_result"
    }
   ],
   "source": [
    "df.head()"
   ]
  },
  {
   "cell_type": "code",
   "execution_count": 344,
   "metadata": {},
   "outputs": [
    {
     "name": "stdout",
     "output_type": "stream",
     "text": [
      "33\n"
     ]
    },
    {
     "data": {
      "text/plain": [
       "3"
      ]
     },
     "execution_count": 344,
     "metadata": {},
     "output_type": "execute_result"
    }
   ],
   "source": [
    "#controllo del numero di macchine associate a un make\n",
    "print(df['Make'].nunique())\n",
    "MakeCount=df['Make'].value_counts()\n",
    "MakeCount.loc[df['Make'].value_counts()<15].count()"
   ]
  },
  {
   "cell_type": "code",
   "execution_count": 345,
   "metadata": {},
   "outputs": [
    {
     "data": {
      "text/plain": [
       "PLYMOUTH        1\n",
       "HUMMER          1\n",
       "TOYOTA SCION    1\n",
       "Name: Make, dtype: int64"
      ]
     },
     "execution_count": 345,
     "metadata": {},
     "output_type": "execute_result"
    }
   ],
   "source": [
    "#queste macchine hanno solo un amacchina in tutto il database\n",
    "MakeCount.loc[df['Make'].value_counts()<15]"
   ]
  },
  {
   "cell_type": "code",
   "execution_count": 346,
   "metadata": {},
   "outputs": [
    {
     "data": {
      "text/plain": [
       "0              KIA\n",
       "1            DODGE\n",
       "2            DODGE\n",
       "3             FORD\n",
       "4         CHRYSLER\n",
       "           ...    \n",
       "58381    CHEVROLET\n",
       "58382         FORD\n",
       "58383    CHEVROLET\n",
       "58384       NISSAN\n",
       "58385    CHEVROLET\n",
       "Name: Make, Length: 58386, dtype: object"
      ]
     },
     "execution_count": 346,
     "metadata": {},
     "output_type": "execute_result"
    }
   ],
   "source": [
    "#toyota scion rinominata come toyota\n",
    "df['Make'].replace(['TOYOTA SCION'], ['TOYOTA'])"
   ]
  },
  {
   "cell_type": "code",
   "execution_count": 347,
   "metadata": {},
   "outputs": [
    {
     "data": {
      "text/plain": [
       "PLYMOUTH        1\n",
       "HUMMER          1\n",
       "TOYOTA SCION    1\n",
       "Name: Make, dtype: int64"
      ]
     },
     "execution_count": 347,
     "metadata": {},
     "output_type": "execute_result"
    }
   ],
   "source": [
    "MakeCount=df['Make'].value_counts()\n",
    "MakeCount.loc[df['Make'].value_counts()<15]"
   ]
  },
  {
   "cell_type": "code",
   "execution_count": 348,
   "metadata": {},
   "outputs": [
    {
     "name": "stdout",
     "output_type": "stream",
     "text": [
      "53399    0\n",
      "Name: IsBadBuy, dtype: int64\n",
      "31184    1\n",
      "Name: IsBadBuy, dtype: int64\n"
     ]
    }
   ],
   "source": [
    "#PLYMOUTH è un badbuy\n",
    "print(df.loc[df['Make']=='HUMMER']['IsBadBuy'])\n",
    "print(df.loc[df['Make']=='PLYMOUTH']['IsBadBuy'])\n"
   ]
  },
  {
   "cell_type": "code",
   "execution_count": 349,
   "metadata": {
    "scrolled": true
   },
   "outputs": [
    {
     "name": "stdout",
     "output_type": "stream",
     "text": [
      "130\n"
     ]
    },
    {
     "data": {
      "text/plain": [
       "7"
      ]
     },
     "execution_count": 349,
     "metadata": {},
     "output_type": "execute_result"
    }
   ],
   "source": [
    "#stessa codice eseguito per i trim\n",
    "print(df['Trim'].nunique())\n",
    "TrimCount=df['Trim'].value_counts()\n",
    "TrimCount.loc[df['Trim'].value_counts()<2].count()"
   ]
  },
  {
   "cell_type": "code",
   "execution_count": 350,
   "metadata": {},
   "outputs": [
    {
     "data": {
      "text/plain": [
       "ULT    1\n",
       "XSP    1\n",
       "JLX    1\n",
       "SI     1\n",
       "LL     1\n",
       "OUT    1\n",
       "MAZ    1\n",
       "Name: Trim, dtype: int64"
      ]
     },
     "execution_count": 350,
     "metadata": {},
     "output_type": "execute_result"
    }
   ],
   "source": [
    "#non penso siano da considerare outliers visto la poca importanza dei trim\n",
    "TrimCount.loc[df['Trim'].value_counts()<2]"
   ]
  },
  {
   "cell_type": "code",
   "execution_count": 351,
   "metadata": {},
   "outputs": [
    {
     "name": "stdout",
     "output_type": "stream",
     "text": [
      "27564    0\n",
      "Name: IsBadBuy, dtype: int64\n",
      "7243    1\n",
      "Name: IsBadBuy, dtype: int64\n",
      "33462    1\n",
      "Name: IsBadBuy, dtype: int64\n",
      "56799    1\n",
      "Name: IsBadBuy, dtype: int64\n",
      "18763    0\n",
      "Name: IsBadBuy, dtype: int64\n",
      "11690    0\n",
      "Name: IsBadBuy, dtype: int64\n",
      "44407    0\n",
      "Name: IsBadBuy, dtype: int64\n"
     ]
    }
   ],
   "source": [
    "print(df.loc[df['Trim']=='SI']['IsBadBuy'])\n",
    "print(df.loc[df['Trim']=='JLX']['IsBadBuy'])\n",
    "print(df.loc[df['Trim']=='MAZ']['IsBadBuy'])\n",
    "print(df.loc[df['Trim']=='OUT']['IsBadBuy'])\n",
    "print(df.loc[df['Trim']=='ULT']['IsBadBuy'])\n",
    "print(df.loc[df['Trim']=='LL']['IsBadBuy'])\n",
    "print(df.loc[df['Trim']=='XSP']['IsBadBuy'])"
   ]
  },
  {
   "cell_type": "code",
   "execution_count": 352,
   "metadata": {},
   "outputs": [
    {
     "data": {
      "text/plain": [
       "1.0    28735\n",
       "2.0    26485\n",
       "3.0      589\n",
       "Name: WheelTypeID, dtype: int64"
      ]
     },
     "execution_count": 352,
     "metadata": {},
     "output_type": "execute_result"
    }
   ],
   "source": [
    "#non ci sono outliers\n",
    "df['WheelTypeID'].value_counts()"
   ]
  },
  {
   "cell_type": "code",
   "execution_count": 353,
   "metadata": {},
   "outputs": [
    {
     "data": {
      "text/plain": [
       "AMERICAN       48800\n",
       "NOT AMERICA     9582\n",
       "Name: Nationality, dtype: int64"
      ]
     },
     "execution_count": 353,
     "metadata": {},
     "output_type": "execute_result"
    }
   ],
   "source": [
    "#non ci sono outliers\n",
    "df['Nationality'].value_counts()"
   ]
  },
  {
   "cell_type": "code",
   "execution_count": 354,
   "metadata": {},
   "outputs": [
    {
     "name": "stdout",
     "output_type": "stream",
     "text": [
      "12\n"
     ]
    },
    {
     "data": {
      "text/plain": [
       "MEDIUM         24644\n",
       "LARGE           7120\n",
       "MEDIUM SUV      6398\n",
       "COMPACT         5764\n",
       "VAN             4677\n",
       "LARGE TRUCK     2554\n",
       "SMALL SUV       1805\n",
       "SPECIALTY       1527\n",
       "CROSSOVER       1419\n",
       "LARGE SUV       1157\n",
       "SMALL TRUCK      696\n",
       "SPORTS           621\n",
       "Name: Size, dtype: int64"
      ]
     },
     "execution_count": 354,
     "metadata": {},
     "output_type": "execute_result"
    }
   ],
   "source": [
    "#non ci sono outliers\n",
    "print(df['Size'].nunique())\n",
    "df['Size'].value_counts()"
   ]
  },
  {
   "cell_type": "code",
   "execution_count": 355,
   "metadata": {},
   "outputs": [
    {
     "name": "stdout",
     "output_type": "stream",
     "text": [
      "264\n"
     ]
    },
    {
     "data": {
      "text/plain": [
       "21"
      ]
     },
     "execution_count": 355,
     "metadata": {},
     "output_type": "execute_result"
    }
   ],
   "source": [
    "#ci sono 21 modelli con solo una macchina nel database\n",
    "print(df['Model'].nunique())\n",
    "Count = df['Model'].value_counts()\n",
    "Count.loc[df['Model'].value_counts()<2].count()"
   ]
  },
  {
   "cell_type": "code",
   "execution_count": 356,
   "metadata": {},
   "outputs": [
    {
     "data": {
      "text/plain": [
       "IS300            1\n",
       "S60              1\n",
       "FIT              1\n",
       "PASSAT           1\n",
       "I-290            1\n",
       "SIERRA           1\n",
       "G8               1\n",
       "MALIBU HYBRID    1\n",
       "2500HD SIERRA    1\n",
       "GS450H           1\n",
       "LHS              1\n",
       "CL               1\n",
       "FX35             1\n",
       "EXCURSION        1\n",
       "RX330            1\n",
       "G20              1\n",
       "MR2 SPYDER       1\n",
       "I-370            1\n",
       "H3               1\n",
       "Pacifica         1\n",
       "TOUAREG          1\n",
       "Name: Model, dtype: int64"
      ]
     },
     "execution_count": 356,
     "metadata": {},
     "output_type": "execute_result"
    }
   ],
   "source": [
    "#sono i seguenti\n",
    "Count.loc[df['Model'].value_counts()<2]"
   ]
  },
  {
   "cell_type": "code",
   "execution_count": 357,
   "metadata": {},
   "outputs": [
    {
     "name": "stdout",
     "output_type": "stream",
     "text": [
      "38\n"
     ]
    },
    {
     "data": {
      "text/plain": [
       "6"
      ]
     },
     "execution_count": 357,
     "metadata": {},
     "output_type": "execute_result"
    }
   ],
   "source": [
    "# 6 sottomodelli hanno meno si 3 macchine\n",
    "print(df['SubModel'].nunique())\n",
    "Count = df['SubModel'].value_counts()\n",
    "Count.loc[df['SubModel'].value_counts()<3].count()"
   ]
  },
  {
   "cell_type": "code",
   "execution_count": 358,
   "metadata": {},
   "outputs": [
    {
     "data": {
      "text/plain": [
       "MEGA CAB               3\n",
       "ACCESS CAB             3\n",
       "CONVERTIBLE SUV        2\n",
       "ROADSTER               2\n",
       "CARGO EXT              2\n",
       "CONVERTIBLE HARDTOP    2\n",
       "CARGO                  1\n",
       "SPORT WAGON            1\n",
       "Name: SubModel, dtype: int64"
      ]
     },
     "execution_count": 358,
     "metadata": {},
     "output_type": "execute_result"
    }
   ],
   "source": [
    "#sottomodelli con meno di 5 elementi\n",
    "Count.loc[df['SubModel'].value_counts()<5]"
   ]
  },
  {
   "cell_type": "code",
   "execution_count": 359,
   "metadata": {},
   "outputs": [
    {
     "name": "stdout",
     "output_type": "stream",
     "text": [
      "10867    0\n",
      "38651    1\n",
      "Name: IsBadBuy, dtype: int64\n",
      "6483     0\n",
      "22848    0\n",
      "Name: IsBadBuy, dtype: int64\n",
      "23965    1\n",
      "39458    1\n",
      "Name: IsBadBuy, dtype: int64\n",
      "25131    0\n",
      "41941    0\n",
      "Name: IsBadBuy, dtype: int64\n",
      "50681    0\n",
      "Name: IsBadBuy, dtype: int64\n",
      "9126    0\n",
      "Name: IsBadBuy, dtype: int64\n"
     ]
    }
   ],
   "source": [
    "print(df.loc[df['SubModel']=='ROADSTER']['IsBadBuy'])\n",
    "print(df.loc[df['SubModel']=='CONVERTIBLE HARDTOP']['IsBadBuy'])\n",
    "print(df.loc[df['SubModel']=='CARGO EXT']['IsBadBuy'])\n",
    "print(df.loc[df['SubModel']=='CONVERTIBLE SUV']['IsBadBuy'])\n",
    "print(df.loc[df['SubModel']=='SPORT WAGON']['IsBadBuy'])\n",
    "print(df.loc[df['SubModel']=='CARGO']['IsBadBuy'])"
   ]
  },
  {
   "cell_type": "code",
   "execution_count": 360,
   "metadata": {},
   "outputs": [
    {
     "data": {
      "text/plain": [
       "4D    47884\n",
       "2D     2656\n",
       "5D       70\n",
       "3D       39\n",
       "Name: Doors, dtype: int64"
      ]
     },
     "execution_count": 360,
     "metadata": {},
     "output_type": "execute_result"
    }
   ],
   "source": [
    "#non ci sono outliers\n",
    "df['Doors'].value_counts()"
   ]
  },
  {
   "cell_type": "code",
   "execution_count": 361,
   "metadata": {},
   "outputs": [
    {
     "data": {
      "text/plain": [
       "1038     AMERICAN\n",
       "1533     AMERICAN\n",
       "4643     AMERICAN\n",
       "8543     AMERICAN\n",
       "9422     AMERICAN\n",
       "11452    AMERICAN\n",
       "12086    AMERICAN\n",
       "14759    AMERICAN\n",
       "14760    AMERICAN\n",
       "15030    AMERICAN\n",
       "15093    AMERICAN\n",
       "15820    AMERICAN\n",
       "19204    AMERICAN\n",
       "21832    AMERICAN\n",
       "23719    AMERICAN\n",
       "23857    AMERICAN\n",
       "24483    AMERICAN\n",
       "24495    AMERICAN\n",
       "25361    AMERICAN\n",
       "26668    AMERICAN\n",
       "27237    AMERICAN\n",
       "28364    AMERICAN\n",
       "28423    AMERICAN\n",
       "31862    AMERICAN\n",
       "32258    AMERICAN\n",
       "38173    AMERICAN\n",
       "39396    AMERICAN\n",
       "40699    AMERICAN\n",
       "42699    AMERICAN\n",
       "45121    AMERICAN\n",
       "45540    AMERICAN\n",
       "46236    AMERICAN\n",
       "49365    AMERICAN\n",
       "51350    AMERICAN\n",
       "52780    AMERICAN\n",
       "53627    AMERICAN\n",
       "55246    AMERICAN\n",
       "57434    AMERICAN\n",
       "57894    AMERICAN\n",
       "Name: Nationality, dtype: object"
      ]
     },
     "execution_count": 361,
     "metadata": {},
     "output_type": "execute_result"
    }
   ],
   "source": [
    "#controllavo se le macchine 3 porte e 5 fossero europee (cosi potevamo metterle insieme a 4 porte e 2) ma non è cosi\n",
    "#pensavo usassero un sistema diverso e non contassero il baule gli americani\n",
    "df.loc[df['Doors']=='3D']['Nationality']"
   ]
  },
  {
   "cell_type": "code",
   "execution_count": 362,
   "metadata": {},
   "outputs": [],
   "source": [
    "binsN=math.ceil(math.log(df.shape[0],2))+1"
   ]
  },
  {
   "cell_type": "code",
   "execution_count": 363,
   "metadata": {},
   "outputs": [
    {
     "data": {
      "image/png": "[encoded data removed]",
      "text/plain": [
       "<Figure size 432x288 with 1 Axes>"
      ]
     },
     "metadata": {
      "needs_background": "light"
     },
     "output_type": "display_data"
    },
    {
     "data": {
      "image/png": "[encoded data removed]",
      "text/plain": [
       "<Figure size 432x288 with 1 Axes>"
      ]
     },
     "metadata": {
      "needs_background": "light"
     },
     "output_type": "display_data"
    }
   ],
   "source": [
    "df[\"VehOdo\"].hist(bins=binsN)\n",
    "plt.show()\n",
    "boxplot = df.boxplot(column=['VehOdo'])"
   ]
  },
  {
   "cell_type": "code",
   "execution_count": 364,
   "metadata": {},
   "outputs": [
    {
     "data": {
      "text/plain": [
       "8"
      ]
     },
     "execution_count": 364,
     "metadata": {},
     "output_type": "execute_result"
    }
   ],
   "source": [
    "#Seconod me non sono da considerare outliers\n",
    "df.loc[df[\"VehOdo\"]>110000][\"VehOdo\"].count()"
   ]
  },
  {
   "cell_type": "code",
   "execution_count": 365,
   "metadata": {},
   "outputs": [
    {
     "data": {
      "text/plain": [
       "13514    1\n",
       "30312    0\n",
       "30711    0\n",
       "35837    0\n",
       "44125    1\n",
       "45774    0\n",
       "46083    1\n",
       "50383    0\n",
       "Name: IsBadBuy, dtype: int64"
      ]
     },
     "execution_count": 365,
     "metadata": {},
     "output_type": "execute_result"
    }
   ],
   "source": [
    "df.loc[df[\"VehOdo\"]>110000][\"IsBadBuy\"]"
   ]
  },
  {
   "cell_type": "code",
   "execution_count": 366,
   "metadata": {},
   "outputs": [
    {
     "data": {
      "text/plain": [
       "34"
      ]
     },
     "execution_count": 366,
     "metadata": {},
     "output_type": "execute_result"
    }
   ],
   "source": [
    "df.loc[df[\"VehOdo\"]<20000][\"VehOdo\"].count()"
   ]
  },
  {
   "cell_type": "code",
   "execution_count": 367,
   "metadata": {},
   "outputs": [
    {
     "data": {
      "text/plain": [
       "3272     16713\n",
       "4478     12628\n",
       "5072     15409\n",
       "6704     19534\n",
       "7931     19751\n",
       "9085     16545\n",
       "10768    15249\n",
       "11298    15894\n",
       "12564    17502\n",
       "13225     9446\n",
       "14153    17281\n",
       "14838    18777\n",
       "17193     5368\n",
       "18204    15655\n",
       "20948    11662\n",
       "21080    19813\n",
       "25743    18813\n",
       "26388     9878\n",
       "29061    10643\n",
       "29758    19983\n",
       "32333    17538\n",
       "36187    14961\n",
       "38651    19610\n",
       "38767    13924\n",
       "41054    14474\n",
       "43117    12926\n",
       "43551    19825\n",
       "47212    14519\n",
       "52250    16833\n",
       "53207    13445\n",
       "53937     4825\n",
       "54746    18440\n",
       "55431    19430\n",
       "57321    14547\n",
       "Name: VehOdo, dtype: int64"
      ]
     },
     "execution_count": 367,
     "metadata": {},
     "output_type": "execute_result"
    }
   ],
   "source": [
    "#Anche questi sembrano valori possibili\n",
    "df.loc[df[\"VehOdo\"]<20000][\"VehOdo\"]"
   ]
  },
  {
   "cell_type": "code",
   "execution_count": 368,
   "metadata": {},
   "outputs": [
    {
     "data": {
      "text/plain": [
       "3272      4900.00\n",
       "4478      6435.00\n",
       "5072     10402.89\n",
       "6704      5800.00\n",
       "7931      9350.00\n",
       "9085      5210.00\n",
       "10768     6160.00\n",
       "11298     5610.00\n",
       "12564    35900.00\n",
       "13225    32300.00\n",
       "14153     8000.00\n",
       "14838     4740.00\n",
       "17193     5315.00\n",
       "18204     8200.00\n",
       "20948    11393.09\n",
       "21080     4600.00\n",
       "25743     6035.00\n",
       "26388     5100.00\n",
       "29061     5935.00\n",
       "29758     4000.00\n",
       "32333     5600.00\n",
       "36187     4900.00\n",
       "38651     9387.14\n",
       "38767    36485.00\n",
       "41054     6755.00\n",
       "43117     6465.00\n",
       "43551     5605.00\n",
       "47212     4710.00\n",
       "52250     6000.00\n",
       "53207    14796.57\n",
       "53937      225.00\n",
       "54746     5000.00\n",
       "55431     5500.00\n",
       "57321     5900.00\n",
       "Name: VehBCost, dtype: float64"
      ]
     },
     "execution_count": 368,
     "metadata": {},
     "output_type": "execute_result"
    }
   ],
   "source": [
    "#costo dei veicoli con poche miglia\n",
    "df.loc[df[\"VehOdo\"]<20000][\"VehBCost\"]"
   ]
  },
  {
   "cell_type": "code",
   "execution_count": 369,
   "metadata": {},
   "outputs": [
    {
     "data": {
      "text/plain": [
       "3272     2004\n",
       "4478     2007\n",
       "5072     2007\n",
       "6704     2003\n",
       "7931     2007\n",
       "9085     2006\n",
       "10768    2006\n",
       "11298    2006\n",
       "12564    2008\n",
       "13225    2009\n",
       "14153    2004\n",
       "14838    2004\n",
       "17193    2003\n",
       "18204    2004\n",
       "20948    2007\n",
       "21080    2004\n",
       "25743    2007\n",
       "26388    2006\n",
       "29061    2008\n",
       "29758    2002\n",
       "32333    2004\n",
       "36187    2002\n",
       "38651    2008\n",
       "38767    2008\n",
       "41054    2004\n",
       "43117    2007\n",
       "43551    2004\n",
       "47212    2003\n",
       "52250    2007\n",
       "53207    2008\n",
       "53937    2007\n",
       "54746    2002\n",
       "55431    2004\n",
       "57321    2005\n",
       "Name: VehYear, dtype: int64"
      ]
     },
     "execution_count": 369,
     "metadata": {},
     "output_type": "execute_result"
    }
   ],
   "source": [
    "#Anno dei veicoli con poche miglia\n",
    "df.loc[df[\"VehOdo\"]<20000][\"VehYear\"]"
   ]
  },
  {
   "cell_type": "code",
   "execution_count": 370,
   "metadata": {},
   "outputs": [
    {
     "data": {
      "text/plain": [
       "3272     0\n",
       "4478     0\n",
       "5072     1\n",
       "6704     0\n",
       "7931     0\n",
       "9085     1\n",
       "10768    0\n",
       "11298    0\n",
       "12564    1\n",
       "13225    1\n",
       "14153    0\n",
       "14838    0\n",
       "17193    0\n",
       "18204    0\n",
       "20948    1\n",
       "21080    0\n",
       "25743    0\n",
       "26388    0\n",
       "29061    0\n",
       "29758    0\n",
       "32333    0\n",
       "36187    1\n",
       "38651    1\n",
       "38767    1\n",
       "41054    0\n",
       "43117    0\n",
       "43551    0\n",
       "47212    0\n",
       "52250    0\n",
       "53207    1\n",
       "53937    1\n",
       "54746    0\n",
       "55431    0\n",
       "57321    0\n",
       "Name: IsBadBuy, dtype: int64"
      ]
     },
     "execution_count": 370,
     "metadata": {},
     "output_type": "execute_result"
    }
   ],
   "source": [
    "#controllo dei badbuy per le macchine con poche miglia\n",
    "df.loc[df[\"VehOdo\"]<20000][\"IsBadBuy\"]"
   ]
  },
  {
   "cell_type": "code",
   "execution_count": 371,
   "metadata": {},
   "outputs": [
    {
     "data": {
      "text/plain": [
       "3272      4481.0\n",
       "4478      5657.0\n",
       "5072     16536.0\n",
       "6704      2560.0\n",
       "7931     10956.0\n",
       "9085      4801.0\n",
       "10768     5427.0\n",
       "11298     4066.0\n",
       "12564    35722.0\n",
       "13225    27680.0\n",
       "14153     4281.0\n",
       "14838     2463.0\n",
       "17193     2617.0\n",
       "18204     4281.0\n",
       "20948    19250.0\n",
       "21080     4481.0\n",
       "25743     5824.0\n",
       "26388     3880.0\n",
       "29061     6217.0\n",
       "29758     2622.0\n",
       "32333     2824.0\n",
       "36187        0.0\n",
       "38651    14539.0\n",
       "38767    32063.0\n",
       "41054     4800.0\n",
       "43117     6324.0\n",
       "43551     2941.0\n",
       "47212     1683.0\n",
       "52250     4995.0\n",
       "53207    19546.0\n",
       "53937     5498.0\n",
       "54746     2622.0\n",
       "55431     4481.0\n",
       "57321     3641.0\n",
       "Name: MMRAcquisitionAuctionAveragePrice, dtype: float64"
      ]
     },
     "execution_count": 371,
     "metadata": {},
     "output_type": "execute_result"
    }
   ],
   "source": [
    "#controllo del MMR \n",
    "df.loc[df[\"VehOdo\"]<20000][\"MMRAcquisitionAuctionAveragePrice\"]"
   ]
  },
  {
   "cell_type": "code",
   "execution_count": 372,
   "metadata": {},
   "outputs": [
    {
     "data": {
      "image/png": "[encoded data removed]",
      "text/plain": [
       "<Figure size 432x288 with 1 Axes>"
      ]
     },
     "metadata": {
      "needs_background": "light"
     },
     "output_type": "display_data"
    },
    {
     "data": {
      "image/png": "[encoded data removed]",
      "text/plain": [
       "<Figure size 432x288 with 1 Axes>"
      ]
     },
     "metadata": {
      "needs_background": "light"
     },
     "output_type": "display_data"
    }
   ],
   "source": [
    "df[\"VehBCost\"].hist(bins=binsN)\n",
    "plt.show()\n",
    "boxplot = df.boxplot(column=['VehBCost'])"
   ]
  },
  {
   "cell_type": "code",
   "execution_count": 373,
   "metadata": {
    "scrolled": true
   },
   "outputs": [
    {
     "data": {
      "text/plain": [
       "12"
      ]
     },
     "execution_count": 373,
     "metadata": {},
     "output_type": "execute_result"
    }
   ],
   "source": [
    "df.loc[df[\"VehBCost\"]>15000][\"VehBCost\"].count()"
   ]
  },
  {
   "cell_type": "code",
   "execution_count": 374,
   "metadata": {},
   "outputs": [
    {
     "data": {
      "text/plain": [
       "6380     1\n",
       "6733     1\n",
       "7380     1\n",
       "12564    1\n",
       "13225    1\n",
       "15270    1\n",
       "15491    1\n",
       "19071    0\n",
       "23109    1\n",
       "32128    1\n",
       "38767    1\n",
       "53782    1\n",
       "Name: IsBadBuy, dtype: int64"
      ]
     },
     "execution_count": 374,
     "metadata": {},
     "output_type": "execute_result"
    }
   ],
   "source": [
    "#controllo dei badbuy\n",
    "df.loc[df[\"VehBCost\"]>15000][\"IsBadBuy\"]"
   ]
  },
  {
   "cell_type": "code",
   "execution_count": 375,
   "metadata": {},
   "outputs": [
    {
     "data": {
      "text/plain": [
       "6380     28077.0\n",
       "6733     23031.0\n",
       "7380     18900.0\n",
       "12564    35722.0\n",
       "13225    27680.0\n",
       "15270    15091.0\n",
       "15491    28354.0\n",
       "19071    14321.0\n",
       "23109    23581.0\n",
       "32128    20635.0\n",
       "38767    32063.0\n",
       "53782    25033.0\n",
       "Name: MMRAcquisitionAuctionAveragePrice, dtype: float64"
      ]
     },
     "execution_count": 375,
     "metadata": {},
     "output_type": "execute_result"
    }
   ],
   "source": [
    "#controllo del MMR\n",
    "df.loc[df[\"VehBCost\"]>15000][\"MMRAcquisitionAuctionAveragePrice\"]"
   ]
  },
  {
   "cell_type": "code",
   "execution_count": 376,
   "metadata": {},
   "outputs": [
    {
     "data": {
      "text/plain": [
       "6380     2007\n",
       "6733     2007\n",
       "7380     2007\n",
       "12564    2008\n",
       "13225    2009\n",
       "15270    2006\n",
       "15491    2008\n",
       "19071    2007\n",
       "23109    2007\n",
       "32128    2008\n",
       "38767    2008\n",
       "53782    2007\n",
       "Name: VehYear, dtype: int64"
      ]
     },
     "execution_count": 376,
     "metadata": {},
     "output_type": "execute_result"
    }
   ],
   "source": [
    "#Anno dei veicoli\n",
    "df.loc[df[\"VehBCost\"]>15000][\"VehYear\"]"
   ]
  },
  {
   "cell_type": "code",
   "execution_count": 377,
   "metadata": {},
   "outputs": [
    {
     "data": {
      "text/plain": [
       "6380     30945\n",
       "6733     61001\n",
       "7380     40023\n",
       "12564    17502\n",
       "13225     9446\n",
       "15270    48250\n",
       "15491    32556\n",
       "19071    36292\n",
       "23109    26113\n",
       "32128    24878\n",
       "38767    13924\n",
       "53782    34534\n",
       "Name: VehOdo, dtype: int64"
      ]
     },
     "execution_count": 377,
     "metadata": {},
     "output_type": "execute_result"
    }
   ],
   "source": [
    "#poche miglia fatte\n",
    "df.loc[df[\"VehBCost\"]>15000][\"VehOdo\"]"
   ]
  },
  {
   "cell_type": "code",
   "execution_count": 378,
   "metadata": {},
   "outputs": [
    {
     "data": {
      "text/plain": [
       "6380     NOT AMERICA\n",
       "6733     NOT AMERICA\n",
       "7380     NOT AMERICA\n",
       "12564    NOT AMERICA\n",
       "13225       AMERICAN\n",
       "15270    NOT AMERICA\n",
       "15491    NOT AMERICA\n",
       "19071    NOT AMERICA\n",
       "23109    NOT AMERICA\n",
       "32128    NOT AMERICA\n",
       "38767    NOT AMERICA\n",
       "53782    NOT AMERICA\n",
       "Name: Nationality, dtype: object"
      ]
     },
     "execution_count": 378,
     "metadata": {},
     "output_type": "execute_result"
    }
   ],
   "source": [
    "#Asiatiche per la maggiorparte\n",
    "df.loc[df[\"VehBCost\"]>15000][\"Nationality\"]"
   ]
  },
  {
   "cell_type": "code",
   "execution_count": 379,
   "metadata": {
    "scrolled": true
   },
   "outputs": [
    {
     "data": {
      "text/plain": [
       "6380     1001\n",
       "6733     1020\n",
       "7380      764\n",
       "12564     702\n",
       "13225     941\n",
       "15270     482\n",
       "15491    1694\n",
       "19071     762\n",
       "23109    1121\n",
       "32128     522\n",
       "38767    1001\n",
       "53782     522\n",
       "Name: WarrantyCost, dtype: int64"
      ]
     },
     "execution_count": 379,
     "metadata": {},
     "output_type": "execute_result"
    }
   ],
   "source": [
    "#assicurazione bassa\n",
    "df.loc[df[\"VehBCost\"]>15000][\"WarrantyCost\"]"
   ]
  },
  {
   "cell_type": "code",
   "execution_count": 380,
   "metadata": {},
   "outputs": [
    {
     "data": {
      "text/html": [
       "<div>\n",
       "<style scoped>\n",
       "    .dataframe tbody tr th:only-of-type {\n",
       "        vertical-align: middle;\n",
       "    }\n",
       "\n",
       "    .dataframe tbody tr th {\n",
       "        vertical-align: top;\n",
       "    }\n",
       "\n",
       "    .dataframe thead th {\n",
       "        text-align: right;\n",
       "    }\n",
       "</style>\n",
       "<table border=\"1\" class=\"dataframe\">\n",
       "  <thead>\n",
       "    <tr style=\"text-align: right;\">\n",
       "      <th></th>\n",
       "      <th>RefId</th>\n",
       "      <th>IsBadBuy</th>\n",
       "      <th>PurchDate</th>\n",
       "      <th>Auction</th>\n",
       "      <th>VehYear</th>\n",
       "      <th>VehicleAge</th>\n",
       "      <th>Make</th>\n",
       "      <th>Engine</th>\n",
       "      <th>Trim</th>\n",
       "      <th>Transmission</th>\n",
       "      <th>...</th>\n",
       "      <th>MMRCurrentRetailCleanPrice</th>\n",
       "      <th>BYRNO</th>\n",
       "      <th>VNZIP1</th>\n",
       "      <th>VNST</th>\n",
       "      <th>VehBCost</th>\n",
       "      <th>IsOnlineSale</th>\n",
       "      <th>WarrantyCost</th>\n",
       "      <th>Model</th>\n",
       "      <th>Doors</th>\n",
       "      <th>SubModel</th>\n",
       "    </tr>\n",
       "  </thead>\n",
       "  <tbody>\n",
       "    <tr>\n",
       "      <td>6380</td>\n",
       "      <td>69256</td>\n",
       "      <td>1</td>\n",
       "      <td>2009-04-12</td>\n",
       "      <td>ADESA</td>\n",
       "      <td>2007</td>\n",
       "      <td>2</td>\n",
       "      <td>LEXUS</td>\n",
       "      <td>NaN</td>\n",
       "      <td>NaN</td>\n",
       "      <td>AUTO</td>\n",
       "      <td>...</td>\n",
       "      <td>35366.0</td>\n",
       "      <td>16926</td>\n",
       "      <td>91752</td>\n",
       "      <td>CA</td>\n",
       "      <td>29795.0</td>\n",
       "      <td>0</td>\n",
       "      <td>1001</td>\n",
       "      <td>RX400H</td>\n",
       "      <td>4D</td>\n",
       "      <td>UTILITY SPORT</td>\n",
       "    </tr>\n",
       "    <tr>\n",
       "      <td>23109</td>\n",
       "      <td>6038</td>\n",
       "      <td>1</td>\n",
       "      <td>2010-11-23</td>\n",
       "      <td>MANHEIM</td>\n",
       "      <td>2007</td>\n",
       "      <td>3</td>\n",
       "      <td>LEXUS</td>\n",
       "      <td>NaN</td>\n",
       "      <td>NaN</td>\n",
       "      <td>AUTO</td>\n",
       "      <td>...</td>\n",
       "      <td>33337.0</td>\n",
       "      <td>835</td>\n",
       "      <td>85040</td>\n",
       "      <td>AZ</td>\n",
       "      <td>28560.0</td>\n",
       "      <td>0</td>\n",
       "      <td>1121</td>\n",
       "      <td>GS450H</td>\n",
       "      <td>4D</td>\n",
       "      <td>SEDAN</td>\n",
       "    </tr>\n",
       "    <tr>\n",
       "      <td>38767</td>\n",
       "      <td>15318</td>\n",
       "      <td>1</td>\n",
       "      <td>2010-05-26</td>\n",
       "      <td>MANHEIM</td>\n",
       "      <td>2008</td>\n",
       "      <td>2</td>\n",
       "      <td>LEXUS</td>\n",
       "      <td>NaN</td>\n",
       "      <td>NaN</td>\n",
       "      <td>AUTO</td>\n",
       "      <td>...</td>\n",
       "      <td>41062.0</td>\n",
       "      <td>835</td>\n",
       "      <td>94544</td>\n",
       "      <td>CA</td>\n",
       "      <td>36485.0</td>\n",
       "      <td>0</td>\n",
       "      <td>1001</td>\n",
       "      <td>RX400H</td>\n",
       "      <td>4D</td>\n",
       "      <td>UTILITY SPORT</td>\n",
       "    </tr>\n",
       "  </tbody>\n",
       "</table>\n",
       "<p>3 rows × 31 columns</p>\n",
       "</div>"
      ],
      "text/plain": [
       "       RefId  IsBadBuy   PurchDate  Auction  VehYear  VehicleAge   Make  \\\n",
       "6380   69256         1  2009-04-12    ADESA     2007           2  LEXUS   \n",
       "23109   6038         1  2010-11-23  MANHEIM     2007           3  LEXUS   \n",
       "38767  15318         1  2010-05-26  MANHEIM     2008           2  LEXUS   \n",
       "\n",
       "      Engine Trim Transmission  ...  MMRCurrentRetailCleanPrice  BYRNO VNZIP1  \\\n",
       "6380     NaN  NaN         AUTO  ...                     35366.0  16926  91752   \n",
       "23109    NaN  NaN         AUTO  ...                     33337.0    835  85040   \n",
       "38767    NaN  NaN         AUTO  ...                     41062.0    835  94544   \n",
       "\n",
       "      VNST  VehBCost  IsOnlineSale  WarrantyCost   Model  Doors       SubModel  \n",
       "6380    CA   29795.0             0          1001  RX400H     4D  UTILITY SPORT  \n",
       "23109   AZ   28560.0             0          1121  GS450H     4D          SEDAN  \n",
       "38767   CA   36485.0             0          1001  RX400H     4D  UTILITY SPORT  \n",
       "\n",
       "[3 rows x 31 columns]"
      ]
     },
     "execution_count": 380,
     "metadata": {},
     "output_type": "execute_result"
    }
   ],
   "source": [
    "wout = df.loc[df['Make']=='LEXUS']\n",
    "\n",
    "wout.loc[df['VehBCost']>20000]\n",
    "\n",
    "\n"
   ]
  },
  {
   "cell_type": "code",
   "execution_count": 381,
   "metadata": {},
   "outputs": [
    {
     "data": {
      "text/plain": [
       "7"
      ]
     },
     "execution_count": 381,
     "metadata": {},
     "output_type": "execute_result"
    }
   ],
   "source": [
    "df.loc[df[\"VehBCost\"]<2000][\"VehBCost\"].count()"
   ]
  },
  {
   "cell_type": "code",
   "execution_count": 382,
   "metadata": {},
   "outputs": [
    {
     "data": {
      "text/plain": [
       "40998      1.0\n",
       "53937    225.0\n",
       "Name: VehBCost, dtype: float64"
      ]
     },
     "execution_count": 382,
     "metadata": {},
     "output_type": "execute_result"
    }
   ],
   "source": [
    "df.loc[df[\"VehBCost\"]<1000][\"VehBCost\"]"
   ]
  },
  {
   "cell_type": "code",
   "execution_count": 383,
   "metadata": {},
   "outputs": [
    {
     "data": {
      "text/plain": [
       "40998    102641\n",
       "53937      4825\n",
       "Name: VehOdo, dtype: int64"
      ]
     },
     "execution_count": 383,
     "metadata": {},
     "output_type": "execute_result"
    }
   ],
   "source": [
    "df.loc[df[\"VehBCost\"]<1000][\"VehOdo\"]"
   ]
  },
  {
   "cell_type": "code",
   "execution_count": 384,
   "metadata": {},
   "outputs": [
    {
     "data": {
      "text/plain": [
       "40998    1\n",
       "53937    1\n",
       "Name: IsBadBuy, dtype: int64"
      ]
     },
     "execution_count": 384,
     "metadata": {},
     "output_type": "execute_result"
    }
   ],
   "source": [
    "df.loc[df[\"VehBCost\"]<1000][\"IsBadBuy\"]"
   ]
  },
  {
   "cell_type": "code",
   "execution_count": 385,
   "metadata": {},
   "outputs": [
    {
     "data": {
      "text/plain": [
       "40998    2001\n",
       "53937    2007\n",
       "Name: VehYear, dtype: int64"
      ]
     },
     "execution_count": 385,
     "metadata": {},
     "output_type": "execute_result"
    }
   ],
   "source": [
    "df.loc[df[\"VehBCost\"]<1000][\"VehYear\"]"
   ]
  },
  {
   "cell_type": "code",
   "execution_count": 386,
   "metadata": {},
   "outputs": [
    {
     "data": {
      "text/plain": [
       "40998    2411.0\n",
       "53937    5498.0\n",
       "Name: MMRAcquisitionAuctionAveragePrice, dtype: float64"
      ]
     },
     "execution_count": 386,
     "metadata": {},
     "output_type": "execute_result"
    }
   ],
   "source": [
    "df.loc[df[\"VehBCost\"]<1000][\"MMRAcquisitionAuctionAveragePrice\"]"
   ]
  },
  {
   "cell_type": "code",
   "execution_count": 387,
   "metadata": {},
   "outputs": [],
   "source": [
    "#Sostituzione dei valori nulli del submodel utilizzando la moda raggruppata per modello e anno\n",
    "df['SubModel'] = df['SubModel'].groupby([df['Model'], df['VehYear']]).fillna(df['SubModel'].mode()[0])"
   ]
  },
  {
   "cell_type": "code",
   "execution_count": 388,
   "metadata": {},
   "outputs": [
    {
     "data": {
      "text/plain": [
       "0"
      ]
     },
     "execution_count": 388,
     "metadata": {},
     "output_type": "execute_result"
    }
   ],
   "source": [
    "df['SubModel'].isnull().sum()"
   ]
  },
  {
   "cell_type": "code",
   "execution_count": 389,
   "metadata": {},
   "outputs": [
    {
     "data": {
      "text/plain": [
       "<matplotlib.axes._subplots.AxesSubplot at 0x1e957a8f408>"
      ]
     },
     "execution_count": 389,
     "metadata": {},
     "output_type": "execute_result"
    },
    {
     "data": {
      "image/png": "[encoded data removed]",
      "text/plain": [
       "<Figure size 432x288 with 1 Axes>"
      ]
     },
     "metadata": {
      "needs_background": "light"
     },
     "output_type": "display_data"
    }
   ],
   "source": [
    "df[\"Trim\"].value_counts().plot(kind=\"bar\")"
   ]
  },
  {
   "cell_type": "code",
   "execution_count": 390,
   "metadata": {},
   "outputs": [],
   "source": [
    "#Sostituzione dei valori nulli del trim utilizzando la moda raggruppata per modello sottomodello e anno\n",
    "df['Trim'] = df['Trim'].groupby([df['Model'], df['SubModel'], df['VehYear']]).fillna(df['Trim'].mode()[0])"
   ]
  },
  {
   "cell_type": "code",
   "execution_count": 391,
   "metadata": {
    "scrolled": true
   },
   "outputs": [
    {
     "data": {
      "text/plain": [
       "<matplotlib.axes._subplots.AxesSubplot at 0x1e957c6fb08>"
      ]
     },
     "execution_count": 391,
     "metadata": {},
     "output_type": "execute_result"
    },
    {
     "data": {
      "image/png": "[encoded data removed]",
      "text/plain": [
       "<Figure size 432x288 with 1 Axes>"
      ]
     },
     "metadata": {
      "needs_background": "light"
     },
     "output_type": "display_data"
    }
   ],
   "source": [
    "#problema aumenta di molto il numero di modelli bas\n",
    "df[\"Trim\"].value_counts().plot(kind=\"bar\")"
   ]
  },
  {
   "cell_type": "code",
   "execution_count": 392,
   "metadata": {},
   "outputs": [
    {
     "data": {
      "text/plain": [
       "0"
      ]
     },
     "execution_count": 392,
     "metadata": {},
     "output_type": "execute_result"
    }
   ],
   "source": [
    "df[\"Trim\"].isnull().sum()"
   ]
  },
  {
   "cell_type": "code",
   "execution_count": 393,
   "metadata": {},
   "outputs": [],
   "source": [
    "#Sostituzione dei valori nulli della trasmissione utilizzando la moda raggruppata per modello sottomodello e anno\n",
    "df['Transmission'] = df['Transmission'].groupby([df['Model'], df['SubModel'], df['VehYear']]).fillna(df['Transmission'].mode()[0])"
   ]
  },
  {
   "cell_type": "code",
   "execution_count": 394,
   "metadata": {},
   "outputs": [
    {
     "data": {
      "text/plain": [
       "0"
      ]
     },
     "execution_count": 394,
     "metadata": {},
     "output_type": "execute_result"
    }
   ],
   "source": [
    "df[\"Transmission\"].isnull().sum()"
   ]
  },
  {
   "cell_type": "code",
   "execution_count": 395,
   "metadata": {},
   "outputs": [],
   "source": [
    "#Sostituzione dei valori nulli della trasmissione utilizzando la moda raggruppata per modello sottomodello e Trim\n",
    "df['WheelTypeID'] = df['WheelTypeID'].groupby([df['Model'], df['SubModel'], df['Trim']]).fillna(df['WheelTypeID'].mode()[0])"
   ]
  },
  {
   "cell_type": "code",
   "execution_count": 396,
   "metadata": {},
   "outputs": [
    {
     "data": {
      "text/plain": [
       "0"
      ]
     },
     "execution_count": 396,
     "metadata": {},
     "output_type": "execute_result"
    }
   ],
   "source": [
    "df['WheelTypeID'].isnull().sum()"
   ]
  },
  {
   "cell_type": "code",
   "execution_count": 397,
   "metadata": {},
   "outputs": [],
   "source": [
    "df['Nationality'] = df['Nationality'].groupby([df['Make']]).fillna(df['Nationality'].mode()[0])"
   ]
  },
  {
   "cell_type": "code",
   "execution_count": 398,
   "metadata": {},
   "outputs": [
    {
     "data": {
      "text/plain": [
       "0"
      ]
     },
     "execution_count": 398,
     "metadata": {},
     "output_type": "execute_result"
    }
   ],
   "source": [
    "df['Nationality'].isnull().sum()"
   ]
  },
  {
   "cell_type": "code",
   "execution_count": 399,
   "metadata": {},
   "outputs": [],
   "source": [
    "df['Size'] = df['Size'].groupby([df['Model'], df['SubModel'], df['VehYear']]).fillna(df['Size'].mode()[0])"
   ]
  },
  {
   "cell_type": "code",
   "execution_count": 400,
   "metadata": {},
   "outputs": [
    {
     "data": {
      "text/plain": [
       "0"
      ]
     },
     "execution_count": 400,
     "metadata": {},
     "output_type": "execute_result"
    }
   ],
   "source": [
    "df['Size'].isnull().sum()"
   ]
  },
  {
   "cell_type": "code",
   "execution_count": 401,
   "metadata": {},
   "outputs": [],
   "source": [
    "#attributo eliminato\n",
    "#df['TopThreeAmericanName'] = df['TopThreeAmericanName'].groupby([df['Make']]).fillna(df['TopThreeAmericanName'].mode()[0])"
   ]
  },
  {
   "cell_type": "code",
   "execution_count": 402,
   "metadata": {},
   "outputs": [],
   "source": [
    "#df['TopThreeAmericanName'].isnull().sum()"
   ]
  },
  {
   "cell_type": "code",
   "execution_count": 403,
   "metadata": {},
   "outputs": [],
   "source": [
    "def fun_temp(x):\n",
    "    return x.fillna(x.mean())"
   ]
  },
  {
   "cell_type": "code",
   "execution_count": 404,
   "metadata": {},
   "outputs": [],
   "source": [
    "df['MMRAcquisitionAuctionAveragePrice'].replace(0, np.nan, inplace=True)"
   ]
  },
  {
   "cell_type": "code",
   "execution_count": 405,
   "metadata": {},
   "outputs": [
    {
     "data": {
      "text/plain": [
       "661"
      ]
     },
     "execution_count": 405,
     "metadata": {},
     "output_type": "execute_result"
    }
   ],
   "source": [
    "df['MMRAcquisitionAuctionAveragePrice'].isnull().sum()"
   ]
  },
  {
   "cell_type": "code",
   "execution_count": null,
   "metadata": {},
   "outputs": [],
   "source": []
  },
  {
   "cell_type": "code",
   "execution_count": null,
   "metadata": {},
   "outputs": [],
   "source": []
  },
  {
   "cell_type": "code",
   "execution_count": 406,
   "metadata": {},
   "outputs": [],
   "source": [
    "binsN=math.ceil(math.log(df.shape[0],2))+1"
   ]
  },
  {
   "cell_type": "code",
   "execution_count": 407,
   "metadata": {},
   "outputs": [
    {
     "data": {
      "image/png": "[encoded data removed]",
      "text/plain": [
       "<Figure size 432x288 with 1 Axes>"
      ]
     },
     "metadata": {
      "needs_background": "light"
     },
     "output_type": "display_data"
    }
   ],
   "source": [
    "df['MMRAcquisitionAuctionAveragePrice'].hist(bins=binsN)\n",
    "plt.show()"
   ]
  },
  {
   "cell_type": "code",
   "execution_count": 408,
   "metadata": {},
   "outputs": [
    {
     "data": {
      "text/plain": [
       "Model     SubModel  VehYear\n",
       "1500 RAM  EXT CAB   2001        2900.000000\n",
       "          MEGA CAB  2006       12973.666667\n",
       "          QUAD CAB  2002        5462.893617\n",
       "                    2003        6755.850000\n",
       "                    2004        6937.096618\n",
       "                                   ...     \n",
       "YUKON XL  UTILITY   2002        6193.400000\n",
       "                    2003        7478.619048\n",
       "                    2004        9174.166667\n",
       "                    2005        8601.000000\n",
       "ZEPHYR    SEDAN     2006       12168.666667\n",
       "Name: MMRAcquisitionAuctionAveragePrice, Length: 1388, dtype: float64"
      ]
     },
     "execution_count": 408,
     "metadata": {},
     "output_type": "execute_result"
    }
   ],
   "source": [
    "(df['MMRAcquisitionAuctionAveragePrice'].groupby([df['Model'], df['SubModel'], df['VehYear']])).mean()"
   ]
  },
  {
   "cell_type": "code",
   "execution_count": 409,
   "metadata": {},
   "outputs": [],
   "source": [
    "df['MMRAcquisitionAuctionAveragePrice'] = df['MMRAcquisitionAuctionAveragePrice'].groupby([df['Model'], df['SubModel'], df['VehYear']]).apply(fun_temp)"
   ]
  },
  {
   "cell_type": "code",
   "execution_count": 410,
   "metadata": {},
   "outputs": [
    {
     "data": {
      "text/plain": [
       "16"
      ]
     },
     "execution_count": 410,
     "metadata": {},
     "output_type": "execute_result"
    }
   ],
   "source": [
    "df['MMRAcquisitionAuctionAveragePrice'].isnull().sum()"
   ]
  },
  {
   "cell_type": "code",
   "execution_count": 411,
   "metadata": {},
   "outputs": [],
   "source": [
    "dig = df[df['MMRAcquisitionAuctionAveragePrice'].isnull()]   "
   ]
  },
  {
   "cell_type": "code",
   "execution_count": 412,
   "metadata": {},
   "outputs": [
    {
     "data": {
      "text/plain": [
       "13"
      ]
     },
     "execution_count": 412,
     "metadata": {},
     "output_type": "execute_result"
    }
   ],
   "source": [
    "(dig['MMRAcquisitionAuctionAveragePrice'].groupby([dig['Model'], dig['SubModel']])).mean().isnull().sum()"
   ]
  },
  {
   "cell_type": "code",
   "execution_count": 413,
   "metadata": {},
   "outputs": [
    {
     "data": {
      "image/png": "[encoded data removed]",
      "text/plain": [
       "<Figure size 432x288 with 1 Axes>"
      ]
     },
     "metadata": {
      "needs_background": "light"
     },
     "output_type": "display_data"
    }
   ],
   "source": [
    "df['MMRAcquisitionAuctionAveragePrice'].hist(bins=binsN)\n",
    "plt.show()"
   ]
  },
  {
   "cell_type": "code",
   "execution_count": 414,
   "metadata": {},
   "outputs": [
    {
     "data": {
      "image/png": "[encoded data removed]",
      "text/plain": [
       "<Figure size 432x288 with 1 Axes>"
      ]
     },
     "metadata": {
      "needs_background": "light"
     },
     "output_type": "display_data"
    }
   ],
   "source": [
    "boxplot = df.boxplot(column=['MMRAcquisitionAuctionAveragePrice'])"
   ]
  },
  {
   "cell_type": "code",
   "execution_count": 415,
   "metadata": {},
   "outputs": [
    {
     "data": {
      "text/plain": [
       "2"
      ]
     },
     "execution_count": 415,
     "metadata": {},
     "output_type": "execute_result"
    }
   ],
   "source": [
    "df.loc[df[\"MMRAcquisitionAuctionAveragePrice\"]<1000][\"MMRAcquisitionAuctionAveragePrice\"].count()"
   ]
  },
  {
   "cell_type": "code",
   "execution_count": 416,
   "metadata": {},
   "outputs": [
    {
     "data": {
      "text/plain": [
       "31127    966.0\n",
       "35923    884.0\n",
       "Name: MMRAcquisitionAuctionAveragePrice, dtype: float64"
      ]
     },
     "execution_count": 416,
     "metadata": {},
     "output_type": "execute_result"
    }
   ],
   "source": [
    "df.loc[df[\"MMRAcquisitionAuctionAveragePrice\"]<1000][\"MMRAcquisitionAuctionAveragePrice\"]"
   ]
  },
  {
   "cell_type": "code",
   "execution_count": 417,
   "metadata": {},
   "outputs": [
    {
     "data": {
      "text/plain": [
       "15"
      ]
     },
     "execution_count": 417,
     "metadata": {},
     "output_type": "execute_result"
    }
   ],
   "source": [
    "#Sono tutte macchine casuali di qualsiasi modello, miglia fatte vedere l'output\n",
    "df.loc[df[\"MMRAcquisitionAuctionAveragePrice\"]>20000][\"MMRAcquisitionAuctionAveragePrice\"].count()"
   ]
  },
  {
   "cell_type": "code",
   "execution_count": 418,
   "metadata": {},
   "outputs": [
    {
     "data": {
      "text/plain": [
       "5691     42686\n",
       "6380     30945\n",
       "6733     61001\n",
       "11498    44163\n",
       "12564    17502\n",
       "13225     9446\n",
       "15491    32556\n",
       "23109    26113\n",
       "28508    72041\n",
       "32128    24878\n",
       "36887    47227\n",
       "38767    13924\n",
       "42283    61587\n",
       "53782    34534\n",
       "54862    24125\n",
       "Name: VehOdo, dtype: int64"
      ]
     },
     "execution_count": 418,
     "metadata": {},
     "output_type": "execute_result"
    }
   ],
   "source": [
    "#controllo miglia fatte veicoli ccon MMR alto\n",
    "df.loc[df[\"MMRAcquisitionAuctionAveragePrice\"]>20000][\"VehOdo\"]"
   ]
  },
  {
   "cell_type": "code",
   "execution_count": 419,
   "metadata": {},
   "outputs": [
    {
     "data": {
      "text/plain": [
       "5691     13070.02\n",
       "6380     29795.00\n",
       "6733     20100.00\n",
       "11498    11727.64\n",
       "12564    35900.00\n",
       "13225    32300.00\n",
       "15491    28180.00\n",
       "23109    28560.00\n",
       "28508    11500.00\n",
       "32128    15299.88\n",
       "36887    13509.79\n",
       "38767    36485.00\n",
       "42283    12812.00\n",
       "53782    23272.02\n",
       "54862    11527.00\n",
       "Name: VehBCost, dtype: float64"
      ]
     },
     "execution_count": 419,
     "metadata": {},
     "output_type": "execute_result"
    }
   ],
   "source": [
    "#Molte hanno un prezzo elevato\n",
    "df.loc[df[\"MMRAcquisitionAuctionAveragePrice\"]>20000][\"VehBCost\"]"
   ]
  },
  {
   "cell_type": "code",
   "execution_count": 420,
   "metadata": {},
   "outputs": [
    {
     "data": {
      "text/plain": [
       "5691     1\n",
       "6380     1\n",
       "6733     1\n",
       "11498    1\n",
       "12564    1\n",
       "13225    1\n",
       "15491    1\n",
       "23109    1\n",
       "28508    0\n",
       "32128    1\n",
       "36887    1\n",
       "38767    1\n",
       "42283    1\n",
       "53782    1\n",
       "54862    1\n",
       "Name: IsBadBuy, dtype: int64"
      ]
     },
     "execution_count": 420,
     "metadata": {},
     "output_type": "execute_result"
    }
   ],
   "source": [
    "#Tutte BadBuy tranne una\n",
    "df.loc[df[\"MMRAcquisitionAuctionAveragePrice\"]>20000][\"IsBadBuy\"]"
   ]
  },
  {
   "cell_type": "code",
   "execution_count": 421,
   "metadata": {},
   "outputs": [
    {
     "data": {
      "text/plain": [
       "5691     19241.0\n",
       "6380     27543.0\n",
       "6733     21940.0\n",
       "11498    18416.0\n",
       "12564    35722.0\n",
       "13225    27795.0\n",
       "15491    28099.0\n",
       "23109    23400.0\n",
       "28508    21837.0\n",
       "32128    19359.0\n",
       "36887    20129.0\n",
       "38767    31127.0\n",
       "42283    19871.0\n",
       "53782    23015.0\n",
       "54862    18546.0\n",
       "Name: MMRCurrentAuctionAveragePrice, dtype: float64"
      ]
     },
     "execution_count": 421,
     "metadata": {},
     "output_type": "execute_result"
    }
   ],
   "source": [
    "df.loc[df[\"MMRAcquisitionAuctionAveragePrice\"]>20000][\"MMRCurrentAuctionAveragePrice\"]"
   ]
  },
  {
   "cell_type": "code",
   "execution_count": 422,
   "metadata": {},
   "outputs": [
    {
     "data": {
      "text/plain": [
       "6380     28077.0\n",
       "6733     23031.0\n",
       "12564    35722.0\n",
       "13225    27680.0\n",
       "15491    28354.0\n",
       "23109    23581.0\n",
       "28508    20238.0\n",
       "36887    21599.0\n",
       "38767    32063.0\n",
       "53207    19546.0\n",
       "53782    25033.0\n",
       "Name: MMRAcquisitionAuctionAveragePrice, dtype: float64"
      ]
     },
     "execution_count": 422,
     "metadata": {},
     "output_type": "execute_result"
    }
   ],
   "source": [
    "df.loc[df[\"MMRCurrentAuctionAveragePrice\"]>20000][\"MMRAcquisitionAuctionAveragePrice\"]"
   ]
  },
  {
   "cell_type": "code",
   "execution_count": 423,
   "metadata": {},
   "outputs": [
    {
     "data": {
      "text/plain": [
       "5691     24797.0\n",
       "6380     33872.0\n",
       "6733     27295.0\n",
       "11498    23840.0\n",
       "12564    39080.0\n",
       "13225    31599.0\n",
       "15491    30196.0\n",
       "23109    29269.0\n",
       "28508    22357.0\n",
       "32128    22786.0\n",
       "36887    26351.0\n",
       "38767    37885.0\n",
       "42283    26643.0\n",
       "53782    30048.0\n",
       "54862    24120.0\n",
       "Name: MMRAcquisitionRetailAveragePrice, dtype: float64"
      ]
     },
     "execution_count": 423,
     "metadata": {},
     "output_type": "execute_result"
    }
   ],
   "source": [
    "df.loc[df[\"MMRAcquisitionAuctionAveragePrice\"]>20000][\"MMRAcquisitionRetailAveragePrice\"]"
   ]
  },
  {
   "cell_type": "code",
   "execution_count": 424,
   "metadata": {},
   "outputs": [
    {
     "data": {
      "text/plain": [
       "5691     20156.0\n",
       "6380     28077.0\n",
       "6733     23031.0\n",
       "7380     18900.0\n",
       "11498    21611.0\n",
       "12564    35722.0\n",
       "13225    27680.0\n",
       "15491    28354.0\n",
       "23109    23581.0\n",
       "24014    19281.0\n",
       "24068    16667.0\n",
       "32128    20635.0\n",
       "36887    21599.0\n",
       "38767    32063.0\n",
       "42283    20797.0\n",
       "45761    18171.0\n",
       "50845    17494.0\n",
       "53207    19546.0\n",
       "53782    25033.0\n",
       "54862    21870.0\n",
       "56605    18970.0\n",
       "Name: MMRAcquisitionAuctionAveragePrice, dtype: float64"
      ]
     },
     "execution_count": 424,
     "metadata": {},
     "output_type": "execute_result"
    }
   ],
   "source": [
    "df.loc[df[\"MMRAcquisitionRetailAveragePrice\"]>22373][\"MMRAcquisitionAuctionAveragePrice\"]"
   ]
  },
  {
   "cell_type": "code",
   "execution_count": 425,
   "metadata": {},
   "outputs": [
    {
     "data": {
      "text/plain": [
       "5691     23951.0\n",
       "6380     32928.0\n",
       "6733     27269.0\n",
       "11498    23327.0\n",
       "12564    39080.0\n",
       "13225    31128.0\n",
       "15491    29921.0\n",
       "23109    29752.0\n",
       "28508    24084.0\n",
       "32128    24501.0\n",
       "36887    24223.0\n",
       "38767    38151.0\n",
       "42283    24150.0\n",
       "53782    28050.0\n",
       "54862    22581.0\n",
       "Name: MMRCurrentRetailAveragePrice, dtype: float64"
      ]
     },
     "execution_count": 425,
     "metadata": {},
     "output_type": "execute_result"
    }
   ],
   "source": [
    "df.loc[df[\"MMRAcquisitionAuctionAveragePrice\"]>20000][\"MMRCurrentRetailAveragePrice\"]"
   ]
  },
  {
   "cell_type": "code",
   "execution_count": 426,
   "metadata": {},
   "outputs": [
    {
     "data": {
      "text/plain": [
       "5691     20156.0\n",
       "6380     28077.0\n",
       "6733     23031.0\n",
       "11498    21611.0\n",
       "12564    35722.0\n",
       "13225    27680.0\n",
       "13787    19810.0\n",
       "15491    28354.0\n",
       "23109    23581.0\n",
       "24014    19281.0\n",
       "28508    20238.0\n",
       "32128    20635.0\n",
       "36887    21599.0\n",
       "37458    17570.0\n",
       "38767    32063.0\n",
       "42283    20797.0\n",
       "45045    18075.0\n",
       "45761    18171.0\n",
       "50845    17494.0\n",
       "53207    19546.0\n",
       "53782    25033.0\n",
       "56605    18970.0\n",
       "Name: MMRAcquisitionAuctionAveragePrice, dtype: float64"
      ]
     },
     "execution_count": 426,
     "metadata": {},
     "output_type": "execute_result"
    }
   ],
   "source": [
    "df.loc[df[\"MMRCurrentRetailAveragePrice\"]>22581][\"MMRAcquisitionAuctionAveragePrice\"]"
   ]
  },
  {
   "cell_type": "code",
   "execution_count": 427,
   "metadata": {},
   "outputs": [
    {
     "data": {
      "text/plain": [
       "5691     2006\n",
       "6380     2007\n",
       "6733     2007\n",
       "11498    2006\n",
       "12564    2008\n",
       "13225    2009\n",
       "15491    2008\n",
       "23109    2007\n",
       "28508    2007\n",
       "32128    2008\n",
       "36887    2006\n",
       "38767    2008\n",
       "42283    2007\n",
       "53782    2007\n",
       "54862    2007\n",
       "Name: VehYear, dtype: int64"
      ]
     },
     "execution_count": 427,
     "metadata": {},
     "output_type": "execute_result"
    }
   ],
   "source": [
    "#veicoli nuovi\n",
    "df.loc[df[\"MMRAcquisitionAuctionAveragePrice\"]>20000][\"VehYear\"]"
   ]
  },
  {
   "cell_type": "code",
   "execution_count": 428,
   "metadata": {},
   "outputs": [
    {
     "data": {
      "text/plain": [
       "5691     MANHEIM\n",
       "6380       ADESA\n",
       "6733     MANHEIM\n",
       "11498    MANHEIM\n",
       "12564    MANHEIM\n",
       "13225    MANHEIM\n",
       "15491    MANHEIM\n",
       "23109    MANHEIM\n",
       "28508    MANHEIM\n",
       "32128      OTHER\n",
       "36887    MANHEIM\n",
       "38767    MANHEIM\n",
       "42283    MANHEIM\n",
       "53782      ADESA\n",
       "54862      ADESA\n",
       "Name: Auction, dtype: object"
      ]
     },
     "execution_count": 428,
     "metadata": {},
     "output_type": "execute_result"
    }
   ],
   "source": [
    "df.loc[df[\"MMRAcquisitionAuctionAveragePrice\"]>20000][\"Auction\"]"
   ]
  },
  {
   "cell_type": "code",
   "execution_count": 429,
   "metadata": {},
   "outputs": [
    {
     "data": {
      "text/plain": [
       "5691     NOT AMERICA\n",
       "6380     NOT AMERICA\n",
       "6733     NOT AMERICA\n",
       "11498    NOT AMERICA\n",
       "12564    NOT AMERICA\n",
       "13225       AMERICAN\n",
       "15491    NOT AMERICA\n",
       "23109    NOT AMERICA\n",
       "28508    NOT AMERICA\n",
       "32128    NOT AMERICA\n",
       "36887    NOT AMERICA\n",
       "38767    NOT AMERICA\n",
       "42283       AMERICAN\n",
       "53782    NOT AMERICA\n",
       "54862    NOT AMERICA\n",
       "Name: Nationality, dtype: object"
      ]
     },
     "execution_count": 429,
     "metadata": {},
     "output_type": "execute_result"
    }
   ],
   "source": [
    "#Asiatiche\n",
    "df.loc[df[\"MMRAcquisitionAuctionAveragePrice\"]>20000][\"Nationality\"]"
   ]
  },
  {
   "cell_type": "code",
   "execution_count": 430,
   "metadata": {},
   "outputs": [
    {
     "data": {
      "text/plain": [
       "5691      764\n",
       "6380     1001\n",
       "6733     1020\n",
       "11498     764\n",
       "12564     702\n",
       "13225     941\n",
       "15491    1694\n",
       "23109    1121\n",
       "28508    2091\n",
       "32128     522\n",
       "36887    1187\n",
       "38767    1001\n",
       "42283    1313\n",
       "53782     522\n",
       "54862     702\n",
       "Name: WarrantyCost, dtype: int64"
      ]
     },
     "execution_count": 430,
     "metadata": {},
     "output_type": "execute_result"
    }
   ],
   "source": [
    "#assicurazione economica\n",
    "df.loc[df[\"MMRAcquisitionAuctionAveragePrice\"]>20000][\"WarrantyCost\"]"
   ]
  },
  {
   "cell_type": "code",
   "execution_count": 431,
   "metadata": {},
   "outputs": [
    {
     "data": {
      "text/plain": [
       "405      1281.0\n",
       "3928     1252.0\n",
       "4643     1180.0\n",
       "5365     1010.0\n",
       "5702     1186.0\n",
       "5996     1249.0\n",
       "16973    1064.0\n",
       "17642    1281.0\n",
       "17738    1205.0\n",
       "18699    1120.0\n",
       "23594    1286.0\n",
       "28341    1027.0\n",
       "29359    1239.0\n",
       "30530    1272.0\n",
       "31127     966.0\n",
       "31531    1249.0\n",
       "33607    1175.0\n",
       "35833    1178.0\n",
       "35923     884.0\n",
       "50911    1146.0\n",
       "56756    1262.0\n",
       "56803    1004.0\n",
       "58310    1097.0\n",
       "58385    1252.0\n",
       "Name: MMRAcquisitionAuctionAveragePrice, dtype: float64"
      ]
     },
     "execution_count": 431,
     "metadata": {},
     "output_type": "execute_result"
    }
   ],
   "source": [
    "df.loc[df[\"MMRAcquisitionAuctionAveragePrice\"]<1300][\"MMRAcquisitionAuctionAveragePrice\"]"
   ]
  },
  {
   "cell_type": "code",
   "execution_count": 432,
   "metadata": {},
   "outputs": [],
   "source": [
    "df['MMRAcquisitionAuctionCleanPrice'].replace(0, np.nan, inplace=True)"
   ]
  },
  {
   "cell_type": "code",
   "execution_count": 433,
   "metadata": {},
   "outputs": [
    {
     "data": {
      "text/plain": [
       "565"
      ]
     },
     "execution_count": 433,
     "metadata": {},
     "output_type": "execute_result"
    }
   ],
   "source": [
    "df['MMRAcquisitionAuctionCleanPrice'].isnull().sum()"
   ]
  },
  {
   "cell_type": "code",
   "execution_count": 434,
   "metadata": {},
   "outputs": [
    {
     "data": {
      "image/png": "[encoded data removed]",
      "text/plain": [
       "<Figure size 432x288 with 1 Axes>"
      ]
     },
     "metadata": {
      "needs_background": "light"
     },
     "output_type": "display_data"
    }
   ],
   "source": [
    "df['MMRAcquisitionAuctionCleanPrice'].hist(bins=binsN)\n",
    "plt.show()"
   ]
  },
  {
   "cell_type": "code",
   "execution_count": 435,
   "metadata": {},
   "outputs": [
    {
     "data": {
      "image/png": "[encoded data removed]",
      "text/plain": [
       "<Figure size 432x288 with 1 Axes>"
      ]
     },
     "metadata": {
      "needs_background": "light"
     },
     "output_type": "display_data"
    }
   ],
   "source": [
    "df[df['SubModel'] == 'SEDAN']['MMRAcquisitionAuctionCleanPrice'].hist(bins=binsN)\n",
    "plt.show()"
   ]
  },
  {
   "cell_type": "code",
   "execution_count": 436,
   "metadata": {},
   "outputs": [],
   "source": [
    "df['MMRAcquisitionAuctionCleanPrice'] = df['MMRAcquisitionAuctionCleanPrice'].groupby([df['Model'], df['SubModel'], df['VehYear']]).apply(fun_temp)"
   ]
  },
  {
   "cell_type": "code",
   "execution_count": 437,
   "metadata": {},
   "outputs": [
    {
     "data": {
      "image/png": "[encoded data removed]",
      "text/plain": [
       "<Figure size 432x288 with 1 Axes>"
      ]
     },
     "metadata": {
      "needs_background": "light"
     },
     "output_type": "display_data"
    }
   ],
   "source": [
    "df['MMRAcquisitionAuctionCleanPrice'].hist(bins=binsN)\n",
    "plt.show()"
   ]
  },
  {
   "cell_type": "code",
   "execution_count": 438,
   "metadata": {},
   "outputs": [
    {
     "data": {
      "text/plain": [
       "14"
      ]
     },
     "execution_count": 438,
     "metadata": {},
     "output_type": "execute_result"
    }
   ],
   "source": [
    "df['MMRAcquisitionAuctionCleanPrice'].isnull().sum()"
   ]
  },
  {
   "cell_type": "code",
   "execution_count": 439,
   "metadata": {},
   "outputs": [
    {
     "data": {
      "image/png": "[encoded data removed]",
      "text/plain": [
       "<Figure size 432x288 with 1 Axes>"
      ]
     },
     "metadata": {
      "needs_background": "light"
     },
     "output_type": "display_data"
    }
   ],
   "source": [
    "df[df['SubModel'] == 'SEDAN']['MMRAcquisitionAuctionCleanPrice'].hist(bins=binsN)\n",
    "plt.show()"
   ]
  },
  {
   "cell_type": "code",
   "execution_count": 440,
   "metadata": {},
   "outputs": [
    {
     "data": {
      "image/png": "[encoded data removed]",
      "text/plain": [
       "<Figure size 432x288 with 1 Axes>"
      ]
     },
     "metadata": {
      "needs_background": "light"
     },
     "output_type": "display_data"
    }
   ],
   "source": [
    "boxplot = df.boxplot(column=['MMRAcquisitionAuctionCleanPrice'])"
   ]
  },
  {
   "cell_type": "code",
   "execution_count": 441,
   "metadata": {},
   "outputs": [
    {
     "data": {
      "text/plain": [
       "96"
      ]
     },
     "execution_count": 441,
     "metadata": {},
     "output_type": "execute_result"
    }
   ],
   "source": [
    "df.loc[df[\"MMRAcquisitionAuctionCleanPrice\"]<2][\"MMRAcquisitionAuctionCleanPrice\"].count()"
   ]
  },
  {
   "cell_type": "code",
   "execution_count": 442,
   "metadata": {},
   "outputs": [],
   "source": [
    "controllo = df.loc[df[\"MMRAcquisitionAuctionCleanPrice\"]<2]"
   ]
  },
  {
   "cell_type": "code",
   "execution_count": 443,
   "metadata": {},
   "outputs": [
    {
     "data": {
      "text/plain": [
       "924      1.0\n",
       "1347     1.0\n",
       "1778     1.0\n",
       "3483     1.0\n",
       "4552     1.0\n",
       "        ... \n",
       "57688    1.0\n",
       "57729    1.0\n",
       "58061    1.0\n",
       "58093    1.0\n",
       "58105    1.0\n",
       "Name: MMRAcquisitionAuctionCleanPrice, Length: 96, dtype: float64"
      ]
     },
     "execution_count": 443,
     "metadata": {},
     "output_type": "execute_result"
    }
   ],
   "source": [
    "df.loc[df[\"MMRAcquisitionAuctionCleanPrice\"]<2][\"MMRAcquisitionAuctionCleanPrice\"]"
   ]
  },
  {
   "cell_type": "code",
   "execution_count": 444,
   "metadata": {},
   "outputs": [
    {
     "data": {
      "text/plain": [
       "393"
      ]
     },
     "execution_count": 444,
     "metadata": {},
     "output_type": "execute_result"
    }
   ],
   "source": [
    "df.loc[df[\"MMRCurrentAuctionCleanPrice\"]<2][\"MMRCurrentAuctionCleanPrice\"].count()"
   ]
  },
  {
   "cell_type": "code",
   "execution_count": 445,
   "metadata": {},
   "outputs": [
    {
     "data": {
      "text/plain": [
       "233      0.0\n",
       "458      0.0\n",
       "777      0.0\n",
       "835      0.0\n",
       "924      1.0\n",
       "        ... \n",
       "58093    1.0\n",
       "58105    1.0\n",
       "58186    0.0\n",
       "58261    0.0\n",
       "58307    0.0\n",
       "Name: MMRCurrentAuctionCleanPrice, Length: 393, dtype: float64"
      ]
     },
     "execution_count": 445,
     "metadata": {},
     "output_type": "execute_result"
    }
   ],
   "source": [
    "df.loc[df[\"MMRCurrentAuctionCleanPrice\"]<2][\"MMRCurrentAuctionCleanPrice\"]"
   ]
  },
  {
   "cell_type": "code",
   "execution_count": 446,
   "metadata": {},
   "outputs": [
    {
     "data": {
      "text/plain": [
       "86"
      ]
     },
     "execution_count": 446,
     "metadata": {},
     "output_type": "execute_result"
    }
   ],
   "source": [
    "controllo.loc[controllo[\"MMRCurrentAuctionCleanPrice\"]<2][\"MMRCurrentAuctionCleanPrice\"].count()"
   ]
  },
  {
   "cell_type": "code",
   "execution_count": 447,
   "metadata": {},
   "outputs": [],
   "source": [
    "df['MMRAcquisitionAuctionCleanPrice'].replace(1, np.nan, inplace=True)"
   ]
  },
  {
   "cell_type": "code",
   "execution_count": 448,
   "metadata": {},
   "outputs": [
    {
     "data": {
      "text/plain": [
       "110"
      ]
     },
     "execution_count": 448,
     "metadata": {},
     "output_type": "execute_result"
    }
   ],
   "source": [
    "df['MMRAcquisitionAuctionCleanPrice'].isnull().sum()"
   ]
  },
  {
   "cell_type": "code",
   "execution_count": 449,
   "metadata": {},
   "outputs": [],
   "source": [
    "df['MMRAcquisitionAuctionCleanPrice'] = df['MMRAcquisitionAuctionCleanPrice'].groupby([df['Model'], df['SubModel'], df['VehYear']]).apply(fun_temp)"
   ]
  },
  {
   "cell_type": "code",
   "execution_count": 450,
   "metadata": {},
   "outputs": [
    {
     "data": {
      "text/plain": [
       "16"
      ]
     },
     "execution_count": 450,
     "metadata": {},
     "output_type": "execute_result"
    }
   ],
   "source": [
    "df['MMRAcquisitionAuctionCleanPrice'].isnull().sum()"
   ]
  },
  {
   "cell_type": "code",
   "execution_count": 451,
   "metadata": {},
   "outputs": [],
   "source": [
    "df['MMRAcquisitionRetailAveragePrice'].replace(0, np.nan, inplace=True)"
   ]
  },
  {
   "cell_type": "code",
   "execution_count": 452,
   "metadata": {},
   "outputs": [
    {
     "data": {
      "text/plain": [
       "661"
      ]
     },
     "execution_count": 452,
     "metadata": {},
     "output_type": "execute_result"
    }
   ],
   "source": [
    "df['MMRAcquisitionRetailAveragePrice'].isnull().sum()"
   ]
  },
  {
   "cell_type": "code",
   "execution_count": 453,
   "metadata": {},
   "outputs": [
    {
     "data": {
      "image/png": "[encoded data removed]",
      "text/plain": [
       "<Figure size 432x288 with 1 Axes>"
      ]
     },
     "metadata": {
      "needs_background": "light"
     },
     "output_type": "display_data"
    }
   ],
   "source": [
    "df['MMRAcquisitionRetailAveragePrice'].hist(bins=binsN)\n",
    "plt.show()"
   ]
  },
  {
   "cell_type": "code",
   "execution_count": 454,
   "metadata": {},
   "outputs": [],
   "source": [
    "df['MMRAcquisitionRetailAveragePrice'] = df['MMRAcquisitionRetailAveragePrice'].groupby([df['Model'], df['SubModel'], df['VehYear']]).apply(fun_temp)"
   ]
  },
  {
   "cell_type": "code",
   "execution_count": 455,
   "metadata": {},
   "outputs": [
    {
     "data": {
      "image/png": "[encoded data removed]",
      "text/plain": [
       "<Figure size 432x288 with 1 Axes>"
      ]
     },
     "metadata": {
      "needs_background": "light"
     },
     "output_type": "display_data"
    }
   ],
   "source": [
    "df['MMRAcquisitionRetailAveragePrice'].hist(bins=binsN)\n",
    "plt.show()"
   ]
  },
  {
   "cell_type": "code",
   "execution_count": 456,
   "metadata": {},
   "outputs": [
    {
     "data": {
      "text/plain": [
       "16"
      ]
     },
     "execution_count": 456,
     "metadata": {},
     "output_type": "execute_result"
    }
   ],
   "source": [
    "df['MMRAcquisitionRetailAveragePrice'].isnull().sum()"
   ]
  },
  {
   "cell_type": "code",
   "execution_count": 457,
   "metadata": {},
   "outputs": [
    {
     "data": {
      "image/png": "[encoded data removed]",
      "text/plain": [
       "<Figure size 432x288 with 1 Axes>"
      ]
     },
     "metadata": {
      "needs_background": "light"
     },
     "output_type": "display_data"
    }
   ],
   "source": [
    "boxplot = df.boxplot(column=['MMRAcquisitionRetailAveragePrice'])"
   ]
  },
  {
   "cell_type": "code",
   "execution_count": 458,
   "metadata": {},
   "outputs": [
    {
     "data": {
      "text/plain": [
       "0"
      ]
     },
     "execution_count": 458,
     "metadata": {},
     "output_type": "execute_result"
    }
   ],
   "source": [
    "df.loc[df[\"MMRAcquisitionRetailAveragePrice\"]<1000][\"MMRAcquisitionRetailAveragePrice\"].count()"
   ]
  },
  {
   "cell_type": "code",
   "execution_count": 459,
   "metadata": {},
   "outputs": [
    {
     "data": {
      "text/plain": [
       "661"
      ]
     },
     "execution_count": 459,
     "metadata": {},
     "output_type": "execute_result"
    }
   ],
   "source": [
    "df['MMRAcquisitonRetailCleanPrice'].replace(0, np.nan, inplace=True)\n",
    "df['MMRAcquisitonRetailCleanPrice'].isnull().sum()"
   ]
  },
  {
   "cell_type": "code",
   "execution_count": 460,
   "metadata": {},
   "outputs": [
    {
     "data": {
      "image/png": "[encoded data removed]",
      "text/plain": [
       "<Figure size 432x288 with 1 Axes>"
      ]
     },
     "metadata": {
      "needs_background": "light"
     },
     "output_type": "display_data"
    },
    {
     "data": {
      "image/png": "[encoded data removed]",
      "text/plain": [
       "<Figure size 432x288 with 1 Axes>"
      ]
     },
     "metadata": {
      "needs_background": "light"
     },
     "output_type": "display_data"
    }
   ],
   "source": [
    "df['MMRAcquisitonRetailCleanPrice'].hist(bins=binsN)\n",
    "plt.show()\n",
    "\n",
    "df['MMRAcquisitonRetailCleanPrice'] = df['MMRAcquisitonRetailCleanPrice'].groupby([df['Model'], df['SubModel'], df['VehYear']]).apply(fun_temp)\n",
    "\n",
    "df['MMRAcquisitonRetailCleanPrice'].hist(bins=binsN)\n",
    "plt.show()"
   ]
  },
  {
   "cell_type": "code",
   "execution_count": 461,
   "metadata": {},
   "outputs": [
    {
     "data": {
      "text/plain": [
       "16"
      ]
     },
     "execution_count": 461,
     "metadata": {},
     "output_type": "execute_result"
    }
   ],
   "source": [
    "df['MMRAcquisitonRetailCleanPrice'].isnull().sum()"
   ]
  },
  {
   "cell_type": "code",
   "execution_count": 462,
   "metadata": {},
   "outputs": [
    {
     "data": {
      "image/png": "[encoded data removed]",
      "text/plain": [
       "<Figure size 432x288 with 1 Axes>"
      ]
     },
     "metadata": {
      "needs_background": "light"
     },
     "output_type": "display_data"
    }
   ],
   "source": [
    "boxplot = df.boxplot(column=['MMRAcquisitonRetailCleanPrice'])"
   ]
  },
  {
   "cell_type": "code",
   "execution_count": 463,
   "metadata": {},
   "outputs": [
    {
     "data": {
      "text/plain": [
       "0"
      ]
     },
     "execution_count": 463,
     "metadata": {},
     "output_type": "execute_result"
    }
   ],
   "source": [
    "df.loc[df[\"MMRAcquisitonRetailCleanPrice\"]<1000][\"MMRAcquisitonRetailCleanPrice\"].count()"
   ]
  },
  {
   "cell_type": "code",
   "execution_count": 464,
   "metadata": {},
   "outputs": [
    {
     "data": {
      "text/plain": [
       "638"
      ]
     },
     "execution_count": 464,
     "metadata": {},
     "output_type": "execute_result"
    }
   ],
   "source": [
    "df['MMRCurrentAuctionAveragePrice'].replace(0, np.nan, inplace=True)\n",
    "df['MMRCurrentAuctionAveragePrice'].isnull().sum()"
   ]
  },
  {
   "cell_type": "code",
   "execution_count": 465,
   "metadata": {},
   "outputs": [
    {
     "data": {
      "image/png": "[encoded data removed]",
      "text/plain": [
       "<Figure size 432x288 with 1 Axes>"
      ]
     },
     "metadata": {
      "needs_background": "light"
     },
     "output_type": "display_data"
    },
    {
     "data": {
      "image/png": "[encoded data removed]",
      "text/plain": [
       "<Figure size 432x288 with 1 Axes>"
      ]
     },
     "metadata": {
      "needs_background": "light"
     },
     "output_type": "display_data"
    }
   ],
   "source": [
    "df['MMRCurrentAuctionAveragePrice'].hist(bins=binsN)\n",
    "plt.show()\n",
    "\n",
    "df['MMRCurrentAuctionAveragePrice'] = df['MMRCurrentAuctionAveragePrice'].groupby([df['Model'], df['SubModel'], df['VehYear']]).apply(fun_temp)\n",
    "\n",
    "df['MMRCurrentAuctionAveragePrice'].hist(bins=binsN)\n",
    "plt.show()"
   ]
  },
  {
   "cell_type": "code",
   "execution_count": 466,
   "metadata": {},
   "outputs": [
    {
     "data": {
      "text/plain": [
       "16"
      ]
     },
     "execution_count": 466,
     "metadata": {},
     "output_type": "execute_result"
    }
   ],
   "source": [
    "df['MMRCurrentAuctionAveragePrice'].isnull().sum()"
   ]
  },
  {
   "cell_type": "code",
   "execution_count": 467,
   "metadata": {},
   "outputs": [
    {
     "data": {
      "image/png": "[encoded data removed]",
      "text/plain": [
       "<Figure size 432x288 with 1 Axes>"
      ]
     },
     "metadata": {
      "needs_background": "light"
     },
     "output_type": "display_data"
    }
   ],
   "source": [
    "boxplot = df.boxplot(column=['MMRCurrentAuctionAveragePrice'])"
   ]
  },
  {
   "cell_type": "code",
   "execution_count": 468,
   "metadata": {},
   "outputs": [
    {
     "data": {
      "text/plain": [
       "15"
      ]
     },
     "execution_count": 468,
     "metadata": {},
     "output_type": "execute_result"
    }
   ],
   "source": [
    "df.loc[df[\"MMRCurrentAuctionAveragePrice\"]<1000][\"MMRCurrentAuctionAveragePrice\"].count()"
   ]
  },
  {
   "cell_type": "code",
   "execution_count": 469,
   "metadata": {},
   "outputs": [
    {
     "data": {
      "text/plain": [
       "138      665.0\n",
       "2917     665.0\n",
       "5365     809.0\n",
       "17588    430.0\n",
       "17807    806.0\n",
       "18167    369.0\n",
       "26815    809.0\n",
       "28341    937.0\n",
       "29359    847.0\n",
       "34755    733.0\n",
       "35923    896.0\n",
       "49074    433.0\n",
       "52996    912.0\n",
       "56202    727.0\n",
       "56756    879.0\n",
       "Name: MMRCurrentAuctionAveragePrice, dtype: float64"
      ]
     },
     "execution_count": 469,
     "metadata": {},
     "output_type": "execute_result"
    }
   ],
   "source": [
    "df.loc[df[\"MMRCurrentAuctionAveragePrice\"]<1000][\"MMRCurrentAuctionAveragePrice\"]"
   ]
  },
  {
   "cell_type": "code",
   "execution_count": 470,
   "metadata": {},
   "outputs": [
    {
     "data": {
      "text/plain": [
       "11"
      ]
     },
     "execution_count": 470,
     "metadata": {},
     "output_type": "execute_result"
    }
   ],
   "source": [
    "df.loc[df[\"MMRCurrentAuctionAveragePrice\"]>20000][\"MMRCurrentAuctionAveragePrice\"].count()"
   ]
  },
  {
   "cell_type": "code",
   "execution_count": 471,
   "metadata": {},
   "outputs": [
    {
     "data": {
      "text/plain": [
       "6380     UTILITY SPORT\n",
       "6733             SEDAN\n",
       "12564    UTILITY SPORT\n",
       "13225         CREW CAB\n",
       "15491    UTILITY SPORT\n",
       "23109            SEDAN\n",
       "28508         CREW CAB\n",
       "36887    UTILITY SPORT\n",
       "38767    UTILITY SPORT\n",
       "53207            SEDAN\n",
       "53782         CREW CAB\n",
       "Name: SubModel, dtype: object"
      ]
     },
     "execution_count": 471,
     "metadata": {},
     "output_type": "execute_result"
    }
   ],
   "source": [
    "#molte utility sport\n",
    "df.loc[df[\"MMRCurrentAuctionAveragePrice\"]>20000][\"SubModel\"]"
   ]
  },
  {
   "cell_type": "code",
   "execution_count": 472,
   "metadata": {},
   "outputs": [
    {
     "data": {
      "text/plain": [
       "6380     1\n",
       "6733     1\n",
       "12564    1\n",
       "13225    1\n",
       "15491    1\n",
       "23109    1\n",
       "28508    0\n",
       "36887    1\n",
       "38767    1\n",
       "53207    1\n",
       "53782    1\n",
       "Name: IsBadBuy, dtype: int64"
      ]
     },
     "execution_count": 472,
     "metadata": {},
     "output_type": "execute_result"
    }
   ],
   "source": [
    "#quasi tutti badbuy\n",
    "df.loc[df[\"MMRCurrentAuctionAveragePrice\"]>20000][\"IsBadBuy\"]"
   ]
  },
  {
   "cell_type": "code",
   "execution_count": 473,
   "metadata": {},
   "outputs": [
    {
     "data": {
      "text/plain": [
       "6380     2007\n",
       "6733     2007\n",
       "12564    2008\n",
       "13225    2009\n",
       "15491    2008\n",
       "23109    2007\n",
       "28508    2007\n",
       "36887    2006\n",
       "38767    2008\n",
       "53207    2008\n",
       "53782    2007\n",
       "Name: VehYear, dtype: int64"
      ]
     },
     "execution_count": 473,
     "metadata": {},
     "output_type": "execute_result"
    }
   ],
   "source": [
    "#le piu nuove\n",
    "df.loc[df[\"MMRCurrentAuctionAveragePrice\"]>20000][\"VehYear\"]"
   ]
  },
  {
   "cell_type": "code",
   "execution_count": 474,
   "metadata": {},
   "outputs": [
    {
     "data": {
      "text/plain": [
       "6380       ADESA\n",
       "6733     MANHEIM\n",
       "12564    MANHEIM\n",
       "13225    MANHEIM\n",
       "15491    MANHEIM\n",
       "23109    MANHEIM\n",
       "28508    MANHEIM\n",
       "36887    MANHEIM\n",
       "38767    MANHEIM\n",
       "53207    MANHEIM\n",
       "53782      ADESA\n",
       "Name: Auction, dtype: object"
      ]
     },
     "execution_count": 474,
     "metadata": {},
     "output_type": "execute_result"
    }
   ],
   "source": [
    "df.loc[df[\"MMRCurrentAuctionAveragePrice\"]>20000][\"Auction\"]"
   ]
  },
  {
   "cell_type": "code",
   "execution_count": 475,
   "metadata": {},
   "outputs": [
    {
     "data": {
      "text/plain": [
       "6380     1001\n",
       "6733     1020\n",
       "12564     702\n",
       "13225     941\n",
       "15491    1694\n",
       "23109    1121\n",
       "28508    2091\n",
       "36887    1187\n",
       "38767    1001\n",
       "53207    1121\n",
       "53782     522\n",
       "Name: WarrantyCost, dtype: int64"
      ]
     },
     "execution_count": 475,
     "metadata": {},
     "output_type": "execute_result"
    }
   ],
   "source": [
    "#Assicurazione economica\n",
    "df.loc[df[\"MMRCurrentAuctionAveragePrice\"]>20000][\"WarrantyCost\"]"
   ]
  },
  {
   "cell_type": "code",
   "execution_count": 476,
   "metadata": {},
   "outputs": [
    {
     "data": {
      "text/plain": [
       "6380     NOT AMERICA\n",
       "6733     NOT AMERICA\n",
       "12564    NOT AMERICA\n",
       "13225       AMERICAN\n",
       "15491    NOT AMERICA\n",
       "23109    NOT AMERICA\n",
       "28508    NOT AMERICA\n",
       "36887    NOT AMERICA\n",
       "38767    NOT AMERICA\n",
       "53207       AMERICAN\n",
       "53782    NOT AMERICA\n",
       "Name: Nationality, dtype: object"
      ]
     },
     "execution_count": 476,
     "metadata": {},
     "output_type": "execute_result"
    }
   ],
   "source": [
    "#asiatiche\n",
    "df.loc[df[\"MMRCurrentAuctionAveragePrice\"]>20000][\"Nationality\"]"
   ]
  },
  {
   "cell_type": "code",
   "execution_count": 477,
   "metadata": {},
   "outputs": [
    {
     "data": {
      "text/plain": [
       "6380     0\n",
       "6733     0\n",
       "12564    0\n",
       "13225    0\n",
       "15491    0\n",
       "23109    0\n",
       "28508    0\n",
       "36887    0\n",
       "38767    0\n",
       "53207    0\n",
       "53782    0\n",
       "Name: IsOnlineSale, dtype: int64"
      ]
     },
     "execution_count": 477,
     "metadata": {},
     "output_type": "execute_result"
    }
   ],
   "source": [
    "df.loc[df[\"MMRCurrentAuctionAveragePrice\"]>20000][\"IsOnlineSale\"]"
   ]
  },
  {
   "cell_type": "code",
   "execution_count": 478,
   "metadata": {},
   "outputs": [
    {
     "data": {
      "text/plain": [
       "138      665.0\n",
       "2917     665.0\n",
       "5365     809.0\n",
       "17588    430.0\n",
       "17807    806.0\n",
       "18167    369.0\n",
       "26815    809.0\n",
       "28341    937.0\n",
       "29359    847.0\n",
       "34755    733.0\n",
       "35923    896.0\n",
       "49074    433.0\n",
       "52996    912.0\n",
       "56202    727.0\n",
       "56756    879.0\n",
       "Name: MMRCurrentAuctionAveragePrice, dtype: float64"
      ]
     },
     "execution_count": 478,
     "metadata": {},
     "output_type": "execute_result"
    }
   ],
   "source": [
    "df.loc[df[\"MMRCurrentAuctionAveragePrice\"]<1000][\"MMRCurrentAuctionAveragePrice\"]"
   ]
  },
  {
   "cell_type": "code",
   "execution_count": 479,
   "metadata": {},
   "outputs": [
    {
     "data": {
      "text/plain": [
       "545"
      ]
     },
     "execution_count": 479,
     "metadata": {},
     "output_type": "execute_result"
    }
   ],
   "source": [
    "df['MMRCurrentAuctionCleanPrice'].replace(0, np.nan, inplace=True)\n",
    "df['MMRCurrentAuctionCleanPrice'].isnull().sum()"
   ]
  },
  {
   "cell_type": "code",
   "execution_count": 480,
   "metadata": {},
   "outputs": [
    {
     "data": {
      "image/png": "[encoded data removed]",
      "text/plain": [
       "<Figure size 432x288 with 1 Axes>"
      ]
     },
     "metadata": {
      "needs_background": "light"
     },
     "output_type": "display_data"
    },
    {
     "data": {
      "image/png": "[encoded data removed]",
      "text/plain": [
       "<Figure size 432x288 with 1 Axes>"
      ]
     },
     "metadata": {
      "needs_background": "light"
     },
     "output_type": "display_data"
    }
   ],
   "source": [
    "df['MMRCurrentAuctionCleanPrice'].hist(bins=binsN)\n",
    "plt.show()\n",
    "\n",
    "df['MMRCurrentAuctionCleanPrice'] = df['MMRCurrentAuctionCleanPrice'].groupby([df['Model'], df['SubModel'], df['VehYear']]).apply(fun_temp)\n",
    "\n",
    "df['MMRCurrentAuctionCleanPrice'].hist(bins=binsN)\n",
    "plt.show()"
   ]
  },
  {
   "cell_type": "code",
   "execution_count": 481,
   "metadata": {},
   "outputs": [
    {
     "data": {
      "text/plain": [
       "14"
      ]
     },
     "execution_count": 481,
     "metadata": {},
     "output_type": "execute_result"
    }
   ],
   "source": [
    "df['MMRCurrentAuctionCleanPrice'].isnull().sum()"
   ]
  },
  {
   "cell_type": "code",
   "execution_count": 482,
   "metadata": {},
   "outputs": [
    {
     "data": {
      "image/png": "[encoded data removed]",
      "text/plain": [
       "<Figure size 432x288 with 1 Axes>"
      ]
     },
     "metadata": {
      "needs_background": "light"
     },
     "output_type": "display_data"
    }
   ],
   "source": [
    "boxplot = df.boxplot(column=['MMRCurrentAuctionCleanPrice'])"
   ]
  },
  {
   "cell_type": "code",
   "execution_count": 483,
   "metadata": {},
   "outputs": [
    {
     "data": {
      "text/plain": [
       "93"
      ]
     },
     "execution_count": 483,
     "metadata": {},
     "output_type": "execute_result"
    }
   ],
   "source": [
    "df.loc[df[\"MMRCurrentAuctionCleanPrice\"]<2][\"MMRCurrentAuctionCleanPrice\"].count()"
   ]
  },
  {
   "cell_type": "code",
   "execution_count": 484,
   "metadata": {},
   "outputs": [
    {
     "data": {
      "text/plain": [
       "924      1.0\n",
       "1347     1.0\n",
       "1778     1.0\n",
       "3483     1.0\n",
       "4552     1.0\n",
       "        ... \n",
       "57688    1.0\n",
       "57729    1.0\n",
       "58061    1.0\n",
       "58093    1.0\n",
       "58105    1.0\n",
       "Name: MMRCurrentAuctionCleanPrice, Length: 93, dtype: float64"
      ]
     },
     "execution_count": 484,
     "metadata": {},
     "output_type": "execute_result"
    }
   ],
   "source": [
    "df.loc[df[\"MMRCurrentAuctionCleanPrice\"]<2][\"MMRCurrentAuctionCleanPrice\"]"
   ]
  },
  {
   "cell_type": "code",
   "execution_count": 485,
   "metadata": {},
   "outputs": [
    {
     "data": {
      "text/plain": [
       "107"
      ]
     },
     "execution_count": 485,
     "metadata": {},
     "output_type": "execute_result"
    }
   ],
   "source": [
    "df['MMRCurrentAuctionCleanPrice'].replace(1, np.nan, inplace=True)\n",
    "df['MMRCurrentAuctionCleanPrice'].isnull().sum()"
   ]
  },
  {
   "cell_type": "code",
   "execution_count": 486,
   "metadata": {},
   "outputs": [
    {
     "data": {
      "image/png": "[encoded data removed]",
      "text/plain": [
       "<Figure size 432x288 with 1 Axes>"
      ]
     },
     "metadata": {
      "needs_background": "light"
     },
     "output_type": "display_data"
    },
    {
     "data": {
      "image/png": "[encoded data removed]",
      "text/plain": [
       "<Figure size 432x288 with 1 Axes>"
      ]
     },
     "metadata": {
      "needs_background": "light"
     },
     "output_type": "display_data"
    }
   ],
   "source": [
    "df['MMRCurrentAuctionCleanPrice'].hist(bins=binsN)\n",
    "plt.show()\n",
    "\n",
    "df['MMRCurrentAuctionCleanPrice'] = df['MMRCurrentAuctionCleanPrice'].groupby([df['Model'], df['SubModel'], df['VehYear']]).apply(fun_temp)\n",
    "\n",
    "df['MMRCurrentAuctionCleanPrice'].hist(bins=binsN)\n",
    "plt.show()"
   ]
  },
  {
   "cell_type": "code",
   "execution_count": 487,
   "metadata": {},
   "outputs": [
    {
     "data": {
      "text/plain": [
       "16"
      ]
     },
     "execution_count": 487,
     "metadata": {},
     "output_type": "execute_result"
    }
   ],
   "source": [
    "df['MMRCurrentAuctionCleanPrice'].isnull().sum()"
   ]
  },
  {
   "cell_type": "code",
   "execution_count": 488,
   "metadata": {},
   "outputs": [
    {
     "data": {
      "text/plain": [
       "638"
      ]
     },
     "execution_count": 488,
     "metadata": {},
     "output_type": "execute_result"
    }
   ],
   "source": [
    "df['MMRCurrentRetailAveragePrice'].replace(0, np.nan, inplace=True)\n",
    "df['MMRCurrentRetailAveragePrice'].isnull().sum()"
   ]
  },
  {
   "cell_type": "code",
   "execution_count": 489,
   "metadata": {},
   "outputs": [
    {
     "data": {
      "image/png": "[encoded data removed]",
      "text/plain": [
       "<Figure size 432x288 with 1 Axes>"
      ]
     },
     "metadata": {
      "needs_background": "light"
     },
     "output_type": "display_data"
    },
    {
     "data": {
      "image/png": "[encoded data removed]",
      "text/plain": [
       "<Figure size 432x288 with 1 Axes>"
      ]
     },
     "metadata": {
      "needs_background": "light"
     },
     "output_type": "display_data"
    }
   ],
   "source": [
    "df['MMRCurrentRetailAveragePrice'].hist(bins=binsN)\n",
    "plt.show()\n",
    "\n",
    "df['MMRCurrentRetailAveragePrice'] = df['MMRCurrentRetailAveragePrice'].groupby([df['Model'], df['SubModel'], df['VehYear']]).apply(fun_temp)\n",
    "\n",
    "df['MMRCurrentRetailAveragePrice'].hist(bins=binsN)\n",
    "plt.show()"
   ]
  },
  {
   "cell_type": "code",
   "execution_count": 490,
   "metadata": {},
   "outputs": [
    {
     "data": {
      "text/plain": [
       "16"
      ]
     },
     "execution_count": 490,
     "metadata": {},
     "output_type": "execute_result"
    }
   ],
   "source": [
    "df['MMRCurrentRetailAveragePrice'].isnull().sum()"
   ]
  },
  {
   "cell_type": "code",
   "execution_count": 491,
   "metadata": {},
   "outputs": [
    {
     "data": {
      "image/png": "[encoded data removed]",
      "text/plain": [
       "<Figure size 432x288 with 1 Axes>"
      ]
     },
     "metadata": {
      "needs_background": "light"
     },
     "output_type": "display_data"
    }
   ],
   "source": [
    "boxplot = df.boxplot(column=['MMRCurrentRetailAveragePrice'])"
   ]
  },
  {
   "cell_type": "code",
   "execution_count": 492,
   "metadata": {},
   "outputs": [
    {
     "data": {
      "text/plain": [
       "3"
      ]
     },
     "execution_count": 492,
     "metadata": {},
     "output_type": "execute_result"
    }
   ],
   "source": [
    "df.loc[df[\"MMRCurrentRetailAveragePrice\"]<1000][\"MMRCurrentRetailAveragePrice\"].count()"
   ]
  },
  {
   "cell_type": "code",
   "execution_count": 493,
   "metadata": {},
   "outputs": [
    {
     "data": {
      "text/plain": [
       "17588    964.0\n",
       "18167    899.0\n",
       "49074    968.0\n",
       "Name: MMRCurrentRetailAveragePrice, dtype: float64"
      ]
     },
     "execution_count": 493,
     "metadata": {},
     "output_type": "execute_result"
    }
   ],
   "source": [
    "df.loc[df[\"MMRCurrentRetailAveragePrice\"]<1000][\"MMRCurrentRetailAveragePrice\"]"
   ]
  },
  {
   "cell_type": "code",
   "execution_count": 494,
   "metadata": {},
   "outputs": [
    {
     "data": {
      "text/plain": [
       "638"
      ]
     },
     "execution_count": 494,
     "metadata": {},
     "output_type": "execute_result"
    }
   ],
   "source": [
    "df['MMRCurrentRetailCleanPrice'].replace(0, np.nan, inplace=True)\n",
    "df['MMRCurrentRetailCleanPrice'].isnull().sum()"
   ]
  },
  {
   "cell_type": "code",
   "execution_count": 495,
   "metadata": {
    "scrolled": false
   },
   "outputs": [
    {
     "data": {
      "image/png": "[encoded data removed]",
      "text/plain": [
       "<Figure size 432x288 with 1 Axes>"
      ]
     },
     "metadata": {
      "needs_background": "light"
     },
     "output_type": "display_data"
    },
    {
     "data": {
      "image/png": "[encoded data removed]",
      "text/plain": [
       "<Figure size 432x288 with 1 Axes>"
      ]
     },
     "metadata": {
      "needs_background": "light"
     },
     "output_type": "display_data"
    }
   ],
   "source": [
    "df['MMRCurrentRetailCleanPrice'].hist(bins=binsN)\n",
    "plt.show()\n",
    "\n",
    "df['MMRCurrentRetailCleanPrice'] = df['MMRCurrentRetailCleanPrice'].groupby([df['Model'], df['SubModel'], df['VehYear']]).apply(fun_temp)\n",
    "\n",
    "df['MMRCurrentRetailCleanPrice'].hist(bins=binsN)\n",
    "plt.show()"
   ]
  },
  {
   "cell_type": "code",
   "execution_count": 496,
   "metadata": {},
   "outputs": [
    {
     "data": {
      "text/plain": [
       "16"
      ]
     },
     "execution_count": 496,
     "metadata": {},
     "output_type": "execute_result"
    }
   ],
   "source": [
    "df['MMRCurrentRetailCleanPrice'].isnull().sum()"
   ]
  },
  {
   "cell_type": "code",
   "execution_count": 497,
   "metadata": {},
   "outputs": [
    {
     "data": {
      "image/png": "[encoded data removed]",
      "text/plain": [
       "<Figure size 432x288 with 1 Axes>"
      ]
     },
     "metadata": {
      "needs_background": "light"
     },
     "output_type": "display_data"
    }
   ],
   "source": [
    "boxplot = df.boxplot(column=['MMRCurrentRetailCleanPrice'])"
   ]
  },
  {
   "cell_type": "code",
   "execution_count": 498,
   "metadata": {},
   "outputs": [
    {
     "data": {
      "text/plain": [
       "0"
      ]
     },
     "execution_count": 498,
     "metadata": {},
     "output_type": "execute_result"
    }
   ],
   "source": [
    "df.loc[df[\"MMRCurrentRetailCleanPrice\"]<1000][\"MMRCurrentRetailCleanPrice\"].count()"
   ]
  },
  {
   "cell_type": "code",
   "execution_count": 499,
   "metadata": {
    "scrolled": false
   },
   "outputs": [
    {
     "data": {
      "text/plain": [
       "RefId                                    0\n",
       "IsBadBuy                                 0\n",
       "PurchDate                                0\n",
       "Auction                                  0\n",
       "VehYear                                  0\n",
       "VehicleAge                               0\n",
       "Make                                     0\n",
       "Engine                               19582\n",
       "Trim                                     0\n",
       "Transmission                             0\n",
       "WheelTypeID                              0\n",
       "VehOdo                                   0\n",
       "Nationality                              0\n",
       "Size                                     0\n",
       "MMRAcquisitionAuctionAveragePrice       16\n",
       "MMRAcquisitionAuctionCleanPrice         16\n",
       "MMRAcquisitionRetailAveragePrice        16\n",
       "MMRAcquisitonRetailCleanPrice           16\n",
       "MMRCurrentAuctionAveragePrice           16\n",
       "MMRCurrentAuctionCleanPrice             16\n",
       "MMRCurrentRetailAveragePrice            16\n",
       "MMRCurrentRetailCleanPrice              16\n",
       "BYRNO                                    0\n",
       "VNZIP1                                   0\n",
       "VNST                                     0\n",
       "VehBCost                                 0\n",
       "IsOnlineSale                             0\n",
       "WarrantyCost                             0\n",
       "Model                                    0\n",
       "Doors                                 7737\n",
       "SubModel                                 0\n",
       "dtype: int64"
      ]
     },
     "execution_count": 499,
     "metadata": {},
     "output_type": "execute_result"
    }
   ],
   "source": [
    "df.isnull().sum()  "
   ]
  },
  {
   "cell_type": "code",
   "execution_count": 500,
   "metadata": {},
   "outputs": [
    {
     "data": {
      "text/plain": [
       "1303     NaN\n",
       "1306     0.0\n",
       "8590     0.0\n",
       "11261    0.0\n",
       "15769    0.0\n",
       "20567    0.0\n",
       "20958    0.0\n",
       "22829    0.0\n",
       "26061    1.0\n",
       "28087    0.0\n",
       "28494    0.0\n",
       "33996    0.0\n",
       "35577    1.0\n",
       "42553    0.0\n",
       "46710    0.0\n",
       "56572    0.0\n",
       "Name: MMRAcquisitionAuctionCleanPrice, dtype: float64"
      ]
     },
     "execution_count": 500,
     "metadata": {},
     "output_type": "execute_result"
    }
   ],
   "source": [
    "dig['MMRAcquisitionAuctionCleanPrice']"
   ]
  },
  {
   "cell_type": "code",
   "execution_count": 501,
   "metadata": {},
   "outputs": [],
   "source": [
    "dig = df[df['MMRAcquisitionRetailAveragePrice'].isnull()]"
   ]
  },
  {
   "cell_type": "code",
   "execution_count": 502,
   "metadata": {},
   "outputs": [
    {
     "data": {
      "text/plain": [
       "1303    NaN\n",
       "1306    NaN\n",
       "8590    NaN\n",
       "11261   NaN\n",
       "15769   NaN\n",
       "20567   NaN\n",
       "20958   NaN\n",
       "22829   NaN\n",
       "26061   NaN\n",
       "28087   NaN\n",
       "28494   NaN\n",
       "33996   NaN\n",
       "35577   NaN\n",
       "42553   NaN\n",
       "46710   NaN\n",
       "56572   NaN\n",
       "Name: MMRAcquisitionRetailAveragePrice, dtype: float64"
      ]
     },
     "execution_count": 502,
     "metadata": {},
     "output_type": "execute_result"
    }
   ],
   "source": [
    "dig['MMRAcquisitionRetailAveragePrice']"
   ]
  },
  {
   "cell_type": "code",
   "execution_count": 503,
   "metadata": {},
   "outputs": [
    {
     "data": {
      "text/plain": [
       "1303    NaN\n",
       "1306    NaN\n",
       "8590    NaN\n",
       "11261   NaN\n",
       "15769   NaN\n",
       "20567   NaN\n",
       "20958   NaN\n",
       "22829   NaN\n",
       "26061   NaN\n",
       "28087   NaN\n",
       "28494   NaN\n",
       "33996   NaN\n",
       "35577   NaN\n",
       "42553   NaN\n",
       "46710   NaN\n",
       "56572   NaN\n",
       "Name: MMRAcquisitonRetailCleanPrice, dtype: float64"
      ]
     },
     "execution_count": 503,
     "metadata": {},
     "output_type": "execute_result"
    }
   ],
   "source": [
    "dig['MMRAcquisitonRetailCleanPrice']"
   ]
  },
  {
   "cell_type": "code",
   "execution_count": 504,
   "metadata": {},
   "outputs": [
    {
     "data": {
      "text/plain": [
       "1303         NaN\n",
       "1306         NaN\n",
       "8590         NaN\n",
       "11261     8238.0\n",
       "15769        NaN\n",
       "20567        NaN\n",
       "20958        NaN\n",
       "22829        NaN\n",
       "26061        NaN\n",
       "28087        NaN\n",
       "28494        NaN\n",
       "33996    10775.0\n",
       "35577        NaN\n",
       "42553        NaN\n",
       "46710        NaN\n",
       "56572        NaN\n",
       "Name: MMRCurrentAuctionAveragePrice, dtype: float64"
      ]
     },
     "execution_count": 504,
     "metadata": {},
     "output_type": "execute_result"
    }
   ],
   "source": [
    "dig['MMRCurrentAuctionAveragePrice']"
   ]
  },
  {
   "cell_type": "code",
   "execution_count": 505,
   "metadata": {},
   "outputs": [
    {
     "data": {
      "text/plain": [
       "1303         NaN\n",
       "1306         NaN\n",
       "8590         NaN\n",
       "11261     9636.0\n",
       "15769        NaN\n",
       "20567        NaN\n",
       "20958        NaN\n",
       "22829        NaN\n",
       "26061        NaN\n",
       "28087        NaN\n",
       "28494        NaN\n",
       "33996    14136.0\n",
       "35577        NaN\n",
       "42553        NaN\n",
       "46710        NaN\n",
       "56572        NaN\n",
       "Name: MMRCurrentAuctionCleanPrice, dtype: float64"
      ]
     },
     "execution_count": 505,
     "metadata": {},
     "output_type": "execute_result"
    }
   ],
   "source": [
    "dig['MMRCurrentAuctionCleanPrice']"
   ]
  },
  {
   "cell_type": "code",
   "execution_count": 506,
   "metadata": {},
   "outputs": [
    {
     "data": {
      "text/plain": [
       "1303         NaN\n",
       "1306         NaN\n",
       "8590         NaN\n",
       "11261    12490.0\n",
       "15769        NaN\n",
       "20567        NaN\n",
       "20958        NaN\n",
       "22829        NaN\n",
       "26061        NaN\n",
       "28087        NaN\n",
       "28494        NaN\n",
       "33996    14285.0\n",
       "35577        NaN\n",
       "42553        NaN\n",
       "46710        NaN\n",
       "56572        NaN\n",
       "Name: MMRCurrentRetailAveragePrice, dtype: float64"
      ]
     },
     "execution_count": 506,
     "metadata": {},
     "output_type": "execute_result"
    }
   ],
   "source": [
    "dig['MMRCurrentRetailAveragePrice']"
   ]
  },
  {
   "cell_type": "code",
   "execution_count": 507,
   "metadata": {},
   "outputs": [
    {
     "data": {
      "text/plain": [
       "1303         NaN\n",
       "1306         NaN\n",
       "8590         NaN\n",
       "11261    13847.0\n",
       "15769        NaN\n",
       "20567        NaN\n",
       "20958        NaN\n",
       "22829        NaN\n",
       "26061        NaN\n",
       "28087        NaN\n",
       "28494        NaN\n",
       "33996    18486.0\n",
       "35577        NaN\n",
       "42553        NaN\n",
       "46710        NaN\n",
       "56572        NaN\n",
       "Name: MMRCurrentRetailCleanPrice, dtype: float64"
      ]
     },
     "execution_count": 507,
     "metadata": {},
     "output_type": "execute_result"
    }
   ],
   "source": [
    "dig['MMRCurrentRetailCleanPrice']"
   ]
  },
  {
   "cell_type": "code",
   "execution_count": 508,
   "metadata": {},
   "outputs": [
    {
     "data": {
      "text/html": [
       "<div>\n",
       "<style scoped>\n",
       "    .dataframe tbody tr th:only-of-type {\n",
       "        vertical-align: middle;\n",
       "    }\n",
       "\n",
       "    .dataframe tbody tr th {\n",
       "        vertical-align: top;\n",
       "    }\n",
       "\n",
       "    .dataframe thead th {\n",
       "        text-align: right;\n",
       "    }\n",
       "</style>\n",
       "<table border=\"1\" class=\"dataframe\">\n",
       "  <thead>\n",
       "    <tr style=\"text-align: right;\">\n",
       "      <th></th>\n",
       "      <th>RefId</th>\n",
       "      <th>IsBadBuy</th>\n",
       "      <th>PurchDate</th>\n",
       "      <th>Auction</th>\n",
       "      <th>VehYear</th>\n",
       "      <th>VehicleAge</th>\n",
       "      <th>Make</th>\n",
       "      <th>Engine</th>\n",
       "      <th>Trim</th>\n",
       "      <th>Transmission</th>\n",
       "      <th>...</th>\n",
       "      <th>MMRCurrentRetailCleanPrice</th>\n",
       "      <th>BYRNO</th>\n",
       "      <th>VNZIP1</th>\n",
       "      <th>VNST</th>\n",
       "      <th>VehBCost</th>\n",
       "      <th>IsOnlineSale</th>\n",
       "      <th>WarrantyCost</th>\n",
       "      <th>Model</th>\n",
       "      <th>Doors</th>\n",
       "      <th>SubModel</th>\n",
       "    </tr>\n",
       "  </thead>\n",
       "  <tbody>\n",
       "    <tr>\n",
       "      <td>1303</td>\n",
       "      <td>36536</td>\n",
       "      <td>0</td>\n",
       "      <td>2009-10-14</td>\n",
       "      <td>MANHEIM</td>\n",
       "      <td>2007</td>\n",
       "      <td>2</td>\n",
       "      <td>JEEP</td>\n",
       "      <td>NaN</td>\n",
       "      <td>SPO</td>\n",
       "      <td>AUTO</td>\n",
       "      <td>...</td>\n",
       "      <td>NaN</td>\n",
       "      <td>22808</td>\n",
       "      <td>75236</td>\n",
       "      <td>TX</td>\n",
       "      <td>10750.0</td>\n",
       "      <td>0</td>\n",
       "      <td>1801</td>\n",
       "      <td>COMMANDER</td>\n",
       "      <td>NaN</td>\n",
       "      <td>BASE</td>\n",
       "    </tr>\n",
       "    <tr>\n",
       "      <td>1306</td>\n",
       "      <td>63707</td>\n",
       "      <td>0</td>\n",
       "      <td>2009-06-24</td>\n",
       "      <td>ADESA</td>\n",
       "      <td>2008</td>\n",
       "      <td>1</td>\n",
       "      <td>DODGE</td>\n",
       "      <td>5.7L</td>\n",
       "      <td>ST</td>\n",
       "      <td>AUTO</td>\n",
       "      <td>...</td>\n",
       "      <td>NaN</td>\n",
       "      <td>20234</td>\n",
       "      <td>85226</td>\n",
       "      <td>AZ</td>\n",
       "      <td>12045.0</td>\n",
       "      <td>0</td>\n",
       "      <td>825</td>\n",
       "      <td>2500 RAM</td>\n",
       "      <td>NaN</td>\n",
       "      <td>QUAD CAB</td>\n",
       "    </tr>\n",
       "    <tr>\n",
       "      <td>8590</td>\n",
       "      <td>50762</td>\n",
       "      <td>0</td>\n",
       "      <td>2010-01-29</td>\n",
       "      <td>MANHEIM</td>\n",
       "      <td>2006</td>\n",
       "      <td>4</td>\n",
       "      <td>FORD</td>\n",
       "      <td>NaN</td>\n",
       "      <td>ZX5</td>\n",
       "      <td>AUTO</td>\n",
       "      <td>...</td>\n",
       "      <td>NaN</td>\n",
       "      <td>18822</td>\n",
       "      <td>78219</td>\n",
       "      <td>TX</td>\n",
       "      <td>6625.0</td>\n",
       "      <td>0</td>\n",
       "      <td>762</td>\n",
       "      <td>FOCUS</td>\n",
       "      <td>4D</td>\n",
       "      <td>HATCHBACK</td>\n",
       "    </tr>\n",
       "    <tr>\n",
       "      <td>11261</td>\n",
       "      <td>68239</td>\n",
       "      <td>0</td>\n",
       "      <td>2009-03-09</td>\n",
       "      <td>ADESA</td>\n",
       "      <td>2005</td>\n",
       "      <td>4</td>\n",
       "      <td>GMC</td>\n",
       "      <td>3.5L</td>\n",
       "      <td>SL</td>\n",
       "      <td>AUTO</td>\n",
       "      <td>...</td>\n",
       "      <td>13847.0</td>\n",
       "      <td>3453</td>\n",
       "      <td>80817</td>\n",
       "      <td>CO</td>\n",
       "      <td>9000.0</td>\n",
       "      <td>0</td>\n",
       "      <td>803</td>\n",
       "      <td>CANYON</td>\n",
       "      <td>NaN</td>\n",
       "      <td>EXT CAB</td>\n",
       "    </tr>\n",
       "    <tr>\n",
       "      <td>15769</td>\n",
       "      <td>10897</td>\n",
       "      <td>0</td>\n",
       "      <td>2009-10-19</td>\n",
       "      <td>MANHEIM</td>\n",
       "      <td>2002</td>\n",
       "      <td>7</td>\n",
       "      <td>GMC</td>\n",
       "      <td>NaN</td>\n",
       "      <td>SL</td>\n",
       "      <td>AUTO</td>\n",
       "      <td>...</td>\n",
       "      <td>NaN</td>\n",
       "      <td>16044</td>\n",
       "      <td>27542</td>\n",
       "      <td>NC</td>\n",
       "      <td>7500.0</td>\n",
       "      <td>0</td>\n",
       "      <td>1455</td>\n",
       "      <td>SIERRA</td>\n",
       "      <td>NaN</td>\n",
       "      <td>BASE</td>\n",
       "    </tr>\n",
       "    <tr>\n",
       "      <td>20567</td>\n",
       "      <td>18554</td>\n",
       "      <td>0</td>\n",
       "      <td>2009-03-13</td>\n",
       "      <td>OTHER</td>\n",
       "      <td>2006</td>\n",
       "      <td>3</td>\n",
       "      <td>DODGE</td>\n",
       "      <td>NaN</td>\n",
       "      <td>SE</td>\n",
       "      <td>AUTO</td>\n",
       "      <td>...</td>\n",
       "      <td>NaN</td>\n",
       "      <td>20740</td>\n",
       "      <td>29461</td>\n",
       "      <td>SC</td>\n",
       "      <td>4800.0</td>\n",
       "      <td>0</td>\n",
       "      <td>1763</td>\n",
       "      <td>CARAVAN</td>\n",
       "      <td>NaN</td>\n",
       "      <td>BASE</td>\n",
       "    </tr>\n",
       "    <tr>\n",
       "      <td>20958</td>\n",
       "      <td>38392</td>\n",
       "      <td>1</td>\n",
       "      <td>2010-10-20</td>\n",
       "      <td>MANHEIM</td>\n",
       "      <td>2003</td>\n",
       "      <td>7</td>\n",
       "      <td>SUZUKI</td>\n",
       "      <td>NaN</td>\n",
       "      <td>JLS</td>\n",
       "      <td>AUTO</td>\n",
       "      <td>...</td>\n",
       "      <td>NaN</td>\n",
       "      <td>52598</td>\n",
       "      <td>75236</td>\n",
       "      <td>TX</td>\n",
       "      <td>5870.0</td>\n",
       "      <td>0</td>\n",
       "      <td>1455</td>\n",
       "      <td>GRAND VITARA</td>\n",
       "      <td>4D</td>\n",
       "      <td>HARDTOP</td>\n",
       "    </tr>\n",
       "    <tr>\n",
       "      <td>22829</td>\n",
       "      <td>4928</td>\n",
       "      <td>0</td>\n",
       "      <td>2009-05-26</td>\n",
       "      <td>MANHEIM</td>\n",
       "      <td>2002</td>\n",
       "      <td>7</td>\n",
       "      <td>CHEVROLET</td>\n",
       "      <td>8.1L</td>\n",
       "      <td>LS</td>\n",
       "      <td>AUTO</td>\n",
       "      <td>...</td>\n",
       "      <td>NaN</td>\n",
       "      <td>835</td>\n",
       "      <td>85040</td>\n",
       "      <td>AZ</td>\n",
       "      <td>8290.0</td>\n",
       "      <td>0</td>\n",
       "      <td>1320</td>\n",
       "      <td>2500HD SILVERADO</td>\n",
       "      <td>NaN</td>\n",
       "      <td>EXT CAB</td>\n",
       "    </tr>\n",
       "    <tr>\n",
       "      <td>26061</td>\n",
       "      <td>71289</td>\n",
       "      <td>0</td>\n",
       "      <td>2009-12-02</td>\n",
       "      <td>ADESA</td>\n",
       "      <td>2006</td>\n",
       "      <td>3</td>\n",
       "      <td>CHEVROLET</td>\n",
       "      <td>5.3L</td>\n",
       "      <td>150</td>\n",
       "      <td>AUTO</td>\n",
       "      <td>...</td>\n",
       "      <td>NaN</td>\n",
       "      <td>17675</td>\n",
       "      <td>28273</td>\n",
       "      <td>NC</td>\n",
       "      <td>10255.0</td>\n",
       "      <td>0</td>\n",
       "      <td>1623</td>\n",
       "      <td>SUBURBAN</td>\n",
       "      <td>4D</td>\n",
       "      <td>UTILITY</td>\n",
       "    </tr>\n",
       "    <tr>\n",
       "      <td>28087</td>\n",
       "      <td>15374</td>\n",
       "      <td>0</td>\n",
       "      <td>2010-04-08</td>\n",
       "      <td>MANHEIM</td>\n",
       "      <td>2006</td>\n",
       "      <td>4</td>\n",
       "      <td>FORD</td>\n",
       "      <td>NaN</td>\n",
       "      <td>ZX5</td>\n",
       "      <td>AUTO</td>\n",
       "      <td>...</td>\n",
       "      <td>NaN</td>\n",
       "      <td>835</td>\n",
       "      <td>94544</td>\n",
       "      <td>CA</td>\n",
       "      <td>5800.0</td>\n",
       "      <td>0</td>\n",
       "      <td>1243</td>\n",
       "      <td>FOCUS</td>\n",
       "      <td>4D</td>\n",
       "      <td>HATCHBACK</td>\n",
       "    </tr>\n",
       "    <tr>\n",
       "      <td>28494</td>\n",
       "      <td>8396</td>\n",
       "      <td>0</td>\n",
       "      <td>2010-08-16</td>\n",
       "      <td>MANHEIM</td>\n",
       "      <td>2007</td>\n",
       "      <td>3</td>\n",
       "      <td>HONDA</td>\n",
       "      <td>NaN</td>\n",
       "      <td>LX</td>\n",
       "      <td>MANUAL</td>\n",
       "      <td>...</td>\n",
       "      <td>NaN</td>\n",
       "      <td>5546</td>\n",
       "      <td>27542</td>\n",
       "      <td>NC</td>\n",
       "      <td>9000.0</td>\n",
       "      <td>0</td>\n",
       "      <td>723</td>\n",
       "      <td>ELEMENT</td>\n",
       "      <td>4D</td>\n",
       "      <td>UTILITY SPORT</td>\n",
       "    </tr>\n",
       "    <tr>\n",
       "      <td>33996</td>\n",
       "      <td>24819</td>\n",
       "      <td>0</td>\n",
       "      <td>2010-10-27</td>\n",
       "      <td>MANHEIM</td>\n",
       "      <td>2007</td>\n",
       "      <td>3</td>\n",
       "      <td>GMC</td>\n",
       "      <td>6.0L</td>\n",
       "      <td>SLE</td>\n",
       "      <td>AUTO</td>\n",
       "      <td>...</td>\n",
       "      <td>18486.0</td>\n",
       "      <td>5546</td>\n",
       "      <td>32124</td>\n",
       "      <td>FL</td>\n",
       "      <td>10650.0</td>\n",
       "      <td>0</td>\n",
       "      <td>1243</td>\n",
       "      <td>2500HD SIERRA</td>\n",
       "      <td>NaN</td>\n",
       "      <td>CREW CAB</td>\n",
       "    </tr>\n",
       "    <tr>\n",
       "      <td>35577</td>\n",
       "      <td>71333</td>\n",
       "      <td>0</td>\n",
       "      <td>2009-02-26</td>\n",
       "      <td>ADESA</td>\n",
       "      <td>2002</td>\n",
       "      <td>7</td>\n",
       "      <td>SUZUKI</td>\n",
       "      <td>4C 2.0L</td>\n",
       "      <td>JLS</td>\n",
       "      <td>AUTO</td>\n",
       "      <td>...</td>\n",
       "      <td>NaN</td>\n",
       "      <td>18880</td>\n",
       "      <td>28273</td>\n",
       "      <td>NC</td>\n",
       "      <td>4505.0</td>\n",
       "      <td>0</td>\n",
       "      <td>1220</td>\n",
       "      <td>VITARA</td>\n",
       "      <td>4D</td>\n",
       "      <td>HARDTOP</td>\n",
       "    </tr>\n",
       "    <tr>\n",
       "      <td>42553</td>\n",
       "      <td>39758</td>\n",
       "      <td>0</td>\n",
       "      <td>2010-05-20</td>\n",
       "      <td>MANHEIM</td>\n",
       "      <td>2004</td>\n",
       "      <td>6</td>\n",
       "      <td>FORD</td>\n",
       "      <td>V8</td>\n",
       "      <td>LAR</td>\n",
       "      <td>AUTO</td>\n",
       "      <td>...</td>\n",
       "      <td>NaN</td>\n",
       "      <td>835</td>\n",
       "      <td>85353</td>\n",
       "      <td>AZ</td>\n",
       "      <td>10065.0</td>\n",
       "      <td>0</td>\n",
       "      <td>853</td>\n",
       "      <td>F250</td>\n",
       "      <td>NaN</td>\n",
       "      <td>CREW CAB</td>\n",
       "    </tr>\n",
       "    <tr>\n",
       "      <td>46710</td>\n",
       "      <td>24019</td>\n",
       "      <td>0</td>\n",
       "      <td>2009-03-18</td>\n",
       "      <td>OTHER</td>\n",
       "      <td>2006</td>\n",
       "      <td>3</td>\n",
       "      <td>DODGE</td>\n",
       "      <td>NaN</td>\n",
       "      <td>SE</td>\n",
       "      <td>AUTO</td>\n",
       "      <td>...</td>\n",
       "      <td>NaN</td>\n",
       "      <td>18880</td>\n",
       "      <td>29697</td>\n",
       "      <td>SC</td>\n",
       "      <td>4200.0</td>\n",
       "      <td>0</td>\n",
       "      <td>1763</td>\n",
       "      <td>CARAVAN</td>\n",
       "      <td>NaN</td>\n",
       "      <td>BASE</td>\n",
       "    </tr>\n",
       "    <tr>\n",
       "      <td>56572</td>\n",
       "      <td>12073</td>\n",
       "      <td>0</td>\n",
       "      <td>2010-05-10</td>\n",
       "      <td>OTHER</td>\n",
       "      <td>2004</td>\n",
       "      <td>6</td>\n",
       "      <td>GMC</td>\n",
       "      <td>4C</td>\n",
       "      <td>SL</td>\n",
       "      <td>MANUAL</td>\n",
       "      <td>...</td>\n",
       "      <td>NaN</td>\n",
       "      <td>3453</td>\n",
       "      <td>84104</td>\n",
       "      <td>UT</td>\n",
       "      <td>6060.0</td>\n",
       "      <td>0</td>\n",
       "      <td>723</td>\n",
       "      <td>CANYON</td>\n",
       "      <td>NaN</td>\n",
       "      <td>EXT CAB</td>\n",
       "    </tr>\n",
       "  </tbody>\n",
       "</table>\n",
       "<p>16 rows × 31 columns</p>\n",
       "</div>"
      ],
      "text/plain": [
       "       RefId  IsBadBuy   PurchDate  Auction  VehYear  VehicleAge       Make  \\\n",
       "1303   36536         0  2009-10-14  MANHEIM     2007           2       JEEP   \n",
       "1306   63707         0  2009-06-24    ADESA     2008           1      DODGE   \n",
       "8590   50762         0  2010-01-29  MANHEIM     2006           4       FORD   \n",
       "11261  68239         0  2009-03-09    ADESA     2005           4        GMC   \n",
       "15769  10897         0  2009-10-19  MANHEIM     2002           7        GMC   \n",
       "20567  18554         0  2009-03-13    OTHER     2006           3      DODGE   \n",
       "20958  38392         1  2010-10-20  MANHEIM     2003           7     SUZUKI   \n",
       "22829   4928         0  2009-05-26  MANHEIM     2002           7  CHEVROLET   \n",
       "26061  71289         0  2009-12-02    ADESA     2006           3  CHEVROLET   \n",
       "28087  15374         0  2010-04-08  MANHEIM     2006           4       FORD   \n",
       "28494   8396         0  2010-08-16  MANHEIM     2007           3      HONDA   \n",
       "33996  24819         0  2010-10-27  MANHEIM     2007           3        GMC   \n",
       "35577  71333         0  2009-02-26    ADESA     2002           7     SUZUKI   \n",
       "42553  39758         0  2010-05-20  MANHEIM     2004           6       FORD   \n",
       "46710  24019         0  2009-03-18    OTHER     2006           3      DODGE   \n",
       "56572  12073         0  2010-05-10    OTHER     2004           6        GMC   \n",
       "\n",
       "        Engine Trim Transmission  ...  MMRCurrentRetailCleanPrice  BYRNO  \\\n",
       "1303       NaN  SPO         AUTO  ...                         NaN  22808   \n",
       "1306      5.7L   ST         AUTO  ...                         NaN  20234   \n",
       "8590       NaN  ZX5         AUTO  ...                         NaN  18822   \n",
       "11261     3.5L   SL         AUTO  ...                     13847.0   3453   \n",
       "15769      NaN   SL         AUTO  ...                         NaN  16044   \n",
       "20567      NaN   SE         AUTO  ...                         NaN  20740   \n",
       "20958      NaN  JLS         AUTO  ...                         NaN  52598   \n",
       "22829     8.1L   LS         AUTO  ...                         NaN    835   \n",
       "26061     5.3L  150         AUTO  ...                         NaN  17675   \n",
       "28087      NaN  ZX5         AUTO  ...                         NaN    835   \n",
       "28494      NaN   LX       MANUAL  ...                         NaN   5546   \n",
       "33996     6.0L  SLE         AUTO  ...                     18486.0   5546   \n",
       "35577  4C 2.0L  JLS         AUTO  ...                         NaN  18880   \n",
       "42553       V8  LAR         AUTO  ...                         NaN    835   \n",
       "46710      NaN   SE         AUTO  ...                         NaN  18880   \n",
       "56572       4C   SL       MANUAL  ...                         NaN   3453   \n",
       "\n",
       "      VNZIP1 VNST  VehBCost  IsOnlineSale  WarrantyCost             Model  \\\n",
       "1303   75236   TX   10750.0             0          1801         COMMANDER   \n",
       "1306   85226   AZ   12045.0             0           825          2500 RAM   \n",
       "8590   78219   TX    6625.0             0           762             FOCUS   \n",
       "11261  80817   CO    9000.0             0           803            CANYON   \n",
       "15769  27542   NC    7500.0             0          1455            SIERRA   \n",
       "20567  29461   SC    4800.0             0          1763           CARAVAN   \n",
       "20958  75236   TX    5870.0             0          1455      GRAND VITARA   \n",
       "22829  85040   AZ    8290.0             0          1320  2500HD SILVERADO   \n",
       "26061  28273   NC   10255.0             0          1623          SUBURBAN   \n",
       "28087  94544   CA    5800.0             0          1243             FOCUS   \n",
       "28494  27542   NC    9000.0             0           723           ELEMENT   \n",
       "33996  32124   FL   10650.0             0          1243     2500HD SIERRA   \n",
       "35577  28273   NC    4505.0             0          1220            VITARA   \n",
       "42553  85353   AZ   10065.0             0           853              F250   \n",
       "46710  29697   SC    4200.0             0          1763           CARAVAN   \n",
       "56572  84104   UT    6060.0             0           723            CANYON   \n",
       "\n",
       "       Doors       SubModel  \n",
       "1303     NaN           BASE  \n",
       "1306     NaN       QUAD CAB  \n",
       "8590      4D      HATCHBACK  \n",
       "11261    NaN        EXT CAB  \n",
       "15769    NaN           BASE  \n",
       "20567    NaN           BASE  \n",
       "20958     4D        HARDTOP  \n",
       "22829    NaN        EXT CAB  \n",
       "26061     4D        UTILITY  \n",
       "28087     4D      HATCHBACK  \n",
       "28494     4D  UTILITY SPORT  \n",
       "33996    NaN       CREW CAB  \n",
       "35577     4D        HARDTOP  \n",
       "42553    NaN       CREW CAB  \n",
       "46710    NaN           BASE  \n",
       "56572    NaN        EXT CAB  \n",
       "\n",
       "[16 rows x 31 columns]"
      ]
     },
     "execution_count": 508,
     "metadata": {},
     "output_type": "execute_result"
    }
   ],
   "source": [
    "dig"
   ]
  },
  {
   "cell_type": "code",
   "execution_count": 509,
   "metadata": {},
   "outputs": [],
   "source": [
    "dig = df[df['MMRCurrentRetailAveragePrice'].isnull()]"
   ]
  },
  {
   "cell_type": "code",
   "execution_count": 510,
   "metadata": {},
   "outputs": [
    {
     "data": {
      "text/plain": [
       "233      9750.0\n",
       "1303        NaN\n",
       "1306        NaN\n",
       "8590        NaN\n",
       "15769       NaN\n",
       "20567       NaN\n",
       "20958       NaN\n",
       "22829       NaN\n",
       "26061       NaN\n",
       "28087       NaN\n",
       "28494       NaN\n",
       "35577       NaN\n",
       "37242    8865.0\n",
       "42553       NaN\n",
       "46710       NaN\n",
       "56572       NaN\n",
       "Name: MMRAcquisitionAuctionAveragePrice, dtype: float64"
      ]
     },
     "execution_count": 510,
     "metadata": {},
     "output_type": "execute_result"
    }
   ],
   "source": [
    "dig['MMRAcquisitionAuctionAveragePrice']"
   ]
  },
  {
   "cell_type": "code",
   "execution_count": 511,
   "metadata": {},
   "outputs": [
    {
     "data": {
      "text/plain": [
       "233      10955.0\n",
       "1303         NaN\n",
       "1306         NaN\n",
       "8590         NaN\n",
       "15769        NaN\n",
       "20567        NaN\n",
       "20958        NaN\n",
       "22829        NaN\n",
       "26061        NaN\n",
       "28087        NaN\n",
       "28494        NaN\n",
       "35577        NaN\n",
       "37242     9821.0\n",
       "42553        NaN\n",
       "46710        NaN\n",
       "56572        NaN\n",
       "Name: MMRAcquisitionAuctionCleanPrice, dtype: float64"
      ]
     },
     "execution_count": 511,
     "metadata": {},
     "output_type": "execute_result"
    }
   ],
   "source": [
    "dig['MMRAcquisitionAuctionCleanPrice']"
   ]
  },
  {
   "cell_type": "code",
   "execution_count": 512,
   "metadata": {},
   "outputs": [
    {
     "data": {
      "text/plain": [
       "233      13537.0\n",
       "1303         NaN\n",
       "1306         NaN\n",
       "8590         NaN\n",
       "15769        NaN\n",
       "20567        NaN\n",
       "20958        NaN\n",
       "22829        NaN\n",
       "26061        NaN\n",
       "28087        NaN\n",
       "28494        NaN\n",
       "35577        NaN\n",
       "37242    12846.0\n",
       "42553        NaN\n",
       "46710        NaN\n",
       "56572        NaN\n",
       "Name: MMRAcquisitionRetailAveragePrice, dtype: float64"
      ]
     },
     "execution_count": 512,
     "metadata": {},
     "output_type": "execute_result"
    }
   ],
   "source": [
    "dig['MMRAcquisitionRetailAveragePrice']"
   ]
  },
  {
   "cell_type": "code",
   "execution_count": 513,
   "metadata": {},
   "outputs": [
    {
     "data": {
      "text/plain": [
       "233      14381.0\n",
       "1303         NaN\n",
       "1306         NaN\n",
       "8590         NaN\n",
       "15769        NaN\n",
       "20567        NaN\n",
       "20958        NaN\n",
       "22829        NaN\n",
       "26061        NaN\n",
       "28087        NaN\n",
       "28494        NaN\n",
       "35577        NaN\n",
       "37242    13878.0\n",
       "42553        NaN\n",
       "46710        NaN\n",
       "56572        NaN\n",
       "Name: MMRAcquisitonRetailCleanPrice, dtype: float64"
      ]
     },
     "execution_count": 513,
     "metadata": {},
     "output_type": "execute_result"
    }
   ],
   "source": [
    "dig['MMRAcquisitonRetailCleanPrice']"
   ]
  },
  {
   "cell_type": "code",
   "execution_count": 514,
   "metadata": {},
   "outputs": [
    {
     "data": {
      "text/plain": [
       "233     NaN\n",
       "1303    NaN\n",
       "1306    NaN\n",
       "8590    NaN\n",
       "15769   NaN\n",
       "20567   NaN\n",
       "20958   NaN\n",
       "22829   NaN\n",
       "26061   NaN\n",
       "28087   NaN\n",
       "28494   NaN\n",
       "35577   NaN\n",
       "37242   NaN\n",
       "42553   NaN\n",
       "46710   NaN\n",
       "56572   NaN\n",
       "Name: MMRCurrentRetailAveragePrice, dtype: float64"
      ]
     },
     "execution_count": 514,
     "metadata": {},
     "output_type": "execute_result"
    }
   ],
   "source": [
    "dig['MMRCurrentRetailAveragePrice']"
   ]
  },
  {
   "cell_type": "code",
   "execution_count": 515,
   "metadata": {},
   "outputs": [
    {
     "data": {
      "text/plain": [
       "233     NaN\n",
       "1303    NaN\n",
       "1306    NaN\n",
       "8590    NaN\n",
       "15769   NaN\n",
       "20567   NaN\n",
       "20958   NaN\n",
       "22829   NaN\n",
       "26061   NaN\n",
       "28087   NaN\n",
       "28494   NaN\n",
       "35577   NaN\n",
       "37242   NaN\n",
       "42553   NaN\n",
       "46710   NaN\n",
       "56572   NaN\n",
       "Name: MMRCurrentRetailCleanPrice, dtype: float64"
      ]
     },
     "execution_count": 515,
     "metadata": {},
     "output_type": "execute_result"
    }
   ],
   "source": [
    "dig['MMRCurrentRetailCleanPrice']"
   ]
  },
  {
   "cell_type": "code",
   "execution_count": 516,
   "metadata": {},
   "outputs": [
    {
     "data": {
      "text/html": [
       "<div>\n",
       "<style scoped>\n",
       "    .dataframe tbody tr th:only-of-type {\n",
       "        vertical-align: middle;\n",
       "    }\n",
       "\n",
       "    .dataframe tbody tr th {\n",
       "        vertical-align: top;\n",
       "    }\n",
       "\n",
       "    .dataframe thead th {\n",
       "        text-align: right;\n",
       "    }\n",
       "</style>\n",
       "<table border=\"1\" class=\"dataframe\">\n",
       "  <thead>\n",
       "    <tr style=\"text-align: right;\">\n",
       "      <th></th>\n",
       "      <th>RefId</th>\n",
       "      <th>IsBadBuy</th>\n",
       "      <th>PurchDate</th>\n",
       "      <th>Auction</th>\n",
       "      <th>VehYear</th>\n",
       "      <th>VehicleAge</th>\n",
       "      <th>Make</th>\n",
       "      <th>Engine</th>\n",
       "      <th>Trim</th>\n",
       "      <th>Transmission</th>\n",
       "      <th>...</th>\n",
       "      <th>MMRCurrentRetailCleanPrice</th>\n",
       "      <th>BYRNO</th>\n",
       "      <th>VNZIP1</th>\n",
       "      <th>VNST</th>\n",
       "      <th>VehBCost</th>\n",
       "      <th>IsOnlineSale</th>\n",
       "      <th>WarrantyCost</th>\n",
       "      <th>Model</th>\n",
       "      <th>Doors</th>\n",
       "      <th>SubModel</th>\n",
       "    </tr>\n",
       "  </thead>\n",
       "  <tbody>\n",
       "    <tr>\n",
       "      <td>233</td>\n",
       "      <td>42613</td>\n",
       "      <td>1</td>\n",
       "      <td>2010-07-10</td>\n",
       "      <td>MANHEIM</td>\n",
       "      <td>2007</td>\n",
       "      <td>3</td>\n",
       "      <td>ISUZU</td>\n",
       "      <td>5C</td>\n",
       "      <td>BAS</td>\n",
       "      <td>AUTO</td>\n",
       "      <td>...</td>\n",
       "      <td>NaN</td>\n",
       "      <td>18880</td>\n",
       "      <td>29532</td>\n",
       "      <td>SC</td>\n",
       "      <td>8985.0</td>\n",
       "      <td>0</td>\n",
       "      <td>1313</td>\n",
       "      <td>I-370</td>\n",
       "      <td>NaN</td>\n",
       "      <td>CREW CAB</td>\n",
       "    </tr>\n",
       "    <tr>\n",
       "      <td>1303</td>\n",
       "      <td>36536</td>\n",
       "      <td>0</td>\n",
       "      <td>2009-10-14</td>\n",
       "      <td>MANHEIM</td>\n",
       "      <td>2007</td>\n",
       "      <td>2</td>\n",
       "      <td>JEEP</td>\n",
       "      <td>NaN</td>\n",
       "      <td>SPO</td>\n",
       "      <td>AUTO</td>\n",
       "      <td>...</td>\n",
       "      <td>NaN</td>\n",
       "      <td>22808</td>\n",
       "      <td>75236</td>\n",
       "      <td>TX</td>\n",
       "      <td>10750.0</td>\n",
       "      <td>0</td>\n",
       "      <td>1801</td>\n",
       "      <td>COMMANDER</td>\n",
       "      <td>NaN</td>\n",
       "      <td>BASE</td>\n",
       "    </tr>\n",
       "    <tr>\n",
       "      <td>1306</td>\n",
       "      <td>63707</td>\n",
       "      <td>0</td>\n",
       "      <td>2009-06-24</td>\n",
       "      <td>ADESA</td>\n",
       "      <td>2008</td>\n",
       "      <td>1</td>\n",
       "      <td>DODGE</td>\n",
       "      <td>5.7L</td>\n",
       "      <td>ST</td>\n",
       "      <td>AUTO</td>\n",
       "      <td>...</td>\n",
       "      <td>NaN</td>\n",
       "      <td>20234</td>\n",
       "      <td>85226</td>\n",
       "      <td>AZ</td>\n",
       "      <td>12045.0</td>\n",
       "      <td>0</td>\n",
       "      <td>825</td>\n",
       "      <td>2500 RAM</td>\n",
       "      <td>NaN</td>\n",
       "      <td>QUAD CAB</td>\n",
       "    </tr>\n",
       "    <tr>\n",
       "      <td>8590</td>\n",
       "      <td>50762</td>\n",
       "      <td>0</td>\n",
       "      <td>2010-01-29</td>\n",
       "      <td>MANHEIM</td>\n",
       "      <td>2006</td>\n",
       "      <td>4</td>\n",
       "      <td>FORD</td>\n",
       "      <td>NaN</td>\n",
       "      <td>ZX5</td>\n",
       "      <td>AUTO</td>\n",
       "      <td>...</td>\n",
       "      <td>NaN</td>\n",
       "      <td>18822</td>\n",
       "      <td>78219</td>\n",
       "      <td>TX</td>\n",
       "      <td>6625.0</td>\n",
       "      <td>0</td>\n",
       "      <td>762</td>\n",
       "      <td>FOCUS</td>\n",
       "      <td>4D</td>\n",
       "      <td>HATCHBACK</td>\n",
       "    </tr>\n",
       "    <tr>\n",
       "      <td>15769</td>\n",
       "      <td>10897</td>\n",
       "      <td>0</td>\n",
       "      <td>2009-10-19</td>\n",
       "      <td>MANHEIM</td>\n",
       "      <td>2002</td>\n",
       "      <td>7</td>\n",
       "      <td>GMC</td>\n",
       "      <td>NaN</td>\n",
       "      <td>SL</td>\n",
       "      <td>AUTO</td>\n",
       "      <td>...</td>\n",
       "      <td>NaN</td>\n",
       "      <td>16044</td>\n",
       "      <td>27542</td>\n",
       "      <td>NC</td>\n",
       "      <td>7500.0</td>\n",
       "      <td>0</td>\n",
       "      <td>1455</td>\n",
       "      <td>SIERRA</td>\n",
       "      <td>NaN</td>\n",
       "      <td>BASE</td>\n",
       "    </tr>\n",
       "    <tr>\n",
       "      <td>20567</td>\n",
       "      <td>18554</td>\n",
       "      <td>0</td>\n",
       "      <td>2009-03-13</td>\n",
       "      <td>OTHER</td>\n",
       "      <td>2006</td>\n",
       "      <td>3</td>\n",
       "      <td>DODGE</td>\n",
       "      <td>NaN</td>\n",
       "      <td>SE</td>\n",
       "      <td>AUTO</td>\n",
       "      <td>...</td>\n",
       "      <td>NaN</td>\n",
       "      <td>20740</td>\n",
       "      <td>29461</td>\n",
       "      <td>SC</td>\n",
       "      <td>4800.0</td>\n",
       "      <td>0</td>\n",
       "      <td>1763</td>\n",
       "      <td>CARAVAN</td>\n",
       "      <td>NaN</td>\n",
       "      <td>BASE</td>\n",
       "    </tr>\n",
       "    <tr>\n",
       "      <td>20958</td>\n",
       "      <td>38392</td>\n",
       "      <td>1</td>\n",
       "      <td>2010-10-20</td>\n",
       "      <td>MANHEIM</td>\n",
       "      <td>2003</td>\n",
       "      <td>7</td>\n",
       "      <td>SUZUKI</td>\n",
       "      <td>NaN</td>\n",
       "      <td>JLS</td>\n",
       "      <td>AUTO</td>\n",
       "      <td>...</td>\n",
       "      <td>NaN</td>\n",
       "      <td>52598</td>\n",
       "      <td>75236</td>\n",
       "      <td>TX</td>\n",
       "      <td>5870.0</td>\n",
       "      <td>0</td>\n",
       "      <td>1455</td>\n",
       "      <td>GRAND VITARA</td>\n",
       "      <td>4D</td>\n",
       "      <td>HARDTOP</td>\n",
       "    </tr>\n",
       "    <tr>\n",
       "      <td>22829</td>\n",
       "      <td>4928</td>\n",
       "      <td>0</td>\n",
       "      <td>2009-05-26</td>\n",
       "      <td>MANHEIM</td>\n",
       "      <td>2002</td>\n",
       "      <td>7</td>\n",
       "      <td>CHEVROLET</td>\n",
       "      <td>8.1L</td>\n",
       "      <td>LS</td>\n",
       "      <td>AUTO</td>\n",
       "      <td>...</td>\n",
       "      <td>NaN</td>\n",
       "      <td>835</td>\n",
       "      <td>85040</td>\n",
       "      <td>AZ</td>\n",
       "      <td>8290.0</td>\n",
       "      <td>0</td>\n",
       "      <td>1320</td>\n",
       "      <td>2500HD SILVERADO</td>\n",
       "      <td>NaN</td>\n",
       "      <td>EXT CAB</td>\n",
       "    </tr>\n",
       "    <tr>\n",
       "      <td>26061</td>\n",
       "      <td>71289</td>\n",
       "      <td>0</td>\n",
       "      <td>2009-12-02</td>\n",
       "      <td>ADESA</td>\n",
       "      <td>2006</td>\n",
       "      <td>3</td>\n",
       "      <td>CHEVROLET</td>\n",
       "      <td>5.3L</td>\n",
       "      <td>150</td>\n",
       "      <td>AUTO</td>\n",
       "      <td>...</td>\n",
       "      <td>NaN</td>\n",
       "      <td>17675</td>\n",
       "      <td>28273</td>\n",
       "      <td>NC</td>\n",
       "      <td>10255.0</td>\n",
       "      <td>0</td>\n",
       "      <td>1623</td>\n",
       "      <td>SUBURBAN</td>\n",
       "      <td>4D</td>\n",
       "      <td>UTILITY</td>\n",
       "    </tr>\n",
       "    <tr>\n",
       "      <td>28087</td>\n",
       "      <td>15374</td>\n",
       "      <td>0</td>\n",
       "      <td>2010-04-08</td>\n",
       "      <td>MANHEIM</td>\n",
       "      <td>2006</td>\n",
       "      <td>4</td>\n",
       "      <td>FORD</td>\n",
       "      <td>NaN</td>\n",
       "      <td>ZX5</td>\n",
       "      <td>AUTO</td>\n",
       "      <td>...</td>\n",
       "      <td>NaN</td>\n",
       "      <td>835</td>\n",
       "      <td>94544</td>\n",
       "      <td>CA</td>\n",
       "      <td>5800.0</td>\n",
       "      <td>0</td>\n",
       "      <td>1243</td>\n",
       "      <td>FOCUS</td>\n",
       "      <td>4D</td>\n",
       "      <td>HATCHBACK</td>\n",
       "    </tr>\n",
       "    <tr>\n",
       "      <td>28494</td>\n",
       "      <td>8396</td>\n",
       "      <td>0</td>\n",
       "      <td>2010-08-16</td>\n",
       "      <td>MANHEIM</td>\n",
       "      <td>2007</td>\n",
       "      <td>3</td>\n",
       "      <td>HONDA</td>\n",
       "      <td>NaN</td>\n",
       "      <td>LX</td>\n",
       "      <td>MANUAL</td>\n",
       "      <td>...</td>\n",
       "      <td>NaN</td>\n",
       "      <td>5546</td>\n",
       "      <td>27542</td>\n",
       "      <td>NC</td>\n",
       "      <td>9000.0</td>\n",
       "      <td>0</td>\n",
       "      <td>723</td>\n",
       "      <td>ELEMENT</td>\n",
       "      <td>4D</td>\n",
       "      <td>UTILITY SPORT</td>\n",
       "    </tr>\n",
       "    <tr>\n",
       "      <td>35577</td>\n",
       "      <td>71333</td>\n",
       "      <td>0</td>\n",
       "      <td>2009-02-26</td>\n",
       "      <td>ADESA</td>\n",
       "      <td>2002</td>\n",
       "      <td>7</td>\n",
       "      <td>SUZUKI</td>\n",
       "      <td>4C 2.0L</td>\n",
       "      <td>JLS</td>\n",
       "      <td>AUTO</td>\n",
       "      <td>...</td>\n",
       "      <td>NaN</td>\n",
       "      <td>18880</td>\n",
       "      <td>28273</td>\n",
       "      <td>NC</td>\n",
       "      <td>4505.0</td>\n",
       "      <td>0</td>\n",
       "      <td>1220</td>\n",
       "      <td>VITARA</td>\n",
       "      <td>4D</td>\n",
       "      <td>HARDTOP</td>\n",
       "    </tr>\n",
       "    <tr>\n",
       "      <td>37242</td>\n",
       "      <td>51891</td>\n",
       "      <td>0</td>\n",
       "      <td>2010-09-13</td>\n",
       "      <td>MANHEIM</td>\n",
       "      <td>2006</td>\n",
       "      <td>4</td>\n",
       "      <td>SUBARU</td>\n",
       "      <td>NaN</td>\n",
       "      <td>BAS</td>\n",
       "      <td>AUTO</td>\n",
       "      <td>...</td>\n",
       "      <td>NaN</td>\n",
       "      <td>1235</td>\n",
       "      <td>80011</td>\n",
       "      <td>CO</td>\n",
       "      <td>9600.0</td>\n",
       "      <td>1</td>\n",
       "      <td>623</td>\n",
       "      <td>IMPREZA</td>\n",
       "      <td>4D</td>\n",
       "      <td>SEDAN</td>\n",
       "    </tr>\n",
       "    <tr>\n",
       "      <td>42553</td>\n",
       "      <td>39758</td>\n",
       "      <td>0</td>\n",
       "      <td>2010-05-20</td>\n",
       "      <td>MANHEIM</td>\n",
       "      <td>2004</td>\n",
       "      <td>6</td>\n",
       "      <td>FORD</td>\n",
       "      <td>V8</td>\n",
       "      <td>LAR</td>\n",
       "      <td>AUTO</td>\n",
       "      <td>...</td>\n",
       "      <td>NaN</td>\n",
       "      <td>835</td>\n",
       "      <td>85353</td>\n",
       "      <td>AZ</td>\n",
       "      <td>10065.0</td>\n",
       "      <td>0</td>\n",
       "      <td>853</td>\n",
       "      <td>F250</td>\n",
       "      <td>NaN</td>\n",
       "      <td>CREW CAB</td>\n",
       "    </tr>\n",
       "    <tr>\n",
       "      <td>46710</td>\n",
       "      <td>24019</td>\n",
       "      <td>0</td>\n",
       "      <td>2009-03-18</td>\n",
       "      <td>OTHER</td>\n",
       "      <td>2006</td>\n",
       "      <td>3</td>\n",
       "      <td>DODGE</td>\n",
       "      <td>NaN</td>\n",
       "      <td>SE</td>\n",
       "      <td>AUTO</td>\n",
       "      <td>...</td>\n",
       "      <td>NaN</td>\n",
       "      <td>18880</td>\n",
       "      <td>29697</td>\n",
       "      <td>SC</td>\n",
       "      <td>4200.0</td>\n",
       "      <td>0</td>\n",
       "      <td>1763</td>\n",
       "      <td>CARAVAN</td>\n",
       "      <td>NaN</td>\n",
       "      <td>BASE</td>\n",
       "    </tr>\n",
       "    <tr>\n",
       "      <td>56572</td>\n",
       "      <td>12073</td>\n",
       "      <td>0</td>\n",
       "      <td>2010-05-10</td>\n",
       "      <td>OTHER</td>\n",
       "      <td>2004</td>\n",
       "      <td>6</td>\n",
       "      <td>GMC</td>\n",
       "      <td>4C</td>\n",
       "      <td>SL</td>\n",
       "      <td>MANUAL</td>\n",
       "      <td>...</td>\n",
       "      <td>NaN</td>\n",
       "      <td>3453</td>\n",
       "      <td>84104</td>\n",
       "      <td>UT</td>\n",
       "      <td>6060.0</td>\n",
       "      <td>0</td>\n",
       "      <td>723</td>\n",
       "      <td>CANYON</td>\n",
       "      <td>NaN</td>\n",
       "      <td>EXT CAB</td>\n",
       "    </tr>\n",
       "  </tbody>\n",
       "</table>\n",
       "<p>16 rows × 31 columns</p>\n",
       "</div>"
      ],
      "text/plain": [
       "       RefId  IsBadBuy   PurchDate  Auction  VehYear  VehicleAge       Make  \\\n",
       "233    42613         1  2010-07-10  MANHEIM     2007           3      ISUZU   \n",
       "1303   36536         0  2009-10-14  MANHEIM     2007           2       JEEP   \n",
       "1306   63707         0  2009-06-24    ADESA     2008           1      DODGE   \n",
       "8590   50762         0  2010-01-29  MANHEIM     2006           4       FORD   \n",
       "15769  10897         0  2009-10-19  MANHEIM     2002           7        GMC   \n",
       "20567  18554         0  2009-03-13    OTHER     2006           3      DODGE   \n",
       "20958  38392         1  2010-10-20  MANHEIM     2003           7     SUZUKI   \n",
       "22829   4928         0  2009-05-26  MANHEIM     2002           7  CHEVROLET   \n",
       "26061  71289         0  2009-12-02    ADESA     2006           3  CHEVROLET   \n",
       "28087  15374         0  2010-04-08  MANHEIM     2006           4       FORD   \n",
       "28494   8396         0  2010-08-16  MANHEIM     2007           3      HONDA   \n",
       "35577  71333         0  2009-02-26    ADESA     2002           7     SUZUKI   \n",
       "37242  51891         0  2010-09-13  MANHEIM     2006           4     SUBARU   \n",
       "42553  39758         0  2010-05-20  MANHEIM     2004           6       FORD   \n",
       "46710  24019         0  2009-03-18    OTHER     2006           3      DODGE   \n",
       "56572  12073         0  2010-05-10    OTHER     2004           6        GMC   \n",
       "\n",
       "        Engine Trim Transmission  ...  MMRCurrentRetailCleanPrice  BYRNO  \\\n",
       "233         5C  BAS         AUTO  ...                         NaN  18880   \n",
       "1303       NaN  SPO         AUTO  ...                         NaN  22808   \n",
       "1306      5.7L   ST         AUTO  ...                         NaN  20234   \n",
       "8590       NaN  ZX5         AUTO  ...                         NaN  18822   \n",
       "15769      NaN   SL         AUTO  ...                         NaN  16044   \n",
       "20567      NaN   SE         AUTO  ...                         NaN  20740   \n",
       "20958      NaN  JLS         AUTO  ...                         NaN  52598   \n",
       "22829     8.1L   LS         AUTO  ...                         NaN    835   \n",
       "26061     5.3L  150         AUTO  ...                         NaN  17675   \n",
       "28087      NaN  ZX5         AUTO  ...                         NaN    835   \n",
       "28494      NaN   LX       MANUAL  ...                         NaN   5546   \n",
       "35577  4C 2.0L  JLS         AUTO  ...                         NaN  18880   \n",
       "37242      NaN  BAS         AUTO  ...                         NaN   1235   \n",
       "42553       V8  LAR         AUTO  ...                         NaN    835   \n",
       "46710      NaN   SE         AUTO  ...                         NaN  18880   \n",
       "56572       4C   SL       MANUAL  ...                         NaN   3453   \n",
       "\n",
       "      VNZIP1 VNST  VehBCost  IsOnlineSale  WarrantyCost             Model  \\\n",
       "233    29532   SC    8985.0             0          1313             I-370   \n",
       "1303   75236   TX   10750.0             0          1801         COMMANDER   \n",
       "1306   85226   AZ   12045.0             0           825          2500 RAM   \n",
       "8590   78219   TX    6625.0             0           762             FOCUS   \n",
       "15769  27542   NC    7500.0             0          1455            SIERRA   \n",
       "20567  29461   SC    4800.0             0          1763           CARAVAN   \n",
       "20958  75236   TX    5870.0             0          1455      GRAND VITARA   \n",
       "22829  85040   AZ    8290.0             0          1320  2500HD SILVERADO   \n",
       "26061  28273   NC   10255.0             0          1623          SUBURBAN   \n",
       "28087  94544   CA    5800.0             0          1243             FOCUS   \n",
       "28494  27542   NC    9000.0             0           723           ELEMENT   \n",
       "35577  28273   NC    4505.0             0          1220            VITARA   \n",
       "37242  80011   CO    9600.0             1           623           IMPREZA   \n",
       "42553  85353   AZ   10065.0             0           853              F250   \n",
       "46710  29697   SC    4200.0             0          1763           CARAVAN   \n",
       "56572  84104   UT    6060.0             0           723            CANYON   \n",
       "\n",
       "       Doors       SubModel  \n",
       "233      NaN       CREW CAB  \n",
       "1303     NaN           BASE  \n",
       "1306     NaN       QUAD CAB  \n",
       "8590      4D      HATCHBACK  \n",
       "15769    NaN           BASE  \n",
       "20567    NaN           BASE  \n",
       "20958     4D        HARDTOP  \n",
       "22829    NaN        EXT CAB  \n",
       "26061     4D        UTILITY  \n",
       "28087     4D      HATCHBACK  \n",
       "28494     4D  UTILITY SPORT  \n",
       "35577     4D        HARDTOP  \n",
       "37242     4D          SEDAN  \n",
       "42553    NaN       CREW CAB  \n",
       "46710    NaN           BASE  \n",
       "56572    NaN        EXT CAB  \n",
       "\n",
       "[16 rows x 31 columns]"
      ]
     },
     "execution_count": 516,
     "metadata": {},
     "output_type": "execute_result"
    }
   ],
   "source": [
    "dig"
   ]
  },
  {
   "cell_type": "code",
   "execution_count": 517,
   "metadata": {},
   "outputs": [
    {
     "data": {
      "text/plain": [
       "0"
      ]
     },
     "execution_count": 517,
     "metadata": {},
     "output_type": "execute_result"
    }
   ],
   "source": [
    "df = df.dropna(subset=['MMRAcquisitionAuctionAveragePrice'])\n",
    "df['MMRAcquisitionAuctionAveragePrice'].isnull().sum()"
   ]
  },
  {
   "cell_type": "code",
   "execution_count": 518,
   "metadata": {},
   "outputs": [
    {
     "data": {
      "text/plain": [
       "0"
      ]
     },
     "execution_count": 518,
     "metadata": {},
     "output_type": "execute_result"
    }
   ],
   "source": [
    "df['MMRAcquisitionAuctionCleanPrice'].isnull().sum()"
   ]
  },
  {
   "cell_type": "code",
   "execution_count": 519,
   "metadata": {},
   "outputs": [
    {
     "data": {
      "text/plain": [
       "0"
      ]
     },
     "execution_count": 519,
     "metadata": {},
     "output_type": "execute_result"
    }
   ],
   "source": [
    "df['MMRAcquisitionRetailAveragePrice'].isnull().sum()"
   ]
  },
  {
   "cell_type": "code",
   "execution_count": 520,
   "metadata": {},
   "outputs": [
    {
     "data": {
      "text/plain": [
       "0"
      ]
     },
     "execution_count": 520,
     "metadata": {},
     "output_type": "execute_result"
    }
   ],
   "source": [
    "df['MMRAcquisitonRetailCleanPrice'].isnull().sum()"
   ]
  },
  {
   "cell_type": "code",
   "execution_count": 521,
   "metadata": {},
   "outputs": [
    {
     "data": {
      "text/plain": [
       "0"
      ]
     },
     "execution_count": 521,
     "metadata": {},
     "output_type": "execute_result"
    }
   ],
   "source": [
    "df = df.dropna(subset=['MMRCurrentAuctionAveragePrice'])\n",
    "df['MMRCurrentAuctionAveragePrice'].isnull().sum()"
   ]
  },
  {
   "cell_type": "code",
   "execution_count": 522,
   "metadata": {},
   "outputs": [
    {
     "data": {
      "text/plain": [
       "0"
      ]
     },
     "execution_count": 522,
     "metadata": {},
     "output_type": "execute_result"
    }
   ],
   "source": [
    "df['MMRCurrentAuctionCleanPrice'].isnull().sum()"
   ]
  },
  {
   "cell_type": "code",
   "execution_count": 523,
   "metadata": {},
   "outputs": [
    {
     "data": {
      "text/plain": [
       "0"
      ]
     },
     "execution_count": 523,
     "metadata": {},
     "output_type": "execute_result"
    }
   ],
   "source": [
    "df['MMRCurrentRetailAveragePrice'].isnull().sum()"
   ]
  },
  {
   "cell_type": "code",
   "execution_count": 524,
   "metadata": {},
   "outputs": [
    {
     "data": {
      "text/plain": [
       "0"
      ]
     },
     "execution_count": 524,
     "metadata": {},
     "output_type": "execute_result"
    }
   ],
   "source": [
    "df['MMRCurrentRetailCleanPrice'].isnull().sum()"
   ]
  },
  {
   "cell_type": "code",
   "execution_count": 322,
   "metadata": {},
   "outputs": [
    {
     "name": "stdout",
     "output_type": "stream",
     "text": [
      "<class 'pandas.core.frame.DataFrame'>\n",
      "Int64Index: 58368 entries, 0 to 58385\n",
      "Data columns (total 31 columns):\n",
      "RefId                                58368 non-null int64\n",
      "IsBadBuy                             58368 non-null int64\n",
      "PurchDate                            58368 non-null object\n",
      "Auction                              58368 non-null object\n",
      "VehYear                              58368 non-null int64\n",
      "VehicleAge                           58368 non-null int64\n",
      "Make                                 58368 non-null object\n",
      "Engine                               38795 non-null object\n",
      "Trim                                 58368 non-null object\n",
      "Transmission                         58368 non-null object\n",
      "WheelTypeID                          58368 non-null float64\n",
      "VehOdo                               58368 non-null int64\n",
      "Nationality                          58368 non-null object\n",
      "Size                                 58368 non-null object\n",
      "MMRAcquisitionAuctionAveragePrice    58368 non-null float64\n",
      "MMRAcquisitionAuctionCleanPrice      58368 non-null float64\n",
      "MMRAcquisitionRetailAveragePrice     58368 non-null float64\n",
      "MMRAcquisitonRetailCleanPrice        58368 non-null float64\n",
      "MMRCurrentAuctionAveragePrice        58368 non-null float64\n",
      "MMRCurrentAuctionCleanPrice          58368 non-null float64\n",
      "MMRCurrentRetailAveragePrice         58368 non-null float64\n",
      "MMRCurrentRetailCleanPrice           58368 non-null float64\n",
      "BYRNO                                58368 non-null int64\n",
      "VNZIP1                               58368 non-null int64\n",
      "VNST                                 58368 non-null object\n",
      "VehBCost                             58368 non-null float64\n",
      "IsOnlineSale                         58368 non-null int64\n",
      "WarrantyCost                         58368 non-null int64\n",
      "Model                                58368 non-null object\n",
      "Doors                                50642 non-null object\n",
      "SubModel                             58368 non-null object\n",
      "dtypes: float64(10), int64(9), object(12)\n",
      "memory usage: 14.2+ MB\n"
     ]
    }
   ],
   "source": [
    "df.info()"
   ]
  },
  {
   "cell_type": "code",
   "execution_count": 323,
   "metadata": {},
   "outputs": [],
   "source": [
    "df.to_csv(path_or_buf='trainingsetnomissingvalue.csv' ,index=False)"
   ]
  }
 ],
 "metadata": {
  "kernelspec": {
   "display_name": "Python 3",
   "language": "python",
   "name": "python3"
  },
  "language_info": {
   "codemirror_mode": {
    "name": "ipython",
    "version": 3
   },
   "file_extension": ".py",
   "mimetype": "text/x-python",
   "name": "python",
   "nbconvert_exporter": "python",
   "pygments_lexer": "ipython3",
   "version": "3.6.5"
  }
 },
 "nbformat": 4,
 "nbformat_minor": 2
}
