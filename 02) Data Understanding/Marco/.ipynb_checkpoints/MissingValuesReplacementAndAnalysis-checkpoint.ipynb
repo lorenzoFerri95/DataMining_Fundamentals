{
 "cells": [
  {
   "cell_type": "markdown",
   "metadata": {},
   "source": [
    "# MissingValuesAnalysis\n",
    "AIM: Apportare una riduzione significativa nel numero di missing values confrontando di volta in volta le distribuzioni dei valori , pre e dopo il trattamento, anche raggruppate per sottocategorie dove ritenuto necessario."
   ]
  },
  {
   "cell_type": "code",
   "execution_count": 1,
   "metadata": {},
   "outputs": [],
   "source": [
    "%matplotlib inline\n",
    "import math\n",
    "import numpy as np\n",
    "import pandas as pd\n",
    "import scipy.stats as stats\n",
    "import matplotlib.pyplot as plt\n",
    "\n",
    "from collections import defaultdict\n",
    "from scipy.stats.stats import pearsonr\n",
    "\n",
    "df = pd.read_csv('../../Dataset/newTrain.csv')\n",
    "dfold = pd.read_csv('../../Dataset/newTrain.csv')\n",
    "df[\"PurchDate\"] = df[\"PurchDate\"].astype(\"datetime64\")\n",
    "dfold[\"PurchDate\"] = dfold[\"PurchDate\"].astype(\"datetime64\")"
   ]
  },
  {
   "cell_type": "markdown",
   "metadata": {},
   "source": [
    "# Modifiche Preliminari per preservare la correttezza semantica"
   ]
  },
  {
   "cell_type": "code",
   "execution_count": 2,
   "metadata": {},
   "outputs": [
    {
     "data": {
      "text/plain": [
       "PLYMOUTH    1\n",
       "HUMMER      1\n",
       "Name: Make, dtype: int64"
      ]
     },
     "execution_count": 2,
     "metadata": {},
     "output_type": "execute_result"
    }
   ],
   "source": [
    "df['Make'].replace(['TOYOTA SCION'], ['SCION'], inplace=True)\n",
    "ValueCount=df['Make'].value_counts()\n",
    "ValueCount[df['Make'].value_counts()<15]"
   ]
  },
  {
   "cell_type": "code",
   "execution_count": 3,
   "metadata": {},
   "outputs": [],
   "source": [
    "df['WheelTypeID'].replace(0, np.nan, inplace=True)"
   ]
  },
  {
   "cell_type": "code",
   "execution_count": 4,
   "metadata": {},
   "outputs": [
    {
     "data": {
      "text/plain": [
       "AMERICAN        48800\n",
       "NOT AMERICAN     9582\n",
       "Name: Nationality, dtype: int64"
      ]
     },
     "execution_count": 4,
     "metadata": {},
     "output_type": "execute_result"
    }
   ],
   "source": [
    "df['Nationality'].replace(['OTHER', 'OTHER ASIAN', 'TOP LINE ASIAN'], ['NOT AMERICAN', 'NOT AMERICAN', 'NOT AMERICAN'], inplace=True)\n",
    "df['Nationality'].value_counts()"
   ]
  },
  {
   "cell_type": "markdown",
   "metadata": {},
   "source": [
    "# Check dello stato del dataset"
   ]
  },
  {
   "cell_type": "code",
   "execution_count": 5,
   "metadata": {},
   "outputs": [
    {
     "data": {
      "text/plain": [
       "RefId                                    0\n",
       "IsBadBuy                                 0\n",
       "PurchDate                                0\n",
       "Auction                                  0\n",
       "VehYear                                  0\n",
       "VehicleAge                               0\n",
       "Make                                     0\n",
       "Engine                               19582\n",
       "Trim                                  1793\n",
       "SubModelSpecifics                    49091\n",
       "Color                                    7\n",
       "Transmission                             8\n",
       "WheelTypeID                           2577\n",
       "WheelType                             2577\n",
       "VehOdo                                   0\n",
       "Nationality                              4\n",
       "Size                                     4\n",
       "TopThreeAmericanName                     4\n",
       "MMRAcquisitionAuctionAveragePrice       13\n",
       "MMRAcquisitionAuctionCleanPrice         13\n",
       "MMRAcquisitionRetailAveragePrice        13\n",
       "MMRAcquisitonRetailCleanPrice           13\n",
       "MMRCurrentAuctionAveragePrice          245\n",
       "MMRCurrentAuctionCleanPrice            245\n",
       "MMRCurrentRetailAveragePrice           245\n",
       "MMRCurrentRetailCleanPrice             245\n",
       "PRIMEUNIT                            55703\n",
       "AUCGUART                             55703\n",
       "BYRNO                                    0\n",
       "VNZIP1                                   0\n",
       "VNST                                     0\n",
       "VehBCost                                 0\n",
       "IsOnlineSale                             0\n",
       "WarrantyCost                             0\n",
       "Model                                    0\n",
       "Wheeldrive                           40532\n",
       "Doors                                 7737\n",
       "SubModel                                 7\n",
       "dtype: int64"
      ]
     },
     "execution_count": 5,
     "metadata": {},
     "output_type": "execute_result"
    }
   ],
   "source": [
    "df.isnull().sum()  "
   ]
  },
  {
   "cell_type": "code",
   "execution_count": 6,
   "metadata": {},
   "outputs": [
    {
     "data": {
      "text/plain": [
       "RefId                                    0\n",
       "IsBadBuy                             51178\n",
       "PurchDate                                0\n",
       "Auction                                  0\n",
       "VehYear                                  0\n",
       "VehicleAge                               1\n",
       "Make                                     0\n",
       "Engine                                   0\n",
       "Trim                                     0\n",
       "SubModelSpecifics                        0\n",
       "Color                                    0\n",
       "Transmission                             0\n",
       "WheelTypeID                              0\n",
       "WheelType                                0\n",
       "VehOdo                                   0\n",
       "Nationality                              0\n",
       "Size                                     0\n",
       "TopThreeAmericanName                     0\n",
       "MMRAcquisitionAuctionAveragePrice      648\n",
       "MMRAcquisitionAuctionCleanPrice        552\n",
       "MMRAcquisitionRetailAveragePrice       648\n",
       "MMRAcquisitonRetailCleanPrice          648\n",
       "MMRCurrentAuctionAveragePrice          393\n",
       "MMRCurrentAuctionCleanPrice            300\n",
       "MMRCurrentRetailAveragePrice           393\n",
       "MMRCurrentRetailCleanPrice             393\n",
       "PRIMEUNIT                                0\n",
       "AUCGUART                                 0\n",
       "BYRNO                                    0\n",
       "VNZIP1                                   0\n",
       "VNST                                     0\n",
       "VehBCost                                 0\n",
       "IsOnlineSale                         56887\n",
       "WarrantyCost                             0\n",
       "Model                                    0\n",
       "Wheeldrive                               0\n",
       "Doors                                    0\n",
       "SubModel                                 0\n",
       "dtype: int64"
      ]
     },
     "execution_count": 6,
     "metadata": {},
     "output_type": "execute_result"
    }
   ],
   "source": [
    "(df == 0).sum(axis=0)"
   ]
  },
  {
   "cell_type": "code",
   "execution_count": 7,
   "metadata": {},
   "outputs": [
    {
     "data": {
      "text/plain": [
       "RefId                                    1\n",
       "IsBadBuy                              7208\n",
       "PurchDate                                0\n",
       "Auction                                  0\n",
       "VehYear                                  0\n",
       "VehicleAge                            2509\n",
       "Make                                     0\n",
       "Engine                                   0\n",
       "Trim                                     0\n",
       "SubModelSpecifics                        0\n",
       "Color                                    0\n",
       "Transmission                             0\n",
       "WheelTypeID                          28735\n",
       "WheelType                                0\n",
       "VehOdo                                   0\n",
       "Nationality                              0\n",
       "Size                                     0\n",
       "TopThreeAmericanName                     0\n",
       "MMRAcquisitionAuctionAveragePrice        0\n",
       "MMRAcquisitionAuctionCleanPrice         96\n",
       "MMRAcquisitionRetailAveragePrice         0\n",
       "MMRAcquisitonRetailCleanPrice            0\n",
       "MMRCurrentAuctionAveragePrice            0\n",
       "MMRCurrentAuctionCleanPrice             93\n",
       "MMRCurrentRetailAveragePrice             0\n",
       "MMRCurrentRetailCleanPrice               0\n",
       "PRIMEUNIT                                0\n",
       "AUCGUART                                 0\n",
       "BYRNO                                    0\n",
       "VNZIP1                                   0\n",
       "VNST                                     0\n",
       "VehBCost                                 1\n",
       "IsOnlineSale                          1499\n",
       "WarrantyCost                             0\n",
       "Model                                    0\n",
       "Wheeldrive                               0\n",
       "Doors                                    0\n",
       "SubModel                                 0\n",
       "dtype: int64"
      ]
     },
     "execution_count": 7,
     "metadata": {},
     "output_type": "execute_result"
    }
   ],
   "source": [
    "(df == 1).sum(axis=0)"
   ]
  },
  {
   "cell_type": "markdown",
   "metadata": {},
   "source": [
    "# Inizio riempimento e analisi Missing Values per le categoriche"
   ]
  },
  {
   "cell_type": "markdown",
   "metadata": {},
   "source": [
    "# SubModel"
   ]
  },
  {
   "cell_type": "code",
   "execution_count": 8,
   "metadata": {},
   "outputs": [
    {
     "data": {
      "text/plain": [
       "0"
      ]
     },
     "execution_count": 8,
     "metadata": {},
     "output_type": "execute_result"
    }
   ],
   "source": [
    "Variable=\"SubModel\"\n",
    "#Sostituzione dei valori nulli del submodel utilizzando la moda raggruppata per modello e anno\n",
    "df[Variable] = df['SubModel'].groupby([df['Model'], df['VehYear']]).fillna(df[Variable].mode()[0])\n",
    "df[Variable].isnull().sum()"
   ]
  },
  {
   "cell_type": "code",
   "execution_count": 9,
   "metadata": {},
   "outputs": [
    {
     "data": {
      "image/png": "[encoded data removed]",
      "text/plain": [
       "<Figure size 1440x1440 with 2 Axes>"
      ]
     },
     "metadata": {
      "needs_background": "light"
     },
     "output_type": "display_data"
    }
   ],
   "source": [
    "# Set up a grid of plots\n",
    "fig = plt.figure(figsize=(20, 20)) \n",
    "fig_dims = (3, 2)\n",
    "\n",
    "# Plot old Distribution\n",
    "plt.subplot2grid(fig_dims, (0, 0))\n",
    "dfold[Variable].value_counts().plot(kind=\"bar\", title='Old distrib')\n",
    "\n",
    "# Plot new Distribution\n",
    "plt.subplot2grid(fig_dims, (0, 1))\n",
    "df[Variable].value_counts().plot(kind=\"bar\", title='New distrib')\n",
    "\n",
    "plt.show()"
   ]
  },
  {
   "cell_type": "markdown",
   "metadata": {},
   "source": [
    "# Trim\n",
    "aumento della categoria bas"
   ]
  },
  {
   "cell_type": "code",
   "execution_count": 10,
   "metadata": {},
   "outputs": [
    {
     "data": {
      "text/plain": [
       "0"
      ]
     },
     "execution_count": 10,
     "metadata": {},
     "output_type": "execute_result"
    }
   ],
   "source": [
    "Variable='Trim'\n",
    "#Sostituzione dei valori nulli del trim utilizzando la moda raggruppata per modello sottomodello e anno\n",
    "df[Variable] = df[Variable].groupby([df['Model'], df['SubModel'], df['VehYear']]).fillna(df[Variable].mode()[0])\n",
    "df[Variable].isnull().sum()"
   ]
  },
  {
   "cell_type": "code",
   "execution_count": 11,
   "metadata": {},
   "outputs": [
    {
     "data": {
      "image/png": "[encoded data removed]",
      "text/plain": [
       "<Figure size 1440x1440 with 2 Axes>"
      ]
     },
     "metadata": {
      "needs_background": "light"
     },
     "output_type": "display_data"
    }
   ],
   "source": [
    "# Set up a grid of plots\n",
    "fig = plt.figure(figsize=(20, 20)) \n",
    "fig_dims = (3, 2)\n",
    "\n",
    "# Plot old Distribution\n",
    "plt.subplot2grid(fig_dims, (0, 0))\n",
    "dfold[Variable].value_counts().plot(kind=\"bar\", title='Old distrib')\n",
    "\n",
    "# Plot new Distribution\n",
    "plt.subplot2grid(fig_dims, (0, 1))\n",
    "df[Variable].value_counts().plot(kind=\"bar\", title='New distrib')\n",
    "\n",
    "plt.show()"
   ]
  },
  {
   "cell_type": "markdown",
   "metadata": {},
   "source": [
    "# Transmission"
   ]
  },
  {
   "cell_type": "code",
   "execution_count": 12,
   "metadata": {},
   "outputs": [
    {
     "data": {
      "text/plain": [
       "0"
      ]
     },
     "execution_count": 12,
     "metadata": {},
     "output_type": "execute_result"
    }
   ],
   "source": [
    "Variable='Transmission'\n",
    "#Sostituzione dei valori nulli della trasmissione utilizzando la moda raggruppata per modello sottomodello e anno\n",
    "df[Variable] = df[Variable].groupby([df['Model'], df['SubModel'], df['VehYear']]).fillna(df[Variable].mode()[0])\n",
    "df[Variable].isnull().sum()"
   ]
  },
  {
   "cell_type": "code",
   "execution_count": 13,
   "metadata": {},
   "outputs": [
    {
     "data": {
      "image/png": "[encoded data removed]",
      "text/plain": [
       "<Figure size 1440x1440 with 2 Axes>"
      ]
     },
     "metadata": {
      "needs_background": "light"
     },
     "output_type": "display_data"
    }
   ],
   "source": [
    "# Set up a grid of plots\n",
    "fig = plt.figure(figsize=(20, 20)) \n",
    "fig_dims = (3, 2)\n",
    "\n",
    "# Plot old Distribution\n",
    "plt.subplot2grid(fig_dims, (0, 0))\n",
    "dfold[Variable].value_counts().plot(kind=\"bar\", title='Old distrib')\n",
    "\n",
    "# Plot new Distribution\n",
    "plt.subplot2grid(fig_dims, (0, 1))\n",
    "df[Variable].value_counts().plot(kind=\"bar\", title='New distrib')\n",
    "\n",
    "plt.show()"
   ]
  },
  {
   "cell_type": "markdown",
   "metadata": {},
   "source": [
    "# WheelTypeID"
   ]
  },
  {
   "cell_type": "code",
   "execution_count": 14,
   "metadata": {},
   "outputs": [
    {
     "data": {
      "text/plain": [
       "0"
      ]
     },
     "execution_count": 14,
     "metadata": {},
     "output_type": "execute_result"
    }
   ],
   "source": [
    "Variable='WheelTypeID'\n",
    "#Sostituzione dei valori nulli del wheeltypeID utilizzando la moda raggruppata per modello sottomodello e Trim\n",
    "df[Variable] = df[Variable].groupby([df['Model'], df['SubModel'], df['Trim']]).fillna(df[Variable].mode()[0])\n",
    "df[Variable].isnull().sum()"
   ]
  },
  {
   "cell_type": "code",
   "execution_count": 15,
   "metadata": {},
   "outputs": [
    {
     "data": {
      "image/png": "[encoded data removed]",
      "text/plain": [
       "<Figure size 1440x1440 with 2 Axes>"
      ]
     },
     "metadata": {
      "needs_background": "light"
     },
     "output_type": "display_data"
    }
   ],
   "source": [
    "# Set up a grid of plots\n",
    "fig = plt.figure(figsize=(20, 20)) \n",
    "fig_dims = (3, 2)\n",
    "\n",
    "# Plot old Distribution\n",
    "plt.subplot2grid(fig_dims, (0, 0))\n",
    "dfold[Variable].value_counts().plot(kind=\"bar\", title='Old distrib')\n",
    "\n",
    "# Plot new Distribution\n",
    "plt.subplot2grid(fig_dims, (0, 1))\n",
    "df[Variable].value_counts().plot(kind=\"bar\", title='New distrib')\n",
    "\n",
    "plt.show()"
   ]
  },
  {
   "cell_type": "markdown",
   "metadata": {},
   "source": [
    "# Nationality"
   ]
  },
  {
   "cell_type": "code",
   "execution_count": 16,
   "metadata": {},
   "outputs": [
    {
     "data": {
      "text/plain": [
       "0"
      ]
     },
     "execution_count": 16,
     "metadata": {},
     "output_type": "execute_result"
    }
   ],
   "source": [
    "Variable='Nationality'\n",
    "#Sostituzione dei valori nulli di Nationality utilizzando la moda raggruppata per modello sottomodello e Trim\n",
    "df[Variable] = df[Variable].groupby([df['Make']]).fillna(df[Variable].mode()[0])\n",
    "df[Variable].isnull().sum()"
   ]
  },
  {
   "cell_type": "code",
   "execution_count": 17,
   "metadata": {},
   "outputs": [
    {
     "data": {
      "image/png": "[encoded data removed]",
      "text/plain": [
       "<Figure size 1440x1440 with 2 Axes>"
      ]
     },
     "metadata": {
      "needs_background": "light"
     },
     "output_type": "display_data"
    }
   ],
   "source": [
    "# Set up a grid of plots\n",
    "fig = plt.figure(figsize=(20, 20)) \n",
    "fig_dims = (3, 2)\n",
    "\n",
    "# Plot old Distribution\n",
    "plt.subplot2grid(fig_dims, (0, 0))\n",
    "dfold[Variable].value_counts().plot(kind=\"bar\", title='Old distrib')\n",
    "\n",
    "# Plot new Distribution\n",
    "plt.subplot2grid(fig_dims, (0, 1))\n",
    "df[Variable].value_counts().plot(kind=\"bar\", title='New distrib')\n",
    "\n",
    "plt.show()"
   ]
  },
  {
   "cell_type": "markdown",
   "metadata": {},
   "source": [
    "# Size"
   ]
  },
  {
   "cell_type": "code",
   "execution_count": 18,
   "metadata": {},
   "outputs": [
    {
     "data": {
      "text/plain": [
       "0"
      ]
     },
     "execution_count": 18,
     "metadata": {},
     "output_type": "execute_result"
    }
   ],
   "source": [
    "Variable='Size'\n",
    "#Sostituzione dei valori nulli di Size utilizzando la moda raggruppata per modello sottomodello e Trim\n",
    "df[Variable] = df[Variable].groupby([df['Model'], df['SubModel'], df['VehYear']]).fillna(df[Variable].mode()[0])\n",
    "df[Variable].isnull().sum()"
   ]
  },
  {
   "cell_type": "code",
   "execution_count": 19,
   "metadata": {},
   "outputs": [
    {
     "data": {
      "image/png": "[encoded data removed]",
      "text/plain": [
       "<Figure size 1440x1440 with 2 Axes>"
      ]
     },
     "metadata": {
      "needs_background": "light"
     },
     "output_type": "display_data"
    }
   ],
   "source": [
    "# Set up a grid of plots\n",
    "fig = plt.figure(figsize=(20, 20)) \n",
    "fig_dims = (3, 2)\n",
    "\n",
    "# Plot old Distribution\n",
    "plt.subplot2grid(fig_dims, (0, 0))\n",
    "dfold[Variable].value_counts().plot(kind=\"bar\", title='Old distrib')\n",
    "\n",
    "# Plot new Distribution\n",
    "plt.subplot2grid(fig_dims, (0, 1))\n",
    "df[Variable].value_counts().plot(kind=\"bar\", title='New distrib')\n",
    "\n",
    "plt.show()"
   ]
  },
  {
   "cell_type": "markdown",
   "metadata": {},
   "source": [
    "# TopThreeAmericanName"
   ]
  },
  {
   "cell_type": "code",
   "execution_count": 20,
   "metadata": {},
   "outputs": [
    {
     "data": {
      "text/plain": [
       "0"
      ]
     },
     "execution_count": 20,
     "metadata": {},
     "output_type": "execute_result"
    }
   ],
   "source": [
    "Variable='TopThreeAmericanName'\n",
    "#Sostituzione dei valori nulli di TopThreeAmericanName utilizzando la moda raggruppata per modello sottomodello e Trim\n",
    "df[Variable] = df[Variable].groupby([df['Make']]).fillna(df[Variable].mode()[0])\n",
    "df[Variable].isnull().sum()"
   ]
  },
  {
   "cell_type": "code",
   "execution_count": 21,
   "metadata": {},
   "outputs": [
    {
     "data": {
      "image/png": "[encoded data removed]",
      "text/plain": [
       "<Figure size 1440x1440 with 2 Axes>"
      ]
     },
     "metadata": {
      "needs_background": "light"
     },
     "output_type": "display_data"
    }
   ],
   "source": [
    "# Set up a grid of plots\n",
    "fig = plt.figure(figsize=(20, 20)) \n",
    "fig_dims = (3, 2)\n",
    "\n",
    "# Plot old Distribution\n",
    "plt.subplot2grid(fig_dims, (0, 0))\n",
    "dfold[Variable].value_counts().plot(kind=\"bar\", title='Old distrib')\n",
    "\n",
    "# Plot new Distribution\n",
    "plt.subplot2grid(fig_dims, (0, 1))\n",
    "df[Variable].value_counts().plot(kind=\"bar\", title='New distrib')\n",
    "\n",
    "plt.show()"
   ]
  },
  {
   "cell_type": "markdown",
   "metadata": {},
   "source": [
    "# Inizio riempimento e analisi missing values per i valori numerici\n",
    "I valori a 1 e a 0 sono stati interpretati come missing values <br>\n",
    "I valori mancanti sono stati riempiti utilizzando la mediana di raggruppamenti appositamente studiati <br>\n",
    "I valori sono stati riempiti solo se il valore della varianza dello specifico MMR nel raggruppamento non superava un determinato valore"
   ]
  },
  {
   "cell_type": "code",
   "execution_count": 22,
   "metadata": {},
   "outputs": [],
   "source": [
    "#Funzione univoca per il riempimento dei missing values\n",
    "def fun_temp(x):\n",
    "    if x.var() == np.nan or x.var() < 250000:\n",
    "        return x.fillna(x.median())\n",
    "    return x.fillna(np.nan)"
   ]
  },
  {
   "cell_type": "code",
   "execution_count": 23,
   "metadata": {},
   "outputs": [],
   "source": [
    "#Definizione numero di bins\n",
    "binsN = math.ceil(math.log(df.shape[0],2))+1"
   ]
  },
  {
   "cell_type": "markdown",
   "metadata": {},
   "source": [
    "# MMRAcquisitionAuctionAveragePrice\n",
    "valori nulli pre-modifica=661 <br>\n",
    "valori nulli post-modifica=606"
   ]
  },
  {
   "cell_type": "code",
   "execution_count": 24,
   "metadata": {},
   "outputs": [],
   "source": [
    "Variable='MMRAcquisitionAuctionAveragePrice'"
   ]
  },
  {
   "cell_type": "code",
   "execution_count": 25,
   "metadata": {},
   "outputs": [
    {
     "data": {
      "text/plain": [
       "661"
      ]
     },
     "execution_count": 25,
     "metadata": {},
     "output_type": "execute_result"
    }
   ],
   "source": [
    "df[Variable].replace(0, np.nan, inplace=True)\n",
    "df[Variable].isnull().sum()"
   ]
  },
  {
   "cell_type": "code",
   "execution_count": 26,
   "metadata": {},
   "outputs": [
    {
     "data": {
      "text/plain": [
       "606"
      ]
     },
     "execution_count": 26,
     "metadata": {},
     "output_type": "execute_result"
    }
   ],
   "source": [
    "df[Variable] = df[Variable].groupby([df['PurchDate'], df['Model'], df['SubModel'], df['VehYear']]).apply(fun_temp)\n",
    "df[Variable].isnull().sum()"
   ]
  },
  {
   "cell_type": "code",
   "execution_count": 27,
   "metadata": {},
   "outputs": [
    {
     "data": {
      "image/png": "[encoded data removed]",
      "text/plain": [
       "<Figure size 1440x1440 with 2 Axes>"
      ]
     },
     "metadata": {
      "needs_background": "light"
     },
     "output_type": "display_data"
    }
   ],
   "source": [
    "#Modifica a dfold per rendere equiparabili i grafici\n",
    "dfold[Variable].replace(0, np.nan, inplace=True)\n",
    "\n",
    "# Set up a grid of plots\n",
    "fig = plt.figure(figsize=(20, 20)) \n",
    "fig_dims = (3, 2)\n",
    "\n",
    "# Plot old Distribution\n",
    "plt.subplot2grid(fig_dims, (0, 0), title='Old distrib')\n",
    "dfold[Variable].hist(bins=binsN)\n",
    "\n",
    "# Plot new Distribution\n",
    "plt.subplot2grid(fig_dims, (0, 1), title='New distrib')\n",
    "df[Variable].hist(bins=binsN)\n",
    "\n",
    "plt.show()"
   ]
  },
  {
   "cell_type": "code",
   "execution_count": 28,
   "metadata": {},
   "outputs": [
    {
     "data": {
      "image/png": "[encoded data removed]",
      "text/plain": [
       "<Figure size 1440x1440 with 2 Axes>"
      ]
     },
     "metadata": {
      "needs_background": "light"
     },
     "output_type": "display_data"
    }
   ],
   "source": [
    "#Focus on the most important part of the distribution\n",
    "\n",
    "# Set up a grid of plots\n",
    "fig = plt.figure(figsize=(20, 20)) \n",
    "fig_dims = (3, 2)\n",
    "\n",
    "datasetSize = dfold[dfold[Variable]<20000][Variable].count()\n",
    "binsSpecific = math.ceil(math.log(datasetSize,2))+1\n",
    "\n",
    "# Plot old Distribution\n",
    "plt.subplot2grid(fig_dims, (0, 0), title='Old distrib')\n",
    "dfold[dfold[Variable]<20000][Variable].hist(bins=binsSpecific)\n",
    "\n",
    "# Plot new Distribution\n",
    "plt.subplot2grid(fig_dims, (0, 1), title='New distrib')\n",
    "df[df[Variable]<20000][Variable].hist(bins=binsSpecific)\n",
    "\n",
    "plt.show()"
   ]
  },
  {
   "cell_type": "markdown",
   "metadata": {},
   "source": [
    "# MMRAcquisitionAuctionCleanPrice\n",
    "valori nulli pre-modifica=661 <br>\n",
    "valori nulli post-modifica=607"
   ]
  },
  {
   "cell_type": "code",
   "execution_count": 29,
   "metadata": {},
   "outputs": [],
   "source": [
    "Variable='MMRAcquisitionAuctionCleanPrice'"
   ]
  },
  {
   "cell_type": "code",
   "execution_count": 30,
   "metadata": {},
   "outputs": [
    {
     "data": {
      "text/plain": [
       "661"
      ]
     },
     "execution_count": 30,
     "metadata": {},
     "output_type": "execute_result"
    }
   ],
   "source": [
    "df[Variable].replace(0, np.nan, inplace=True)\n",
    "df[Variable].replace(1, np.nan, inplace=True)\n",
    "df[Variable].isnull().sum()"
   ]
  },
  {
   "cell_type": "code",
   "execution_count": 31,
   "metadata": {},
   "outputs": [
    {
     "data": {
      "text/plain": [
       "607"
      ]
     },
     "execution_count": 31,
     "metadata": {},
     "output_type": "execute_result"
    }
   ],
   "source": [
    "df[Variable] = df[Variable].groupby([df['PurchDate'], df['Model'], df['SubModel'], df['VehYear']]).apply(fun_temp)\n",
    "df[Variable].isnull().sum()"
   ]
  },
  {
   "cell_type": "code",
   "execution_count": 32,
   "metadata": {},
   "outputs": [
    {
     "data": {
      "image/png": "[encoded data removed]",
      "text/plain": [
       "<Figure size 1440x1440 with 2 Axes>"
      ]
     },
     "metadata": {
      "needs_background": "light"
     },
     "output_type": "display_data"
    }
   ],
   "source": [
    "#Modifica a dfold per rendere equiparabili i grafici\n",
    "dfold[Variable].replace(0, np.nan, inplace=True)\n",
    "\n",
    "# Set up a grid of plots\n",
    "fig = plt.figure(figsize=(20, 20)) \n",
    "fig_dims = (3, 2)\n",
    "\n",
    "# Plot old Distribution\n",
    "plt.subplot2grid(fig_dims, (0, 0), title='Old distrib')\n",
    "dfold[Variable].hist(bins=binsN)\n",
    "\n",
    "# Plot new Distribution\n",
    "plt.subplot2grid(fig_dims, (0, 1), title='New distrib')\n",
    "df[Variable].hist(bins=binsN)\n",
    "\n",
    "plt.show()"
   ]
  },
  {
   "cell_type": "code",
   "execution_count": 33,
   "metadata": {
    "scrolled": true
   },
   "outputs": [
    {
     "data": {
      "image/png": "[encoded data removed]",
      "text/plain": [
       "<Figure size 1440x1440 with 2 Axes>"
      ]
     },
     "metadata": {
      "needs_background": "light"
     },
     "output_type": "display_data"
    }
   ],
   "source": [
    "#Focus on the most important part of the distribution\n",
    "\n",
    "# Set up a grid of plots\n",
    "fig = plt.figure(figsize=(20, 20)) \n",
    "fig_dims = (3, 2)\n",
    "\n",
    "datasetSize = dfold[dfold[Variable]<25000][Variable].count()\n",
    "binsSpecific = math.ceil(math.log(datasetSize,2))+1\n",
    "\n",
    "# Plot old Distribution\n",
    "plt.subplot2grid(fig_dims, (0, 0), title='Old distrib')\n",
    "dfold[dfold[Variable]<25000][Variable].hist(bins=binsSpecific)\n",
    "\n",
    "# Plot new Distribution\n",
    "plt.subplot2grid(fig_dims, (0, 1), title='New distrib')\n",
    "df[df[Variable]<25000][Variable].hist(bins=binsSpecific)\n",
    "\n",
    "plt.show()"
   ]
  },
  {
   "cell_type": "markdown",
   "metadata": {},
   "source": [
    "# MMRAcquisitionRetailAveragePrice\n",
    "valori nulli pre-modifica=661 <br>\n",
    "valori nulli post-modifica=600"
   ]
  },
  {
   "cell_type": "code",
   "execution_count": 34,
   "metadata": {},
   "outputs": [],
   "source": [
    "Variable='MMRAcquisitionRetailAveragePrice'"
   ]
  },
  {
   "cell_type": "code",
   "execution_count": 35,
   "metadata": {},
   "outputs": [
    {
     "data": {
      "text/plain": [
       "661"
      ]
     },
     "execution_count": 35,
     "metadata": {},
     "output_type": "execute_result"
    }
   ],
   "source": [
    "df[Variable].replace(0, np.nan, inplace=True)\n",
    "df[Variable].isnull().sum()"
   ]
  },
  {
   "cell_type": "code",
   "execution_count": 36,
   "metadata": {},
   "outputs": [
    {
     "data": {
      "text/plain": [
       "606"
      ]
     },
     "execution_count": 36,
     "metadata": {},
     "output_type": "execute_result"
    }
   ],
   "source": [
    "df[Variable] = df[Variable].groupby([df['PurchDate'], df['Model'], df['SubModel'], df['VehYear']]).apply(fun_temp)\n",
    "df[Variable].isnull().sum()"
   ]
  },
  {
   "cell_type": "code",
   "execution_count": 37,
   "metadata": {},
   "outputs": [
    {
     "data": {
      "image/png": "[encoded data removed]",
      "text/plain": [
       "<Figure size 1440x1440 with 2 Axes>"
      ]
     },
     "metadata": {
      "needs_background": "light"
     },
     "output_type": "display_data"
    }
   ],
   "source": [
    "#Modifica a dfold per rendere equiparabili i grafici\n",
    "dfold[Variable].replace(0, np.nan, inplace=True)\n",
    "\n",
    "# Set up a grid of plots\n",
    "fig = plt.figure(figsize=(20, 20)) \n",
    "fig_dims = (3, 2)\n",
    "\n",
    "# Plot old Distribution\n",
    "plt.subplot2grid(fig_dims, (0, 0), title='Old distrib')\n",
    "dfold[Variable].hist(bins=binsN)\n",
    "\n",
    "# Plot new Distribution\n",
    "plt.subplot2grid(fig_dims, (0, 1), title='New distrib')\n",
    "df[Variable].hist(bins=binsN)\n",
    "\n",
    "plt.show()"
   ]
  },
  {
   "cell_type": "code",
   "execution_count": 38,
   "metadata": {
    "scrolled": true
   },
   "outputs": [
    {
     "data": {
      "image/png": "[encoded data removed]",
      "text/plain": [
       "<Figure size 1440x1440 with 2 Axes>"
      ]
     },
     "metadata": {
      "needs_background": "light"
     },
     "output_type": "display_data"
    }
   ],
   "source": [
    "#Focus on the most important part of the distribution\n",
    "\n",
    "# Set up a grid of plots\n",
    "fig = plt.figure(figsize=(20, 20)) \n",
    "fig_dims = (3, 2)\n",
    "\n",
    "datasetSize = dfold[dfold[Variable]<25000][Variable].count()\n",
    "binsSpecific = math.ceil(math.log(datasetSize,2))+1\n",
    "\n",
    "# Plot old Distribution\n",
    "plt.subplot2grid(fig_dims, (0, 0), title='Old distrib')\n",
    "dfold[dfold[Variable]<25000][Variable].hist(bins=binsSpecific)\n",
    "\n",
    "# Plot new Distribution\n",
    "plt.subplot2grid(fig_dims, (0, 1), title='New distrib')\n",
    "df[df[Variable]<25000][Variable].hist(bins=binsSpecific)\n",
    "\n",
    "plt.show()"
   ]
  },
  {
   "cell_type": "markdown",
   "metadata": {},
   "source": [
    "# MMRAcquisitionRetailCleanPrice\n",
    "valori nulli pre-modifica=661 <br>\n",
    "valori nulli post-modifica=608"
   ]
  },
  {
   "cell_type": "code",
   "execution_count": 39,
   "metadata": {},
   "outputs": [],
   "source": [
    "Variable='MMRAcquisitonRetailCleanPrice'"
   ]
  },
  {
   "cell_type": "code",
   "execution_count": 40,
   "metadata": {},
   "outputs": [
    {
     "data": {
      "text/plain": [
       "661"
      ]
     },
     "execution_count": 40,
     "metadata": {},
     "output_type": "execute_result"
    }
   ],
   "source": [
    "df[Variable].replace(0, np.nan, inplace=True)\n",
    "df[Variable].isnull().sum()"
   ]
  },
  {
   "cell_type": "code",
   "execution_count": 41,
   "metadata": {},
   "outputs": [
    {
     "data": {
      "text/plain": [
       "608"
      ]
     },
     "execution_count": 41,
     "metadata": {},
     "output_type": "execute_result"
    }
   ],
   "source": [
    "df[Variable] = df[Variable].groupby([df['PurchDate'], df['Model'], df['SubModel'], df['VehYear']]).apply(fun_temp)\n",
    "df[Variable].isnull().sum()"
   ]
  },
  {
   "cell_type": "code",
   "execution_count": 42,
   "metadata": {},
   "outputs": [
    {
     "data": {
      "image/png": "[encoded data removed]",
      "text/plain": [
       "<Figure size 1440x1440 with 2 Axes>"
      ]
     },
     "metadata": {
      "needs_background": "light"
     },
     "output_type": "display_data"
    }
   ],
   "source": [
    "#Modifica a dfold per rendere equiparabili i grafici\n",
    "dfold[Variable].replace(0, np.nan, inplace=True)\n",
    "\n",
    "# Set up a grid of plots\n",
    "fig = plt.figure(figsize=(20, 20)) \n",
    "fig_dims = (3, 2)\n",
    "\n",
    "# Plot old Distribution\n",
    "plt.subplot2grid(fig_dims, (0, 0), title='Old distrib')\n",
    "dfold[Variable].hist(bins=binsN)\n",
    "\n",
    "# Plot new Distribution\n",
    "plt.subplot2grid(fig_dims, (0, 1), title='New distrib')\n",
    "df[Variable].hist(bins=binsN)\n",
    "\n",
    "plt.show()"
   ]
  },
  {
   "cell_type": "code",
   "execution_count": 43,
   "metadata": {
    "scrolled": true
   },
   "outputs": [
    {
     "data": {
      "image/png": "[encoded data removed]",
      "text/plain": [
       "<Figure size 1440x1440 with 2 Axes>"
      ]
     },
     "metadata": {
      "needs_background": "light"
     },
     "output_type": "display_data"
    }
   ],
   "source": [
    "#Focus on the most important part of the distribution\n",
    "\n",
    "# Set up a grid of plots\n",
    "fig = plt.figure(figsize=(20, 20)) \n",
    "fig_dims = (3, 2)\n",
    "\n",
    "datasetSize = dfold[dfold[Variable]<25000][Variable].count()\n",
    "binsSpecific = math.ceil(math.log(datasetSize,2))+1\n",
    "\n",
    "# Plot old Distribution\n",
    "plt.subplot2grid(fig_dims, (0, 0), title='Old distrib')\n",
    "dfold[dfold[Variable]<25000][Variable].hist(bins=binsSpecific)\n",
    "\n",
    "# Plot new Distribution\n",
    "plt.subplot2grid(fig_dims, (0, 1), title='New distrib')\n",
    "df[df[Variable]<25000][Variable].hist(bins=binsSpecific)\n",
    "\n",
    "plt.show()"
   ]
  },
  {
   "cell_type": "markdown",
   "metadata": {},
   "source": [
    "# Inizio analisi controllo missing values rimanenti tra i numerici\n",
    "Gli elementi nulli degli MMR alla data 'corrente' non possono essere riempiti perchè sono associati a una varianza troppo\n",
    "alta dovuta all'impossibilità di determinare il giorno corretto in cui l'MMR è stato calcolato, pertanto sono state rimosse tutte le righe che presentavano dei missing value. <br>\n",
    "Sono stati inoltre eliminate anche le righe degli MMR calcolato al tempo dell'asta per cui la funzine di riempimento restituiva un valore null (dovuto o alla varianza elevata o alla presenza di un una combinazione di data modello sottomodello e anno in cui erano presenti solo elementi con MMR nullo)"
   ]
  },
  {
   "cell_type": "code",
   "execution_count": 44,
   "metadata": {},
   "outputs": [],
   "source": [
    "Variable='MMRCurrentAuctionAveragePrice'\n",
    "df[Variable].replace(0, np.nan, inplace=True)\n",
    "df[Variable].replace(1, np.nan, inplace=True)"
   ]
  },
  {
   "cell_type": "code",
   "execution_count": 45,
   "metadata": {},
   "outputs": [],
   "source": [
    "Variable='MMRCurrentAuctionCleanPrice'\n",
    "df[Variable].replace(0, np.nan, inplace=True)\n",
    "df[Variable].replace(1, np.nan, inplace=True)"
   ]
  },
  {
   "cell_type": "code",
   "execution_count": 46,
   "metadata": {},
   "outputs": [],
   "source": [
    "Variable='MMRCurrentRetailAveragePrice'\n",
    "df[Variable].replace(0, np.nan, inplace=True)\n",
    "df[Variable].replace(1, np.nan, inplace=True)"
   ]
  },
  {
   "cell_type": "code",
   "execution_count": 47,
   "metadata": {},
   "outputs": [],
   "source": [
    "Variable='MMRCurrentRetailCleanPrice'\n",
    "df[Variable].replace(0, np.nan, inplace=True)\n",
    "df[Variable].replace(1, np.nan, inplace=True)"
   ]
  },
  {
   "cell_type": "code",
   "execution_count": 48,
   "metadata": {},
   "outputs": [
    {
     "data": {
      "text/plain": [
       "RefId                                    0\n",
       "IsBadBuy                                 0\n",
       "PurchDate                                0\n",
       "Auction                                  0\n",
       "VehYear                                  0\n",
       "VehicleAge                               0\n",
       "Make                                     0\n",
       "Engine                               19582\n",
       "Trim                                     0\n",
       "SubModelSpecifics                    49091\n",
       "Color                                    7\n",
       "Transmission                             0\n",
       "WheelTypeID                              0\n",
       "WheelType                             2577\n",
       "VehOdo                                   0\n",
       "Nationality                              0\n",
       "Size                                     0\n",
       "TopThreeAmericanName                     0\n",
       "MMRAcquisitionAuctionAveragePrice      606\n",
       "MMRAcquisitionAuctionCleanPrice        607\n",
       "MMRAcquisitionRetailAveragePrice       606\n",
       "MMRAcquisitonRetailCleanPrice          608\n",
       "MMRCurrentAuctionAveragePrice          638\n",
       "MMRCurrentAuctionCleanPrice            638\n",
       "MMRCurrentRetailAveragePrice           638\n",
       "MMRCurrentRetailCleanPrice             638\n",
       "PRIMEUNIT                            55703\n",
       "AUCGUART                             55703\n",
       "BYRNO                                    0\n",
       "VNZIP1                                   0\n",
       "VNST                                     0\n",
       "VehBCost                                 0\n",
       "IsOnlineSale                             0\n",
       "WarrantyCost                             0\n",
       "Model                                    0\n",
       "Wheeldrive                           40532\n",
       "Doors                                 7737\n",
       "SubModel                                 0\n",
       "dtype: int64"
      ]
     },
     "execution_count": 48,
     "metadata": {},
     "output_type": "execute_result"
    }
   ],
   "source": [
    "#Controllo dello stato del dataset\n",
    "df.isnull().sum()  "
   ]
  },
  {
   "cell_type": "code",
   "execution_count": 49,
   "metadata": {},
   "outputs": [],
   "source": [
    "dig1 = set(df[df['MMRAcquisitionAuctionAveragePrice'].isnull()]['RefId'])\n",
    "dig2 = set(df[df['MMRAcquisitionAuctionCleanPrice'].isnull()]['RefId'])\n",
    "dig3 = set(df[df['MMRAcquisitionRetailAveragePrice'].isnull()]['RefId'])\n",
    "dig4 = set(df[df['MMRAcquisitonRetailCleanPrice'].isnull()]['RefId'])\n",
    "dig5 = set(df[df['MMRCurrentAuctionAveragePrice'].isnull()]['RefId'])\n",
    "dig6 = set(df[df['MMRCurrentAuctionCleanPrice'].isnull()]['RefId'])\n",
    "dig7 = set(df[df['MMRCurrentRetailAveragePrice'].isnull()]['RefId'])\n",
    "dig8 = set(df[df['MMRCurrentRetailCleanPrice'].isnull()]['RefId'])"
   ]
  },
  {
   "cell_type": "code",
   "execution_count": 50,
   "metadata": {},
   "outputs": [
    {
     "data": {
      "text/plain": [
       "606"
      ]
     },
     "execution_count": 50,
     "metadata": {},
     "output_type": "execute_result"
    }
   ],
   "source": [
    "len(dig1.intersection(dig2,dig3,dig4))"
   ]
  },
  {
   "cell_type": "code",
   "execution_count": 51,
   "metadata": {},
   "outputs": [
    {
     "data": {
      "text/plain": [
       "638"
      ]
     },
     "execution_count": 51,
     "metadata": {},
     "output_type": "execute_result"
    }
   ],
   "source": [
    "len(dig5.intersection(dig6,dig7,dig8))"
   ]
  },
  {
   "cell_type": "code",
   "execution_count": 52,
   "metadata": {},
   "outputs": [
    {
     "data": {
      "text/plain": [
       "354"
      ]
     },
     "execution_count": 52,
     "metadata": {},
     "output_type": "execute_result"
    }
   ],
   "source": [
    "len(dig1.intersection(dig5))"
   ]
  },
  {
   "cell_type": "code",
   "execution_count": 53,
   "metadata": {},
   "outputs": [
    {
     "data": {
      "text/plain": [
       "0"
      ]
     },
     "execution_count": 53,
     "metadata": {},
     "output_type": "execute_result"
    }
   ],
   "source": [
    "df = df.dropna(subset=['MMRAcquisitionAuctionAveragePrice'])\n",
    "df['MMRAcquisitionAuctionAveragePrice'].isnull().sum()"
   ]
  },
  {
   "cell_type": "code",
   "execution_count": 54,
   "metadata": {},
   "outputs": [
    {
     "data": {
      "text/plain": [
       "0"
      ]
     },
     "execution_count": 54,
     "metadata": {},
     "output_type": "execute_result"
    }
   ],
   "source": [
    "df = df.dropna(subset=['MMRCurrentAuctionAveragePrice'])\n",
    "df['MMRCurrentAuctionAveragePrice'].isnull().sum()"
   ]
  },
  {
   "cell_type": "code",
   "execution_count": 55,
   "metadata": {},
   "outputs": [
    {
     "data": {
      "text/plain": [
       "0"
      ]
     },
     "execution_count": 55,
     "metadata": {},
     "output_type": "execute_result"
    }
   ],
   "source": [
    "df = df.dropna(subset=['MMRAcquisitonRetailCleanPrice'])\n",
    "df['MMRAcquisitonRetailCleanPrice'].isnull().sum()"
   ]
  },
  {
   "cell_type": "code",
   "execution_count": 56,
   "metadata": {},
   "outputs": [
    {
     "data": {
      "text/plain": [
       "RefId                                    0\n",
       "IsBadBuy                                 0\n",
       "PurchDate                                0\n",
       "Auction                                  0\n",
       "VehYear                                  0\n",
       "VehicleAge                               0\n",
       "Make                                     0\n",
       "Engine                               19402\n",
       "Trim                                     0\n",
       "SubModelSpecifics                    48333\n",
       "Color                                    7\n",
       "Transmission                             0\n",
       "WheelTypeID                              0\n",
       "WheelType                             2550\n",
       "VehOdo                                   0\n",
       "Nationality                              0\n",
       "Size                                     0\n",
       "TopThreeAmericanName                     0\n",
       "MMRAcquisitionAuctionAveragePrice        0\n",
       "MMRAcquisitionAuctionCleanPrice          0\n",
       "MMRAcquisitionRetailAveragePrice         0\n",
       "MMRAcquisitonRetailCleanPrice            0\n",
       "MMRCurrentAuctionAveragePrice            0\n",
       "MMRCurrentAuctionCleanPrice              0\n",
       "MMRCurrentRetailAveragePrice             0\n",
       "MMRCurrentRetailCleanPrice               0\n",
       "PRIMEUNIT                            54841\n",
       "AUCGUART                             54841\n",
       "BYRNO                                    0\n",
       "VNZIP1                                   0\n",
       "VNST                                     0\n",
       "VehBCost                                 0\n",
       "IsOnlineSale                             0\n",
       "WarrantyCost                             0\n",
       "Model                                    0\n",
       "Wheeldrive                           40023\n",
       "Doors                                 7485\n",
       "SubModel                                 0\n",
       "dtype: int64"
      ]
     },
     "execution_count": 56,
     "metadata": {},
     "output_type": "execute_result"
    }
   ],
   "source": [
    "df.isnull().sum()  "
   ]
  },
  {
   "cell_type": "code",
   "execution_count": 57,
   "metadata": {},
   "outputs": [],
   "source": [
    "df.to_csv(path_or_buf='TrainingSetNoMissingValue.csv' ,index=False)"
   ]
  }
 ],
 "metadata": {
  "kernelspec": {
   "display_name": "Python 3",
   "language": "python",
   "name": "python3"
  },
  "language_info": {
   "codemirror_mode": {
    "name": "ipython",
    "version": 3
   },
   "file_extension": ".py",
   "mimetype": "text/x-python",
   "name": "python",
   "nbconvert_exporter": "python",
   "pygments_lexer": "ipython3",
   "version": "3.6.5"
  }
 },
 "nbformat": 4,
 "nbformat_minor": 2
}
