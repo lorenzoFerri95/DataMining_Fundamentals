{
 "cells": [
  {
   "cell_type": "markdown",
   "metadata": {},
   "source": [
    "<span>\n",
    "<img src=\"http://www.sobigdata.eu/sites/default/files/logo-SoBigData-DEFINITIVO.png\" width=\"180px\" align=\"right\"/>\n",
    "</span>\n",
    "<span>\n",
    "<b>Author:</b> <a href=\"http://about.giuliorossetti.net\">Giulio Rossetti</a><br/>\n",
    "<b>Python version:</b>  3.6<br/>\n",
    "<b>Last update:</b> 22/01/2018\n",
    "</span>"
   ]
  },
  {
   "cell_type": "markdown",
   "metadata": {},
   "source": [
    "<a id='top'></a>\n",
    "# *Python Basics*\n",
    "\n",
    "This notebook contains an overview of basic Python functionality that you might come across using Python for Social Science Research.\n",
    "\n",
    "**Note:** this notebook is purposely not 100% comprehensive, it only discusses the basic things you need to get started."
   ]
  },
  {
   "cell_type": "markdown",
   "metadata": {},
   "source": [
    "## Table of Contents\n",
    "\n",
    "1. [Hello Wolrd!](#display)\n",
    "2. [Variables](#variables)\n",
    "3. [Numeric Operations](#numeric)\n",
    "4. [Strings](#strings)\n",
    "5. [Data Structures](#ds)\n",
    "6. [Slicing](#slicing)\n",
    "7. [Functions](#functions)\n",
    "8. [Code Blocks](#blocks)\n",
    "9. [Flow Control](#flow)\n",
    "10. [Comprehensions](#comp)\n",
    "11. [Exceptions](#exceptions)\n",
    "12. [File Input/Output](#io)\n",
    "13. [Importing Libraries](#libs)\n",
    "14. [Zen of Python](#zen)"
   ]
  },
  {
   "cell_type": "markdown",
   "metadata": {},
   "source": [
    "<a id='display'></a>\n",
    "## 1. Hello World!  ([to top](#top))\n",
    "\n",
    "Your first - one line - program: **\"Hello World\"**"
   ]
  },
  {
   "cell_type": "code",
   "execution_count": 1,
   "metadata": {
    "scrolled": true
   },
   "outputs": [
    {
     "name": "stdout",
     "output_type": "stream",
     "text": [
      "Hello world!\n"
     ]
    }
   ],
   "source": [
    "print(\"Hello world!\")"
   ]
  },
  {
   "cell_type": "markdown",
   "metadata": {},
   "source": [
    "<a id='variables'></a>\n",
    "## 2. Variables and Types  ([to top](#top))\n",
    "\n",
    "In programming languages **variables** are named entities used to store information.\n",
    "\n",
    "A **variable** can reference several types of contents, for instance:\n",
    "- Basic numeric **types** in Python are ``int`` for integers and ``float`` for floating point numbers.\n",
    "- Strings are represented by ``str``, in Python 3.x this implies a sequence of Unicode characters.\n"
   ]
  },
  {
   "cell_type": "code",
   "execution_count": 2,
   "metadata": {},
   "outputs": [],
   "source": [
    "a = 1\n",
    "b = 0.5\n",
    "c = 'Giulio'"
   ]
  },
  {
   "cell_type": "code",
   "execution_count": 3,
   "metadata": {},
   "outputs": [
    {
     "data": {
      "text/plain": [
       "(int, float, str)"
      ]
     },
     "execution_count": 3,
     "metadata": {},
     "output_type": "execute_result"
    }
   ],
   "source": [
    "type(a), type(b), type(c) # check variable type"
   ]
  },
  {
   "cell_type": "code",
   "execution_count": 4,
   "metadata": {},
   "outputs": [
    {
     "data": {
      "text/plain": [
       "False"
      ]
     },
     "execution_count": 4,
     "metadata": {},
     "output_type": "execute_result"
    }
   ],
   "source": [
    "isinstance(a, float) # test variable type:  a is a float? --> true or false"
   ]
  },
  {
   "cell_type": "code",
   "execution_count": 5,
   "metadata": {},
   "outputs": [
    {
     "data": {
      "text/plain": [
       "(2, '2', 3.0)"
      ]
     },
     "execution_count": 5,
     "metadata": {},
     "output_type": "execute_result"
    }
   ],
   "source": [
    "int(2.5), str(2), float(3) # type conversion "
   ]
  },
  {
   "cell_type": "code",
   "execution_count": 6,
   "metadata": {},
   "outputs": [
    {
     "name": "stdout",
     "output_type": "stream",
     "text": [
      "Have a nice class, Giulio\n"
     ]
    }
   ],
   "source": [
    "print(\"Have a nice class,\", c)"
   ]
  },
  {
   "cell_type": "markdown",
   "metadata": {},
   "source": [
    "<a id='numeric'></a>\n",
    "## 3. Numeric operations  ([to top](#top))\n",
    "\n",
    "The python interpreter allows to perform simple math"
   ]
  },
  {
   "cell_type": "code",
   "execution_count": 7,
   "metadata": {},
   "outputs": [
    {
     "data": {
      "text/plain": [
       "7"
      ]
     },
     "execution_count": 7,
     "metadata": {},
     "output_type": "execute_result"
    }
   ],
   "source": [
    "5+2 # sum (subtraction, alike)"
   ]
  },
  {
   "cell_type": "code",
   "execution_count": 8,
   "metadata": {},
   "outputs": [
    {
     "data": {
      "text/plain": [
       "2.5"
      ]
     },
     "execution_count": 8,
     "metadata": {},
     "output_type": "execute_result"
    }
   ],
   "source": [
    "5/2 # division"
   ]
  },
  {
   "cell_type": "code",
   "execution_count": 9,
   "metadata": {},
   "outputs": [
    {
     "data": {
      "text/plain": [
       "1"
      ]
     },
     "execution_count": 9,
     "metadata": {},
     "output_type": "execute_result"
    }
   ],
   "source": [
    "5%2 # module: resto dell'operazione di divisione"
   ]
  },
  {
   "cell_type": "code",
   "execution_count": 10,
   "metadata": {},
   "outputs": [
    {
     "data": {
      "text/plain": [
       "2"
      ]
     },
     "execution_count": 10,
     "metadata": {},
     "output_type": "execute_result"
    }
   ],
   "source": [
    "5//2 # integer division"
   ]
  },
  {
   "cell_type": "code",
   "execution_count": 11,
   "metadata": {},
   "outputs": [
    {
     "data": {
      "text/plain": [
       "25"
      ]
     },
     "execution_count": 11,
     "metadata": {},
     "output_type": "execute_result"
    }
   ],
   "source": [
    "5**2 # exponentiation"
   ]
  },
  {
   "cell_type": "markdown",
   "metadata": {},
   "source": [
    "<a id='strings'></a>\n",
    "## 4. String basics  ([to top](#top))\n",
    "\n",
    "Strings are used to describe basilar text objects: as such they can be manipulated and transformed.\n",
    "\n",
    "**Note:** strings are *immutable*, any tranformation generates a modified *copy* of the original string."
   ]
  },
  {
   "cell_type": "code",
   "execution_count": 12,
   "metadata": {},
   "outputs": [],
   "source": [
    "s = \"This is a string\""
   ]
  },
  {
   "cell_type": "code",
   "execution_count": 13,
   "metadata": {},
   "outputs": [
    {
     "data": {
      "text/plain": [
       "['This', 'is', 'a', 'string']"
      ]
     },
     "execution_count": 13,
     "metadata": {},
     "output_type": "execute_result"
    }
   ],
   "source": [
    "l = s.split(\" \")  # divide la stringa dove è presente il carattere specificato e mette i vari pezzi in una list in ordine\n",
    "l"
   ]
  },
  {
   "cell_type": "code",
   "execution_count": 14,
   "metadata": {
    "scrolled": true
   },
   "outputs": [
    {
     "data": {
      "text/plain": [
       "'This is THE string'"
      ]
     },
     "execution_count": 14,
     "metadata": {},
     "output_type": "execute_result"
    }
   ],
   "source": [
    "r = s.replace(\"a\", \"THE\")  # sostituisce il primo elemento con il secondo\n",
    "r"
   ]
  },
  {
   "cell_type": "code",
   "execution_count": 15,
   "metadata": {},
   "outputs": [
    {
     "data": {
      "text/plain": [
       "'this is a string'"
      ]
     },
     "execution_count": 15,
     "metadata": {},
     "output_type": "execute_result"
    }
   ],
   "source": [
    "s.lower()  # tutte le lettere minuscole"
   ]
  },
  {
   "cell_type": "code",
   "execution_count": 16,
   "metadata": {},
   "outputs": [
    {
     "data": {
      "text/plain": [
       "'THIS IS A STRING'"
      ]
     },
     "execution_count": 16,
     "metadata": {},
     "output_type": "execute_result"
    }
   ],
   "source": [
    "s.upper()  # tutte le lettere maiuscole"
   ]
  },
  {
   "cell_type": "code",
   "execution_count": 17,
   "metadata": {},
   "outputs": [
    {
     "data": {
      "text/plain": [
       "'Hi, my name is Giulio: I am 33'"
      ]
     },
     "execution_count": 17,
     "metadata": {},
     "output_type": "execute_result"
    }
   ],
   "source": [
    "name = 'Giulio'\n",
    "age = 33\n",
    "\n",
    "'Hi, my name is {}: I am {}'.format(name, age)  # {}  sono dei placeholder (tieniposto) che vengono sostituiti dai valori \n",
    "                                                # nella funzione format, in ordine\n"
   ]
  },
  {
   "cell_type": "code",
   "execution_count": 18,
   "metadata": {},
   "outputs": [
    {
     "data": {
      "text/plain": [
       "'Hi, my name is Giulio: I am 33'"
      ]
     },
     "execution_count": 18,
     "metadata": {},
     "output_type": "execute_result"
    }
   ],
   "source": [
    "name = 'Giulio'\n",
    "age = 33\n",
    "\n",
    "'Hi, my name is %s: I am %d' % (name, age)  # fa la stessa cosa di prima. ma in questo caso abbiamo un richiamo diverso in base\n",
    "                                            # al data type:  %s --> stringa   %d --> numero"
   ]
  },
  {
   "cell_type": "markdown",
   "metadata": {},
   "source": [
    "<a id='ds'></a>\n",
    "## 5. Data structures  ([to top](#top))\n",
    "\n",
    "**Data structures** are conceptual models that are used to *organize* and *structure* data. \n",
    "\n",
    "There are 4 basic data structures: lists (list), tuples (tuple), dictionaries (dict), and sets (set)"
   ]
  },
  {
   "cell_type": "markdown",
   "metadata": {},
   "source": [
    "### Lists\n",
    "\n",
    "List are **mutable** collections of objects (their contents can change as the program executes).\n",
    "\n",
    "In python a lists is defined using brackets\n",
    "\n",
    "nelle liste l'ordine conta: gli elementi vengono inseriti in fondo alla lista o nell'ordine da te prescelto (e non in un altro ordine o a caso) e gli elementi possono essere ripetuti.\n",
    "questo fa si che sia possibile usare le liste per dichiarare vettori e matrici di numeri."
   ]
  },
  {
   "cell_type": "code",
   "execution_count": 8,
   "metadata": {
    "scrolled": true
   },
   "outputs": [
    {
     "data": {
      "text/plain": [
       "['apple', 'banana', 'orange']"
      ]
     },
     "execution_count": 8,
     "metadata": {},
     "output_type": "execute_result"
    }
   ],
   "source": [
    "fruits = ['apple', 'banana', 'orange'] \n",
    "fruits"
   ]
  },
  {
   "cell_type": "code",
   "execution_count": 9,
   "metadata": {
    "scrolled": true
   },
   "outputs": [
    {
     "data": {
      "text/plain": [
       "['apple', 'banana', 'orange', 'pinapple']"
      ]
     },
     "execution_count": 9,
     "metadata": {},
     "output_type": "execute_result"
    }
   ],
   "source": [
    "fruits.append('pinapple') # la lista è mutabile, infatti ad esempio possiamo aggiungerci elementi con  .append\n",
    "fruits"
   ]
  },
  {
   "cell_type": "code",
   "execution_count": 10,
   "metadata": {
    "scrolled": false
   },
   "outputs": [
    {
     "data": {
      "text/plain": [
       "['apple', 'banana', 'orange', 'pinapple', 'banana']"
      ]
     },
     "execution_count": 10,
     "metadata": {},
     "output_type": "execute_result"
    }
   ],
   "source": [
    "fruits.append('banana') # possiamo inserire elementi già presenti nella lista e il doppione permane \n",
    "                        # (es. è possibile che in un vettore ci siano due numeri uguali)\n",
    "fruits"
   ]
  },
  {
   "cell_type": "markdown",
   "metadata": {},
   "source": [
    "### Tuples\n",
    "\n",
    "Tuples are **immutable** collections of objects.\n",
    "\n",
    "In python tuples are enclosed in parentheses<br/>\n",
    "**Note**: You cannot add or remove elements from a tuple but they are faster and consume less memory"
   ]
  },
  {
   "cell_type": "code",
   "execution_count": 21,
   "metadata": {},
   "outputs": [
    {
     "data": {
      "text/plain": [
       "('apple', 'banana', 'orange')"
      ]
     },
     "execution_count": 21,
     "metadata": {},
     "output_type": "execute_result"
    }
   ],
   "source": [
    "fruits = ('apple', 'banana', 'orange')\n",
    "fruits"
   ]
  },
  {
   "cell_type": "markdown",
   "metadata": {},
   "source": [
    "### Dictionaries\n",
    "\n",
    "Dictionaries are **mutable** key-indexable objects.\n",
    "\n",
    "In python dictionaries are build using curly brackets<br/>\n",
    "**Note**: Dictionaries are unordered but have key, value pairs"
   ]
  },
  {
   "cell_type": "code",
   "execution_count": 22,
   "metadata": {},
   "outputs": [
    {
     "name": "stdout",
     "output_type": "stream",
     "text": [
      "Albert 21 Computer Science\n"
     ]
    }
   ],
   "source": [
    "student = {'name': 'Albert', \n",
    "           'age': 21, \n",
    "           'department': 'Computer Science' }\n",
    "print(student['name'], student['age'], student['department'])"
   ]
  },
  {
   "cell_type": "code",
   "execution_count": 23,
   "metadata": {},
   "outputs": [
    {
     "data": {
      "text/plain": [
       "{'name': 'Albert', 'department': 'Computer Science', 'income': 50}"
      ]
     },
     "execution_count": 23,
     "metadata": {},
     "output_type": "execute_result"
    }
   ],
   "source": [
    "student['income'] = 50  # così aggiungi un nuovo oggetto: key + valore (senza nessun metodo, basta scrivere una nuova key)\n",
    "del student['age']  # così elimini un oggetto: quello con la key indicata\n",
    "student"
   ]
  },
  {
   "cell_type": "code",
   "execution_count": 25,
   "metadata": {},
   "outputs": [
    {
     "data": {
      "text/plain": [
       "(True, False)"
      ]
     },
     "execution_count": 25,
     "metadata": {},
     "output_type": "execute_result"
    }
   ],
   "source": [
    "'name' in student, 'age' in student  # la key è nella dictionary? vero o falso?"
   ]
  },
  {
   "cell_type": "code",
   "execution_count": 24,
   "metadata": {},
   "outputs": [
    {
     "data": {
      "text/plain": [
       "dict_keys(['name', 'department', 'income'])"
      ]
     },
     "execution_count": 24,
     "metadata": {},
     "output_type": "execute_result"
    }
   ],
   "source": [
    "student.keys()  # LIST con le key"
   ]
  },
  {
   "cell_type": "code",
   "execution_count": 26,
   "metadata": {},
   "outputs": [
    {
     "data": {
      "text/plain": [
       "dict_values(['Albert', 'Computer Science', 50])"
      ]
     },
     "execution_count": 26,
     "metadata": {},
     "output_type": "execute_result"
    }
   ],
   "source": [
    "student.values()  # LIST con i valori"
   ]
  },
  {
   "cell_type": "code",
   "execution_count": 27,
   "metadata": {},
   "outputs": [
    {
     "data": {
      "text/plain": [
       "dict_items([('name', 'Albert'), ('department', 'Computer Science'), ('income', 50)])"
      ]
     },
     "execution_count": 27,
     "metadata": {},
     "output_type": "execute_result"
    }
   ],
   "source": [
    "student.items()  # LIST con le coppie key,valore"
   ]
  },
  {
   "cell_type": "code",
   "execution_count": null,
   "metadata": {},
   "outputs": [],
   "source": [
    "''' questi 3 metodi sono fondamentali e li riuseremo molto, soprattutto il terzo:  .item()\n",
    "questo perchè se vogliamo grabbare un elemento della dictionary non possiamo farlo direttamente con la\n",
    "struttura dati dictionary stessa, ma dobbiamo prima trasformarla in una LIST con all'interno Tuples con le coppie di elementi.\n",
    "'''"
   ]
  },
  {
   "cell_type": "markdown",
   "metadata": {},
   "source": [
    "### Sets\n",
    "\n",
    "A set is like a list but it can only hold unique values: cioè non possono esserci elementi doppioni nella lista"
   ]
  },
  {
   "cell_type": "code",
   "execution_count": 16,
   "metadata": {},
   "outputs": [
    {
     "data": {
      "text/plain": [
       "({'apple', 'banana', 'orange'}, {'banana', 'kiwi', 'melon'})"
      ]
     },
     "execution_count": 16,
     "metadata": {},
     "output_type": "execute_result"
    }
   ],
   "source": [
    "fruits1 = {'apple', 'banana', 'orange'}\n",
    "fruits2 = set(['kiwi', 'banana', 'melon'])\n",
    "\n",
    "fruits1, fruits2"
   ]
  },
  {
   "cell_type": "code",
   "execution_count": 17,
   "metadata": {},
   "outputs": [
    {
     "data": {
      "text/plain": [
       "({'apple', 'banana', 'orange'}, {'apple', 'banana', 'kiwi', 'melon'})"
      ]
     },
     "execution_count": 17,
     "metadata": {},
     "output_type": "execute_result"
    }
   ],
   "source": [
    "fruits1.add('apple')  # così si aggiunge un elemento al set\n",
    "fruits2.update(['apple', 'banana'])  # così si aggiungono più elementi al set in una volta sola\n",
    "fruits1, fruits2\n",
    "# come vediamo dall'output gli elementi vengono inseriti in ordine alfabetico e non nell'ordine in cui si inseriscono.\n",
    "# inoltre se inseriamo elementi già presenti essi non vengono duplicati, e il set non si modifica."
   ]
  },
  {
   "cell_type": "markdown",
   "metadata": {},
   "source": [
    "Many operations can be efficiently performed using sets\n",
    "e questo è il motivo per cui essi vengono usati al posto delle LIST: per fare le stesse operazioni con le List\n",
    "ci vorrebbe molto più codice"
   ]
  },
  {
   "cell_type": "code",
   "execution_count": 18,
   "metadata": {},
   "outputs": [
    {
     "data": {
      "text/plain": [
       "{'apple', 'banana'}"
      ]
     },
     "execution_count": 18,
     "metadata": {},
     "output_type": "execute_result"
    }
   ],
   "source": [
    "it = fruits1 & fruits2 # intersection\n",
    "it"
   ]
  },
  {
   "cell_type": "code",
   "execution_count": 19,
   "metadata": {},
   "outputs": [
    {
     "data": {
      "text/plain": [
       "{'apple', 'banana', 'kiwi', 'melon', 'orange'}"
      ]
     },
     "execution_count": 19,
     "metadata": {},
     "output_type": "execute_result"
    }
   ],
   "source": [
    "un = fruits1 | fruits2 # union\n",
    "un"
   ]
  },
  {
   "cell_type": "code",
   "execution_count": 20,
   "metadata": {},
   "outputs": [
    {
     "data": {
      "text/plain": [
       "{'orange'}"
      ]
     },
     "execution_count": 20,
     "metadata": {},
     "output_type": "execute_result"
    }
   ],
   "source": [
    "diff = fruits1 - fruits2 # difference\n",
    "diff"
   ]
  },
  {
   "cell_type": "markdown",
   "metadata": {},
   "source": [
    "### Combination\n",
    "\n",
    "Data structures can be combined and nested"
   ]
  },
  {
   "cell_type": "code",
   "execution_count": 10,
   "metadata": {},
   "outputs": [
    {
     "data": {
      "text/plain": [
       "{'fruit': ['banana', 'pear'], ('apple', 'orange'): ('melon', 'kiwi')}"
      ]
     },
     "execution_count": 10,
     "metadata": {},
     "output_type": "execute_result"
    }
   ],
   "source": [
    "combo = ('apple', 'orange')\n",
    "mix = {'fruit' : ['banana', 'pear'], combo: ('melon', 'kiwi')}  # Dictionary con all'interno List e Tuples\n",
    "mix"
   ]
  },
  {
   "cell_type": "markdown",
   "metadata": {},
   "source": [
    "<a id='slicing'></a>\n",
    "## 6. Slicing  ([to top](#top))\n",
    "\n",
    "If an object is ordered (such as a list or tuple) you can select on index"
   ]
  },
  {
   "cell_type": "code",
   "execution_count": 12,
   "metadata": {},
   "outputs": [],
   "source": [
    "fruits = ['apple', 'banana', 'orange', 'pineapple', 'pear']"
   ]
  },
  {
   "cell_type": "code",
   "execution_count": 13,
   "metadata": {},
   "outputs": [
    {
     "data": {
      "text/plain": [
       "'apple'"
      ]
     },
     "execution_count": 13,
     "metadata": {},
     "output_type": "execute_result"
    }
   ],
   "source": [
    "first_fruit = fruits[0]\n",
    "first_fruit"
   ]
  },
  {
   "cell_type": "code",
   "execution_count": 14,
   "metadata": {},
   "outputs": [
    {
     "data": {
      "text/plain": [
       "'pear'"
      ]
     },
     "execution_count": 14,
     "metadata": {},
     "output_type": "execute_result"
    }
   ],
   "source": [
    "last_fruit = fruits[-1]\n",
    "last_fruit"
   ]
  },
  {
   "cell_type": "code",
   "execution_count": 15,
   "metadata": {},
   "outputs": [
    {
     "data": {
      "text/plain": [
       "['banana', 'orange', 'pineapple']"
      ]
     },
     "execution_count": 15,
     "metadata": {},
     "output_type": "execute_result"
    }
   ],
   "source": [
    "subset = fruits[1:4] # tutti gli elementi da 1 a 3 --> By convention: left index included, rigth excluded\n",
    "subset"
   ]
  },
  {
   "cell_type": "code",
   "execution_count": 38,
   "metadata": {},
   "outputs": [
    {
     "data": {
      "text/plain": [
       "['apple', 'banana', 'orange', 'pineapple']"
      ]
     },
     "execution_count": 38,
     "metadata": {},
     "output_type": "execute_result"
    }
   ],
   "source": [
    "subset = fruits[:4]  # tutti gli elementi da 0 a 3\n",
    "subset"
   ]
  },
  {
   "cell_type": "markdown",
   "metadata": {},
   "source": [
    "**Note**: slicing also works on strings!  perchè anche le stringhe sono delle collezioni di oggetti ordinate"
   ]
  },
  {
   "cell_type": "code",
   "execution_count": 39,
   "metadata": {},
   "outputs": [
    {
     "data": {
      "text/plain": [
       "'world!'"
      ]
     },
     "execution_count": 39,
     "metadata": {},
     "output_type": "execute_result"
    }
   ],
   "source": [
    "s = \"Hello world!\"\n",
    "s[6:]"
   ]
  },
  {
   "cell_type": "markdown",
   "metadata": {},
   "source": [
    "<a id='functions'></a>\n",
    "## 7. Functions  ([to top](#top))\n",
    "\n",
    "A funciton is a **named** and **reusable** snippet of code.\n",
    "\n",
    "A function takes *arguments* as input and defines logic to process these inputs (and possibly returns something)."
   ]
  },
  {
   "cell_type": "code",
   "execution_count": 40,
   "metadata": {},
   "outputs": [],
   "source": [
    "def multiply(a, b):\n",
    "    return a*b"
   ]
  },
  {
   "cell_type": "markdown",
   "metadata": {},
   "source": [
    "The action expressed by **multiply** will only execute once you call it:"
   ]
  },
  {
   "cell_type": "code",
   "execution_count": 41,
   "metadata": {},
   "outputs": [
    {
     "data": {
      "text/plain": [
       "6"
      ]
     },
     "execution_count": 41,
     "metadata": {},
     "output_type": "execute_result"
    }
   ],
   "source": [
    "multiply(2, 3)"
   ]
  },
  {
   "cell_type": "markdown",
   "metadata": {},
   "source": [
    "Function can also define default values for their arguments:"
   ]
  },
  {
   "cell_type": "code",
   "execution_count": 42,
   "metadata": {},
   "outputs": [
    {
     "data": {
      "text/plain": [
       "10"
      ]
     },
     "execution_count": 42,
     "metadata": {},
     "output_type": "execute_result"
    }
   ],
   "source": [
    "def multiply(a, b=5):\n",
    "    return a*b\n",
    "\n",
    "multiply(2)  # quando poi la richiami ti basterà esplicitare un input solo che sarà quello non definito (es. a)"
   ]
  },
  {
   "cell_type": "code",
   "execution_count": 43,
   "metadata": {
    "scrolled": true
   },
   "outputs": [
    {
     "data": {
      "text/plain": [
       "6"
      ]
     },
     "execution_count": 43,
     "metadata": {},
     "output_type": "execute_result"
    }
   ],
   "source": [
    "multiply(2, b=3)  # se vuoi riassegnare il valore di b devi specificarlo"
   ]
  },
  {
   "cell_type": "markdown",
   "metadata": {},
   "source": [
    "<a id='blocks'></a>\n",
    "## 8. Code Blocks  ([to top](#top))\n",
    "\n",
    "In python blocks of code can be nested.<br/>\n",
    "Variables in the outer blocks can be seen by the inner ones, the opposite does not apply.\n",
    "\n",
    "Indentations are required by Python to define blocks of code. Each indentation level is identified by 4 spaces (one tab)<br/>\n",
    "**Note**: code subsets have their own local *scope* (notice variable *a*):"
   ]
  },
  {
   "cell_type": "code",
   "execution_count": 35,
   "metadata": {},
   "outputs": [],
   "source": [
    "def layer_1():\n",
    "    a = 'Layer 1'\n",
    "    print(a)\n",
    "    \n",
    "    def layer_2():\n",
    "        a = 'Layer 2'\n",
    "        print(a)"
   ]
  },
  {
   "cell_type": "code",
   "execution_count": 31,
   "metadata": {},
   "outputs": [
    {
     "name": "stdout",
     "output_type": "stream",
     "text": [
      "b\n",
      "c\n"
     ]
    }
   ],
   "source": [
    "a = 3\n",
    "if a > 0:\n",
    "    print('b')\n",
    "    if a == 3: \n",
    "        print('c')\n",
    "else:\n",
    "    print('d')"
   ]
  },
  {
   "cell_type": "markdown",
   "metadata": {},
   "source": [
    "<a id='flow'></a>\n",
    "## 9. Flow Control  ([to top](#top))\n",
    "\n",
    "Python, as all programming languages, defines primitives to allow flow control: they are **conditional** and **cycles**"
   ]
  },
  {
   "cell_type": "markdown",
   "metadata": {},
   "source": [
    "### Conditional: If-Elif-Else\n",
    "\n",
    "A conditional statement allows to check **logic** conditions. \n",
    "\n",
    "Conditions can be:\n",
    "- mathematical (<, >, <=, >=, !=)\n",
    "- logical (and, or, not, in, is)"
   ]
  },
  {
   "cell_type": "code",
   "execution_count": 47,
   "metadata": {},
   "outputs": [
    {
     "name": "stdout",
     "output_type": "stream",
     "text": [
      "C\n"
     ]
    }
   ],
   "source": [
    "age = 25\n",
    "if age == 20:\n",
    "    print('A')\n",
    "elif age < 20:\n",
    "    print('B')\n",
    "elif age >= 25:\n",
    "    print('C')\n",
    "else:\n",
    "    print('D')"
   ]
  },
  {
   "cell_type": "code",
   "execution_count": 37,
   "metadata": {},
   "outputs": [
    {
     "name": "stdout",
     "output_type": "stream",
     "text": [
      "Hello\n",
      "26\n"
     ]
    }
   ],
   "source": [
    "sex = \"M\"\n",
    "age = 20\n",
    "if age in [20, 21, 25] and sex == 'M':\n",
    "    print(\"Hello\")\n",
    "    \n",
    "if age is not None:\n",
    "    print(age + 6)"
   ]
  },
  {
   "cell_type": "markdown",
   "metadata": {},
   "source": [
    "#### None: a special \"value\"\n",
    "``None`` is just a value that commonly is used to signify 'empty', or 'no value here'.\n",
    "\n",
    "A variable can be tested to be ``None`` with the keyword ``is``\n",
    "\n",
    "si usa ad esempio per gestire i valori mancanti nei dataset"
   ]
  },
  {
   "cell_type": "code",
   "execution_count": 50,
   "metadata": {},
   "outputs": [
    {
     "name": "stdout",
     "output_type": "stream",
     "text": [
      "Hi Irene\n"
     ]
    }
   ],
   "source": [
    "name = \"Irene\"\n",
    "if name is not None:\n",
    "    print('Hi {}'.format(name))"
   ]
  },
  {
   "cell_type": "markdown",
   "metadata": {},
   "source": [
    "### Cycles: For loops\n",
    "\n",
    "``for`` cycles are used to iterate over a data structure (e.g., a list). <br/>\n",
    "Since the size of a given data structure is *finite*, a ``for`` cycle *necessarely* ends."
   ]
  },
  {
   "cell_type": "code",
   "execution_count": 51,
   "metadata": {},
   "outputs": [
    {
     "name": "stdout",
     "output_type": "stream",
     "text": [
      "0\n",
      "2\n",
      "4\n"
     ]
    }
   ],
   "source": [
    "for num in range(0, 6, 2): # range(from, to, step)\n",
    "    print(num)"
   ]
  },
  {
   "cell_type": "code",
   "execution_count": 39,
   "metadata": {
    "scrolled": true
   },
   "outputs": [
    {
     "name": "stdout",
     "output_type": "stream",
     "text": [
      "0\n",
      "2\n",
      "4\n"
     ]
    }
   ],
   "source": [
    "array_1 = list(range(0, 6, 2))  # range(0, 6, 2) -->  numeri interi da 0 a 6 andando avanti di due in due\n",
    "\n",
    "for num in array_1:\n",
    "    print(num)"
   ]
  },
  {
   "cell_type": "code",
   "execution_count": 45,
   "metadata": {
    "scrolled": false
   },
   "outputs": [
    {
     "name": "stdout",
     "output_type": "stream",
     "text": [
      "0 Apple Apple\n",
      "1 Banana Banana\n",
      "2 Orange Orange\n"
     ]
    }
   ],
   "source": [
    "list_fruit = ['Apple', 'Banana', 'Orange']\n",
    "\n",
    "for i, fruit in enumerate(list_fruit):\n",
    "    print(i, fruit, list_fruit[i])\n",
    "    \n",
    "# enumerate(LIST) prende una lista in input e restituisce una matrice a coppie di elementi: indice, elemento lista.\n",
    "# es.  [(0, 'Apple'), (1, 'Banana'), (3, 'Orange')]\n",
    "# le coppie di elementi sono delle Tuples (immutabili). vedi anche il blocco di codice successivo, che fa la stessa cosa."
   ]
  },
  {
   "cell_type": "markdown",
   "metadata": {},
   "source": [
    "Looping over a list of tuples"
   ]
  },
  {
   "cell_type": "code",
   "execution_count": 53,
   "metadata": {},
   "outputs": [
    {
     "name": "stdout",
     "output_type": "stream",
     "text": [
      "3\n",
      "7\n"
     ]
    }
   ],
   "source": [
    "tuple_in_list = [(1, 2), (3, 4)]\n",
    "for a, b in tuple_in_list:\n",
    "    print(a + b)"
   ]
  },
  {
   "cell_type": "markdown",
   "metadata": {},
   "source": [
    "Looping over a dictionary"
   ]
  },
  {
   "cell_type": "code",
   "execution_count": 54,
   "metadata": {},
   "outputs": [
    {
     "name": "stdout",
     "output_type": "stream",
     "text": [
      "one 1\n",
      "two 2\n",
      "three 3\n"
     ]
    }
   ],
   "source": [
    "dictionary = {'one' : 1, 'two' : 2, 'three' : 3}\n",
    "\n",
    "for k, v in dictionary.items():\n",
    "    print(k, v)\n",
    "\n",
    "# come si vede per looppare su una dictionary prima va trasformata in una struttura dati come questa sopra:\n",
    "# Lista[Tuples(), Tuples(), ...., Tuples()]\n",
    "# con il metodo  .item()"
   ]
  },
  {
   "cell_type": "markdown",
   "metadata": {},
   "source": [
    "### Cycles: While loops\n",
    "\n",
    "``While`` cycles allow to loop until a specific condition (called *guard*) is satisfied. <br/>\n",
    "\n",
    "Indeed, conversely from ``for`` cycles, you can describe infinite loop using while."
   ]
  },
  {
   "cell_type": "code",
   "execution_count": 55,
   "metadata": {},
   "outputs": [
    {
     "name": "stdout",
     "output_type": "stream",
     "text": [
      "0\n",
      "1\n",
      "2\n",
      "3\n"
     ]
    }
   ],
   "source": [
    "count = 0\n",
    "while count < 4:\n",
    "    print(count)\n",
    "    count += 1"
   ]
  },
  {
   "cell_type": "markdown",
   "metadata": {},
   "source": [
    "<a id='comp'></a>\n",
    "## 10. Comprehensions  ([to top](#top))\n",
    "\n",
    "Comprehension makes it easier to generate a list or dictionary using a loop."
   ]
  },
  {
   "cell_type": "markdown",
   "metadata": {},
   "source": [
    "### List comprehension"
   ]
  },
  {
   "cell_type": "code",
   "execution_count": 56,
   "metadata": {},
   "outputs": [
    {
     "data": {
      "text/plain": [
       "[2, 3, 4, 5, 6, 7]"
      ]
     },
     "execution_count": 56,
     "metadata": {},
     "output_type": "execute_result"
    }
   ],
   "source": [
    "lst = [x + 2 for x in range(0,6)]\n",
    "lst"
   ]
  },
  {
   "cell_type": "markdown",
   "metadata": {},
   "source": [
    "It is an alternative to:"
   ]
  },
  {
   "cell_type": "code",
   "execution_count": 57,
   "metadata": {},
   "outputs": [
    {
     "data": {
      "text/plain": [
       "[2, 3, 4, 5, 6, 7]"
      ]
     },
     "execution_count": 57,
     "metadata": {},
     "output_type": "execute_result"
    }
   ],
   "source": [
    "lst = []\n",
    "for x in range(0,6):\n",
    "    lst.append(x + 2)\n",
    "lst"
   ]
  },
  {
   "cell_type": "markdown",
   "metadata": {},
   "source": [
    "### Dict comprehension"
   ]
  },
  {
   "cell_type": "code",
   "execution_count": 58,
   "metadata": {},
   "outputs": [
    {
     "data": {
      "text/plain": [
       "{'num_0': 5, 'num_1': 6, 'num_2': 7, 'num_3': 8, 'num_4': 9, 'num_5': 10}"
      ]
     },
     "execution_count": 58,
     "metadata": {},
     "output_type": "execute_result"
    }
   ],
   "source": [
    "ndt = {'num_{}'.format(x) : x + 5 for x in range(0,6)}\n",
    "ndt"
   ]
  },
  {
   "cell_type": "markdown",
   "metadata": {},
   "source": [
    "It is an alternative to:"
   ]
  },
  {
   "cell_type": "code",
   "execution_count": 59,
   "metadata": {},
   "outputs": [
    {
     "data": {
      "text/plain": [
       "{'num_0': 5, 'num_1': 6, 'num_2': 7, 'num_3': 8, 'num_4': 9, 'num_5': 10}"
      ]
     },
     "execution_count": 59,
     "metadata": {},
     "output_type": "execute_result"
    }
   ],
   "source": [
    "ndt = {}\n",
    "for x in range(0,6):\n",
    "    ndt['num_{}'.format(x)] = x + 5\n",
    "ndt"
   ]
  },
  {
   "cell_type": "markdown",
   "metadata": {},
   "source": [
    "### Comprehension with conditions"
   ]
  },
  {
   "cell_type": "code",
   "execution_count": 60,
   "metadata": {},
   "outputs": [
    {
     "data": {
      "text/plain": [
       "[0, 2, 4]"
      ]
     },
     "execution_count": 60,
     "metadata": {},
     "output_type": "execute_result"
    }
   ],
   "source": [
    "lst = [x for x in range(0,6) if x%2==0]\n",
    "lst"
   ]
  },
  {
   "cell_type": "markdown",
   "metadata": {},
   "source": [
    "<a id='exceptions'></a>\n",
    "## 11. Exceptions  ([to top](#top))\n",
    "\n",
    "In Python when something *wrong* happens an exception is raised:"
   ]
  },
  {
   "cell_type": "code",
   "execution_count": 46,
   "metadata": {
    "scrolled": true
   },
   "outputs": [
    {
     "ename": "ValueError",
     "evalue": "list.remove(x): x not in list",
     "output_type": "error",
     "traceback": [
      "\u001b[1;31m---------------------------------------------------------------------------\u001b[0m",
      "\u001b[1;31mValueError\u001b[0m                                Traceback (most recent call last)",
      "\u001b[1;32m<ipython-input-46-926b625f5509>\u001b[0m in \u001b[0;36m<module>\u001b[1;34m()\u001b[0m\n\u001b[0;32m      1\u001b[0m \u001b[0mnum_list\u001b[0m \u001b[1;33m=\u001b[0m \u001b[1;33m[\u001b[0m\u001b[1;36m1\u001b[0m\u001b[1;33m,\u001b[0m \u001b[1;36m2\u001b[0m\u001b[1;33m,\u001b[0m \u001b[1;36m3\u001b[0m\u001b[1;33m]\u001b[0m\u001b[1;33m\u001b[0m\u001b[0m\n\u001b[1;32m----> 2\u001b[1;33m \u001b[0mnum_list\u001b[0m\u001b[1;33m.\u001b[0m\u001b[0mremove\u001b[0m\u001b[1;33m(\u001b[0m\u001b[1;36m4\u001b[0m\u001b[1;33m)\u001b[0m\u001b[1;33m\u001b[0m\u001b[0m\n\u001b[0m",
      "\u001b[1;31mValueError\u001b[0m: list.remove(x): x not in list"
     ]
    }
   ],
   "source": [
    "num_list = [1, 2, 3]\n",
    "num_list.remove(4)"
   ]
  },
  {
   "cell_type": "markdown",
   "metadata": {},
   "source": [
    "You can catch exceptions using try and except:"
   ]
  },
  {
   "cell_type": "code",
   "execution_count": 47,
   "metadata": {},
   "outputs": [
    {
     "name": "stdout",
     "output_type": "stream",
     "text": [
      "ERROR!\n"
     ]
    }
   ],
   "source": [
    "try:\n",
    "    num_list.remove(4)\n",
    "except:\n",
    "    print('ERROR!')"
   ]
  },
  {
   "cell_type": "markdown",
   "metadata": {},
   "source": [
    "It is usually best practice to specify the error type to except:"
   ]
  },
  {
   "cell_type": "code",
   "execution_count": 48,
   "metadata": {},
   "outputs": [
    {
     "name": "stdout",
     "output_type": "stream",
     "text": [
      "Number not in the list\n",
      "Done\n"
     ]
    }
   ],
   "source": [
    "try:\n",
    "    num_list.remove(4)\n",
    "except ValueError as e:\n",
    "    print('Number not in the list')\n",
    "except Exception as e:\n",
    "    print ('Generic error')\n",
    "finally:\n",
    "    print('Done')"
   ]
  },
  {
   "cell_type": "markdown",
   "metadata": {},
   "source": [
    "<a id='io'></a>\n",
    "## 12. File Input/Output  ([to top](#top))\n",
    "\n",
    "You can open a file with different file modes: <br/>\n",
    "w -> write only <br/>\n",
    "r -> read only <br/>\n",
    "w+ -> read and write + completely overwrite file <br/>\n",
    "a+ -> read and write + append at the bottom <br/>"
   ]
  },
  {
   "cell_type": "code",
   "execution_count": null,
   "metadata": {},
   "outputs": [],
   "source": [
    "with open('new_file.txt', 'w') as file:\n",
    "    file.write('Content of new file. \\nHi there!')\n",
    "\n",
    "# con  open('...', 'w')  apri il file di testo e sovrascrivi completamente tutto il file"
   ]
  },
  {
   "cell_type": "code",
   "execution_count": null,
   "metadata": {},
   "outputs": [],
   "source": [
    "with open('new_file.txt', 'r') as file:\n",
    "    file_content = file.read()\n",
    "    \n",
    "file_content\n",
    "\n",
    "# solo lettura del file"
   ]
  },
  {
   "cell_type": "code",
   "execution_count": null,
   "metadata": {},
   "outputs": [],
   "source": [
    "print(file_content)"
   ]
  },
  {
   "cell_type": "code",
   "execution_count": null,
   "metadata": {},
   "outputs": [],
   "source": [
    "with open('new_file.txt', 'a+') as file:\n",
    "    file.write('\\n' + 'New line')\n",
    "\n",
    "# apri il file e inserisci nuovo testo in fondo (non elimini il testo esistente)"
   ]
  },
  {
   "cell_type": "code",
   "execution_count": null,
   "metadata": {},
   "outputs": [],
   "source": [
    "with open('new_file.txt', 'r') as file:\n",
    "    for line in file:\n",
    "        print(line)\n",
    "\n",
    "# printi tutte le righe del file di testo"
   ]
  },
  {
   "cell_type": "markdown",
   "metadata": {},
   "source": [
    "<a id='libs'></a>\n",
    "## 13. Importing Libraries  ([to top](#top))\n",
    "\n",
    "In python some funtionality are left outside from the core language: in order to access them it is necessary to ``import`` dedicated packages.\n",
    "\n",
    "A ``package`` is a choerent collection of ``functions``. \n",
    "\n",
    "There exist hundreds of thousands different packages: if you need something, it is likely that someone already coded and packaged it!"
   ]
  },
  {
   "cell_type": "code",
   "execution_count": 41,
   "metadata": {},
   "outputs": [
    {
     "data": {
      "text/plain": [
       "0.8414709848078965"
      ]
     },
     "execution_count": 41,
     "metadata": {},
     "output_type": "execute_result"
    }
   ],
   "source": [
    "import math\n",
    "math.sin(1)"
   ]
  },
  {
   "cell_type": "code",
   "execution_count": 42,
   "metadata": {},
   "outputs": [
    {
     "data": {
      "text/plain": [
       "0.8414709848078965"
      ]
     },
     "execution_count": 42,
     "metadata": {},
     "output_type": "execute_result"
    }
   ],
   "source": [
    "import math as mt\n",
    "mt.sin(1)"
   ]
  },
  {
   "cell_type": "code",
   "execution_count": 43,
   "metadata": {},
   "outputs": [
    {
     "data": {
      "text/plain": [
       "0.8414709848078965"
      ]
     },
     "execution_count": 43,
     "metadata": {},
     "output_type": "execute_result"
    }
   ],
   "source": [
    "from math import sin\n",
    "sin(1)"
   ]
  },
  {
   "cell_type": "markdown",
   "metadata": {},
   "source": [
    "To install a new package you can use a command line tool: ``pip``.\n",
    "\n",
    "Just open a terminal (from Anaconda) and type\n",
    "\n",
    "    pip install <package name>\n",
    "  "
   ]
  },
  {
   "cell_type": "markdown",
   "metadata": {},
   "source": [
    "<a id='zen'></a>\n",
    "## 14. Zen of Python ([to top](#top))\n",
    "\n",
    "When you have doubts just remember the \"Zen of Python\""
   ]
  },
  {
   "cell_type": "code",
   "execution_count": 40,
   "metadata": {},
   "outputs": [
    {
     "name": "stdout",
     "output_type": "stream",
     "text": [
      "The Zen of Python, by Tim Peters\n",
      "\n",
      "Beautiful is better than ugly.\n",
      "Explicit is better than implicit.\n",
      "Simple is better than complex.\n",
      "Complex is better than complicated.\n",
      "Flat is better than nested.\n",
      "Sparse is better than dense.\n",
      "Readability counts.\n",
      "Special cases aren't special enough to break the rules.\n",
      "Although practicality beats purity.\n",
      "Errors should never pass silently.\n",
      "Unless explicitly silenced.\n",
      "In the face of ambiguity, refuse the temptation to guess.\n",
      "There should be one-- and preferably only one --obvious way to do it.\n",
      "Although that way may not be obvious at first unless you're Dutch.\n",
      "Now is better than never.\n",
      "Although never is often better than *right* now.\n",
      "If the implementation is hard to explain, it's a bad idea.\n",
      "If the implementation is easy to explain, it may be a good idea.\n",
      "Namespaces are one honking great idea -- let's do more of those!\n"
     ]
    }
   ],
   "source": [
    "import this"
   ]
  },
  {
   "cell_type": "code",
   "execution_count": null,
   "metadata": {},
   "outputs": [],
   "source": []
  }
 ],
 "metadata": {
  "anaconda-cloud": {},
  "kernelspec": {
   "display_name": "Python 3",
   "language": "python",
   "name": "python3"
  },
  "language_info": {
   "codemirror_mode": {
    "name": "ipython",
    "version": 3
   },
   "file_extension": ".py",
   "mimetype": "text/x-python",
   "name": "python",
   "nbconvert_exporter": "python",
   "pygments_lexer": "ipython3",
   "version": "3.6.5"
  }
 },
 "nbformat": 4,
 "nbformat_minor": 2
}
