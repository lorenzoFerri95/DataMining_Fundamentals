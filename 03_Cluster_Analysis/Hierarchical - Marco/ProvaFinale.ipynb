{
 "cells": [
  {
   "cell_type": "code",
   "execution_count": 10,
   "metadata": {},
   "outputs": [],
   "source": [
    "%matplotlib inline\n",
    "\n",
    "import numpy as np\n",
    "import pandas as pd\n",
    "from matplotlib import pyplot as plt\n",
    "import matplotlib.pyplot as plt\n",
    "from scipy.stats import mode\n",
    "from scipy.spatial.distance import pdist\n",
    "from scipy.cluster.hierarchy import linkage, dendrogram\n",
    "from sklearn.cluster import AgglomerativeClustering\n",
    "from sklearn.metrics import silhouette_score"
   ]
  },
  {
   "cell_type": "code",
   "execution_count": 11,
   "metadata": {},
   "outputs": [
    {
     "data": {
      "text/html": [
       "<div>\n",
       "<style scoped>\n",
       "    .dataframe tbody tr th:only-of-type {\n",
       "        vertical-align: middle;\n",
       "    }\n",
       "\n",
       "    .dataframe tbody tr th {\n",
       "        vertical-align: top;\n",
       "    }\n",
       "\n",
       "    .dataframe thead th {\n",
       "        text-align: right;\n",
       "    }\n",
       "</style>\n",
       "<table border=\"1\" class=\"dataframe\">\n",
       "  <thead>\n",
       "    <tr style=\"text-align: right;\">\n",
       "      <th></th>\n",
       "      <th>PurchDate</th>\n",
       "      <th>Model</th>\n",
       "      <th>SubModel</th>\n",
       "      <th>VehYear</th>\n",
       "      <th>RefId</th>\n",
       "      <th>IsBadBuy</th>\n",
       "      <th>Auction</th>\n",
       "      <th>VehicleAge</th>\n",
       "      <th>Make</th>\n",
       "      <th>Engine</th>\n",
       "      <th>...</th>\n",
       "      <th>BYRNO</th>\n",
       "      <th>VNZIP1</th>\n",
       "      <th>VNST</th>\n",
       "      <th>VehBCost</th>\n",
       "      <th>IsOnlineSale</th>\n",
       "      <th>WarrantyCost</th>\n",
       "      <th>Doors</th>\n",
       "      <th>TotalPrice</th>\n",
       "      <th>CostOverOdo</th>\n",
       "      <th>labels_DBSCAN</th>\n",
       "    </tr>\n",
       "  </thead>\n",
       "  <tbody>\n",
       "    <tr>\n",
       "      <td>0</td>\n",
       "      <td>2009-07-28</td>\n",
       "      <td>1500 RAM</td>\n",
       "      <td>EXT CAB</td>\n",
       "      <td>2001</td>\n",
       "      <td>61608</td>\n",
       "      <td>1</td>\n",
       "      <td>ADESA</td>\n",
       "      <td>8</td>\n",
       "      <td>DODGE</td>\n",
       "      <td>5.2L</td>\n",
       "      <td>...</td>\n",
       "      <td>23359</td>\n",
       "      <td>91752</td>\n",
       "      <td>CA</td>\n",
       "      <td>4315.0</td>\n",
       "      <td>0</td>\n",
       "      <td>1054</td>\n",
       "      <td>4D</td>\n",
       "      <td>5369.0</td>\n",
       "      <td>0.078288</td>\n",
       "      <td>0</td>\n",
       "    </tr>\n",
       "    <tr>\n",
       "      <td>1</td>\n",
       "      <td>2009-07-28</td>\n",
       "      <td>1500 RAM</td>\n",
       "      <td>EXT CAB</td>\n",
       "      <td>2001</td>\n",
       "      <td>61608</td>\n",
       "      <td>1</td>\n",
       "      <td>ADESA</td>\n",
       "      <td>8</td>\n",
       "      <td>DODGE</td>\n",
       "      <td>5.2L</td>\n",
       "      <td>...</td>\n",
       "      <td>23359</td>\n",
       "      <td>91752</td>\n",
       "      <td>CA</td>\n",
       "      <td>4315.0</td>\n",
       "      <td>0</td>\n",
       "      <td>1054</td>\n",
       "      <td>4D</td>\n",
       "      <td>5369.0</td>\n",
       "      <td>0.078288</td>\n",
       "      <td>0</td>\n",
       "    </tr>\n",
       "    <tr>\n",
       "      <td>2</td>\n",
       "      <td>2009-02-25</td>\n",
       "      <td>1500 RAM</td>\n",
       "      <td>MEGA CAB</td>\n",
       "      <td>2006</td>\n",
       "      <td>50261</td>\n",
       "      <td>0</td>\n",
       "      <td>MANHEIM</td>\n",
       "      <td>3</td>\n",
       "      <td>DODGE</td>\n",
       "      <td>5.7L</td>\n",
       "      <td>...</td>\n",
       "      <td>19662</td>\n",
       "      <td>78219</td>\n",
       "      <td>TX</td>\n",
       "      <td>10835.0</td>\n",
       "      <td>0</td>\n",
       "      <td>920</td>\n",
       "      <td>NaN</td>\n",
       "      <td>11755.0</td>\n",
       "      <td>0.148980</td>\n",
       "      <td>0</td>\n",
       "    </tr>\n",
       "    <tr>\n",
       "      <td>3</td>\n",
       "      <td>2009-01-12</td>\n",
       "      <td>1500 RAM</td>\n",
       "      <td>MEGA CAB</td>\n",
       "      <td>2006</td>\n",
       "      <td>33703</td>\n",
       "      <td>0</td>\n",
       "      <td>MANHEIM</td>\n",
       "      <td>3</td>\n",
       "      <td>DODGE</td>\n",
       "      <td>5.7L</td>\n",
       "      <td>...</td>\n",
       "      <td>19619</td>\n",
       "      <td>34761</td>\n",
       "      <td>FL</td>\n",
       "      <td>11515.0</td>\n",
       "      <td>0</td>\n",
       "      <td>983</td>\n",
       "      <td>NaN</td>\n",
       "      <td>12498.0</td>\n",
       "      <td>0.142777</td>\n",
       "      <td>0</td>\n",
       "    </tr>\n",
       "    <tr>\n",
       "      <td>4</td>\n",
       "      <td>2009-01-12</td>\n",
       "      <td>1500 RAM</td>\n",
       "      <td>MEGA CAB</td>\n",
       "      <td>2006</td>\n",
       "      <td>33703</td>\n",
       "      <td>0</td>\n",
       "      <td>MANHEIM</td>\n",
       "      <td>3</td>\n",
       "      <td>DODGE</td>\n",
       "      <td>5.7L</td>\n",
       "      <td>...</td>\n",
       "      <td>19619</td>\n",
       "      <td>34761</td>\n",
       "      <td>FL</td>\n",
       "      <td>11515.0</td>\n",
       "      <td>0</td>\n",
       "      <td>983</td>\n",
       "      <td>NaN</td>\n",
       "      <td>12498.0</td>\n",
       "      <td>0.142777</td>\n",
       "      <td>0</td>\n",
       "    </tr>\n",
       "    <tr>\n",
       "      <td>...</td>\n",
       "      <td>...</td>\n",
       "      <td>...</td>\n",
       "      <td>...</td>\n",
       "      <td>...</td>\n",
       "      <td>...</td>\n",
       "      <td>...</td>\n",
       "      <td>...</td>\n",
       "      <td>...</td>\n",
       "      <td>...</td>\n",
       "      <td>...</td>\n",
       "      <td>...</td>\n",
       "      <td>...</td>\n",
       "      <td>...</td>\n",
       "      <td>...</td>\n",
       "      <td>...</td>\n",
       "      <td>...</td>\n",
       "      <td>...</td>\n",
       "      <td>...</td>\n",
       "      <td>...</td>\n",
       "      <td>...</td>\n",
       "      <td>...</td>\n",
       "    </tr>\n",
       "    <tr>\n",
       "      <td>50901</td>\n",
       "      <td>2009-03-03</td>\n",
       "      <td>ZEPHYR</td>\n",
       "      <td>SEDAN</td>\n",
       "      <td>2006</td>\n",
       "      <td>32556</td>\n",
       "      <td>0</td>\n",
       "      <td>MANHEIM</td>\n",
       "      <td>3</td>\n",
       "      <td>LINCOLN</td>\n",
       "      <td>NaN</td>\n",
       "      <td>...</td>\n",
       "      <td>3453</td>\n",
       "      <td>80022</td>\n",
       "      <td>CO</td>\n",
       "      <td>9215.0</td>\n",
       "      <td>0</td>\n",
       "      <td>1118</td>\n",
       "      <td>4D</td>\n",
       "      <td>10333.0</td>\n",
       "      <td>0.133597</td>\n",
       "      <td>0</td>\n",
       "    </tr>\n",
       "    <tr>\n",
       "      <td>50902</td>\n",
       "      <td>2009-04-14</td>\n",
       "      <td>ZEPHYR</td>\n",
       "      <td>SEDAN</td>\n",
       "      <td>2006</td>\n",
       "      <td>33398</td>\n",
       "      <td>0</td>\n",
       "      <td>MANHEIM</td>\n",
       "      <td>3</td>\n",
       "      <td>LINCOLN</td>\n",
       "      <td>3.0L SFI</td>\n",
       "      <td>...</td>\n",
       "      <td>5546</td>\n",
       "      <td>34761</td>\n",
       "      <td>FL</td>\n",
       "      <td>10265.0</td>\n",
       "      <td>0</td>\n",
       "      <td>1118</td>\n",
       "      <td>4D</td>\n",
       "      <td>11383.0</td>\n",
       "      <td>0.150354</td>\n",
       "      <td>0</td>\n",
       "    </tr>\n",
       "    <tr>\n",
       "      <td>50903</td>\n",
       "      <td>2010-09-22</td>\n",
       "      <td>ZEPHYR</td>\n",
       "      <td>SEDAN</td>\n",
       "      <td>2006</td>\n",
       "      <td>42247</td>\n",
       "      <td>1</td>\n",
       "      <td>OTHER</td>\n",
       "      <td>4</td>\n",
       "      <td>LINCOLN</td>\n",
       "      <td>NaN</td>\n",
       "      <td>...</td>\n",
       "      <td>52492</td>\n",
       "      <td>27407</td>\n",
       "      <td>NC</td>\n",
       "      <td>9005.0</td>\n",
       "      <td>0</td>\n",
       "      <td>1272</td>\n",
       "      <td>4D</td>\n",
       "      <td>10277.0</td>\n",
       "      <td>0.124830</td>\n",
       "      <td>0</td>\n",
       "    </tr>\n",
       "    <tr>\n",
       "      <td>50904</td>\n",
       "      <td>2010-07-14</td>\n",
       "      <td>ZEPHYR</td>\n",
       "      <td>SEDAN</td>\n",
       "      <td>2006</td>\n",
       "      <td>70031</td>\n",
       "      <td>0</td>\n",
       "      <td>ADESA</td>\n",
       "      <td>4</td>\n",
       "      <td>LINCOLN</td>\n",
       "      <td>NaN</td>\n",
       "      <td>...</td>\n",
       "      <td>21053</td>\n",
       "      <td>85226</td>\n",
       "      <td>AZ</td>\n",
       "      <td>8615.0</td>\n",
       "      <td>0</td>\n",
       "      <td>1272</td>\n",
       "      <td>4D</td>\n",
       "      <td>9887.0</td>\n",
       "      <td>0.121686</td>\n",
       "      <td>0</td>\n",
       "    </tr>\n",
       "    <tr>\n",
       "      <td>50905</td>\n",
       "      <td>2010-10-11</td>\n",
       "      <td>ZEPHYR</td>\n",
       "      <td>SEDAN</td>\n",
       "      <td>2006</td>\n",
       "      <td>64639</td>\n",
       "      <td>0</td>\n",
       "      <td>ADESA</td>\n",
       "      <td>4</td>\n",
       "      <td>LINCOLN</td>\n",
       "      <td>NaN</td>\n",
       "      <td>...</td>\n",
       "      <td>21053</td>\n",
       "      <td>85226</td>\n",
       "      <td>AZ</td>\n",
       "      <td>8315.0</td>\n",
       "      <td>0</td>\n",
       "      <td>1272</td>\n",
       "      <td>4D</td>\n",
       "      <td>9587.0</td>\n",
       "      <td>0.113031</td>\n",
       "      <td>0</td>\n",
       "    </tr>\n",
       "  </tbody>\n",
       "</table>\n",
       "<p>50906 rows × 31 columns</p>\n",
       "</div>"
      ],
      "text/plain": [
       "        PurchDate     Model  SubModel  VehYear  RefId  IsBadBuy  Auction  \\\n",
       "0      2009-07-28  1500 RAM   EXT CAB     2001  61608         1    ADESA   \n",
       "1      2009-07-28  1500 RAM   EXT CAB     2001  61608         1    ADESA   \n",
       "2      2009-02-25  1500 RAM  MEGA CAB     2006  50261         0  MANHEIM   \n",
       "3      2009-01-12  1500 RAM  MEGA CAB     2006  33703         0  MANHEIM   \n",
       "4      2009-01-12  1500 RAM  MEGA CAB     2006  33703         0  MANHEIM   \n",
       "...           ...       ...       ...      ...    ...       ...      ...   \n",
       "50901  2009-03-03    ZEPHYR     SEDAN     2006  32556         0  MANHEIM   \n",
       "50902  2009-04-14    ZEPHYR     SEDAN     2006  33398         0  MANHEIM   \n",
       "50903  2010-09-22    ZEPHYR     SEDAN     2006  42247         1    OTHER   \n",
       "50904  2010-07-14    ZEPHYR     SEDAN     2006  70031         0    ADESA   \n",
       "50905  2010-10-11    ZEPHYR     SEDAN     2006  64639         0    ADESA   \n",
       "\n",
       "       VehicleAge     Make    Engine  ...  BYRNO VNZIP1  VNST  VehBCost  \\\n",
       "0               8    DODGE      5.2L  ...  23359  91752    CA    4315.0   \n",
       "1               8    DODGE      5.2L  ...  23359  91752    CA    4315.0   \n",
       "2               3    DODGE      5.7L  ...  19662  78219    TX   10835.0   \n",
       "3               3    DODGE      5.7L  ...  19619  34761    FL   11515.0   \n",
       "4               3    DODGE      5.7L  ...  19619  34761    FL   11515.0   \n",
       "...           ...      ...       ...  ...    ...    ...   ...       ...   \n",
       "50901           3  LINCOLN       NaN  ...   3453  80022    CO    9215.0   \n",
       "50902           3  LINCOLN  3.0L SFI  ...   5546  34761    FL   10265.0   \n",
       "50903           4  LINCOLN       NaN  ...  52492  27407    NC    9005.0   \n",
       "50904           4  LINCOLN       NaN  ...  21053  85226    AZ    8615.0   \n",
       "50905           4  LINCOLN       NaN  ...  21053  85226    AZ    8315.0   \n",
       "\n",
       "      IsOnlineSale WarrantyCost Doors  TotalPrice  CostOverOdo  labels_DBSCAN  \n",
       "0                0         1054    4D      5369.0     0.078288              0  \n",
       "1                0         1054    4D      5369.0     0.078288              0  \n",
       "2                0          920   NaN     11755.0     0.148980              0  \n",
       "3                0          983   NaN     12498.0     0.142777              0  \n",
       "4                0          983   NaN     12498.0     0.142777              0  \n",
       "...            ...          ...   ...         ...          ...            ...  \n",
       "50901            0         1118    4D     10333.0     0.133597              0  \n",
       "50902            0         1118    4D     11383.0     0.150354              0  \n",
       "50903            0         1272    4D     10277.0     0.124830              0  \n",
       "50904            0         1272    4D      9887.0     0.121686              0  \n",
       "50905            0         1272    4D      9587.0     0.113031              0  \n",
       "\n",
       "[50906 rows x 31 columns]"
      ]
     },
     "execution_count": 11,
     "metadata": {},
     "output_type": "execute_result"
    }
   ],
   "source": [
    "df = pd.read_csv(\"df_DBSCAN.csv\", skipinitialspace=True, sep=',')\n",
    "df"
   ]
  },
  {
   "cell_type": "code",
   "execution_count": 12,
   "metadata": {},
   "outputs": [],
   "source": [
    "dffinale = df"
   ]
  },
  {
   "cell_type": "code",
   "execution_count": 13,
   "metadata": {},
   "outputs": [],
   "source": [
    "indexNames = df[df['labels_DBSCAN'] == -1 ].index\n",
    "df.drop(indexNames , inplace=True)"
   ]
  },
  {
   "cell_type": "code",
   "execution_count": 14,
   "metadata": {},
   "outputs": [
    {
     "data": {
      "text/html": [
       "<div>\n",
       "<style scoped>\n",
       "    .dataframe tbody tr th:only-of-type {\n",
       "        vertical-align: middle;\n",
       "    }\n",
       "\n",
       "    .dataframe tbody tr th {\n",
       "        vertical-align: top;\n",
       "    }\n",
       "\n",
       "    .dataframe thead th {\n",
       "        text-align: right;\n",
       "    }\n",
       "</style>\n",
       "<table border=\"1\" class=\"dataframe\">\n",
       "  <thead>\n",
       "    <tr style=\"text-align: right;\">\n",
       "      <th></th>\n",
       "      <th>VehicleAge</th>\n",
       "      <th>VehOdo</th>\n",
       "      <th>MMRAcquisitionAuctionAveragePrice</th>\n",
       "      <th>VehBCost</th>\n",
       "      <th>WarrantyCost</th>\n",
       "      <th>CostOverOdo</th>\n",
       "    </tr>\n",
       "  </thead>\n",
       "  <tbody>\n",
       "    <tr>\n",
       "      <td>0</td>\n",
       "      <td>8</td>\n",
       "      <td>55117</td>\n",
       "      <td>3192.0</td>\n",
       "      <td>4315.0</td>\n",
       "      <td>1054</td>\n",
       "      <td>0.078288</td>\n",
       "    </tr>\n",
       "    <tr>\n",
       "      <td>1</td>\n",
       "      <td>8</td>\n",
       "      <td>55117</td>\n",
       "      <td>3192.0</td>\n",
       "      <td>4315.0</td>\n",
       "      <td>1054</td>\n",
       "      <td>0.078288</td>\n",
       "    </tr>\n",
       "    <tr>\n",
       "      <td>2</td>\n",
       "      <td>3</td>\n",
       "      <td>72728</td>\n",
       "      <td>12423.0</td>\n",
       "      <td>10835.0</td>\n",
       "      <td>920</td>\n",
       "      <td>0.148980</td>\n",
       "    </tr>\n",
       "    <tr>\n",
       "      <td>3</td>\n",
       "      <td>3</td>\n",
       "      <td>80650</td>\n",
       "      <td>13271.0</td>\n",
       "      <td>11515.0</td>\n",
       "      <td>983</td>\n",
       "      <td>0.142777</td>\n",
       "    </tr>\n",
       "    <tr>\n",
       "      <td>4</td>\n",
       "      <td>3</td>\n",
       "      <td>80650</td>\n",
       "      <td>13271.0</td>\n",
       "      <td>11515.0</td>\n",
       "      <td>983</td>\n",
       "      <td>0.142777</td>\n",
       "    </tr>\n",
       "  </tbody>\n",
       "</table>\n",
       "</div>"
      ],
      "text/plain": [
       "   VehicleAge  VehOdo  MMRAcquisitionAuctionAveragePrice  VehBCost  \\\n",
       "0           8   55117                             3192.0    4315.0   \n",
       "1           8   55117                             3192.0    4315.0   \n",
       "2           3   72728                            12423.0   10835.0   \n",
       "3           3   80650                            13271.0   11515.0   \n",
       "4           3   80650                            13271.0   11515.0   \n",
       "\n",
       "   WarrantyCost  CostOverOdo  \n",
       "0          1054     0.078288  \n",
       "1          1054     0.078288  \n",
       "2           920     0.148980  \n",
       "3           983     0.142777  \n",
       "4           983     0.142777  "
      ]
     },
     "execution_count": 14,
     "metadata": {},
     "output_type": "execute_result"
    }
   ],
   "source": [
    "columns_toAnalyze = ['VehicleAge', 'VehOdo', 'MMRAcquisitionAuctionAveragePrice', 'VehBCost', 'WarrantyCost', 'CostOverOdo']\n",
    "\n",
    "df = df[columns_toAnalyze]\n",
    "\n",
    "df.head()"
   ]
  },
  {
   "cell_type": "code",
   "execution_count": 15,
   "metadata": {},
   "outputs": [
    {
     "name": "stdout",
     "output_type": "stream",
     "text": [
      "silhouette complete\n",
      "0.3663157958145133\n"
     ]
    }
   ],
   "source": [
    "cluster = AgglomerativeClustering(n_clusters=5, affinity='euclidean', linkage='complete')  \n",
    "cluster.fit_predict(df)\n",
    "print(\"silhouette complete\")\n",
    "x = silhouette_score(df, cluster.labels_)\n",
    "print(x)"
   ]
  },
  {
   "cell_type": "code",
   "execution_count": 16,
   "metadata": {},
   "outputs": [
    {
     "data": {
      "text/plain": [
       "(array([0, 1, 2, 3, 4], dtype=int64),\n",
       " array([ 1695, 23803, 13915, 10137,  1300], dtype=int64))"
      ]
     },
     "execution_count": 16,
     "metadata": {},
     "output_type": "execute_result"
    }
   ],
   "source": [
    "np.unique(cluster.labels_, return_counts=True)"
   ]
  },
  {
   "cell_type": "code",
   "execution_count": 17,
   "metadata": {},
   "outputs": [],
   "source": [
    "finale = cluster.labels_"
   ]
  },
  {
   "cell_type": "code",
   "execution_count": 18,
   "metadata": {},
   "outputs": [],
   "source": [
    "dffinale['Label5complete'] = cluster.labels_"
   ]
  },
  {
   "cell_type": "code",
   "execution_count": 19,
   "metadata": {},
   "outputs": [
    {
     "name": "stdout",
     "output_type": "stream",
     "text": [
      "silhouette complete\n",
      "0.41676081367806145\n"
     ]
    }
   ],
   "source": [
    "cluster = AgglomerativeClustering(n_clusters=4, affinity='euclidean', linkage='complete')  \n",
    "cluster.fit_predict(df)\n",
    "print(\"silhouette complete\")\n",
    "x = silhouette_score(df, cluster.labels_)\n",
    "print(x)"
   ]
  },
  {
   "cell_type": "code",
   "execution_count": 20,
   "metadata": {},
   "outputs": [
    {
     "data": {
      "text/plain": [
       "(array([0, 1, 2, 3], dtype=int64),\n",
       " array([15215, 23803,  1695, 10137], dtype=int64))"
      ]
     },
     "execution_count": 20,
     "metadata": {},
     "output_type": "execute_result"
    }
   ],
   "source": [
    "np.unique(cluster.labels_, return_counts=True)"
   ]
  },
  {
   "cell_type": "code",
   "execution_count": 21,
   "metadata": {},
   "outputs": [],
   "source": [
    "finale = cluster.labels_"
   ]
  },
  {
   "cell_type": "code",
   "execution_count": 22,
   "metadata": {},
   "outputs": [],
   "source": [
    "dffinale['Label4complete'] = cluster.labels_"
   ]
  },
  {
   "cell_type": "code",
   "execution_count": 23,
   "metadata": {},
   "outputs": [
    {
     "name": "stdout",
     "output_type": "stream",
     "text": [
      "silhouette complete\n",
      "0.32735761130451196\n"
     ]
    }
   ],
   "source": [
    "cluster = AgglomerativeClustering(n_clusters=3, affinity='euclidean', linkage='complete')  \n",
    "cluster.fit_predict(df)\n",
    "print(\"silhouette complete\")\n",
    "x = silhouette_score(df, cluster.labels_)\n",
    "print(x)"
   ]
  },
  {
   "cell_type": "code",
   "execution_count": 24,
   "metadata": {},
   "outputs": [
    {
     "data": {
      "text/plain": [
       "(array([0, 1, 2], dtype=int64), array([33940, 15215,  1695], dtype=int64))"
      ]
     },
     "execution_count": 24,
     "metadata": {},
     "output_type": "execute_result"
    }
   ],
   "source": [
    "np.unique(cluster.labels_, return_counts=True)"
   ]
  },
  {
   "cell_type": "code",
   "execution_count": 25,
   "metadata": {},
   "outputs": [],
   "source": [
    "finale = cluster.labels_"
   ]
  },
  {
   "cell_type": "code",
   "execution_count": 26,
   "metadata": {},
   "outputs": [],
   "source": [
    "dffinale['Label3complete'] = cluster.labels_"
   ]
  },
  {
   "cell_type": "code",
   "execution_count": 27,
   "metadata": {},
   "outputs": [
    {
     "name": "stdout",
     "output_type": "stream",
     "text": [
      "silhouette complete\n",
      "0.3385657938519316\n"
     ]
    }
   ],
   "source": [
    "cluster = AgglomerativeClustering(n_clusters=5, affinity='euclidean', linkage='ward')  \n",
    "cluster.fit_predict(df)\n",
    "print(\"silhouette complete\")\n",
    "x = silhouette_score(df, cluster.labels_)\n",
    "print(x)"
   ]
  },
  {
   "cell_type": "code",
   "execution_count": 28,
   "metadata": {},
   "outputs": [
    {
     "data": {
      "text/plain": [
       "(array([0, 1, 2, 3, 4], dtype=int64),\n",
       " array([16666,  8818, 11018,  3585, 10763], dtype=int64))"
      ]
     },
     "execution_count": 28,
     "metadata": {},
     "output_type": "execute_result"
    }
   ],
   "source": [
    "np.unique(cluster.labels_, return_counts=True)"
   ]
  },
  {
   "cell_type": "code",
   "execution_count": 29,
   "metadata": {},
   "outputs": [],
   "source": [
    "finale = cluster.labels_"
   ]
  },
  {
   "cell_type": "code",
   "execution_count": 30,
   "metadata": {},
   "outputs": [],
   "source": [
    "dffinale['Label5ward'] = cluster.labels_"
   ]
  },
  {
   "cell_type": "code",
   "execution_count": 31,
   "metadata": {},
   "outputs": [
    {
     "name": "stdout",
     "output_type": "stream",
     "text": [
      "silhouette complete\n",
      "0.33181685672908107\n"
     ]
    }
   ],
   "source": [
    "cluster = AgglomerativeClustering(n_clusters=6, affinity='euclidean', linkage='ward')  \n",
    "cluster.fit_predict(df)\n",
    "print(\"silhouette complete\")\n",
    "x = silhouette_score(df, cluster.labels_)\n",
    "print(x)"
   ]
  },
  {
   "cell_type": "code",
   "execution_count": 32,
   "metadata": {},
   "outputs": [
    {
     "data": {
      "text/plain": [
       "(array([0, 1, 2, 3, 4, 5], dtype=int64),\n",
       " array([ 8818, 13062, 11018,  3585, 10763,  3604], dtype=int64))"
      ]
     },
     "execution_count": 32,
     "metadata": {},
     "output_type": "execute_result"
    }
   ],
   "source": [
    "np.unique(cluster.labels_, return_counts=True)"
   ]
  },
  {
   "cell_type": "code",
   "execution_count": 33,
   "metadata": {},
   "outputs": [],
   "source": [
    "finale = cluster.labels_"
   ]
  },
  {
   "cell_type": "code",
   "execution_count": 34,
   "metadata": {},
   "outputs": [],
   "source": [
    "dffinale['Label6ward'] = cluster.labels_"
   ]
  },
  {
   "cell_type": "code",
   "execution_count": 35,
   "metadata": {},
   "outputs": [],
   "source": [
    "dffinale.to_csv(path_or_buf='AnalisiHierarchical.csv' ,index=False)"
   ]
  }
 ],
 "metadata": {
  "kernelspec": {
   "display_name": "Python 3",
   "language": "python",
   "name": "python3"
  },
  "language_info": {
   "codemirror_mode": {
    "name": "ipython",
    "version": 3
   },
   "file_extension": ".py",
   "mimetype": "text/x-python",
   "name": "python",
   "nbconvert_exporter": "python",
   "pygments_lexer": "ipython3",
   "version": "3.7.4"
  }
 },
 "nbformat": 4,
 "nbformat_minor": 2
}
